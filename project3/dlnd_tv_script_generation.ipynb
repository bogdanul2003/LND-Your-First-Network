{
 "cells": [
  {
   "cell_type": "markdown",
   "metadata": {
    "deletable": true,
    "editable": true
   },
   "source": [
    "# TV Script Generation\n",
    "In this project, you'll generate your own [Simpsons](https://en.wikipedia.org/wiki/The_Simpsons) TV scripts using RNNs.  You'll be using part of the [Simpsons dataset](https://www.kaggle.com/wcukierski/the-simpsons-by-the-data) of scripts from 27 seasons.  The Neural Network you'll build will generate a new TV script for a scene at [Moe's Tavern](https://simpsonswiki.com/wiki/Moe's_Tavern).\n",
    "## Get the Data\n",
    "The data is already provided for you.  You'll be using a subset of the original dataset.  It consists of only the scenes in Moe's Tavern.  This doesn't include other versions of the tavern, like \"Moe's Cavern\", \"Flaming Moe's\", \"Uncle Moe's Family Feed-Bag\", etc.."
   ]
  },
  {
   "cell_type": "code",
   "execution_count": 1,
   "metadata": {
    "collapsed": false,
    "deletable": true,
    "editable": true
   },
   "outputs": [],
   "source": [
    "\"\"\"\n",
    "DON'T MODIFY ANYTHING IN THIS CELL\n",
    "\"\"\"\n",
    "import helper\n",
    "\n",
    "data_dir = './data/simpsons/moes_tavern_lines.txt'\n",
    "text = helper.load_data(data_dir)\n",
    "# Ignore notice, since we don't use it for analysing the data\n",
    "text = text[81:]"
   ]
  },
  {
   "cell_type": "markdown",
   "metadata": {
    "deletable": true,
    "editable": true
   },
   "source": [
    "## Explore the Data\n",
    "Play around with `view_sentence_range` to view different parts of the data."
   ]
  },
  {
   "cell_type": "code",
   "execution_count": 2,
   "metadata": {
    "collapsed": false,
    "deletable": true,
    "editable": true
   },
   "outputs": [
    {
     "name": "stdout",
     "output_type": "stream",
     "text": [
      "Dataset Stats\n",
      "Roughly the number of unique words: 11492\n",
      "Number of scenes: 262\n",
      "Average number of sentences in each scene: 15.248091603053435\n",
      "Number of lines: 4257\n",
      "Average number of words in each line: 11.50434578341555\n",
      "\n",
      "The sentences 0 to 10:\n",
      "Moe_Szyslak: (INTO PHONE) Moe's Tavern. Where the elite meet to drink.\n",
      "Bart_Simpson: Eh, yeah, hello, is Mike there? Last name, Rotch.\n",
      "Moe_Szyslak: (INTO PHONE) Hold on, I'll check. (TO BARFLIES) Mike Rotch. Mike Rotch. Hey, has anybody seen Mike Rotch, lately?\n",
      "Moe_Szyslak: (INTO PHONE) Listen you little puke. One of these days I'm gonna catch you, and I'm gonna carve my name on your back with an ice pick.\n",
      "Moe_Szyslak: What's the matter Homer? You're not your normal effervescent self.\n",
      "Homer_Simpson: I got my problems, Moe. Give me another one.\n",
      "Moe_Szyslak: Homer, hey, you should not drink to forget your problems.\n",
      "Barney_Gumble: Yeah, you should only drink to enhance your social skills.\n",
      "\n",
      "\n"
     ]
    }
   ],
   "source": [
    "view_sentence_range = (0, 10)\n",
    "\n",
    "\"\"\"\n",
    "DON'T MODIFY ANYTHING IN THIS CELL\n",
    "\"\"\"\n",
    "import numpy as np\n",
    "\n",
    "print('Dataset Stats')\n",
    "print('Roughly the number of unique words: {}'.format(len({word: None for word in text.split()})))\n",
    "scenes = text.split('\\n\\n')\n",
    "print('Number of scenes: {}'.format(len(scenes)))\n",
    "sentence_count_scene = [scene.count('\\n') for scene in scenes]\n",
    "print('Average number of sentences in each scene: {}'.format(np.average(sentence_count_scene)))\n",
    "\n",
    "sentences = [sentence for scene in scenes for sentence in scene.split('\\n')]\n",
    "print('Number of lines: {}'.format(len(sentences)))\n",
    "word_count_sentence = [len(sentence.split()) for sentence in sentences]\n",
    "print('Average number of words in each line: {}'.format(np.average(word_count_sentence)))\n",
    "\n",
    "print()\n",
    "print('The sentences {} to {}:'.format(*view_sentence_range))\n",
    "print('\\n'.join(text.split('\\n')[view_sentence_range[0]:view_sentence_range[1]]))"
   ]
  },
  {
   "cell_type": "markdown",
   "metadata": {
    "deletable": true,
    "editable": true
   },
   "source": [
    "## Implement Preprocessing Functions\n",
    "The first thing to do to any dataset is preprocessing.  Implement the following preprocessing functions below:\n",
    "- Lookup Table\n",
    "- Tokenize Punctuation\n",
    "\n",
    "### Lookup Table\n",
    "To create a word embedding, you first need to transform the words to ids.  In this function, create two dictionaries:\n",
    "- Dictionary to go from the words to an id, we'll call `vocab_to_int`\n",
    "- Dictionary to go from the id to word, we'll call `int_to_vocab`\n",
    "\n",
    "Return these dictionaries in the following tuple `(vocab_to_int, int_to_vocab)`"
   ]
  },
  {
   "cell_type": "code",
   "execution_count": 3,
   "metadata": {
    "collapsed": false,
    "deletable": true,
    "editable": true
   },
   "outputs": [
    {
     "name": "stdout",
     "output_type": "stream",
     "text": [
      "{'moe_szyslak', 'where', 'and', \"moe's\", 'i', 'problems', 'skills', 'on', 'social', 'should', 'enhance', 'rotch', 'ice', 'check', 'hello', 'not', 'lately', 'give', 'moe', 'drink', 'catch', 'me', \"you're\", 'hold', 'is', 'listen', 'normal', 'little', 'name', 'hey', 'self', 'another', 'an', 'you', 'puke', 'bart_simpson', 'tavern', 'of', 'yeah', 'meet', 'last', 'whats', 'homer', 'got', 'days', 'these', 'elite', 'homer_simpson', 'seen', 'forget', 'one', 'your', 'to', 'with', 'effervescent', 'pick', 'the', 'carve', 'gonna', 'back', 'eh', 'matter', 'barney_gumble', 'anybody', 'only', 'my', \"i'll\", 'has', 'mike', \"i'm\", 'there'}\n",
      "Tests Passed\n"
     ]
    }
   ],
   "source": [
    "import numpy as np\n",
    "import problem_unittests as tests\n",
    "\n",
    "def create_lookup_tables(text):\n",
    "    \"\"\"\n",
    "    Create lookup tables for vocabulary\n",
    "    :param text: The text of tv scripts split into words\n",
    "    :return: A tuple of dicts (vocab_to_int, int_to_vocab)\n",
    "    \"\"\"\n",
    "    # TODO: Implement Function\n",
    "    words = set(text)\n",
    "    print(words)\n",
    "    vocab_to_int = {c: i for i, c in enumerate(words)}\n",
    "    int_to_vocab = dict(enumerate(words))\n",
    "    return (vocab_to_int, int_to_vocab)\n",
    "\n",
    "\n",
    "\"\"\"\n",
    "DON'T MODIFY ANYTHING IN THIS CELL THAT IS BELOW THIS LINE\n",
    "\"\"\"\n",
    "tests.test_create_lookup_tables(create_lookup_tables)"
   ]
  },
  {
   "cell_type": "markdown",
   "metadata": {
    "deletable": true,
    "editable": true
   },
   "source": [
    "### Tokenize Punctuation\n",
    "We'll be splitting the script into a word array using spaces as delimiters.  However, punctuations like periods and exclamation marks make it hard for the neural network to distinguish between the word \"bye\" and \"bye!\".\n",
    "\n",
    "Implement the function `token_lookup` to return a dict that will be used to tokenize symbols like \"!\" into \"||Exclamation_Mark||\".  Create a dictionary for the following symbols where the symbol is the key and value is the token:\n",
    "- Period ( . )\n",
    "- Comma ( , )\n",
    "- Quotation Mark ( \" )\n",
    "- Semicolon ( ; )\n",
    "- Exclamation mark ( ! )\n",
    "- Question mark ( ? )\n",
    "- Left Parentheses ( ( )\n",
    "- Right Parentheses ( ) )\n",
    "- Dash ( -- )\n",
    "- Return ( \\n )\n",
    "\n",
    "This dictionary will be used to token the symbols and add the delimiter (space) around it.  This separates the symbols as it's own word, making it easier for the neural network to predict on the next word. Make sure you don't use a token that could be confused as a word. Instead of using the token \"dash\", try using something like \"||dash||\"."
   ]
  },
  {
   "cell_type": "code",
   "execution_count": 4,
   "metadata": {
    "collapsed": false,
    "deletable": true,
    "editable": true
   },
   "outputs": [
    {
     "name": "stdout",
     "output_type": "stream",
     "text": [
      "{'.': '||dott||', ';': '||pointandcoma||', '?': '||questionmark||', ',': '||comma||', '!': '||exclamationpoint||', '\\n': '||newline||', '--': '||dash||', '\"': '||qutes||', ')': '||rparenthese||', '(': '||lparenthese||'}\n",
      "Tests Passed\n"
     ]
    }
   ],
   "source": [
    "def token_lookup():\n",
    "    \"\"\"\n",
    "    Generate a dict to turn punctuation into a token.\n",
    "    :return: Tokenize dictionary where the key is the punctuation and the value is the token\n",
    "    \"\"\"\n",
    "    # TODO: Implement Function\n",
    "    \n",
    "    ret = {}\n",
    "    ret[\".\"] = \"||dott||\"\n",
    "    ret[\",\"] = \"||comma||\"\n",
    "    ret['\"'] = \"||qutes||\"\n",
    "    ret[\";\"] = \"||pointandcoma||\"\n",
    "    ret[\"!\"] = \"||exclamationpoint||\"\n",
    "    ret[\"(\"] = \"||lparenthese||\"\n",
    "    ret[\")\"] = \"||rparenthese||\"\n",
    "    ret[\"--\"] = \"||dash||\"\n",
    "    ret[\"\\n\"] = \"||newline||\"\n",
    "    ret[\"?\"] = \"||questionmark||\"\n",
    "    print(ret)\n",
    "     \n",
    "    return ret\n",
    "\n",
    "\"\"\"\n",
    "DON'T MODIFY ANYTHING IN THIS CELL THAT IS BELOW THIS LINE\n",
    "\"\"\"\n",
    "tests.test_tokenize(token_lookup)"
   ]
  },
  {
   "cell_type": "markdown",
   "metadata": {
    "deletable": true,
    "editable": true
   },
   "source": [
    "## Preprocess all the data and save it\n",
    "Running the code cell below will preprocess all the data and save it to file."
   ]
  },
  {
   "cell_type": "code",
   "execution_count": 5,
   "metadata": {
    "collapsed": false,
    "deletable": true,
    "editable": true
   },
   "outputs": [
    {
     "name": "stdout",
     "output_type": "stream",
     "text": [
      "{'.': '||dott||', ';': '||pointandcoma||', '?': '||questionmark||', ',': '||comma||', '!': '||exclamationpoint||', '\\n': '||newline||', '--': '||dash||', '\"': '||qutes||', ')': '||rparenthese||', '(': '||lparenthese||'}\n",
      "{'products', 'upbeat', 'trapped', 'spot', 'phrase', 'hello', 'refill', 'tape', 'relative', 'trench', 'kako:', 'numeral', 'inflated', 'winded', 'tee', 'diet', 'years', 'shoulders', 'boggs', 'english', 'collateral', 'searching', 'fritz', 'chocolate', 'challenge', 'midge', 'panicked', \"g'ahead\", 'approval', 'barflies', 'answers', 'considering:', 'parents', 'bon-bons', 'nigeria', 'players', 'knocked', 'snake-handler', 'girl', 'involved', 'hub', 'ultimate', \"secret's\", 'sympathizer', 'racially-diverse', 'japanese', 'não', 'clincher', 'pain', 'jelly', \"makin'\", 'warned', 'barney-shaped_form:', 'sanitary', 'chew', 'glass', 'health', 'helped', 'machine', 'masks', 'willy', 'impress', 'spread', 'blamed', 'watt', 'throat', 'poem', \"marge's\", 'view', 'cushion', 'expression', 'sledge-hammer', 'drag', 'noises', 'ale', 'jerry', 'reader', 'word', 'took', 'emotion', 'relax', 'ignorant', 'thorough', 'whoo', 'loneliness', 'handshake', 'carlson', 'vacations', 'following', 'pages', 'skinny', 'yak', 'jumping', 'usual', 'carefully', 'brockman', 'kiss', \"o'problem\", 'cap', 'dreamily', 'load', 'spits', 'simpson', 'hurting', 'vin', 'singing', \"g'night\", 'hugh', 'inherent', 'eyed', 'contemplates', 'allegiance', 'wooooo', 'jack_larson:', 'baritone', 'choice', 'insightful', 'admiring', 'saucy', 'hounds', 'bart_simpson:', 'pitcher', 'rutabaga', 'maya:', 'scrutinizes', 'everything', 'urinal', 'donut', 'woo-hoo', 'dogs', 'cesss', 'quiet', 'bowled', 'bitterly', 'realizing', 'firm', 'toss', 'easily', 'novelty', 'friday', 'detecting', 'brunch', 'shows', 'p-k', 'like', 'pee', 'lousy', \"blowin'\", 'speaking', 'talk', 'junkyard', 'finance', 'general', 'oww', 'heather', 'breathalyzer', 'grammy', 'gil_gunderson:', 'gently', 'making', 'tsking', 'overhearing', 'tapping', 'britannia', 'phlegm', 'coffee', 'week', 'speak', 'folk', 'appreciate', 'owned', 'training', 'plaintive', 'furry', 'crumble', 'amber_dempsey:', 'felony', 'arse', 'narrator:', 'sorts', 'sheriff', 'shut', 'here-here-here', 'brewed', 'ball', 'roller', 'fires', 'drawn', 'stool', 'man_with_tree_hat:', 'appealing', 'agent_miller:', 'threw', 'sick', 'grease', \"it'll\", 'militia', 'beefs', 'touch', 'prank', 'riveting', 'sissy', 'assassination', 'lily-pond', 'strains', 'wraps', 'bellyaching', 'ga', 'opens', 'bathed', 'reluctant', 'tv_daughter:', 'thousand-year', 'sob', 'love', 'sideshow_mel:', 'surgeonnn', 'cold', 'standards', 'cecil_terwilliger:', 'kidney', 'road', 'schizophrenia', 'reentering', 'above', 'pageant', 'four', 'sips', 'kind', 'deliberate', 'ring', 'excited', 'aggravazes', 'asked', 'minutes', 'firmly', \"lady's\", \"town's\", 'prison', 'awesome', 'halfway', 'donuts', 'toward', 'year', 'politician', 'bleak', 'bartender', 'flush', \"dimwit's\", 'fills', 'snotty', 'nope', 'great', 'world', 'patrons', \"i-i'm\", 'klingon', 'watching', 'shakes', 'sitting', 'past', 'occasion', 'erasers', 'booger', 'his', 'stairs', 'modest', 'astronaut', 'albert', 'forget', 'endorse', 'madman', 'together', 'decide:', 'blossoming', 'church', 'joined', 'nick', 'lenny', 'channel', \"one's\", 'capuchin', 'blimp', 'him', 'baseball', 'thoughtful', 'mostrar', 'nitwit', 'andy', 'yellow-belly', 'methinks', 'heck', 'thirty', 'column', 'commit', 'tiny', 'glummy', 'hardhat', 'stunned', 'proudly', 'theater', 'change', 'motor', 'gee', 'war', 'oh-ho', \"weren't\", 'average', 'notice', 'handoff', 'wage', '||pointandcoma||', 'pulitzer', 'suave', 'clown', 'bigger', 'interesting', 'many', 'jubilant', 'beligerent', 'crank', 'gregor', 'dank', 'radio', 'unsafe', 'revenge', 'repay', 'fictional', 'yellow', 'mafia', 'pitch', 'reflected', 'kisses', 'sharps', 'buds', 'roof', 'granted', 'trying', 'violations', 'human', 'meals', 'soaked', 'examines', 'doll-baby', 'fuzzlepitch', 'classy', 'cowardly', 'homer_doubles:', 'heaving', 'attractive', 'flag', 'compadre', 'sec_agent_#1:', 'sucks', 'control', 'menlo', 'ne', 'peter', 'dollar', \"readin'\", 'cheered', 'script', 'jernt', 'van', 'youth', 'cigarette', 'rush', 'satisfaction', 'tanking', 'customers-slash-only', 'drift', 'forgotten', 'glee', 'wholeheartedly', 'touches', 'whistles', 'champion', 'joke', 'combination', 'persia', 'mel', 'even', 'visas', 'shush', \"man's_voice:\", 'friendship', 'butts', 'breathless', 'cosmetics', 'phase', 'clean', 'wish', 'license', 'ehhhhhhhhh', 'gimmick', 'lobster-politans', 'forget-me-drinks', 'annoyed', 'hitchhike', 'winning', 'partly', 'interrupting', 'wrecking', 'bear', 'mines', 'helpless', 'corpses', 'covering', 'brakes', 'un-sults', 'tapered', 'pretentious_rat_lover:', 'fresh', 'conversations', 'tank', 'wrote', 'twice', 'thousands', 'marvin', 'uh-huh', 'thru', 'fontaine', 'internet', 'seats', 'unlike', 'unearth', 'few', 'pantsless', 'etc', 'beam', 'furniture', 'lend', 'gimme', \"tinklin'\", 'orifice', 'boneheaded', 'rookie', 'forbidden', 'keep', 'kissing', 'hate-hugs', 'prejudice', 'inexorable', 'ready', 'fired', 'barber', \"tv's\", 'eve', 'addiction', 'crystal', 'gabriel:', 'dictator', 'crew', 'shocked', 'higher', 'chain', 'haiti', 'robot', 'jamaican', 'call', 'barkeep', 'complicated', 'assistant', \"'pu\", 'tail', 'focus', 'ho', 'monkey', 'venom', \"that'll\", 'nonchalant', \"chewin'\", 'say', 'ugliest', 'kidneys', 'recap:', 'avec', 'moans', 'effervescent', 'sucked', 'ribbon', 'admitting', 'refreshing', 'smoothly', 'grumbling', 'iran', 'delivery_man:', 'portentous', 'mayor_joe_quimby:', 'beaumont', 'wa', 'massage', 'reconsidering', 'forty-nine', 'sings', 'ass', 'ruby-studded', 'drinker', 'shame', 'clench', \"homer's\", 'takes', 'across', 'snow', 'grope', 'bit', 'guiltily', 'glyco-load', 'government', 'jubilation', 'nein', 'often', 'join', 'history', 'whenever', 'characteristic', 'wide', 'dna', \"how's\", 'kidnaps', 'numbers', 'raising', 'poking', 'bill', 'works', 'patriotic', 'sneering', 'depending', 'twins', 'bartending', 'neanderthal', 'dungeon', \"costume's\", 'cup', 'present', 'hunka', 'south', 'rebuilt', 'peach', 'spanish', 'popped', 'moonshine', 'burps', 'ronstadt', 'ballclub', 'dee-fense', 'felt', 'dealt', 'appreciated', 'realized', 'gentleman:', 'tie', 'princess', 'dignified', 'rig', 'direction', 'singing/pushing', 'good', 'infiltrate', 'matter-of-fact', 'stonewall', 'thirsty', 'continuum', 'reminds', \"murphy's\", 'faulkner', 'floating', 'passed', 'sneak', 'amends', 'mccall', 'soon', 'words', 'cheap', 'benjamin', 'chunky', 'anything', 'additional-seating-capacity', 'haikus', 'wild', 'nevada', 'dejected_barfly:', 'sideshow', 'slipped', 'panicky', 'thirty-nine', 'pregnancy', 'amber', 'raining', 'uncreeped-out', 'bald', 'weekly', 'luxury', 'risqué', 'haplessly', \"barney's\", 'urge', 'cell', 'wrestle', 'swill', 'routine', 'pantry', \"where'd\", 'normal', \"haven't\", 'renders', '_marvin_monroe:', 'simpsons', 'terrace', 'convinced', 'stays', 'serious', 'sub-monkeys', 'failure', 'monday', 'suppose', 'soup', 'anybody', 'oblongata', \"everyone's\", 'pants', 'half-day', 'cats', 'pass', 'problems', 'viva', 'minors', 'jacques', 'french', 'academy', 'shard', 'wally', 'clothes', 'sunday', 'went', \"i'unno\", 'ayyy', 'match', 'bible', 'recreate', 'rubs', 'mexican', 'tickets', 'environment', 'good-looking', 'beef', 'imported-sounding', 'smell', 'cummerbund', 'beloved', '4x4', 'zero', 'brainheaded', 'windex', 'awe', 'duty', 'gator:', 'toys', 'boxer', \"foolin'\", 'shoo', 'wire', 'rolls', 'coat', 'play/', 'womb', 'worth', 'tenor:', 'made', 'choke', 'housing', 'whose', 'bits', 'dexterous', 'nine', 'temples', 'western', 'fight', 'riding', \"this'll\", 'maiden', 'squeeze', 'god', \"can'tcha\", 'uglier', 'flanders:', 'chic', 'outs', 'quotes', 'germany', 'head', 'piano', \"stealin'\", '530', \"show's\", 'part', 'rub', 'aidens', 'goal', 'photographer', \"'ceptin'\", 'till', 'naegle', 'full', 'achebe', \"hadn't\", 'outside', 'weapon', 'lifestyle', 'evil', 'fancy', 'delete', 'shoot', 'journey', 'snorts', 'build', 'bulked', 'will', '-ry', 'lloyd:', \"swishifyin'\", 'forgets', 'mugs', 'b-day', 'faced', 'sad', 'perón', 'prep', 'life-sized', 'umm', 'ashtray', 'assumed', 'watered', 'radiation', 'punches', \"what're\", 'pained', 'duffman:', 'forecast', 'brave', 'aerospace', 'dame', 'unrelated', 'reason', 'ladder', 'source', \"brockman's\", 'packets', 'told', 'all-all-all', 'remembering', 'waitress', 'steal', 'bathroom', 'bread', 'bursts', \"stabbin'\", 'grey', 'stagy', 'virile', 'sing-song', 'sports_announcer:', 'continuing', 'drinking', 'blues', \"didn't\", 'poor', 'margarita', 'unhook', \"'\", 'patting', 'press', 'double', 'crow', 'montrer', 'necklace', 'through', 'doom', 'refresh', 'successful', 'slays', '3rd_voice:', 'chair', 'curious', 'alternative', 'compliments', 'sighs', 'triple-sec', 'desire', 'jerks', 'kazoo', 'citizens', 'l', \"that'd\", 'mull', 'brag', 'edna-lover-one-seventy-two', 'nachos', 'pumping', 'tactful', \"callin'\", 'mid-conversation', 'onassis', 'flaking', 'twenty-two', 'according', 'created', 'late', 'ihop', 'getcha', 'promised', 'danny', 'kidding', 'gifts', 'blob', 'slice', 'strolled', 'scratching', 'low-life', 'notably', 'uncomfortable', 'consciousness', 'oils', 'experience', 'perhaps', 'steinbrenner', 'hurry', 'expert', 'parking', 'local', 'owes', 'refreshment', 'utility', 'joy', 'sistine', 'alphabet', 'ineffective', 'al', 'inanely', 'weeks', 'dashes', 'dirty', 'harvey', 'wazoo', 'heave-ho', 'bartholomé:', 'tells', 'offer', 'mcbain', 'transmission', 'mount', 'occurs', 'important', 'sarcastic', \"enjoyin'\", 'rolling', 'solved', 'disappointed', 'calculate', 'upon', 'freedom', 'renovations', 'mole', 'magazine', 'fbi', 'wigs', 'ignorance', 'youngsters', \"'til\", 'check', 'maitre', 'snackie', 'glitz', 'drains', 'involving', 'mater', 'loyal', 'dentist', 'acquaintance', 'waylon_smithers:', 'forty-five', 'nearly', 'cat', 'sang', 'enter', 'bam', 'industry', 'americans', 'lou:', 'counter', 'sitar', 'frosty', 'chow', \"askin'\", 'seas', 'come', 'noosey', 'unusually', 'professional', 'meeting', 'urban', 'ton', 'pays', 'shill', 'dumpster', 'hideous', 'birth', 'arab_man:', 'reopen', 'blissful', \"valentine's\", 'watch', 'books', 'gasoline', 'shaking', 'foam', 'unbelievably', 'basement', 'stir', 'koholic', 'else', 'event', 'hoax', 'peppers', 'ralphie', 'couple', \"aristotle's\", 'kirk', 'distraught', 'complaining', 'bowl', 'march', 'reaches', 'patty_bouvier:', 'handing', 'cajun', 'shaved', 'lis', 'meaningful', 'fuhgetaboutit', \"pullin'\", 'waltz', 'bus', 'mudflap', 'spoon', 'chinua', 'huddle', 'later', 'farthest', 'pressure', 'sperm', 'marmaduke', 'temper', 'adjourned', 'jobless', \"mecca's\", 'plywood', 'cents', 'mill', 'restroom', 'crummy', 'absentmindedly', 'annie', 'pad', 'puff', 'ons', 'shaky', 'abe', 'adult', 'associate', 'hot-rod', 'certificate', 'cowboy', \"here's\", 'bathing', 'yee-haw', 'okay', 'hail', 'public', 'tick', 'rope', 'pointy', 'happens', 'today', '||exclamationpoint||', 'date', 'power', 'cab', 'encouraged', 'meet', \"now's\", 'correcting', 'high', 'dreams', 'hunter', 'back', 'handler', 'asks', 'giggles', 'influence', 'future', 'swings', 'generously', \"playin'\", 'whoops', 'jackpot-thief', 'intakes', 'personal', 'squad', 'salvation', 'merchants', 'tabooger', 'xanders', 'du', 'unexplained', 'attempting', 'fire_inspector:', 'better', 'fights', 'however', 'dallas', 'hell', 'catty', 'pint', 'including', 'conditioning', 'up', \"elmo's\", 'hurt', 'valuable', 'düffenbraus', 'befouled', 'cattle', 'vermont', 'fleabag', \"'im\", 'napkins', \"handwriting's\", \"son's\", 'kindly', 'permanent', 'fighting', 'utensils', 'unkempt', 'teddy', 'dazed', 'president', \"cat's\", 'held', 'prolonged', 'move', 'near', 'stops', 'intrigued', 'lungs', 'w', 'bird', 'agreement', 'science', 'xx', 'life-threatening', 'deacon', 'video', 'wow', 'whaaa', 'safety', 'willing', 'dingy', 'stocking', 'awake', 'encores', 'recipe', \"tree's\", 'virtual', 'friction', 'squirrels', 'trashed', 'perfunctory', 'confused', \"bein'\", 'please', 'richard', 'len-ny', 'gals', 'selma', 'putting', 'country-fried', \"ya'\", 'reality', 'fustigation', 'doy', 'fatso', 'wing', 'name:', 'covers', 'delicate', 'smitty:', 'laughs', 'fumes', 'hers', 'champs', 'today/', 'stinks', 'indicates', 'colorado', 'düff', 'soir', 'bars', 'peanut', 'reckless', 'ugliness', 'tired', 'grampa', 'eleven', 'bank', 'where', 'own', \"it'd\", 'marvelous', \"children's\", 'compared', 'spent', 'slightly', 'donut-shaped', 'meaningless', 'happened', 'sagacity', 'gr-aargh', 'hang', 'fault', 'reached', 'barn', 'lanes', 'sotto', 'write', 'sap', 'sixteen', 'initially', 'ask', 'hygienically', 'wallet', 'if', 'unattended', 'drown', 'locked', 'releases', 'reliable', 'dropped', 'charged', 'teenage_bart:', 'plucked', 'lady-free', 'me', 'veteran', 'shoes', 'student', 'fletcherism', \"lisa's\", \"what's\", 'two', 'banned', 'incredulous', 'dearest', 'cowboys', 'victim', 'springfield', 'ohh', 'handsome', 'massive', 'pip', 'drank', 'newspaper', 'um', 'mock', 'confidentially', 'notorious', 'club', 'frescas', 'winch', 'donate', 'ticket', 'and/or', 'yet', 'nectar', \"o'\", 'coal', 'infatuation', 'bills', 'customer', 'faith', 'period', 'night', 'points', 'corner', 'eighty-three', 'crowded', 'roz:', 'tin', 'dregs', \"beggin'\", 'chunk', 'nash', 'uh-oh', 'bike', 'other_book_club_member:', 'suddenly', 'discriminate', 'edgy', 'doppler', \"jimbo's_dad:\", 'paint', 'sweetie', 'sobs', 'intelligent', '50%', 'fat_in_the_hat:', 'splash', 'habit', 'burg', 'contemplated', 'black', 'zone', 'refreshingness', 'chin', 'er', 'carmichael', '||newline||', 'horses', 'second', 'f-l-a-n-r-d-s', \"i'd\", 'plane', 'leg', 'group', 'cow', 'gorgeous', 'espn', 'fast-food', 'hmmm', 'priority', 'closer', 'suing', 'games', 'woozy', 'sour', 'pall', 'brassiest', \"yesterday's\", 'screws', 'capitalists', 'alcoholism', 'freaking', 'design', 'palm', 'supreme', 'sight', 'sing', 'cleaned', 'project', 'bon', 'widow', 'prefer', 'telephone', 'moon', 'clearing', 'latour', 'tanked-up', 'laney_fontaine:', 'stripe', 'souvenir', 'department', 'company', 'buddies', 'win', 'democracy', 'ceremony', 'anthony_kiedis:', 'completely', 'uncle', 'whining', 'hundred', 'theory', 'website', 'twenty-five', 'bachelorette', 'corkscrews', 'rump', 'logos', 'small_boy:', 'nuts', 'door', 'intimacy', 'billiard', 'insults', 'humiliation', 'rafter', 'five-fifteen', 'roz', \"couldn't\", 'trusted', 'craphole', 'arguing', 'swooning', 'spews', 'ech', 'fans', 'elocution', 'prices', 'fish', 'brunswick', 'bride', 'against', 'spacey', 'adventure', 'gary:', 'film', 'superhero', 'bumblebee_man:', \"'bout\", 'dramatically', 'sidelines', 'looks', 'hidden', 'verdict', 'value', 'prize', 'considering', 'nagurski', 'lindsay', 'difference', \"poisonin'\", 'snail', 'honeys', 'letters', 'astrid', 'person', 'piece', 'forty-seven', 'bashir', 'idioms', 'hearts', 'doug:', 'time', 'runaway', 'apu', 'sampler', 'were', 'warn', 'stay', 'conversation', 'tourist', 'sat', 'stats', 'cockroach', 'doctor', '_timothy_lovejoy:', 'said', 'barney-type', 'deer', 'yee-ha', 'cigars', 'runners', 'anger', 'museum', 'hoping', 'dumbest', 'toy', 'married', 'cough', 'cushions', 'suits', 'clothespins', 'while', 'tiger', 'buttocks', 'whether', 'survive', \"sayin'\", 'knuckle-dragging', 'herself', 'incapable', 'tempting', 'realize', 'wonderful', 'adult_bart:', \"table's\", 'spit-backs', 'diets', 'sales', 'moment', 'studied', 'plow', 'along', '3', 'smiles', 'lear', 'churchill', 'multi-national', 'admiration', 'milk', 'holds', 'voyager', 'dressing', 'fast', 'dials', 'paid', 'picked', 'corporate', 'four-star', 'nation', 'quitcher', 'shag', 'parasol', 'apulina', 'gets', 'duel', 'save', 'juke', 'squeezed', 'beeps', 'murdoch', 'drop', 'arabs', 'stamps', \"coffee'll\", 'movies', 'guttural', 'getup', 'susie-q', 'protesting', 'joining', 'mild', 'seriously', 'perverse', 'stewart', 'geyser', 'rummy', 'carnival', 'photo', 'adequate', 'empty', 'dress', 'begin', 'checking', 'pity', 'drunkening', 'most:', 'stern', 'activity', 'hair', 'give', 'kwik-e-mart', 'drink', 'stones', 'wittgenstein', \"spiffin'\", 'besides', 'heartless', 'eager', 'teams', 'ivory', 'ought', 'brown', 'chauffeur:', \"how're\", 'victory', 'stranger:', 'park', 'fondest', 'exquisite', \"bart's\", 'steampunk', 'ape-like', 'hunting', 'keeps', 'tomatoes', 'chest', 'faceful', 'stepped', 'senator', 'owe', 'beards', 'coughs', 'jovial', 'hilarious', \"kids'\", 'friends', 'alva', 'rekindle', 'ripping', 'young_marge:', 'nerd', 'pigtown', 'distract', 'considers', 'problem', 'who', 'handling', 'various', 'diving', 'saving', 'pouring', 'amid', 'seems', 'fold', 'dishrag', 'chance', 'cute', 'you-need-man', 'birthplace', 'california', 'begging', 'paying', 'hems', 'howya', 'recorder', 'be', 'minister', 'germs', 'excellent', 'state', 'without', 'dance', \"man'd\", 'arm', 'jockey', 'delivery', 'junior', \"dad's\", 'fulla', 'agent', 'calendars', 'then:', 'hand', 'ninety-eight', 'slight', 'defensive', \"kearney's_dad:\", 'occupation', 'corporation', 'hops', 'sickens', 'unlocked', 'legoland', \"'em\", \"he'll\", 'couch', 'coy', 'taxi', \"doesn't\", 'pair', 'thought', 'sheet', 'tow-talitarian', 'sympathy', 'gamble', \"you've\", 'just', 'rob', 'volunteer', 'thinks', 'magnanimous', 'texas', 'wrong', 'moxie', 'pennies', 'plants', 'mmm-hmm', 'sadder', 'signal', 'gold', 'lorre', 'quero', 'sacrifice', 'disposal', 'someone', 'weight', 'kinda', 'appendectomy', 'given', 'ways', 'vincent', 'feels', 'oopsie', 'purse', 'dum-dum', 'dive', 'clock', 'generally', 'trapping', 'fence', 'swishkabobs', 'y', 'kentucky', 'creepy', 'stiffening', 'scram', 'rebuttal', 'bottoms', 'steel', 'touched', 'pigs', 'hope', 'affectations', 'frink-y', 'then', 'coma', \"fightin'\", '$42', 'sneaky', 'star', 'stay-puft', 'perfume', 'dammit', 'convenient', 'yoink', 'slugger', 'rice', 'bonfire', 'sexual', 'macaulay', 'dangerous', 'lizard', 'jacques:', 'pay', 'countryman', 'lurleen_lumpkin:', 'seconds', 'five', 'death', 'shores', 'cost', 'schorr', 'heaven', 'bull', 'apron', 'awkward', 'choked', 'nonsense', 'finale', 'medieval', \"where's\", 'spy', 'sensitivity', 'wildest', 'fudd', 'knows', 'pushes', 'squeal', 'jobs', 'hillbillies', 'donor', \"mopin'\", 'fad', 'swimming', 'speed', 'extremely', \"mcstagger's\", 'edner', 'bumped', 'class', 'crapmore', 'yelp', \"seein'\", 'cotton', 'crap', 'founded', 'blur', 'politics', 'helen', 'can', 'almost', 'pardon', 'deep', 'groan', 'aghast', 'ebullient', 'embarrassed', 'unusual', 'shtick', 'depository', 'strategy', 'musical', 'worst', 'moesy', 'allow', 'something', 'terrific', 'calls', 'mumble', 'escort', 'apartment', 'eurotrash', \"g'on\", 'chicks', 'malfeasance', 'hose', 'farewell', 'nightmares', 'things', 'eaten', 'locklear', 'retain', 'medicine', 'sobbing', 'meant', 'bar-boy', 'ho-ly', 'director', 'material', 'sumatran', 'tomato', 'si-lent', 'bust', 'taylor', 'literary', 'complaint', 'closed', 'squirrel', 'fresco', 'blood-thirsty', 'calm', 'remaining', 'says', 'tommy', 'liser', 'zeal', 'champ', 'aid', 'cut', 'duffed', 'easter', 'salary', 'satisfied', 'tha', 'betrayed', 'thanks', 'shopping', 'jewish', 'contractors', 'text', 'young', 'comfortable', 'hooked', \"they'll\", 'broke', 'ees', 'trip', 'cheerier', 'audience', 'pulled', 'hosting', \"buffalo's\", 'rubbed', 'dean', 'finding', 'junebug', 'moe_recording:', 'binoculars', 'imagine', 'blinds', 'we', 'whispers', 'effervescence', 'wrap', 'tang', 'squabbled', 'kemi', 'king', \"duff's\", 'musketeers', 'pinchpenny', 'harder', 'size', 'food', 'legs', 'sunk', 'candles', 'hammer', 'ore', 'work', 'gees', 'john', 'muslim', 'gonna', 'i-i-i', 'but', \"nixon's\", 'game', 'inches', 'leave', 'insured', 'crappy', 'splattered', 'hi', 'going', 'scruffy_blogger:', 'don', 'sealed', 'creature', 'judge', 'traffic', 'distaste', 'window', 'bid', 'traitors', 'american', 'ratio', 'grieving', 'elmer', 'low', 'w-a-3-q-i-zed', 'rather', 'monster', 'sequel', 'latin', 'griffith', 'nasty', 'paper', 'businessman_#1:', 'grub', 'begins', 'ripcord', 'hockey-fight', 'she', 'bill_james:', 'bothered', 'celebrities', 'naturally', 'celeste', 'municipal', 'muffled', 'i/you', 'twenty-nine', 'stop', 'golf', 'therapist', 'hungry', 'j', 'innocent', 'insecure', 'thought_bubble_lenny:', 'fan', \"city's\", 'certified', 'middle', 'rotch', 'vengeful', 'bottom', 'far', 'directions', 'gore', 'aunt', 'site', 'scrape', 'daniel', 'oil', 'derek', 'tobacky', 'amnesia', 'kings', 'subscriptions', 'wang', 'offa', 'distinct', 'nice', 'friend', 'savvy', 'washouts', 'startled', 'register', 'beats', 'putty', 'sometime', 'measure', 'invisible', 'tasty', 'rumaki', 'sixty', 'decide', 'settled', 'explain', 'moe-heads', 'teenage_barney:', 'nascar', 'plenty', 'billingsley', 'at', 'dozen', 'blaze', 'oblivious', 'complete', 'dennis_kucinich:', 'undermine', 'caricature', 'lifts', 'captain:', 'fondly', 'wudgy', 'premiering', 'advance', 'demo', 'wistful', 'backward', 'rock', 'avalanche', 'hobo', 'flower', 'urine', 'bleeding', \"countin'\", 'royal', 'phone', 'sweetly', \"drinkin'\", 'very', 'skeptical', 'kirk_voice_milhouse:', 'enjoyed', 'eggshell', 'color', 'toe', 'rid', 'paintings', \"they've\", 'barkeeps', 'ad', 'elite', 'enthusiastically', 'botanical', 'miles', 'transfer', 'goldarnit', 'workers', 'cars', 'woooooo', 'microphone', 'mate', 'r', 'jesus', 'temple', 'joking', 'truck', 'data', 'kucinich', '14', 'cuz', 'ya', 'throats', \"wouldn't-a\", 'heartily', 'rapidly', 'counting', 'stationery', 'legally', 'plastic', 'accent', 'talk-sings', 'drawing', 'troubles', 'madonna', 'harvesting', 'stuck', 'quick', 'othello', 'helping', 'apology', 'lot', 'ratted', 'have', 'dawning', 'drove', 'talked', 'slaps', 'determined', 'parenting', 'lucky', 'represent', 'cell-ee', 'lover', 'shesh', 'huge', 'shindig', 'screw', 'all', 'puzzle', \"hawkin'\", 'ruled', 'denser', 'williams', 'bones', 'larry:', 'blinded', 'understand', 'may', 'office', \"s'cuse\", 'sleigh-horses', 'elves:', 'evasive', 'dizer', 'mine', 'times', 'mac-who', \"he's\", 'breath', 'jam', 'incarcerated', 'wade_boggs:', 'squishee', 'agent_johnson:', 'stick', 'recorded', 'errrrrrr', 'hop', 'moments', 'bet', 'thoughtless', 'cola', \"talkin'\", 'fevered', 'oh-so-sophisticated', 'nonchalantly', 'device', 'forget-me-shot', 'ease', 'roy', 'thirteen', 'fine', 'hawaii', 'cozy', 'sleeping', 'maman', 'bed', 'intriguing', 'enemies', 'ziff', 'normals', 'hoped', 'song', \"'now\", 'make:', 'died', 'on', 'cartoons', 'multiple', 'earth', 'moe-lennium', '1979', 'burns', 'official', 'whup', 'little', 'plastered', '6', 'kegs', 'fill', 'clubs', 'wha', 'tom', \"grandmother's\", \"you'll\", 'and:', 'edelbrock', 'trouble', 'experiments', \"we're\", 'scam', 'developed', 'savings', 'hottest', 'puts', 'was', 'moonlight', 'runs', 'bush', 'leftover', 'rocks', 'statesmanlike', 'twelveball', 'correction', 'noble', 'college', 'pretends', 'lobster', 'holidays', 'diaper', \"payin'\", 'thirty-three', 'pause', 're:', \"'round\", 'grunt', 'guard', 'yew', 'blame', 'out', 'wreck', 'called', 'maxed', 'ingredient', 'edge', 'togetherness', 'presentable', 'prayer', 'spelling', 'jimmy', 'skunk', 'aw', 'spend', 'off', 'wussy', 'ref', 'hollye', 'loser', 'blows', 'meatpies', 'needs', 'lucius:', 'pipe', 'ye', 'thanksgiving', 'cakes', 'tease', 'sleep', 'bridges', 'bidet', 'violin', 'eight', 'scientific', 'chug', 'vote', 'laugh', 'wisconsin', 'mystery', 'fly', 'louisiana', 'grab', 'wedding', 'congratulations', \"'cause\", 'shaken', 'renew', 'instead', 'eyeball', 'ahhh', 'eyesore', 'scornful', 'tar-paper', 'cueball', 'au', 'moon-bounce', 'mahatma', '||qutes||', \"they're\", 'belt', 'one-hour', 'sickened', 'hate', 'nards', 'butt', 'muhammad', 'introduce', 'dead', 'syndicate', 'robbers', 'quite', 'alpha-crow', 'cooking', 'proof', 'triangle', 'regretted', 'results', \"santa's\", 'issuing', 'north', 'joe', 'frogs', 'beer-jerks', 'united', 'skinner', 'buddy', 'wasted', 'renee:', 'eternity', '50-60', 'ruint', 'states', 'jerk', 'mona_simpson:', 'bring', 'relieved', \"bladder's\", 'cyrano', 'ridiculous', 'mock-up', 'myself', 'stars', 'still', 'voters', 'playful', 'saga', 'ingested', 'publishers', 'casual', 'problemo', 'flame', 'anyhow', 'casting', 'duke', 'hans:', 'sangre', 'chief', 'pridesters:', 'lay', 'voted', 'curiosity', 'further', 'test-', 'hooch', 'bears', 'scores', 'cheerleaders:', 'rupert_murdoch:', 'dames', 'planning', 'woman', 'wobbly', 'true', 'fruit', 'novel', 'fatty', 'dull', 'city', 'intoxicated', 'allowance', 'polygon', 'bret:', 'months', 'forced', 'prepared', 'forgot', 'bono', 'dropping', 'hero-phobia', 'goodnight', 'sponsoring', \"toot's\", \"she's\", 'patron_#1:', 'items', 'slip', \"what'll\", 'flat', 'sincere', 'sesame', 'choices', 'assert', 'stored', 'elder', 'broken', 'kemi:', 'shipment', 'patrons:', 'finishing', 'vulgar', 'op', 'feat', 'filed', 'schemes', 'knowledge', 'party', 'hunky', 'stalking', 'legal', 'hooray', 'swear', 'morning', \"car's\", 'dumb', 'lipo', 'hemoglobin', 'wound', 'feed', 'table', 'beatings', 'bottles', 'broncos', 'lottery', 'telegraph', 'sloppy', \"bringin'\", \"renovatin'\", 'homers', 'listened', 'chill', 'splendid', 'sunny', 'slap', 'tolerance', 'entertainer', 'kill', 'spilled', 'poured', 'alcohol', 'tornado', 'belly-aching', 'banquo', 'forever', 'rat-like', 'tall', 'mention', 'luv', 'unable', 'giant', 'greetings', 'sponge:', 'car:', 'gun', 'symphonies', 'fluoroscope', 'coast', 'feast', \"isn't\", 'kim_basinger:', 'closing', 'walk', 'expensive', 'drug', 'snap', \"waitin'\", 'bags', 'committing', 'pills', 'grandmother', 'bugging', 'swine', 'makes', 'stalwart', 'car', 'bottle', 'mob', 'har', 'declan', 'got', 'heavyweight', 'boxcar', 'lease', 'inserts', 'shhh', 'pointed', 'image', 'yello', 'rage', 'get', \"time's\", 'brain', 'boring', 'aged', 'struggling', 'listening', 'rom', 'cent', 'suspenders', 'mayor', 'mall', 'let', 'brawled', 'shrugs', 'confidence', 'man:', 'billy_the_kid:', 'juan', 'puffy', 'comeback', 'credit', 'increased', 'runt', 'daddy', \"burnin'\", 'astronauts', 'ohhhh', 'turning', 'wishful', 'profiling', 'sniffing', \"neighbor's\", 'drawer', 'attractive_woman_#2:', 'unfortunately', 'title', 'raking', 'delicious', 'yesterday', 'lord', \"can't-believe-how-bald-he-is\", \"'your\", 'politicians', 'managing', 'those', 'row', 'appropriate', 'mistresses', 'cuddling', 'rip-off', 'boned', 'scout', 'squeals', 'barely', 'marquee', \"you're\", \"year's\", 'lard', 'sniffles', 'factor', 'crowd', 'recommend', 'coincidentally', 'single', 'drunkenly', 'international', 'calling', \"robbin'\", 'eu', 'cheryl', 'grains', 'crushed', 'grammar', 'typing', 'giving', 'eye-gouger', 'mrs', 'specials', 'more', 'swigmore', \"tellin'\", 'expose', 'wave', 'mexicans', 'icy', 'irishman', 'costume', 'drollery', 'coaster', 'health_inspector:', 'sexton', 'crimes', 'leaving', 'mulder', 'served', \"donatin'\", 'kenny', 'mommy', \"what'sa\", 'clap', 'boy', 'super-genius', 'cheat', 'smug', 'grimly', \"can't\", 'an', 'tenuous', 'suck', 'hibbert', 'blade', 'caholic', 'fox', 'scrubbing', 'gus', 'supermarket', 'delts', 'wolfe', 'who-o-oa', \"collector's\", 'exclusive:', 'pushing', 'eddie:', 'lap', 'vestigial', 'hole', 'sidekick', 'nooo', 'caveman', 'synthesize', 'obsessive-compulsive', 'fat_tony:', 'girl-bart', 'crossed', 'sat-is-fac-tion', 'conversion', 'saget', 'species', 'quarry', 'chipper', 'healthier', 'los', 'men', 'charity', 'drapes', 'pretty', 'noise', 'poplar', 'thirty-thousand', 'computer', 'disguise', 'beer-dorf', 'idea', 'landfill', 'old-time', 'repeated', \"springfield's\", 'gayer', 'alley', 'tasimeter', 'round', 'tap', 'punching', 'eco-fraud', 'superdad', 'roomy', 'dealer', 'admit', 'terminated', 'bubbles', 'lib', 'bucket', 'since', 'flying', 'wash', 'sabermetrics', 'amazed', 'fridge', 'delightful', 'common', 'poulet', 'hit', 'blow', 'seem', 'banquet', 'wrestling', 'dispenser', \"narratin'\", 'result', 'dinks', 'kyoto', 'para', 'advertising', 'patty', 'e-z', 'sodas', 'wikipedia', 'smuggled', 'infor', 'our', 'stamp', 'until', 'worried', 'travel', 'princesses', 'slit', 'sports', 'statistician', 'breaking', 'offensive', 'fourteen:', 'churchy', 'month', 'honest', 'walking', 'barter', 'energy', 'africanized', 'gin-slingers', 'pepsi', 'beast', 'warm_female_voice:', \"listenin'\", 'dipping', 'wiggle', 'mission', 'sandwich', 'wear', 'america', 'million', 'plum', 'lindsay_naegle:', 'alone', 'shotgun', 'manatee', 'hunger', 'believe', \"disrobin'\", 'judge_snyder:', 'island', 'salvador', 'fwooof', 'pets', 'videotaped', 'gloop', 'nods', 'pasta', 'based', 'informant', 'haircuts', 'people', 'a', 'unintelligent', 'swan', 'macbeth', 'mike_mills:', 'poster', 'doubt', 'gator', 'fritz:', 'midge:', 'b', 'fayed', 'scoffs', 'cable', 'underwear', 'duff', 'sunglasses', \"moe's\", 'dignity', 'kneeling', 'seminar', 'seymour_skinner:', \"stallin'\", 'h', 'filled', 'nerve', 'sketch', 'hollowed-out', 'amount', 'starts', 'blooded', 'sorry', 'population', \"soundin'\", 'news', 'himself', '10:15', 'boxing_announcer:', 'indignant', 'sooner', 'floor', \"rentin'\", 'protesters', 'eat', 'cursed', 'boozer', 'seductive', 'cockroaches', 'playing', 'morning-after', 'sickly', 'leans', 'born', 'sacajawea', \"c'mom\", 'breakfast', 'nicer', 'due', 'taunting', 'portuguese', 'laws', 'charlie:', 'barbara', \"moe's_thoughts:\", 'jerk-ass', 'plums', 'bully', 'odd', 'inserted', \"comin'\", 'flayvin', 'buttons', 'broken:', \"aren'tcha\", 'ooo', \"fallin'\", 'teeth', \"must've\", 'refund', 'vacation', 'century', 'sobriety', 'perch', 'furious', 'act', 'pickle', 'mellow', 'mind', 'glen:', 'regulations', 'sly', 'motel', 'greatly', 'santeria', 'taking', 'county', 'stickers', 'pusillanimous', 'k-zug', 'manjula_nahasapeemapetilon:', 'philosophic', 'arrest', 'reading', 'there', 'nightmare', 'suburban', 'contact', 'ointment', 'frog', 'afterglow', 'ralph_wiggum:', 'pleading', 'ticks', 'hat', 'hmf', 'hydrant', 'percent', 'firing', 'longer', 'gags', 'surprising', 'worldview', \"singin'\", 'gut', 'brilliant', 'faint', 'tv_wife:', 'thrust', 'ahead', 'dana_scully:', 'sharity', 'full-blooded', \"raggin'\", 'sexy', 'lifetime', 'moolah-stealing', 'enjoys', 'most', 'buffalo', 'renee', 'flophouse', 'browns', 'men:', 'pepper', 'severe', 'accusing', 'plotz', 'ninth', 'scare', 'recent', 'shareholder', 'natured', 'dessert', 'red', 'bubble', 'into', 'kl5-4796', 'neighbors', 'sanitation', 'loafers', 'incredible', 'windowshade', \"depressin'\", 'sense', 'spirit', 'selective', 'we-we-we', 'sucker', 'repairman', 'pernt', 'misfire', 'holiday', 'take', 'reynolds', 'barney_gumble:', 'slick', 'potatoes', 'rewound', 'reaction', 'really', 'light', 'reserved', 'brow', 'hide', 'krusty', 'lone', 'phony', 'resigned', 'whee', 'propose', 'close', 'secrets', 'certainly', 'cobbling', 'ambrosia', 'confident', 'wayne:', 'african', 'thoughts', 'aside', 'ping-pong', 'ear', 'stagehand:', 'chuckles', 'apu_nahasapeemapetilon:', 'probably', 'dynamite', 'also', 'file', 'young_barfly:', 'restless', 'jer', 'quarter', 'nemo', 'hibachi', 'groveling', 'kahlua', 'shark', '_hooper:', 'generous', 'vodka', 'weather', 'must', 'stuff', 'torn', \"mo'\", 'mmmmm', 'grain', 'newsweek', 'having', 'sadly', 'smugglers', 'stevie', 'acceptance', 'competing', 'forty-two', 'annual', 'bulldozing', 'vomit', 'accurate', 'sixty-nine', 'age', 'accident', 'floated', 'hustle', 'carey', 'parked', 'dime', 'reward', 'tragedy', 'deny', 'disgrace', 'combine', 'obvious', 'melodramatic', 'talkative', \"watchin'\", 'looked', \"o'reilly\", 'pleasant', 'either', 'sign', 'dramatic', 'alls', 'brothers', 'heh-heh', 'strategizing', 'happily:', 'abusive', 'taken', 'sixty-five', 'castle', 'mariah', 'hampstead-on-cecil-cecil', 'hats', 'newsies', 'hah', 'friendly', 'away', 'multi-purpose', 'what-for', 'italian', 'belly', 'criminal', 'cards', 'tv-station_announcer:', 'gulps', 'timbuk-tee', 'head-gunk', 'pull', 'achem', 'pal', \"'s\", 'betty:', 'illustrates', 'arrived', \"battin'\", 'usually', 'sponsor', 'saint', 'totalitarians', 'lowest', 'pizza', 'killer', 'mouths', 'case', 'hits', 'tow', 'degradation', 'quietly', 'knowing', 'east', 'notices', 'toledo', 'boston', 'walther_hotenhoffer:', 'lose', 'money', 'seething', 'disappointment', \"today's\", 'instrument', 'detail', 'vicious', 'scene', 'came', 'voodoo', 'hooky', 'man', 'puzzled', 'proposing', 'payments', 'not', 'ads', 'loud', 'dracula', 'sex', 'glamour', 'smells', 'telemarketing', 'hates', 'belches', 'kearney_zzyzwicz:', 'powers', 'bonding', 'imitating', 'child', 'remorseful', 'turned', 'coined', 'manboobs', 'homer_simpson:', 'meteor', 'manfred', 'kills', 'funniest', 'chum', 'hm', \"'kay-zugg'\", 'sassy', 'pfft', 'type', 'crisis', \"somethin':\", 'gargoyles', 'cherry', 'punk', 'sooo', 'composer', 'six', 'sprawl', 'enterprising', 'frankenstein', 'thorn', 'judgments', 'thousand', 'highest', 'maximum', 'father', 'wednesday', 'shrugging', 'p', 'awww', 'intruding', 'nurse', 'stink', 'nibble', \"fryer's\", 'mason', 'crippling', 'penmanship', \"gettin'\", 'sometimes', 'mt', 'harm', 'x', 'bash', 'each', 'manchego', 'swamp', 'arise', 'wars', 'watashi', 'steak', 'knife', '8', 'yup', 'burt', 'bastard', 'nelson', 'frontrunner', 'ginger', 'killarney', 'jets', 'screams', 'kool', 'hyper-credits', 'stumble', 'wok', \"hole'\", 'cannot', 'ron', 'young_moe:', 'capitol', 'moe_szyslak:', 'omigod', \"guy's\", 'liability', 'fierce', 'presumir', 'buzz', 'thawing', 'kisser', 'greedy', 'protestantism', 'whaaaa', 'mixed', 'put', 'smoke', 'porn', 'pharmaceutical', 'raise', 'colossal', 'kick', 'gave', 'tale', 'male_singers:', 'alter', 'inspector', 'completing', 'shares', 'simultaneous', 'incognito', 'harmony', 'birthday', 'stained-glass', 'spiritual', 'studio', 'chug-monkeys', 'hiring', \"phone's\", 'post-suicide', 'cliff', 'dae', 'kent_brockman:', 'desperate', 'eyes', 'respect', 'wine', 'sensible', 'salt', 'waterfront', 'photos', 'beat', 'padre', 'fury', 'bauer', 'selection', 'estranged', 'bookie', 'tsk', 'presses', 'scum', 'needed', 'contemptuous', 'thank', 'clapping', 'subject', 'lofty', 'reminded', 'blubberino', 'seek', 'hero', 'whispered', 'mustard', 'steely-eyed', 'potato', 'left', 'days', \"tv'll\", 'tracks', 'surprised/thrilled', 'one', 'stan', 'horrible', 'burp', \"aren't\", 'snake', 'grinch', 'beings', \"livin'\", 'literature', 'exception:', 'doooown', 'lookalike:', 'job', 'holy', 'refiero', 'courteous', 'yeah', 'pews', 'mckinley', 'aged_moe:', 'faces', 'ali', 'shove', 'bridge', 'devils:', 'use', 'k', 'smoker', 'tapestry', 'frozen', 'metal', 'clown-like', 'guinea', 'de-scramble', 'brusque', 'fellas', 'night-crawlers', 'ragtime', 'unjustly', 'broadway', 'judges', 'pile', 'carve', 'consider', 'snide', 'indigenous', \"plaster's\", 'presidential', 'verticality', 'plain', 'dancing', 'roses', 'self-made', 'lawyer', 'network', \"number's\", \"wonderin'\", 'liar', 'gesture', 'milks', 'gang', 'shoe', 'named', 'pulls', 'think', 'ate', 'dumb-asses', 'babe', 'agents', 'equivalent', 'beer', 'sweden', 'jukebox', \"showin'\", 'alien', 'here', 'new', 'correct', 'orphan', 'wanted', 'husband', 'fears', 'hard', 'twenty', 'dory', 'separator', 'grubby', 'contest', 'mm-hmm', 'won', 'briefly', 'huh', 'automobiles', 'guy', 'bindle', 'hundreds', 'man_with_crazy_beard:', 'super', 'anniversary', 'powered', \"cupid's\", 'tears', 'larson', 'ball-sized', 'worthless', 'fragile', 'field', 'meal', 'professor_jonathan_frink:', 'impressed', 'ninety-seven', 'crowd:', 'teach', 'sentimonies', 'causes', 'troll', 'without:', 'sail', 'killed', 'hellhole', 'add', 'over', 'hook', 'guess', 'rem', 'female_inspector:', 'macgregor', 'mis-statement', 'alfalfa', 'edna_krabappel-flanders:', 'ken:', 'breaks', 'courthouse', 'manjula', 'crotch', 'technical', 'manage', 'difficult', 'knit', 'patient', 'has', 'life-extension', 'darjeeling', 'iddilies', 'sun', 'backbone', \"school's\", 'likes', 'flourish', 'troy_mcclure:', 'drinks', \"c'mon\", 'girls', 'pilsner-pusher', 'fl', '_babcock:', 'wheels', 'coward', 'traitor', 'socratic', 'researching', 'puke-pail', 'lewis', 'jewelry', 'paste', 'homeless', 'online', 'impending', 'boxers', 'a-a-b-b-a', 'half-back', 'voice:', 'mathis', 'bupkus', 'cocoa', 'deli', 'regulars', 'towed', 'send', 'became', 'jeff_gordon:', 'arimasen', \"i'll\", 'socialize', 'treehouse', 'troy:', 'yourself', 'loved', 'prime', 'dan_gillick:', 'sector', 'smile', 'frat', 'package', 'trade', 'football_announcer:', 'admirer', 'drummer', 'tuborg', 'single-mindedness', 'calvin', 'deadly', 'mailbox', 'lame', 'sen', 'coins', 're-al', 'positive', 'ancient', 'talkers', 'cozies', 'bret', 'aiden', 'marge', 'moonnnnnnnn', 'dutch', 'delighted', 'acquitted', \"duelin'\", 'operation', 'stood', 'universe', 'democrats', 'flown', 'center', 'derisive', 'steamed', 'wooden', 'explaining', 'extended', 'coney', \"high-falutin'\", \"doin'\", 'anti-lock', 'chapel', \"who's\", 'need', \"leavin'\", \"homer'll\", 'pleased', 'moe', 'catch', 'burnside', 'absorbent', 'thighs', 'thrown', 'peppy', 'gumbel', 'booth', 'augustus', 'space-time', \"coaster's\", 'bouquet', 'flashing', \"father's\", 'marjorie', 'everyday', 'rap', 'wood', 'fainted', \"cleanin'\", 'bucks', 'old_jewish_man:', 'cupid', 'privacy', 'gruff', 'break-up', 'access', 'improv', 'scream', 'goblins', 'oooh', 'pride', 'ah', 'malted', 'fifteen', 'liquor', 'smooth', 'up-bup-bup', 'batmobile', 'strap', \"b-52's:\", 'patented', \"havin'\", 'end', 'its', 'seemed', \"he'd\", 'gear-head', 'smurfs', 'scully', 'gel', 'horns', 'pirate', 'gardens', 'milhouse_van_houten:', 'wowww', 'awfully', 'consoling', 'gestated', 'woulda', 'occupancy', 'cheesecake', 'gumbo', 'grind', 'wally:', 'michael_stipe:', 'officials', 'twentieth', 'greystash', 'hotline', 'done:', 'effect', \"squeezin'\", 'repressed', 'mid-seventies', 'rainforest', 'self-centered', 'body', 'borrow', 'ding-a-ding-ding-a-ding-ding', 'fit', 'pepto-bismol', 'sniffs', 'pontiff', \"liftin'\", 'bender:', 'wiener', 'thoughtfully', 'fink', 'bart', 'highball', 'carolina', 'should', 'working', 'located', 'entrance', 'witches', 'book_club_member:', 'occasional', 'hoagie', 'labels', 'sneeze', 'promotion', \"s'pose\", 'idealistic', 'exhibit', 'moving', 'championship', 'dejected', 'turlet', 'badmouths', 'chumbawamba', 'anarchy', 'broom', 'understanding', 'eh', 'wells', 'loudly', 'benefits', \"workin'\", 'app', 'proud', 'question', 'rhode', 'super-tough', 'gheet', 'jackson', 'popular', 'vacuum', 'ecru', 'hostile', 'she-pu', 'stinger', 'midnight', 'west', 'why', 'guest', 'fraud', 'encore', 'sees', 'slow', 'woodchucks', 'rockers', 'dea-d-d-dead', 'selma_bouvier:', 'blown', 'aims', 'shoulder', 'pulling', \"world's\", 'glad', 'nineteen', 'helps', 'fry', 'drunks', 'filthy', 'thomas', 'reasons', 'pointedly', 'insist', 'treat', 'diablo', 'declared', 'justify', 'temporarily', 'blind', 'mike', \"rustlin'\", 'nfl_narrator:', 'as', 'pin', 'ferry', 'treats', 'looooooooooooooooooong', 'shaker', 'ura', 'mimes', 'listen', 'famous', \"bashir's\", 'behavior', 'darkness', 'laid', 'relaxed', 'right', 'spied', 'blue', 'oooo', 'attached', 'attend', 'shop', 'ran', 'territorial', \"somethin's\", 'top', 'tell', 'family-owned', 'trail', 'clone', \"d'\", 'beautiful', 'suit', 'grin', 'harrowing', 'product', 'bar', 'ocean', 'la', 'tuna', 'stab', 'proper', 'disguised', 'louse', 'attraction', \"i-i'll\", 'right-handed', 'attack', 'menace', 'civic', 'believer', 'sweaty', 'backwards', \"smokin'_joe_frazier:\", 'showed', 'mediterranean', 'blobbo', 'changed', 'julep', 'mmmm', 'hour', 'hammy', 'yawns', 'presents', 'banks', 'easy', 'microbrew', 'lurleen', 'played', 'well', 'box', 'smallest', 'advertise', 'price', 'billboard', 'gabriel', \"mtv's\", 'salad', 'mouth', 'clinton', 'stadium', 'minute', 'decided', 'gives', 'nothing', 'dash', 'oughta', 'u', 'white_rabbit:', 'malibu', 'self-esteem', 'tonic', 'massachusetts', 'snake_jailbird:', 'whoopi', 'this', 'alarm', 'burglary', 'tyson/secretariat', 'statue', 'shuts', 'kitchen', 'burn', 'always', 'blocked', 'pine', 'writers', 'throw', 'naval', 'miss', \"mother's\", 'peter_buck:', 'guns', 'sudden', 'whale', 'mr', 'hanging', 'whisper', 'officer', 'oddest', 'knives', 'commission', 'celebrate', 'puke-holes', 'rats', 'extract', 'mice', 'ram', 'leprechaun', 'jägermeister', 'of', \"tatum'll\", 'except', 'rag', 'beverage', \"linin'\", 'driveability', 'nauseous', 'polish', 'whatchacallit', 'vulnerable', 'fiiiiile', 'lloyd', 'us', 'make', 'waters', \"bart'd\", 'lifters', 'crayon', 'push', 'equal', 'might', \"pickin'\", 'ventriloquism', 'position', 'scum-sucking', 'kid', 'ohmygod', 'cocking', 'pictured', 'clams', 'skills', 'spite', 'waking-up', 'tv_announcer:', 'dizzy', 'sizes', 'creates', 'chip', 'ideas', 'arms', 'to', 'soft', 'creme', 'knocks', 'day', 'natural', '7g', 'wh', 'hangout', 'madison', 'crazy', 'gambler', 'damned', 'trust', 'tubman', 'leno', 'sell', 'rome', 'bell', 'hold', 'penny', 'breakdown', 'cocktail', 'damn', 'ninety-nine', 'stealings', 'furiously', 'ahem', 'weird', 'clear', 'nervous', 'used', 'producers', 'dan', 'tooth', 'sass', 'stingy', 'religious', 'happily', 'slobbo', 'warily', \"tab's\", 'artist', '&', 'electronic', 'afraid', 'cover', 'rug', 'mcstagger', 'grammys', 'puke', 'uh', 'reed', 'moved', 'process', 'cuckoo', 'term', 'knock', 'barstools', 'asses', 'treasure', 'muscle', 'disturbing', 'feld', 'soul-crushing', 'wife-swapping', 'driver', 'delicately', 'contemporary', 'micronesian', 'starla', 'th', 'rounds', 'able', 'businessman_#2:', 'winner', 'bulletin', 'tries', 'congoleum', \"snappin'\", 'somebody', 'baby', 'european', 'dad', 'cookies', 'toasting', 'newest', '21', 'chained', 'heals', 'losing', 'cab_driver:', 'cronies', 'stolen', 'distributor', 'way:', 'built', 'mortgage', 'hike', 'warranty', 'declan_desmond:', 'atlanta', 'speech', 'groin', 'heh', 'barf', 'flatly', 'jar', 'flack', 'ironic', 'vegas', 'korea', 'kicked', 'diminish', 'killing', 'dying', 'habitrail', 'unattractive', 'return', 'rasputin', 'boyfriend', 'na', 'ironed', 'chauffeur', 'scent', 'brother', 'sedaris', 'test', 'rich', '35', 'panties', 'slurps', 'reading:', 'run', 'richer', 'shells', 'movie', 'jeez', 'saw', 'edison', 'hexa-', 'bartenders', 'carl:', 'slyly', 'federal', 'youse', 'andrew', 'root', 'unforgettable', \"boy's\", 'gluten', 'read', 'mistake', 'expense', 'gal', 'gutenberg', 'craft', 'samples', \"other's\", \"idea's\", 'dyspeptic', \"homer's_brain:\", 'lowers', 'underbridge', 'sticking', 'scientists', 'onion', 'prettiest', 'magic', 'whim', 'carll', 'onto', 'done', 'grocery', 'tablecloth', 'predictable', 'strokkur', 'fall', 'collette:', 'stu', 'boys', 'illegal', 'arm-pittish', 'george', 'grampa_simpson:', 'flush-town', 'soot', 'pus-bucket', 'victorious', \"drexel's\", 'exasperated', 'daaaaad', 'promise', 'dang', 'ice', 'hangover', \"don'tcha\", 'religion', 'lucius', 'twelve-step', 'such', 'whiny', 'life:', 'boo', 'thanking', 'older', 'spine', 'parrot', 'proposition', 'jolly', 'vengeance', \"fans'll\", 'hippies', 'anonymous', 'bagged', 'indeed', 'possibly', 'ha', 'thirty-five', 'spamming', 'wins', \"money's\", \"queen's\", 'ominous', 'specific', 'show-off', 'julienne', 'mamma', 'prayers', 'dinner', 'gas', 'planted', 'radical', 'exhale', \"when's\", 'snort', 'gotta', 'forward', 'superpower', \"fendin'\", 'tying', 'bubbles-in-my-nose-y', 'old', 'the', 'lives', 'turns', 'bar_rag:', 'pian-ee', 'over-pronouncing', 'grrrreetings', 'placing', 'indecipherable', 'lemonade', 'ground', \"pressure's\", 'murdered', 'twelve', 'justice', 'sigh', 'belch', 'soothing', 'depressing', \"lookin'\", 'genuinely', 'pick', 'sloe', 'harvard', 'macho', 'whirlybird', 'goodwill', 'hall', 'arrested:', 'sport', 'per', 'fbi_agent:', 'absolutely', \"'evening\", 'yea', 'ned', 'chairman', 'lookalikes', 'chicken', 'skin', 'beanbag', 'shelbyville', 'formico:', 'sweat', 'plans', 'lurks', 'mumbling', 'stand', 'attracted', 'flynt', \"changin'\", 'fair', 'fica', 'amiable', 'lessee', 'waste', 'smile:', 'foil', 'two-thirds-empty', 'albeit', 'applesauce', 'maher', 'pretending', \"buyin'\", 'jasper_beardly:', 'sincerely', 'race', 'libraries', 'emotional', 'compels', 'certain', 'beach', 'irs', 'sea', 'enthused', 'long', \"tramp's\", 'wolverines', 'thing', 'limber', 'angrily', 'hardwood', 'presidents', 'fumigated', 'tribute', 'ehhhhhh', 'sustain', 'wears', 'eighty-five', 'stripes', 'itself', 'reads', 'fool', 'though', 'funny', 'handwriting', 'faded', 'weak', 'slogan', 'darts', 'excitement', 'owner', 'yap', 'foot', 'irish', 'a-lug', 'arrange', 'surprised', 'greatest', 'reviews', 'tune', 'miracle', \"ridin'\", 'grudgingly', 'enjoy', 'abercrombie', 'inclination', 'answered', 'minimum', 'shakespeare', 'doors', 'kickoff', 'ivana', 'bum:', 'indifferent', 'passports', 'noggin', 'schmoe', 'quimby_#2:', 'buzziness', 'sugar', 'theatrical', 'pocket', 'organ', 'cranberry', 'meaning', 'agnes_skinner:', \"thing's\", 'marriage', 'commanding', 'poison', 'olive', 'ruin', 'sweeter', 'enveloped', 'offense', 'culkin', 'exchanged', 'guessing', 'blew', 'grabs', 'well-wisher', 'ignoring', 'down', \"larry's\", 'marshmallow', \"pope's\", 'venture', 'store-bought', 'never', 'roll', 'humanity', 'defected', 'the_rich_texan:', 'moron', 'tofu', 'badly', 'limits', 'ireland', \"something's\", 'trainers', 'mayan', '_julius_hibbert:', 'authorized', '||comma||', 'replaced', 'least', 'neither', \"football's\", 'tree', 'kansas', \"speakin'\", 'flea:', 'smelling', 'label', 'folks', 'anti-intellectualism', 'improved', 'linda_ronstadt:', 'remains', 'ow', 'laughter', 'pats', 'fringe', 'am', \"'er\", 'nail', 'began', 'angry', 'acronyms', 'loan', 'purveyor', 'marguerite:', 'hemorrhage-amundo', \"stinkin'\", 'walks', 'hotel', 'mansions', 'canyonero', 'pep', 'inspection', 'poorer', 'opportunity', '_zander:', \"hell's\", 'tear', 'freely', 'next', 'caused', 'las', 'pretzel', 'musta', 'c', \"wasn't\", 'morlocks', 'waist', 'mindless', 'facebook', 'abandon', 'faiths', 'diamond', 'whole', 'soaking', 'random', 'cooler', 'sound', 'professor', 'start', 'tigers', \"round's\", \"floatin'\", 'bloodiest', 'investigating', 'ho-la', 'laney', 'punkin', 'celebration', 'find', 'peaked', 'stein-stengel-', 'comes', 'her', \"ball's\", 'gasps', 'maybe', 'kadlubowski', \"liberty's\", 'passes', 'hillary', 'ha-ha', 'after', 'afford', '_montgomery_burns:', 'safecracker', 'sponge', 'advice', 'octa-', 'simple', 'muscles', 'nasa', 'cutest', \"messin'\", 'loathe', 'absolut', 'befriend', 'half', 'sacrilicious', 'sadistic_barfly:', 'pipes', \"fine-lookin'\", 'snotball', 'homesick', 'languages', 'fell', \"carl's\", 'any', 'girlfriend', 'isotopes', 'seat', 'connor-politan', \"lenny's\", 'yourselves', 'adjust', 'elaborate', 'bets', 'rainbows', 'sucking', 'rector', 'reach', 'draw', 'line', 'butter', 'express', 'tearfully', 'barflies:', 'remain', 'clears', 'secret', 'pub', 'aziz', \"smackin'\", 'pack', 'x-men', 'skirt', 'trenchant', 'syrup', 'them', 'frink', 'mom', 'stools', 'boat', 'compromise:', 'cheese', 'inspiring', 'effigy', 'teacher', 'snapping', '||dott||', 'expect', 'savagely', \"ma's\", 'mither', 'disturbance', 'rueful', 'bag', 'fixed', 'heavens', 'whoever', 'mccarthy', 'stores', 'fist', 'dumbbell', \"spaghetti-o's\", 'finger', 'stillwater:', 'dictating', 'because', 'picnic', 'frazier', 'teacup', 'planet', 'shortcomings', 'joint', 'crawl', 'recruiter', 'sold', 'agency', 'liver', 'haw', 'invited', 'sending', 'camera', 'geez', 'band', 'crunch', 'house', 'nigel_bakerbutcher:', \"life's\", 'serve', 'land', 'argue', 'crestfallen', 'lighter', \"people's\", 'thing:', 'with', 'grave', 'he', 'barney', 'moe-clone', 'remembered', 'forehead', 'standing', 'remodel', 'tinkle', \"dyin'\", 'face', 'which', \"won't\", 'labor', 'seamstress', 'baloney', 'noooooooooo', 'want', 'oh', 'padres', 'eighty-one', 'hands', 'choked-up', 'flailing', 'richard:', 'defiantly', 'uninhibited', 'hopeful', 'comment', 'stretch', 'sees/', 'strictly', 'hare-brained', 'disco', 'yell', 'eyeing', 'partially', 'busted', 'spouses', 'notch', 'supposed', 'candidate', 'streetlights', 'prohibit', \"starla's\", 'cadillac', 'connection', 'crinkly', 'supports', \"she'll\", 'chubby', 'embarrassing', 'overturned', \"wallet's\", 'excuse', 'diapers', 'principal', 'palmerston', 'feminine', 'ivanna', 'cares', 'hugh:', 'closes', 'pre-recorded', 'neighborhood', 'gordon', 'see', 'bury', 'bedbugs', 'lumpa', 'polenta', 'soaps', 'exploiter', 'soul', 'lately', 'strips', 'application', 'washer', 'gentles', 'milhouses', 'followed', \"spyin'\", 'freed', 'vanities', 'neighboreeno', 'outstanding', 'using', 'easy-going', 'rusty', 'blank', \"games'd\", 'yours', 'norway', 'emporium', \"tester's\", 'entire', 'murderously', 'opening', 'sure', 'partners', 'option', 'a-b-', 'imaginary', 'count', 'non-losers', \"hobo's\", 'heard', 'moe-ron', 'mix', 'stands', 'valley', 'kirk_van_houten:', 'started', \"sippin'\", 'tongue', 'giggle', 'marge_simpson:', 'fledgling', 'glum', \"'roids\", 'invite', 'pig', 'presto:', 'ride', 'blackjack', 'tremendous', 'heroism', 'waylon', 'installed', 'wish-meat', 'acting', 'enemy', 'snatch', \"thinkin'\", 'around', 'canoodling', 'lingus', 'fdic', 'set', 'pugilist', 'issues', 'sale', 'excuses', 'cleaner', 'all-star', 'yoo', 'szyslak', 'tropical', 'wishes', 'action', 'you', 'world-class', \"wearin'\", \"beer's\", 'digging', 'discussing', 'glitterati', 'pissed', 'recall', 'anxious', 'robin', 'guilt', \"friend's\", \"i'm\", 'knew', 'page', 'pond', 'stage', 'colonel:', 'actually', 'square', 'martini', 'hug', 'eighty-six', 'every', 'behind', 'homunculus', 'duh', 'cannoli', 'lennyy', 'forty', 'quick-like', 'slot', 'romance', 'domestic', 'open', \"ma'am\", 'bless', 'senators:', 'headhunters', 'lessons', 'pro', 'gay', 'sister', 'shriners', 'pronounce', 'miserable', 'neck', 'sauce', 'souped', 'softer', 'carb', \"tap-pullin'\", 'archaeologist', 'anywhere', 'cheapskates', 'bachelor', 'tokens', 'dimly', 'wiggum', 'beyond', 'comedies', '2', 'elect', 'wounds', 'deeper', 'buyer', 'chub', 'twenty-four', 'quimby', 'expired', 'ringing', 'sticking-place', \"scammin'\", 'corn', 'offended', 'spending', 'again', 'attitude', 'rude', 'tow-joes', 'cause', 'sec', 'toxins', 'seven', 'hired', 'perking', 'ungrateful', 'bumbling', 'hated', \"somethin'\", 'coms', 'shoulda', \"'n'\", 'chanting', 'aristotle:', 'sleeps', 'disgraceful', 'keeping', 'killjoy', 'disgracefully', 'flew', 'aging', 'gargoyle', 'switch', 'represents', \"bartender's\", 'fund', 'ashamed', 'weirded-out', 'rent', 'juice', 'terrible', 'letter', 'appearance-altering', 'enthusiasm', 'book', \"summer's\", 'figure', 'fella', 'majesty', 'rough', 'guff', 'obese', 'scary', 'relaxing', 'lighten', 'pool', 'slapped', 'pursue', 'homeland', \"daughter's\", \"'ere\", 'your', 'smart', 'pawed', 'rife', 'grenky', 'majority', 'grants', 'extreme', 'handed', 'pit', 'disapproving', 'answer', \"rasputin's\", 'angel', \"calf's\", 'lager', 'otherwise', 'ugh', 'three', 'skinheads', 'follow', 'solves', 'wienerschnitzel', 'suds', 'booking', 'familiar', 'legend', 'deeply', 'jogging', 'lachrymose', 'stares', 'looser', 'themselves', 'liven', 'comedy', 'intense', 'cracked', 'practically', 'alfred', 'miss_lois_pennycandy:', 'suru', 'horrified', \"somebody's\", '_burns_heads:', 'and', 'community', 'glorious', \"usin'\", 'fantastic', 'bee', \"takin'\", 'feet', 'anti-crime', 'whoa', 'lemme', 'quit', \"jackpot's\", 'doreen:', 'quarterback', 'guide', 'rods', 'iranian', 'shape', 'showing', 'reporter', 'mickey', 'in', 'maude', 'lee', 'frankly', \"ladies'\", 'denver', 'welcome', 'happiness', 'straighten', 'stomach', 'fabulous', 'wiping', 'season', 'ew', 'hangs', 'backing', 'whatever', 'stirring', 'grim', 'stupid', 'authenticity', 'jay', 'noticing', 'alec_baldwin:', 'radioactive', 'throws', 'everybody', 'little_hibbert_girl:', 'director:', 'wildfever', 'circus', 'yelling', 'oughtta', 'stupidly', 'during', \"bo's\", 'housewife', 'yammering', 'written', 'bad-mouth', 'spectacular', 'favorite', 'loss', 'kissed', 'hanh', 'graveyard', 'catch-phrase', 'women', 'smokes', 'naively', 'my', 'mary', 'some', 'depressant', 'fat-free', 'poet', \"knockin'\", 'poin-dexterous', 'life-partner', 'how', 'dice', '||rparenthese||', 'traditions', 'agree', 'cross-country', 'despite', 'doll', 'lise:', 'four-drink', 'alibi', 'ladies', 'investor', 'election', 'story', 'when', 'cappuccino', 'stinky', 'memory', 'compete', 'lists', 'strong', 'sheets', 'mortal', 'ling', 'simplest', 'desperately', 'halloween', 'hours', 'hmmmm', 'superior', 'concerned', 'example', 'encouraging', 'index', 'physical', 'starters', 'dig', 'compressions', 'different', 'clandestine', \"shan't\", 'comic_book_guy:', 'british', 'lady', 'stupidest', 'sugar-me-do', 'somehow', 'eighteen', 'zack', 'playoff', 'priceless', 'pink', 'honey', 'wheel', 'rumor', 'dry', 'changes', 'coin', 'dumptruck', 'calmly', 'fix', 'dressed', 'ordered', 'in-ground', 'low-blow', 'mind-numbing', 'luckiest', 'thought_bubble_homer:', 'linda', 'sternly', 'negative', 'private', 'peabody', 'freak', 'compliment', 'forgive', 'sinkhole', 'pre-game', 'regretful', 'chase', 'artie', 'all-american', 'total', 'playhouse', 'al_gore:', 'kent', 'toilet', 'dunno', '/', 'hilton', 'flustered', 'presently', 'passenger', 'once', 'fake', 'rules', 'early', 'cuff', 'jaegermeister', 'shrieks', 'pen', 'rev', 'intention', '/mr', 'checks', 'drop-off', 'tied', 'procedure', \"neat's-foot\", 'reporter:', 'aisle', 'evergreen', \"tomorrow's\", 'getting', 'beaumarchais', 'landlord', 'so-called', 'that', 'u2:', 'lisa', 'means', 'perverted', 'premise', 'solid', 'canyoner-oooo', 'refinanced', 'publish', 'sent', 'learned', 'or', 'model', 'seeing', 'snitch', 'transylvania', \"'topes\", 'kicks', 'raggie', 'supply', 'cries', 'sugar-free', 'brandy', 'squashing', 'apart', 'trees', 'hurts', 'generosity', 'andalay', 'part-time', 'small', \"y'see\", 'grabbing', 'newsletter', 'disappeared', 'favor', 'brings', 'grandiose', 'theatah', \"industry's\", 'unbelievable', 'wobble', 'evils', 'tense', 'storms', 'engraved', 'aer', 'social', 'terrified', 'clearly', 'restaurants', 'darkest', \"we've\", 'badmouth', 'geysir', 'dreamy', 'fanciest', 'carny:', 'law', 'possessions', 'anyhoo', 'nickel', 'perfect', \"there's\", 'warning', 'chapter', \"you'd\", 'confidential', 'comforting', 'strangles', 'sitcom', 'naked', 'cocks', 'nickels', 'payday', 'jerking', \"hangin'\", 'eyeballs', 'singer', 'flexible', 'fortensky', 'snaps', 'so-ng', 'distance', 'remember', 'bees', 'everywhere', 'patterns', 'pleasure', 'self', 'name', 'shaggy', 'lowering', 'dude', 'sniper', 'business', \"o'clock\", 'fountain', 'moan', 'error', 'pas', 'appalled', 'cruel', 'bathtub', 'blowfish', 'movement', 'someday', 'microwave', 'starve', 'wolfcastle', 'managed', 'looting', 'shout', 'adrift', 'peanuts', \"we'd\", 'finished', 'produce', 'wearing', 'guzzles', 'witty', 'running', 'coherent', 'buried', 'sausage', \"tony's\", 'shelf', 'musses', 'enforced', 'tough', '1895', 'halvsies', 'blessing', 'shooting', 'restaurant', 'charge', 'two-drink', 'tatum', 'boxer:', 'less', 'ooh', 'bachelorhood', 'bail', 'fuss', 'unsourced', 'cops', 'specialists', 'concentrate', 'goo', 'tight', 'gulliver_dark:', 'specified', 'badges', 'wants', 'learn', 'washed', 'loaded', 'could', 'rugged', 'ze-ro', 'turn', 'mountain', 'wrapped', 'yep', 'point', 'indifference', 'winks', 'mop', \"lovers'\", \"y'money's\", 'stayed', 'step', 'starla:', 'title:', 'cure', 'worse', 'crab', 'shack', 'releasing', 'teriyaki', 'free', 'scotch', 'nbc', 'daughter', 'gotcha', \"crawlin'\", 'read:', 'best', 'upn', 'self-satisfied', 'army', 'cauliflower', 'avenue', 'mouse', 'statues', 'cousin', 'actors', 'james', 'someplace', 'the_edge:', 'space', '||lparenthese||', 'system', 'woman:', 'sober', 'crowned', 'exultant', '100', 'something:', 'level', 'cream', 'much', 'horrors', 'krusty_the_clown:', 'doreen', 'sturdy', 'danish', 'feel', 'gimmicks', 'reluctantly', 'saturday', 'station', \"washin'\", 'spitting', 'nordiques', 'it', 'declare', 'byrne', 'button-pusher', 'lance', 'voicemail', 'nature', 'engine', \"tonight's\", 'starlets', 'children', 'murmur', 'i', 'sounds', 'delays', 'boxcars', 'insulin', 'vance', \"someone's\", 'mad', 'winces', 'special', 'competitive', 'stooges', 'amanda', 'grateful', 'jams', 'vehicle', 'neon', 'gentle', 'invulnerable', 'brooklyn', 'belts', \"ragin'\", 'emergency', 'hmm', 'upsetting', 'no', 'crack', 'muertos', 'misconstrue', 'scrutinizing', 'ears', 'terror', 'blokes', 'designated', 'itchy', 'bobo', 'getaway', 'pyramid', 'anguished', 'lenny:', 'cleaning', 'evening', 'maintenance', 'guts', 'nursemaid', 'feedbag', '250', 'wise', \"who'll\", 'monroe', 'bumpy-like', 'mess', 'thesaurus', 'weirder', 'disappear', 'tentative', 'twin', 'language', 'sit', 'son', 'bye', 'entering', 'hushed', 'try', 'corkscrew', 'picky', \"heat's\", 'stories', 'other', 'busy', \"y'know\", 'bow', 'lying', 'hot', 'babies', 'message', 'hispanic_crowd:', 'watched', 'sets', 'everyone', 'airport', 'curse', 'ourselves', 'fat', 'shoots', 'oof', 'troy', 'manager', 'slop', 'open-casket', 'understood:', 'incriminating', 'designer', \"clancy's\", 'singers:', 'helpful', 'repeating', 'confession', 'jigger', 'fireworks', 'wieners', 'spreads', 'decadent', 'alright', 'fourth', 'pointing', 'eggs', 'icelandic', 'listens', 'frenchman', 'dear', 'gunter', 'lisa_simpson:', 'yo', 'phasing', 'bites', 'plus', 'art', 'clientele', 'cleveland', 'david_byrne:', 'situation', 'dryer', 'wife', 'disdainful', 'skydiving', 'service', 'lost', 'provide', 'ahh', 'feisty', 'michelin', 'uses', 'audience:', 'sieben-gruben', 'flashbacks', 'kept', 'rascals', 'hearing', 'cavern', 'busiest', 'police', 'winnings', 'heatherton', 'sink', 'civil', 'walked', 'item', 'before', 'eliminate', 'number', 'queer', 'absentminded', 'nailed', 'unison', 'consulting', 'navy', 'chuck', 'strongly', 'depressed', 'meyerhof', 'whatchamacallit', 'supplying', \"drivin'\", 'booze-bags', 'sanctuary', 'lights', 'neighbor', 'crowds', 'taste', 'sobo', 'paris', 'boisterous', 'maggie', 'knees', 'ziffcorp', 'train', 'jay_leno:', 'limited', 'chapstick', 'staying', 'jailbird', 'hey', 'awwww', 'exchange', 'carpet', 'germans', 'detective', 'swig', 'quickly', 'barney-guarding', 'lips', 'chorus:', 'smelly', 'pizzicato', 'praise', 'divorced', 'high-definition', 'email', 'earrings', 'gentlemen', 'raging', 'pancakes', 'crying', 'uniforms', 'yard', 'had', 'semi-imported', 'average-looking', 'sinister', 'test-lady', 'nantucket', 'cigarettes', 'coach:', 'cheer', 'fixes', 'fonzie', 'military', 'chuckle', 'brainiac', 'become', 'rolled', 'beard', 'vampires', 'onions', 'resist', 'other_player:', 'lobster-based', 'cameras', 'partner', 'did', 'key', 'prompting', 'insulted', 'spinning', \"poundin'\", 'enlightened', 'their', 'big', 'grade', 'carney', 'gunk', 'permitting', 'sack', 'disappointing', 'creeps', 'warren', 'mexican_duffman:', 'mistakes', 'cheated', \"tryin'\", 'buffet', 'wheeeee', 'rule', 'force', 'stacey', \"writin'\", \"america's\", 'from', 'increasingly', 'jury', 'steam', 'powerful', 'philip', 'shades', \"kid's\", 'unfresh', 'monkeyshines', 'gone', 'planned', 'windelle', 'it:', 'milhouse', 'dumbass', 'aquafresh', 'choking', 'trucks', 'preparation', 'garbage', 'brotherhood', 'nap', 'spoken', 'supermodel', \"drawin'\", 'wealthy', 'whaddaya', 'relationship', 'asleep', 'dollface', 'freshened', 'new_health_inspector:', 'startup', 'executive', \"startin'\", 'ron_howard:', 'cheering', 'assent', ':', 'manuel', 'eww', 'wordloaf', 'inspire', 'braun:', 'prizefighters', 'mini-dumpsters', 'terrifying', 'drivers', 'el', 'face-macer', 'straight', 'badge', 'terrorizing', 'ambrose', 'carlotta:', 'optimistic', 'pudgy', 'ails', 'takeaway', 'flames', 'prettied', \"i've\", 'eats', 'adopted', 'boxing', 'employees', 'modestly', 'applicant', 'yards', 'glove', 'bolting', 'camp', 'hitler', \"tootin'\", 'contented', 'helicopter', 'actress', 'fortune', 'inside', 'spooky', 'deliberately', 'schabadoo', 'fireball', \"how'd\", 'market', 'go-near-', 'football', 'wad', 'huhza', 'stock', 'leathery', 'reunion', 'poetics', 'donation', 'slaves', 'backgammon', 'freeze', 'stengel', 'sits', 'gary_chalmers:', 'switched', 'character', 'jackass', 'henry', 'collapse', 'stagey', 'team', 'wondering', 'odor', 'worry', 'support', 'pretzels', 'skoal', \"patrick's\", 'cletus_spuckler:', 'suspect', 'displeased', 'cerebral', 'string', 'paramedic:', 'rented', 'conspiratorial', 'rash', 'cake', 'wings', 'jumps', \"nothin'\", 'uhhhh', 'accounta', 'england', 'thankful', 'teenage', 'hostages', 'found', 'bide', 'nor', 'tons', 'affects', 'hiya', 'illegally', 'discuss', 'rationalizing', 'bob', 'rainier', 'apply', 'pillows', 'bluff', 'court', 'mmm', 'moe-near-now', 'stirrers', 'being', 'lainie:', 'reciting', 'worked', 'bedtime', 'look', 'skins', 'punishment', 'shred', 'babar', 'housework', 'yogurt', '_powers:', 'fortress', 'popping', 'my-y-y-y-y-y', 'pinball', 'choices:', 'wolveriskey', 'polishing', \"could've\", 'innocence', 'play', 'hear', 'chug-a-lug', 'carl_carlson:', 'balls', \"betsy'll\", 'stole', 'honored', \"monroe's\", 'dismissive', 'motto', 'dennis_conroy:', \"choosin'\", 'tester', 'snout', 'dateline:', 'experienced', 'is', 'shifty', 'scooter', 'omit', 'lied', 'little_man:', 'allowed', 'gol-dangit', 'disco_stu:', 'lovely', 'between', 'lincoln', 'mail', 'polite', 'meanwhile', 'coupon', 'janette', 'kinds', 'bad', 'reserve', 'accelerating', 'heads', 'isle', \"plank's\", 'poisoning', 'nervously', 'law-abiding', 'spotting', 'all:', 'address', 'sir', 'mitts', 'eightball', 'coyly', 'jeff', 'fact', 'boyhood', 'goods', 'solely', 'amazing', 'protecting', 'sympathetic', 'painless', 'buy', \"getting'\", 'crime', 'koji', 'short_man:', 'afternoon', 'christmas', 'awareness', 'so', 'lovers', 'wipes', 'ducked', 'rims', 'railroads', 'crayola', \"they'd\", 'unfamiliar', 'ideal', 'alky', 'fast-paced', 'bushes', 'outta', 'kang:', 'scared', 'principles', 'koi', 'career', 'johnny', 'wipe', \"bettin'\", 'voice', 'glasses', 'gunter:', 'weep', 'background', 'talking', '1-800-555-hugs', 'die', 'precious', 'outrageous', 'pickled', 'conditioner', 'drives', 'scornfully', 'closet', 'published', 'under', 'cage', 'tab', 'grunts', 'motorcycle', '2nd_voice_on_transmitter:', 'dark', 'therapy', 'cutie', 'uneasy', 'scarf', 'boozy', 'abcs', 'original', 'prince', 'straining', 'dennis', 'tree_hoper:', 'please/', 'finest', 'radishes', 'dealie', 'nucular', 'smiling', 'papa', 'stretches', 'holding', 'suspicious', 'full-time', 'freaky', 'surprise', 'nigerian', 'record', 'anyway', 'wayne', 'place', 'mozzarella', 'touchdown', 'biggest', 'charter', 'teen', 'ahhhh', 't-shirt', 'ripper', 'lotta', 'asking', 'release', 'trustworthy', 'tv_husband:', 'louder', 'peace', 'would', 'fingers', 'whistling', 'kermit', 'champignons', 'appointment', 'chateau', 'afloat', 'quadruple-sec', 'enhance', 'marched', 'be-stainèd', 'feminist', 'mother', 'mirthless', 'frightened', 'laughing', 'losers', 'delivery_boy:', 'falsetto', 'wonder', 'campaign', 'wagering', 'cock', 'last', 'needy', 'kay', 'tips', 'lie', 'der', 'sam:', 'securities', 'lenford', 'fighter', 'o', 'actor', 'william', 'missed', 'lazy', 'courage', 'young_homer:', 'alma', 'man_at_bar:', 'rainier_wolfcastle:', 'fun', 'son-of-a', 'instantly', 'unavailable', 'full-bodied', 'none', 'share', 'compare', 'pledge', 'cheers', 'known', 'balloon', 'blend', 'beady', 'copy', 'rabbits', 'wantcha', 'accepting', 'rhyme', 'interested', 'shutting', 'tonight', 'accept', 'presided', 'dating', 'hyahh', 'falcons', 'kick-ass', 'diddilies', 'wondered', 'prints', 'france', 'laramie', 'code', 'droning', \"we'll\", 'murmurs', 'counterfeit', 'ruined', 'referee', 'jack', 'tolerable', 'tv_father:', 'scatter', 'indeedy', 'truck_driver:', 'huggenkiss', 'delightfully', 'although', 'society_matron:', 'heart-broken', 'schnapps', '||questionmark||', 'suspiciously', 'squadron', 'placed', 'wiggle-frowns', 'plant', 'tried', 'they', 'cooker', 'comic', 'injury', 'heliotrope', 'rest', 'exact', \"ol'\", 'only', 'harv:', 'brain-switching', 'in-in-in', 'arts', 'jane', 'moustache', \"fishin'\", 'threatening', 'male_inspector:', 'too', 'worldly', 'lushmore', \"nick's\", 'show', 'telling', 'foibles', 'practice', 'home', 'mini-beret', 'exits', 'eventually', 'graves', 'conference', 'hearse', 'pathetic', 'painted', 'funeral', 'courts', 'knowingly', 'peeved', 'nobody', 'poker', 'score', '1973', 'quimbys:', 'affection', 'bowie', 'careful', 'libido', 'pre-columbian', 'non-american', 'seen', 'bono:', 'side', 'jokes', 'strain', 'flanders', 'gift', 'artie_ziff:', 'ollie', 'trick', 'hollywood', 'whaddya', 'tones', 'die-hard', 'life', 'beer:', 'conspiracy', 'groans', 'pretend', 'tire', 'nobel', 'meaningfully', 'now', 'disaster', 'homer', 'tipsy', 'passion', 'radiator', 'agh', 'devastated', 'thrilled', 'gum', 'fonda', 's', 'lugs', \"treatin'\", 'kissingher', 'exactly', \"fun's\", 'chuckling', 'chipped', 'horribilis', 'lime', 'platinum', 'payback', 'rip', 'short', 'understood', 'disillusioned', 'david', 'fools', 'cases', 'divine', \"cheerin'\", 'knock-up', 'swimmers', 'priest', 'kramer', 'wenceslas', 'ballot', 'menacing', 'clothespins:', 'continued', 'enough', 'throwing', 'paints', 'clenched', 'spit', 'neil_gaiman:', 'kodos:', 'progress', 'bronco', 'frankie', 'decision', 'flash', 'taxes', 'brains', 'bounced', 'strawberry', 'outlook', 'chilly', 'appeals', 'somewhere', 'd', 'shall', 'dr', 'bedridden', 'silence', 'bar:', 'ruuuule', 'walther', 'guys', 'grumpy', 'fiction', 'hammock', 'ancestors', 'hardy', 'swatch', 'water', 'scratcher', 'friend:', 'highway', 'answering', 'doing', 'easygoing', 'crony', 'swallowed', 'alcoholic', 'family', 'lodge', 'infestation', 'wishing', 'form', 'adeleine', 'reasonable', 'beep', 'beans', 'live', 'pockets', 'lovejoy', 'silent', 'forgiven', 'keys', 'ten', 'bunch', 'dads', 'twerpy', 'bleacher', 'astonishment', 'fishing', 'romantic', 'television', 'depression', 'reactions', \"team's\", 'animals', 'break', 'whoa-ho', 'immiggants', 'safely', 'rosey', 'focused', 'hears', 'thinking', 'youuu', 'sweater', 'grandkids', 'celebrity', 'typed', 'dateline', 'poetry', 'legs:', 'this:', 'street', 'layer', 'settlement', 'replace', 'roach', 'southern', 'mural', 'lonely', 'decent', 'patron_#2:', 'mister', 'caught', 'meditative', 'tomahto', \"smokin'\", 'festival', 'deal', 'swelling', 'cecil', 'annus', 'santa', 'idiot', 'cologne', 'raises', 'take-back', 'owns', 'impeach', 'wait', 'exciting', 'wasting', 'foundation', 'lecture', 'sisters', 'testing', \"others'\", 'innocuous', 'demand', 'air', 'dies', 'cobra', 'heading', \"edna's\", 'occurrence', 'rancid', 'harv', 'saying', 'kennedy', 'homer_', 'order', 'zoomed', 'smithers', 'entirely', \"who'da\", \"cashin'\", 'voice_on_transmitter:', 'help', 'large', 'fifth', 'grow', 'dog', 'aggravated', 'starving', 'bloodball', 'outlive', 'billion', 'fever', 'tomorrow', 'decency', \"'tis\", 'prove', 'reaching', 'failed', 'handle', 'annoying', 'goodbye', 'thunder', 'connor', \"goin'\", 'updated', 'curds', 'ford', 'catholic', 'weary', 'belong', 'side:', 'rivalry', 'grienke', 'lighting', 'front', 'necessary', 'nameless', 'benjamin:', 'bannister', 'bite', 'happen', 'bake', 'awkwardly', 'announcer:', 'luckily', 'excavating', \"gentleman's\", \"that's\", 'barbed', 'pop', 'warmly', 'shock', 'brightening', 'eva', 'loves', 'shower', 'bullet-proof', 'temp', 'sharing', 'jeers', 'thnord', 'yuh-huh', 'eating', 'deserve', 'inning', 'th-th-th-the', 'duffman', 'clammy', 'bright', 'gruesome', 'beached', 'crowbar', 'gibson', 'nominated', 'jacks', 'gig', \"'cept\", 'obama', 'woman_bystander:', 'nahasapeemapetilon', 'third', 'ghouls', 'administration', 'triumphantly', 'yells', 'boozebag', 'feelings', 'is:', 'domed', 'turkey', 'tidy', \"bar's\", 'drederick', 'jacksons', 'egg', 'mechanical', 'suicide', 'marry', 'joey_kramer:', 'whatcha', 'perplexed', 'broad', 'solo', 'clips', 'nuked', 'though:', 'bugs', 'anderson', 'larry', 'defeated', 'blood', 'lucinda', 'sheepish', 'co-sign', 'assume', 'windshield', 'happier', 'e', 'breathtaking', 'villanova', 'both', 'names', 'attention', 'combines', 'summer', 'chili', 'aerosmith', 'fox_mulder:', 'jerky', \"family's\", 'ma', 'upgrade', 'lady_duff:', 'slobs', 'charm', 'examples', 'than', 'wanna', 'tax', 'selling', 'know', 'branding', 'mug', 'quebec', 'sagely', 'painting', 'trash', \"'morning\", 'swell', 'filth', 'mcclure', 'portfolium', 'winston', 'fustigate', 'looking', 'music', 'exhaust', 'almond', 'captain', 'donated', 'sudoku', 'bragging', 'slender', 'jebediah', 'psst', 'righ', 'ding-a-ding-ding-ding-ding-ding-ding', 'explanation', 'slab', 'wizard', 'orgasmville', 'measurements', 'mags', 'damage', \"cont'd:\", 'taught', 'unlucky', 'weekend', 'do', 'steaming', 'lush', 'sounded', 'hawking:', 'soap', 'fellow', 'cheaper', \"wouldn't\", 'underpants', 'cheaped', 'media', 'same', 'butterball', \"shootin'\", 'flowers', 'destroyed', 'exit', 'dilemma', \"doctor's\", 'zinged', 'ripped', 'surgery', 'invented', 'yes', 'queen', 'brockelstein', \"she'd\", 'undies', 'dough', 'sells', 'doof', 'wuss', 'when-i-get-a-hold-of-you', 'forbids', 'joey', 'quality', 'recently', 'honor', 'cruise', 'six-barrel', 'exited', 'bitter', 'punch', 'carl', 'pajamas', 'pronto', 'proves', 'jeter', 'rain', 'what', 'starting', 'chinese', 'extinguishers', 'computer_voice_2:', 'grand', 'modern', 'showered', 'gossipy', 'resolution', 'karaoke_machine:', 'tavern', 'course', 'already', 'versus', \"it's\", \"sittin'\", 'stalin', 'tip', \"let's\", 'fastest', 'anyone', \"shouldn't\", 'watered-down', 'wore', \"england's\", 'ned_flanders:', 'plan', 'loboto-moth', 'whip', 'muttering', 'village', 'mobile', 'insurance', \"maggie's\", 'lou', 'eminence', \"challengin'\", 'rickles', 'perfected', \"president's\", 'program', 'ab', 'knuckles', '_eugene_blatz:', 'shot', 'chosen', 'button', 'amused', \"puttin'\", 'peeping', 'vigilante', 'twenty-six', 'drunk', 'elephants', 'idiots', 'appear', 'mint', \"should've\", 'for', 'blurbs', 'cop', 'crooks', 'ninety-six', 'wangs', 'bold', 'senators', 'aww', 'intoxicants', 'truth', \"stayin'\", 'manipulation', 'helllp', \"breakin'\", 'investment', 'detective_homer_simpson:', 'cutting', 'malabar', 'y-you', 'about', \"sat's\", 'composite', 'choose', \"kiddin'\", 'lead', 'nose', 'suspended', 'nah', \"soakin's\", 'cans', 'trolls', 'hateful', 'abolish', 'tv', 'country', 'railroad', 'whatsit', \"don't\", \"wino's\", 'elizabeth', 'bunion', 'moe-clone:', 'bras', 'said:', 'conditioners', 'ditched', 'hafta', 'log', 'earlier', 'chick', 'edna', \"c'mere\", 'ah-ha', 'reptile', 'brine', 'remembers', 'leak', 'matter', 'charming', 'cheery', 'gallon', 'bedroom', 'fire', 'schedule', 'endorsement', 'johnny_carson:', 'writer:', 'spare', 'golden', 'plug', 'choice:', 'minus', 'rings', 'tradition', 'ingrates', 'medical', 'lots', 'pope', 'lovelorn', \"s'okay\", 'dreamed', 'supervising', 'philosophical', 'serum', 'ehhhhhhhh', 'theme', 'wall', 'poke', 'drinking:', 'smiled', 'cool', 'jay:', 'overflowing', 'vampire', 'st', 'dishonor', 'emphasis', 'rat', \"lefty's\", 'clipped', 'goes', 'aboard', 'dint', 'virility', 'series', 'ever', 'alive', 'wakede', 'lotsa', 'go', 'disgusted', 'society', 'africa', 'upset', 'sweet', \"brady's\", 'falling', 'lenses', 'intervention', 'charlie', 'chinese_restaurateur:', 'does', \"cuckold's\", 'links', 'charges', 'luck', 'eddie', 'debonair', 'figures', 'bottomless', 'rotten', 'by', 'launch', 'beauty', 'contract', 'signed', 'hiding', 'attach', \"eatin'\", 'cricket', 'figured', 'homie', 'bump', 'nudge', 'michael', 'are', 'led', \"hasn't\", 'wham', 'woe:', 'beating', 'gin', \"i'd'a\", 'lookalike', 'grace', 'sweetheart', 'finish', 'fail', 'tummies', 'nuclear', 'shyly', 'buying', 'tony', 'civilization', 'resenting', 'mirror', 'hospital', 'cash', 'tabs', 'living', 'thumb', 'fifty', 'writing', 'inquiries', 'ralph', 'jazz', \"dog's\", 'ehhh', 'streetcorner', 'ivy-covered', 'piling', 'effects', 'buddha', \"nothin's\", 'pointless', 'betcha', 'catching', 'tender', \"game's\", 'impatient', 'lift', 'brother-in-law', 'mm', 'toms', 'missing', 'shreda', 'options', 'retired', 'burt_reynolds:', \"ain't\", 'eighty-seven', 'glen', 'mostly', 'gotten', 'f', 'paparazzo', 'boozehound', 'unfair', \"wife's\", 'leonard', 'wake', 'hank_williams_jr', 'half-beer', 'suffering', 'taps', 'saved', 'awed', 'room', 'formico', 'funds', 'je', 'shorter', 'ends', 'kinderhook', 'sweetest', 'sued', 'rub-a-dub', \"feelin's\", 'wacky', 'store', 'grandé', 'endorsed', '7-year-old_brockman:', 'limericks', \"man's\", 'sister-in-law', 'mocking', 'krabappel', 'burning', 'inspired', 'available', 'information', 'rafters', 'yourse', 'candy', 'insensitive', 'simp-sonnnn', 'another', 'slim', 'cruiser', 'fantasy', 'overstressed', 'veux', 'atari', 'maya', 'safe', 'texan', 'finally', 'nos', 'care', 'brick', 'pour', 'eye', 'brace', 'school', 'woo', 'white', 'christian', 'neat', 'heavyset', \"professor's\", 'conclude', 'nelson_muntz:', 'klown', 'fork', \"wait'll\", 'jukebox_record:', 'hooters', \"what'd\", 'settles', 'jump', 'stopped', 'envy-tations', 'dump', 'memories', 'dollars', 'louie:', 'spender', 'first', 'mean', 'warmth', 'pickles', 'sec_agent_#2:', 'kids', 'especially', 'ing', 'card', 'trunk', 'eight-year-old', 'way', 'occupied', 'extra', 'bought', 'list', 'gasp', 'raccoons', 'de', 'jig', 'sue', 'booze', 'and-and', 'beneath', 'chips', 'unsanitary', 'specializes', 'employment', 'customers', 'author', 'oak', 'hoo', 'totally', 'sketching', 'regret', 'sight-unseen', 'brought', 'childless', 'dislike', 'town', 'haws', 'hootie', 'picture', 'sticker', 'real', 'dirge-like', 'spellbinding', '_kissingher:', 'gag', 'liable', 'bowling', 'occurred', 'attractive_woman_#1:', 'christopher', 'sideshow_bob:', 'flaming', 'happy', 'earpiece', 'predecessor', \"department's\", 'changing', 'simon', 'jail', 'pussycat', 'these', 'heart', 'aah', 'monorails', 'aggie', 'safer', 'gift:', 'unless', 'longest', 'mushy', \"i'm-so-stupid\", 'drive', 'bums', \"dolph's_dad:\", 'lenny_leonard:', 'committee', 'beers', 'wind', \"men's\", 'burger', 'espousing', 'growing', 'mabel', 'selfish', 'met', 'love-matic', \"renee's\", 'deals', 'dreary', 'offshoot', 'host', 'chief_wiggum:', \"yieldin'\", 'horror', 'german', 'caper', 'eaters', 'anymore', 'ago', 'duff_announcer:', 'genius', 'enabling', 'bourbon', '||dash||', 'super-nice', 'gums', 'm', 'ummmmmmmmm', 'newly-published', 'coming', 'frustrated', 'swe-ee-ee-ee-eet', \"meanin'\", 'expecting', 'seymour', 'therefore', 'hubub', 'advantage', 'sky', 'darn', 'hotenhoffer', 'con', 'three-man', \"d'ya\", 'remote', 'lump', 'orders', 'been', 'mic', 'november', 'pure', 'scanning', 'gangrene', 'accidents', 'easier', 'driving', 'ones', 'bliss', 'fausto', 'cloudy', 'shutup', 'hairs', 'unhappy', 'foodie', 'tastes', 'karaoke', 'feeling', 'lock', 's-a-u-r-c-e', 'shirt', 'dirt', 'flash-fry', 'hourly', '70', 'beginning', 'ugly', 'conclusions', 'irrelevant', 'trivia', 'femininity', 'einstein', 'slurred', 'brief', '91', 'chastity', 'à', 'awful', 'teenage_homer:', 'fistiana', 'flips', 'glowers', 'polls', 'i-i', 'undated', 'gosh', 'noose', 'morose'}\n"
     ]
    }
   ],
   "source": [
    "\"\"\"\n",
    "DON'T MODIFY ANYTHING IN THIS CELL\n",
    "\"\"\"\n",
    "# Preprocess Training, Validation, and Testing Data\n",
    "helper.preprocess_and_save_data(data_dir, token_lookup, create_lookup_tables)"
   ]
  },
  {
   "cell_type": "markdown",
   "metadata": {
    "deletable": true,
    "editable": true
   },
   "source": [
    "# Check Point\n",
    "This is your first checkpoint. If you ever decide to come back to this notebook or have to restart the notebook, you can start from here. The preprocessed data has been saved to disk."
   ]
  },
  {
   "cell_type": "code",
   "execution_count": 1,
   "metadata": {
    "collapsed": false,
    "deletable": true,
    "editable": true
   },
   "outputs": [],
   "source": [
    "\"\"\"\n",
    "DON'T MODIFY ANYTHING IN THIS CELL\n",
    "\"\"\"\n",
    "import helper\n",
    "import numpy as np\n",
    "import problem_unittests as tests\n",
    "\n",
    "int_text, vocab_to_int, int_to_vocab, token_dict = helper.load_preprocess()"
   ]
  },
  {
   "cell_type": "code",
   "execution_count": 2,
   "metadata": {
    "collapsed": false,
    "deletable": true,
    "editable": true
   },
   "outputs": [
    {
     "data": {
      "text/plain": [
       "69100"
      ]
     },
     "execution_count": 2,
     "metadata": {},
     "output_type": "execute_result"
    }
   ],
   "source": [
    "len(int_text)"
   ]
  },
  {
   "cell_type": "markdown",
   "metadata": {
    "deletable": true,
    "editable": true
   },
   "source": [
    "## Build the Neural Network\n",
    "You'll build the components necessary to build a RNN by implementing the following functions below:\n",
    "- get_inputs\n",
    "- get_init_cell\n",
    "- get_embed\n",
    "- build_rnn\n",
    "- build_nn\n",
    "- get_batches\n",
    "\n",
    "### Check the Version of TensorFlow and Access to GPU"
   ]
  },
  {
   "cell_type": "code",
   "execution_count": 3,
   "metadata": {
    "collapsed": false,
    "deletable": true,
    "editable": true
   },
   "outputs": [
    {
     "name": "stdout",
     "output_type": "stream",
     "text": [
      "TensorFlow Version: 1.0.0\n",
      "Default GPU Device: /gpu:0\n"
     ]
    }
   ],
   "source": [
    "\"\"\"\n",
    "DON'T MODIFY ANYTHING IN THIS CELL\n",
    "\"\"\"\n",
    "from distutils.version import LooseVersion\n",
    "import warnings\n",
    "import tensorflow as tf\n",
    "\n",
    "# Check TensorFlow Version\n",
    "assert LooseVersion(tf.__version__) >= LooseVersion('1.0'), 'Please use TensorFlow version 1.0 or newer'\n",
    "print('TensorFlow Version: {}'.format(tf.__version__))\n",
    "\n",
    "# Check for a GPU\n",
    "if not tf.test.gpu_device_name():\n",
    "    warnings.warn('No GPU found. Please use a GPU to train your neural network.')\n",
    "else:\n",
    "    print('Default GPU Device: {}'.format(tf.test.gpu_device_name()))"
   ]
  },
  {
   "cell_type": "markdown",
   "metadata": {
    "deletable": true,
    "editable": true
   },
   "source": [
    "### Input\n",
    "Implement the `get_inputs()` function to create TF Placeholders for the Neural Network.  It should create the following placeholders:\n",
    "- Input text placeholder named \"input\" using the [TF Placeholder](https://www.tensorflow.org/api_docs/python/tf/placeholder) `name` parameter.\n",
    "- Targets placeholder\n",
    "- Learning Rate placeholder\n",
    "\n",
    "Return the placeholders in the following the tuple `(Input, Targets, LearingRate)`"
   ]
  },
  {
   "cell_type": "code",
   "execution_count": 4,
   "metadata": {
    "collapsed": false,
    "deletable": true,
    "editable": true
   },
   "outputs": [
    {
     "name": "stdout",
     "output_type": "stream",
     "text": [
      "Tests Passed\n"
     ]
    }
   ],
   "source": [
    "def get_inputs():\n",
    "    \"\"\"\n",
    "    Create TF Placeholders for input, targets, and learning rate.\n",
    "    :return: Tuple (input, targets, learning rate)\n",
    "    \"\"\"\n",
    "    # TODO: Implement Function\n",
    "    inputs = tf.placeholder(tf.int32, shape=[None, None],name='input')\n",
    "    targets = tf.placeholder(tf.int32, shape=[None, None], name='target')\n",
    "    lrn_rate = tf.placeholder(tf.float32)\n",
    "    return (inputs, targets, lrn_rate)\n",
    "\n",
    "\n",
    "\"\"\"\n",
    "DON'T MODIFY ANYTHING IN THIS CELL THAT IS BELOW THIS LINE\n",
    "\"\"\"\n",
    "tests.test_get_inputs(get_inputs)"
   ]
  },
  {
   "cell_type": "markdown",
   "metadata": {
    "deletable": true,
    "editable": true
   },
   "source": [
    "### Build RNN Cell and Initialize\n",
    "Stack one or more [`BasicLSTMCells`](https://www.tensorflow.org/api_docs/python/tf/contrib/rnn/BasicLSTMCell) in a [`MultiRNNCell`](https://www.tensorflow.org/api_docs/python/tf/contrib/rnn/MultiRNNCell).\n",
    "- The Rnn size should be set using `rnn_size`\n",
    "- Initalize Cell State using the MultiRNNCell's [`zero_state()`](https://www.tensorflow.org/api_docs/python/tf/contrib/rnn/MultiRNNCell#zero_state) function\n",
    "    - Apply the name \"initial_state\" to the initial state using [`tf.identity()`](https://www.tensorflow.org/api_docs/python/tf/identity)\n",
    "\n",
    "Return the cell and initial state in the following tuple `(Cell, InitialState)`"
   ]
  },
  {
   "cell_type": "code",
   "execution_count": 5,
   "metadata": {
    "collapsed": false,
    "deletable": true,
    "editable": true
   },
   "outputs": [
    {
     "name": "stdout",
     "output_type": "stream",
     "text": [
      "Tests Passed\n"
     ]
    }
   ],
   "source": [
    "def get_init_cell(batch_size, rnn_size):\n",
    "    \"\"\"\n",
    "    Create an RNN Cell and initialize it.\n",
    "    :param batch_size: Size of batches\n",
    "    :param rnn_size: Size of RNNs\n",
    "    :return: Tuple (cell, initialize state)\n",
    "    \"\"\"\n",
    "    # TODO: Implement Function\n",
    "    lstm = tf.contrib.rnn.BasicLSTMCell(rnn_size)\n",
    "    #drop = tf.contrib.rnn.DropoutWrapper(lstm, output_keep_prob=keep_prob)\n",
    "    cell = tf.contrib.rnn.MultiRNNCell([lstm] * 2)\n",
    "    initial_state = cell.zero_state(batch_size, tf.float32)\n",
    "    initial_state = tf.identity(initial_state, name=\"initial_state\")\n",
    "    return (cell, initial_state)\n",
    "\n",
    "\n",
    "\"\"\"\n",
    "DON'T MODIFY ANYTHING IN THIS CELL THAT IS BELOW THIS LINE\n",
    "\"\"\"\n",
    "tests.test_get_init_cell(get_init_cell)"
   ]
  },
  {
   "cell_type": "markdown",
   "metadata": {
    "deletable": true,
    "editable": true
   },
   "source": [
    "### Word Embedding\n",
    "Apply embedding to `input_data` using TensorFlow.  Return the embedded sequence."
   ]
  },
  {
   "cell_type": "code",
   "execution_count": 6,
   "metadata": {
    "collapsed": false,
    "deletable": true,
    "editable": true
   },
   "outputs": [
    {
     "name": "stdout",
     "output_type": "stream",
     "text": [
      "Tests Passed\n"
     ]
    }
   ],
   "source": [
    "import math\n",
    "def get_embed(input_data, vocab_size, embed_dim):\n",
    "    \"\"\"\n",
    "    Create embedding for <input_data>.\n",
    "    :param input_data: TF placeholder for text input.\n",
    "    :param vocab_size: Number of words in vocabulary.\n",
    "    :param embed_dim: Number of embedding dimensions\n",
    "    :return: Embedded input.\n",
    "    \"\"\"\n",
    "    # TODO: Implement Function\n",
    "    embeddings = tf.Variable(tf.random_uniform((vocab_size, embed_dim), -1.0, 1.0))\n",
    "    \n",
    "    embd = tf.nn.embedding_lookup(embeddings, input_data)\n",
    "    \n",
    "    return embd\n",
    "\n",
    "\n",
    "\"\"\"\n",
    "DON'T MODIFY ANYTHING IN THIS CELL THAT IS BELOW THIS LINE\n",
    "\"\"\"\n",
    "tests.test_get_embed(get_embed)"
   ]
  },
  {
   "cell_type": "markdown",
   "metadata": {
    "deletable": true,
    "editable": true
   },
   "source": [
    "### Build RNN\n",
    "You created a RNN Cell in the `get_init_cell()` function.  Time to use the cell to create a RNN.\n",
    "- Build the RNN using the [`tf.nn.dynamic_rnn()`](https://www.tensorflow.org/api_docs/python/tf/nn/dynamic_rnn)\n",
    " - Apply the name \"final_state\" to the final state using [`tf.identity()`](https://www.tensorflow.org/api_docs/python/tf/identity)\n",
    "\n",
    "Return the outputs and final_state state in the following tuple `(Outputs, FinalState)` "
   ]
  },
  {
   "cell_type": "code",
   "execution_count": 7,
   "metadata": {
    "collapsed": false,
    "deletable": true,
    "editable": true
   },
   "outputs": [
    {
     "name": "stdout",
     "output_type": "stream",
     "text": [
      "Tests Passed\n"
     ]
    }
   ],
   "source": [
    "def build_rnn(cell, inputs):\n",
    "    \"\"\"\n",
    "    Create a RNN using a RNN Cell\n",
    "    :param cell: RNN Cell\n",
    "    :param inputs: Input text data\n",
    "    :return: Tuple (Outputs, Final State)\n",
    "    \"\"\"\n",
    "    # TODO: Implement Function\n",
    "    \n",
    "    outputs, final_state = tf.nn.dynamic_rnn(cell, inputs,dtype=tf.float32)\n",
    "    final_state = tf.identity(final_state, name=\"final_state\")\n",
    "    \n",
    "    return (outputs, final_state)\n",
    "\n",
    "\n",
    "\"\"\"\n",
    "DON'T MODIFY ANYTHING IN THIS CELL THAT IS BELOW THIS LINE\n",
    "\"\"\"\n",
    "tests.test_build_rnn(build_rnn)"
   ]
  },
  {
   "cell_type": "markdown",
   "metadata": {
    "deletable": true,
    "editable": true
   },
   "source": [
    "### Build the Neural Network\n",
    "Apply the functions you implemented above to:\n",
    "- Apply embedding to `input_data` using your `get_embed(input_data, vocab_size, embed_dim)` function.\n",
    "- Build RNN using `cell` and your `build_rnn(cell, inputs)` function.\n",
    "- Apply a fully connected layer with a linear activation and `vocab_size` as the number of outputs.\n",
    "\n",
    "Return the logits and final state in the following tuple (Logits, FinalState) "
   ]
  },
  {
   "cell_type": "code",
   "execution_count": 8,
   "metadata": {
    "collapsed": false,
    "deletable": true,
    "editable": true
   },
   "outputs": [
    {
     "name": "stdout",
     "output_type": "stream",
     "text": [
      "Tests Passed\n"
     ]
    }
   ],
   "source": [
    "def build_nn(cell, rnn_size, input_data, vocab_size):\n",
    "    \"\"\"\n",
    "    Build part of the neural network\n",
    "    :param cell: RNN cell\n",
    "    :param rnn_size: Size of rnns\n",
    "    :param input_data: Input data\n",
    "    :param vocab_size: Vocabulary size\n",
    "    :return: Tuple (Logits, FinalState)\n",
    "    \"\"\"\n",
    "    # TODO: Implement Function\n",
    "    \n",
    "    emb_input = get_embed(input_data, vocab_size, 300)\n",
    "    outputs, finalst = build_rnn(cell=cell, inputs=emb_input)\n",
    "    full_output = tf.contrib.layers.fully_connected(outputs,vocab_size, weights_initializer = tf.truncated_normal_initializer(stddev = 0.01),\n",
    "                                             activation_fn=None)\n",
    "    \n",
    "    return full_output, finalst\n",
    "\n",
    "\n",
    "\"\"\"\n",
    "DON'T MODIFY ANYTHING IN THIS CELL THAT IS BELOW THIS LINE\n",
    "\"\"\"\n",
    "tests.test_build_nn(build_nn)"
   ]
  },
  {
   "cell_type": "markdown",
   "metadata": {
    "deletable": true,
    "editable": true
   },
   "source": [
    "### Batches\n",
    "Implement `get_batches` to create batches of input and targets using `int_text`.  The batches should be a Numpy array with the shape `(number of batches, 2, batch size, sequence length)`. Each batch contains two elements:\n",
    "- The first element is a single batch of **input** with the shape `[batch size, sequence length]`\n",
    "- The second element is a single batch of **targets** with the shape `[batch size, sequence length]`\n",
    "\n",
    "If you can't fill the last batch with enough data, drop the last batch.\n",
    "\n",
    "For exmple, `get_batches([1, 2, 3, 4, 5, 6, 7, 8, 9, 10, 11, 12, 13, 14, 15], 2, 3)` would return a Numpy array of the following:\n",
    "```\n",
    "[\n",
    "  # First Batch\n",
    "  [\n",
    "    # Batch of Input\n",
    "    [[ 1  2  3], [ 7  8  9]],\n",
    "    # Batch of targets\n",
    "    [[ 2  3  4], [ 8  9 10]]\n",
    "  ],\n",
    " \n",
    "  # Second Batch\n",
    "  [\n",
    "    # Batch of Input\n",
    "    [[ 4  5  6], [10 11 12]],\n",
    "    # Batch of targets\n",
    "    [[ 5  6  7], [11 12 13]]\n",
    "  ]\n",
    "]\n",
    "```"
   ]
  },
  {
   "cell_type": "code",
   "execution_count": 9,
   "metadata": {
    "collapsed": false,
    "deletable": true,
    "editable": true
   },
   "outputs": [
    {
     "name": "stdout",
     "output_type": "stream",
     "text": [
      "Tests Passed\n"
     ]
    }
   ],
   "source": [
    "import math\n",
    "def get_batches(int_text, batch_size, seq_length):\n",
    "    \"\"\"\n",
    "    Return batches of input and target\n",
    "    :param int_text: Text with the words replaced by their ids\n",
    "    :param batch_size: The size of batch\n",
    "    :param seq_length: The length of sequence\n",
    "    :return: Batches as a Numpy array\n",
    "    \"\"\"\n",
    "    # TODO: Implement Function\n",
    "    text_len = len(int_text)\n",
    "    elems_per_batch = (batch_size* seq_length)\n",
    "    num_batches = math.floor(text_len/elems_per_batch)\n",
    "    \n",
    "    #print(num_batches)\n",
    "    \n",
    "    int_text = int_text[:num_batches*batch_size*seq_length+1]\n",
    "    \n",
    "    batches = np.zeros(shape=(num_batches,2,batch_size,seq_length))\n",
    "    \n",
    "    #print(int_text)\n",
    "    \n",
    "    for i in range(num_batches):\n",
    "        for j in range(batch_size):\n",
    "            idx = i*seq_length + j*num_batches*seq_length\n",
    "            x= int_text[idx:idx+seq_length]\n",
    "            y= int_text[idx+1:idx+seq_length+1]\n",
    "            #print(i,\" \",j,\" \",x)\n",
    "            batches[i,0,j] = x\n",
    "            batches[i,1,j] = y\n",
    "    \n",
    "    #print(batches)\n",
    "    \n",
    "    return batches\n",
    "\n",
    "\n",
    "\"\"\"\n",
    "DON'T MODIFY ANYTHING IN THIS CELL THAT IS BELOW THIS LINE\n",
    "\"\"\"\n",
    "tests.test_get_batches(get_batches)\n",
    "#get_batches([1, 2, 3, 4, 5, 6, 7, 8, 9, 10, 11, 12, 13, 14, 15], 2, 3)"
   ]
  },
  {
   "cell_type": "markdown",
   "metadata": {
    "deletable": true,
    "editable": true
   },
   "source": [
    "## Neural Network Training\n",
    "### Hyperparameters\n",
    "Tune the following parameters:\n",
    "\n",
    "- Set `num_epochs` to the number of epochs.\n",
    "- Set `batch_size` to the batch size.\n",
    "- Set `rnn_size` to the size of the RNNs.\n",
    "- Set `seq_length` to the length of sequence.\n",
    "- Set `learning_rate` to the learning rate.\n",
    "- Set `show_every_n_batches` to the number of batches the neural network should print progress."
   ]
  },
  {
   "cell_type": "code",
   "execution_count": 16,
   "metadata": {
    "collapsed": true,
    "deletable": true,
    "editable": true
   },
   "outputs": [],
   "source": [
    "# Number of Epochs\n",
    "num_epochs = 200\n",
    "# Batch Size\n",
    "batch_size = 64\n",
    "# RNN Size\n",
    "rnn_size = 1024\n",
    "# Sequence Length\n",
    "seq_length = 50\n",
    "# Learning Rate\n",
    "learning_rate = 0.001\n",
    "# Show stats for every n number of batches\n",
    "show_every_n_batches = 10\n",
    "\n",
    "\"\"\"\n",
    "DON'T MODIFY ANYTHING IN THIS CELL THAT IS BELOW THIS LINE\n",
    "\"\"\"\n",
    "save_dir = './save'"
   ]
  },
  {
   "cell_type": "markdown",
   "metadata": {
    "deletable": true,
    "editable": true
   },
   "source": [
    "### Build the Graph\n",
    "Build the graph using the neural network you implemented."
   ]
  },
  {
   "cell_type": "code",
   "execution_count": 17,
   "metadata": {
    "collapsed": false,
    "deletable": true,
    "editable": true
   },
   "outputs": [],
   "source": [
    "\"\"\"\n",
    "DON'T MODIFY ANYTHING IN THIS CELL\n",
    "\"\"\"\n",
    "from tensorflow.contrib import seq2seq\n",
    "\n",
    "train_graph = tf.Graph()\n",
    "with train_graph.as_default():\n",
    "    vocab_size = len(int_to_vocab)\n",
    "    input_text, targets, lr = get_inputs()\n",
    "    input_data_shape = tf.shape(input_text)\n",
    "    cell, initial_state = get_init_cell(input_data_shape[0], rnn_size)\n",
    "    logits, final_state = build_nn(cell, rnn_size, input_text, vocab_size)\n",
    "\n",
    "    # Probabilities for generating words\n",
    "    probs = tf.nn.softmax(logits, name='probs')\n",
    "\n",
    "    # Loss function\n",
    "    cost = seq2seq.sequence_loss(\n",
    "        logits,\n",
    "        targets,\n",
    "        tf.ones([input_data_shape[0], input_data_shape[1]]))\n",
    "\n",
    "    # Optimizer\n",
    "    optimizer = tf.train.AdamOptimizer(lr)\n",
    "\n",
    "    # Gradient Clipping\n",
    "    gradients = optimizer.compute_gradients(cost)\n",
    "    capped_gradients = [(tf.clip_by_value(grad, -1., 1.), var) for grad, var in gradients]\n",
    "    train_op = optimizer.apply_gradients(capped_gradients)"
   ]
  },
  {
   "cell_type": "markdown",
   "metadata": {
    "deletable": true,
    "editable": true
   },
   "source": [
    "## Train\n",
    "Train the neural network on the preprocessed data.  If you have a hard time getting a good loss, check the [forms](https://discussions.udacity.com/) to see if anyone is having the same problem."
   ]
  },
  {
   "cell_type": "code",
   "execution_count": 18,
   "metadata": {
    "collapsed": false,
    "deletable": true,
    "editable": true
   },
   "outputs": [
    {
     "name": "stdout",
     "output_type": "stream",
     "text": [
      "(21, 2, 64, 50)\n",
      "Epoch   0 Batch    0/21   train_loss = 8.821\n",
      "Epoch   0 Batch   10/21   train_loss = 6.617\n",
      "Epoch   0 Batch   20/21   train_loss = 6.702\n",
      "Epoch   1 Batch    9/21   train_loss = 6.068\n",
      "Epoch   1 Batch   19/21   train_loss = 6.155\n",
      "Epoch   2 Batch    8/21   train_loss = 6.127\n",
      "Epoch   2 Batch   18/21   train_loss = 6.178\n",
      "Epoch   3 Batch    7/21   train_loss = 6.040\n",
      "Epoch   3 Batch   17/21   train_loss = 6.069\n",
      "Epoch   4 Batch    6/21   train_loss = 6.194\n",
      "Epoch   4 Batch   16/21   train_loss = 6.098\n",
      "Epoch   5 Batch    5/21   train_loss = 6.058\n",
      "Epoch   5 Batch   15/21   train_loss = 6.113\n",
      "Epoch   6 Batch    4/21   train_loss = 6.036\n",
      "Epoch   6 Batch   14/21   train_loss = 5.968\n",
      "Epoch   7 Batch    3/21   train_loss = 5.947\n",
      "Epoch   7 Batch   13/21   train_loss = 5.833\n",
      "Epoch   8 Batch    2/21   train_loss = 5.862\n",
      "Epoch   8 Batch   12/21   train_loss = 5.888\n",
      "Epoch   9 Batch    1/21   train_loss = 5.730\n",
      "Epoch   9 Batch   11/21   train_loss = 5.747\n",
      "Epoch  10 Batch    0/21   train_loss = 5.676\n",
      "Epoch  10 Batch   10/21   train_loss = 5.674\n",
      "Epoch  10 Batch   20/21   train_loss = 5.658\n",
      "Epoch  11 Batch    9/21   train_loss = 5.529\n",
      "Epoch  11 Batch   19/21   train_loss = 5.432\n",
      "Epoch  12 Batch    8/21   train_loss = 5.348\n",
      "Epoch  12 Batch   18/21   train_loss = 5.487\n",
      "Epoch  13 Batch    7/21   train_loss = 5.296\n",
      "Epoch  13 Batch   17/21   train_loss = 5.332\n",
      "Epoch  14 Batch    6/21   train_loss = 5.407\n",
      "Epoch  14 Batch   16/21   train_loss = 5.287\n",
      "Epoch  15 Batch    5/21   train_loss = 5.257\n",
      "Epoch  15 Batch   15/21   train_loss = 5.286\n",
      "Epoch  16 Batch    4/21   train_loss = 5.194\n",
      "Epoch  16 Batch   14/21   train_loss = 5.182\n",
      "Epoch  17 Batch    3/21   train_loss = 5.166\n",
      "Epoch  17 Batch   13/21   train_loss = 5.073\n",
      "Epoch  18 Batch    2/21   train_loss = 5.143\n",
      "Epoch  18 Batch   12/21   train_loss = 5.168\n",
      "Epoch  19 Batch    1/21   train_loss = 5.017\n",
      "Epoch  19 Batch   11/21   train_loss = 5.050\n",
      "Epoch  20 Batch    0/21   train_loss = 5.010\n",
      "Epoch  20 Batch   10/21   train_loss = 5.012\n",
      "Epoch  20 Batch   20/21   train_loss = 5.022\n",
      "Epoch  21 Batch    9/21   train_loss = 4.882\n",
      "Epoch  21 Batch   19/21   train_loss = 4.831\n",
      "Epoch  22 Batch    8/21   train_loss = 4.771\n",
      "Epoch  22 Batch   18/21   train_loss = 4.848\n",
      "Epoch  23 Batch    7/21   train_loss = 4.654\n",
      "Epoch  23 Batch   17/21   train_loss = 4.696\n",
      "Epoch  24 Batch    6/21   train_loss = 4.734\n",
      "Epoch  24 Batch   16/21   train_loss = 4.609\n",
      "Epoch  25 Batch    5/21   train_loss = 4.515\n",
      "Epoch  25 Batch   15/21   train_loss = 4.597\n",
      "Epoch  26 Batch    4/21   train_loss = 4.547\n",
      "Epoch  26 Batch   14/21   train_loss = 4.471\n",
      "Epoch  27 Batch    3/21   train_loss = 4.464\n",
      "Epoch  27 Batch   13/21   train_loss = 4.330\n",
      "Epoch  28 Batch    2/21   train_loss = 4.376\n",
      "Epoch  28 Batch   12/21   train_loss = 4.427\n",
      "Epoch  29 Batch    1/21   train_loss = 4.280\n",
      "Epoch  29 Batch   11/21   train_loss = 4.419\n",
      "Epoch  30 Batch    0/21   train_loss = 4.263\n",
      "Epoch  30 Batch   10/21   train_loss = 4.247\n",
      "Epoch  30 Batch   20/21   train_loss = 4.227\n",
      "Epoch  31 Batch    9/21   train_loss = 4.340\n",
      "Epoch  31 Batch   19/21   train_loss = 4.373\n",
      "Epoch  32 Batch    8/21   train_loss = 4.209\n",
      "Epoch  32 Batch   18/21   train_loss = 4.186\n",
      "Epoch  33 Batch    7/21   train_loss = 4.048\n",
      "Epoch  33 Batch   17/21   train_loss = 4.001\n",
      "Epoch  34 Batch    6/21   train_loss = 4.019\n",
      "Epoch  34 Batch   16/21   train_loss = 3.895\n",
      "Epoch  35 Batch    5/21   train_loss = 3.839\n",
      "Epoch  35 Batch   15/21   train_loss = 3.815\n",
      "Epoch  36 Batch    4/21   train_loss = 3.824\n",
      "Epoch  36 Batch   14/21   train_loss = 3.774\n",
      "Epoch  37 Batch    3/21   train_loss = 3.668\n",
      "Epoch  37 Batch   13/21   train_loss = 3.648\n",
      "Epoch  38 Batch    2/21   train_loss = 3.639\n",
      "Epoch  38 Batch   12/21   train_loss = 3.716\n",
      "Epoch  39 Batch    1/21   train_loss = 3.577\n",
      "Epoch  39 Batch   11/21   train_loss = 3.543\n",
      "Epoch  40 Batch    0/21   train_loss = 3.542\n",
      "Epoch  40 Batch   10/21   train_loss = 3.511\n",
      "Epoch  40 Batch   20/21   train_loss = 3.453\n",
      "Epoch  41 Batch    9/21   train_loss = 3.375\n",
      "Epoch  41 Batch   19/21   train_loss = 3.414\n",
      "Epoch  42 Batch    8/21   train_loss = 3.279\n",
      "Epoch  42 Batch   18/21   train_loss = 3.244\n",
      "Epoch  43 Batch    7/21   train_loss = 3.129\n",
      "Epoch  43 Batch   17/21   train_loss = 3.203\n",
      "Epoch  44 Batch    6/21   train_loss = 3.175\n",
      "Epoch  44 Batch   16/21   train_loss = 3.154\n",
      "Epoch  45 Batch    5/21   train_loss = 3.091\n",
      "Epoch  45 Batch   15/21   train_loss = 3.083\n",
      "Epoch  46 Batch    4/21   train_loss = 3.034\n",
      "Epoch  46 Batch   14/21   train_loss = 3.010\n",
      "Epoch  47 Batch    3/21   train_loss = 2.883\n",
      "Epoch  47 Batch   13/21   train_loss = 2.916\n",
      "Epoch  48 Batch    2/21   train_loss = 2.922\n",
      "Epoch  48 Batch   12/21   train_loss = 2.945\n",
      "Epoch  49 Batch    1/21   train_loss = 2.879\n",
      "Epoch  49 Batch   11/21   train_loss = 2.815\n",
      "Epoch  50 Batch    0/21   train_loss = 2.800\n",
      "Epoch  50 Batch   10/21   train_loss = 2.787\n",
      "Epoch  50 Batch   20/21   train_loss = 2.701\n",
      "Epoch  51 Batch    9/21   train_loss = 2.614\n",
      "Epoch  51 Batch   19/21   train_loss = 2.673\n",
      "Epoch  52 Batch    8/21   train_loss = 2.604\n",
      "Epoch  52 Batch   18/21   train_loss = 2.455\n",
      "Epoch  53 Batch    7/21   train_loss = 2.482\n",
      "Epoch  53 Batch   17/21   train_loss = 2.517\n",
      "Epoch  54 Batch    6/21   train_loss = 2.434\n",
      "Epoch  54 Batch   16/21   train_loss = 2.435\n",
      "Epoch  55 Batch    5/21   train_loss = 2.344\n",
      "Epoch  55 Batch   15/21   train_loss = 2.392\n",
      "Epoch  56 Batch    4/21   train_loss = 2.355\n",
      "Epoch  56 Batch   14/21   train_loss = 2.395\n",
      "Epoch  57 Batch    3/21   train_loss = 2.221\n",
      "Epoch  57 Batch   13/21   train_loss = 2.395\n",
      "Epoch  58 Batch    2/21   train_loss = 2.231\n",
      "Epoch  58 Batch   12/21   train_loss = 2.256\n",
      "Epoch  59 Batch    1/21   train_loss = 2.237\n",
      "Epoch  59 Batch   11/21   train_loss = 2.125\n",
      "Epoch  60 Batch    0/21   train_loss = 2.095\n",
      "Epoch  60 Batch   10/21   train_loss = 2.118\n",
      "Epoch  60 Batch   20/21   train_loss = 2.044\n",
      "Epoch  61 Batch    9/21   train_loss = 1.941\n",
      "Epoch  61 Batch   19/21   train_loss = 1.990\n",
      "Epoch  62 Batch    8/21   train_loss = 1.953\n",
      "Epoch  62 Batch   18/21   train_loss = 1.868\n",
      "Epoch  63 Batch    7/21   train_loss = 1.832\n",
      "Epoch  63 Batch   17/21   train_loss = 1.982\n",
      "Epoch  64 Batch    6/21   train_loss = 1.864\n",
      "Epoch  64 Batch   16/21   train_loss = 1.866\n",
      "Epoch  65 Batch    5/21   train_loss = 1.734\n",
      "Epoch  65 Batch   15/21   train_loss = 1.816\n",
      "Epoch  66 Batch    4/21   train_loss = 1.774\n",
      "Epoch  66 Batch   14/21   train_loss = 1.750\n",
      "Epoch  67 Batch    3/21   train_loss = 1.611\n",
      "Epoch  67 Batch   13/21   train_loss = 1.706\n",
      "Epoch  68 Batch    2/21   train_loss = 1.638\n",
      "Epoch  68 Batch   12/21   train_loss = 1.596\n",
      "Epoch  69 Batch    1/21   train_loss = 1.689\n",
      "Epoch  69 Batch   11/21   train_loss = 1.565\n",
      "Epoch  70 Batch    0/21   train_loss = 1.541\n",
      "Epoch  70 Batch   10/21   train_loss = 1.540\n",
      "Epoch  70 Batch   20/21   train_loss = 1.506\n",
      "Epoch  71 Batch    9/21   train_loss = 1.395\n",
      "Epoch  71 Batch   19/21   train_loss = 1.446\n",
      "Epoch  72 Batch    8/21   train_loss = 1.455\n",
      "Epoch  72 Batch   18/21   train_loss = 1.347\n",
      "Epoch  73 Batch    7/21   train_loss = 1.331\n",
      "Epoch  73 Batch   17/21   train_loss = 1.433\n",
      "Epoch  74 Batch    6/21   train_loss = 1.323\n",
      "Epoch  74 Batch   16/21   train_loss = 1.333\n",
      "Epoch  75 Batch    5/21   train_loss = 1.289\n",
      "Epoch  75 Batch   15/21   train_loss = 1.327\n",
      "Epoch  76 Batch    4/21   train_loss = 1.347\n",
      "Epoch  76 Batch   14/21   train_loss = 1.322\n",
      "Epoch  77 Batch    3/21   train_loss = 1.156\n",
      "Epoch  77 Batch   13/21   train_loss = 1.234\n",
      "Epoch  78 Batch    2/21   train_loss = 1.169\n",
      "Epoch  78 Batch   12/21   train_loss = 1.105\n",
      "Epoch  79 Batch    1/21   train_loss = 1.165\n",
      "Epoch  79 Batch   11/21   train_loss = 1.085\n",
      "Epoch  80 Batch    0/21   train_loss = 1.101\n",
      "Epoch  80 Batch   10/21   train_loss = 1.123\n",
      "Epoch  80 Batch   20/21   train_loss = 1.074\n",
      "Epoch  81 Batch    9/21   train_loss = 0.974\n",
      "Epoch  81 Batch   19/21   train_loss = 1.039\n",
      "Epoch  82 Batch    8/21   train_loss = 1.015\n",
      "Epoch  82 Batch   18/21   train_loss = 0.937\n",
      "Epoch  83 Batch    7/21   train_loss = 0.992\n",
      "Epoch  83 Batch   17/21   train_loss = 0.951\n",
      "Epoch  84 Batch    6/21   train_loss = 0.932\n",
      "Epoch  84 Batch   16/21   train_loss = 1.001\n",
      "Epoch  85 Batch    5/21   train_loss = 0.925\n",
      "Epoch  85 Batch   15/21   train_loss = 0.965\n",
      "Epoch  86 Batch    4/21   train_loss = 0.948\n",
      "Epoch  86 Batch   14/21   train_loss = 0.911\n",
      "Epoch  87 Batch    3/21   train_loss = 0.842\n",
      "Epoch  87 Batch   13/21   train_loss = 0.849\n",
      "Epoch  88 Batch    2/21   train_loss = 0.819\n",
      "Epoch  88 Batch   12/21   train_loss = 0.786\n",
      "Epoch  89 Batch    1/21   train_loss = 0.822\n",
      "Epoch  89 Batch   11/21   train_loss = 0.727\n",
      "Epoch  90 Batch    0/21   train_loss = 0.743\n",
      "Epoch  90 Batch   10/21   train_loss = 0.776\n",
      "Epoch  90 Batch   20/21   train_loss = 0.756\n",
      "Epoch  91 Batch    9/21   train_loss = 0.697\n",
      "Epoch  91 Batch   19/21   train_loss = 0.699\n",
      "Epoch  92 Batch    8/21   train_loss = 0.697\n",
      "Epoch  92 Batch   18/21   train_loss = 0.632\n",
      "Epoch  93 Batch    7/21   train_loss = 0.661\n",
      "Epoch  93 Batch   17/21   train_loss = 0.642\n",
      "Epoch  94 Batch    6/21   train_loss = 0.593\n",
      "Epoch  94 Batch   16/21   train_loss = 0.594\n",
      "Epoch  95 Batch    5/21   train_loss = 0.518\n",
      "Epoch  95 Batch   15/21   train_loss = 0.536\n",
      "Epoch  96 Batch    4/21   train_loss = 0.552\n",
      "Epoch  96 Batch   14/21   train_loss = 0.527\n",
      "Epoch  97 Batch    3/21   train_loss = 0.471\n",
      "Epoch  97 Batch   13/21   train_loss = 0.483\n",
      "Epoch  98 Batch    2/21   train_loss = 0.437\n",
      "Epoch  98 Batch   12/21   train_loss = 0.422\n",
      "Epoch  99 Batch    1/21   train_loss = 0.475\n",
      "Epoch  99 Batch   11/21   train_loss = 0.406\n",
      "Epoch 100 Batch    0/21   train_loss = 0.414\n",
      "Epoch 100 Batch   10/21   train_loss = 0.414\n",
      "Epoch 100 Batch   20/21   train_loss = 0.378\n",
      "Epoch 101 Batch    9/21   train_loss = 0.348\n",
      "Epoch 101 Batch   19/21   train_loss = 0.328\n",
      "Epoch 102 Batch    8/21   train_loss = 0.352\n",
      "Epoch 102 Batch   18/21   train_loss = 0.301\n",
      "Epoch 103 Batch    7/21   train_loss = 0.303\n",
      "Epoch 103 Batch   17/21   train_loss = 0.318\n",
      "Epoch 104 Batch    6/21   train_loss = 0.301\n",
      "Epoch 104 Batch   16/21   train_loss = 0.321\n",
      "Epoch 105 Batch    5/21   train_loss = 0.300\n",
      "Epoch 105 Batch   15/21   train_loss = 0.320\n",
      "Epoch 106 Batch    4/21   train_loss = 0.296\n",
      "Epoch 106 Batch   14/21   train_loss = 0.283\n",
      "Epoch 107 Batch    3/21   train_loss = 0.262\n",
      "Epoch 107 Batch   13/21   train_loss = 0.276\n",
      "Epoch 108 Batch    2/21   train_loss = 0.257\n",
      "Epoch 108 Batch   12/21   train_loss = 0.275\n",
      "Epoch 109 Batch    1/21   train_loss = 0.309\n",
      "Epoch 109 Batch   11/21   train_loss = 0.245\n",
      "Epoch 110 Batch    0/21   train_loss = 0.252\n",
      "Epoch 110 Batch   10/21   train_loss = 0.226\n",
      "Epoch 110 Batch   20/21   train_loss = 0.211\n",
      "Epoch 111 Batch    9/21   train_loss = 0.210\n",
      "Epoch 111 Batch   19/21   train_loss = 0.209\n",
      "Epoch 112 Batch    8/21   train_loss = 0.207\n",
      "Epoch 112 Batch   18/21   train_loss = 0.167\n",
      "Epoch 113 Batch    7/21   train_loss = 0.155\n",
      "Epoch 113 Batch   17/21   train_loss = 0.156\n",
      "Epoch 114 Batch    6/21   train_loss = 0.147\n",
      "Epoch 114 Batch   16/21   train_loss = 0.159\n",
      "Epoch 115 Batch    5/21   train_loss = 0.142\n",
      "Epoch 115 Batch   15/21   train_loss = 0.154\n",
      "Epoch 116 Batch    4/21   train_loss = 0.151\n",
      "Epoch 116 Batch   14/21   train_loss = 0.147\n",
      "Epoch 117 Batch    3/21   train_loss = 0.133\n",
      "Epoch 117 Batch   13/21   train_loss = 0.137\n",
      "Epoch 118 Batch    2/21   train_loss = 0.125\n",
      "Epoch 118 Batch   12/21   train_loss = 0.129\n",
      "Epoch 119 Batch    1/21   train_loss = 0.144\n",
      "Epoch 119 Batch   11/21   train_loss = 0.116\n",
      "Epoch 120 Batch    0/21   train_loss = 0.126\n",
      "Epoch 120 Batch   10/21   train_loss = 0.126\n",
      "Epoch 120 Batch   20/21   train_loss = 0.126\n",
      "Epoch 121 Batch    9/21   train_loss = 0.120\n",
      "Epoch 121 Batch   19/21   train_loss = 0.115\n",
      "Epoch 122 Batch    8/21   train_loss = 0.126\n",
      "Epoch 122 Batch   18/21   train_loss = 0.109\n",
      "Epoch 123 Batch    7/21   train_loss = 0.102\n",
      "Epoch 123 Batch   17/21   train_loss = 0.103\n",
      "Epoch 124 Batch    6/21   train_loss = 0.100\n",
      "Epoch 124 Batch   16/21   train_loss = 0.117\n",
      "Epoch 125 Batch    5/21   train_loss = 0.113\n",
      "Epoch 125 Batch   15/21   train_loss = 0.136\n",
      "Epoch 126 Batch    4/21   train_loss = 0.130\n",
      "Epoch 126 Batch   14/21   train_loss = 0.113\n",
      "Epoch 127 Batch    3/21   train_loss = 0.101\n",
      "Epoch 127 Batch   13/21   train_loss = 0.104\n",
      "Epoch 128 Batch    2/21   train_loss = 0.099\n",
      "Epoch 128 Batch   12/21   train_loss = 0.122\n",
      "Epoch 129 Batch    1/21   train_loss = 0.143\n",
      "Epoch 129 Batch   11/21   train_loss = 0.115\n",
      "Epoch 130 Batch    0/21   train_loss = 0.124\n",
      "Epoch 130 Batch   10/21   train_loss = 0.119\n",
      "Epoch 130 Batch   20/21   train_loss = 0.113\n",
      "Epoch 131 Batch    9/21   train_loss = 0.102\n",
      "Epoch 131 Batch   19/21   train_loss = 0.090\n",
      "Epoch 132 Batch    8/21   train_loss = 0.102\n",
      "Epoch 132 Batch   18/21   train_loss = 0.095\n",
      "Epoch 133 Batch    7/21   train_loss = 0.088\n",
      "Epoch 133 Batch   17/21   train_loss = 0.083\n",
      "Epoch 134 Batch    6/21   train_loss = 0.078\n",
      "Epoch 134 Batch   16/21   train_loss = 0.088\n",
      "Epoch 135 Batch    5/21   train_loss = 0.076\n",
      "Epoch 135 Batch   15/21   train_loss = 0.086\n",
      "Epoch 136 Batch    4/21   train_loss = 0.078\n",
      "Epoch 136 Batch   14/21   train_loss = 0.078\n",
      "Epoch 137 Batch    3/21   train_loss = 0.071\n",
      "Epoch 137 Batch   13/21   train_loss = 0.074\n",
      "Epoch 138 Batch    2/21   train_loss = 0.073\n",
      "Epoch 138 Batch   12/21   train_loss = 0.078\n",
      "Epoch 139 Batch    1/21   train_loss = 0.089\n",
      "Epoch 139 Batch   11/21   train_loss = 0.071\n",
      "Epoch 140 Batch    0/21   train_loss = 0.076\n",
      "Epoch 140 Batch   10/21   train_loss = 0.077\n",
      "Epoch 140 Batch   20/21   train_loss = 0.073\n",
      "Epoch 141 Batch    9/21   train_loss = 0.068\n",
      "Epoch 141 Batch   19/21   train_loss = 0.063\n",
      "Epoch 142 Batch    8/21   train_loss = 0.072\n",
      "Epoch 142 Batch   18/21   train_loss = 0.067\n",
      "Epoch 143 Batch    7/21   train_loss = 0.064\n",
      "Epoch 143 Batch   17/21   train_loss = 0.065\n",
      "Epoch 144 Batch    6/21   train_loss = 0.063\n",
      "Epoch 144 Batch   16/21   train_loss = 0.074\n",
      "Epoch 145 Batch    5/21   train_loss = 0.064\n",
      "Epoch 145 Batch   15/21   train_loss = 0.075\n",
      "Epoch 146 Batch    4/21   train_loss = 0.068\n",
      "Epoch 146 Batch   14/21   train_loss = 0.068\n",
      "Epoch 147 Batch    3/21   train_loss = 0.062\n",
      "Epoch 147 Batch   13/21   train_loss = 0.063\n",
      "Epoch 148 Batch    2/21   train_loss = 0.059\n",
      "Epoch 148 Batch   12/21   train_loss = 0.065\n",
      "Epoch 149 Batch    1/21   train_loss = 0.075\n",
      "Epoch 149 Batch   11/21   train_loss = 0.061\n",
      "Epoch 150 Batch    0/21   train_loss = 0.065\n",
      "Epoch 150 Batch   10/21   train_loss = 0.067\n",
      "Epoch 150 Batch   20/21   train_loss = 0.063\n",
      "Epoch 151 Batch    9/21   train_loss = 0.060\n",
      "Epoch 151 Batch   19/21   train_loss = 0.054\n",
      "Epoch 152 Batch    8/21   train_loss = 0.060\n",
      "Epoch 152 Batch   18/21   train_loss = 0.057\n",
      "Epoch 153 Batch    7/21   train_loss = 0.053\n",
      "Epoch 153 Batch   17/21   train_loss = 0.055\n",
      "Epoch 154 Batch    6/21   train_loss = 0.055\n",
      "Epoch 154 Batch   16/21   train_loss = 0.066\n",
      "Epoch 155 Batch    5/21   train_loss = 0.056\n",
      "Epoch 155 Batch   15/21   train_loss = 0.067\n",
      "Epoch 156 Batch    4/21   train_loss = 0.060\n",
      "Epoch 156 Batch   14/21   train_loss = 0.062\n",
      "Epoch 157 Batch    3/21   train_loss = 0.056\n",
      "Epoch 157 Batch   13/21   train_loss = 0.058\n",
      "Epoch 158 Batch    2/21   train_loss = 0.055\n",
      "Epoch 158 Batch   12/21   train_loss = 0.059\n",
      "Epoch 159 Batch    1/21   train_loss = 0.068\n",
      "Epoch 159 Batch   11/21   train_loss = 0.055\n",
      "Epoch 160 Batch    0/21   train_loss = 0.059\n",
      "Epoch 160 Batch   10/21   train_loss = 0.062\n",
      "Epoch 160 Batch   20/21   train_loss = 0.058\n",
      "Epoch 161 Batch    9/21   train_loss = 0.056\n",
      "Epoch 161 Batch   19/21   train_loss = 0.051\n",
      "Epoch 162 Batch    8/21   train_loss = 0.056\n",
      "Epoch 162 Batch   18/21   train_loss = 0.053\n",
      "Epoch 163 Batch    7/21   train_loss = 0.050\n",
      "Epoch 163 Batch   17/21   train_loss = 0.052\n",
      "Epoch 164 Batch    6/21   train_loss = 0.051\n",
      "Epoch 164 Batch   16/21   train_loss = 0.063\n",
      "Epoch 165 Batch    5/21   train_loss = 0.053\n",
      "Epoch 165 Batch   15/21   train_loss = 0.064\n",
      "Epoch 166 Batch    4/21   train_loss = 0.057\n",
      "Epoch 166 Batch   14/21   train_loss = 0.059\n",
      "Epoch 167 Batch    3/21   train_loss = 0.053\n",
      "Epoch 167 Batch   13/21   train_loss = 0.055\n",
      "Epoch 168 Batch    2/21   train_loss = 0.054\n",
      "Epoch 168 Batch   12/21   train_loss = 0.057\n",
      "Epoch 169 Batch    1/21   train_loss = 0.065\n",
      "Epoch 169 Batch   11/21   train_loss = 0.052\n",
      "Epoch 170 Batch    0/21   train_loss = 0.056\n",
      "Epoch 170 Batch   10/21   train_loss = 0.059\n",
      "Epoch 170 Batch   20/21   train_loss = 0.056\n",
      "Epoch 171 Batch    9/21   train_loss = 0.054\n",
      "Epoch 171 Batch   19/21   train_loss = 0.048\n",
      "Epoch 172 Batch    8/21   train_loss = 0.054\n",
      "Epoch 172 Batch   18/21   train_loss = 0.051\n",
      "Epoch 173 Batch    7/21   train_loss = 0.047\n",
      "Epoch 173 Batch   17/21   train_loss = 0.050\n",
      "Epoch 174 Batch    6/21   train_loss = 0.049\n",
      "Epoch 174 Batch   16/21   train_loss = 0.060\n",
      "Epoch 175 Batch    5/21   train_loss = 0.051\n",
      "Epoch 175 Batch   15/21   train_loss = 0.062\n",
      "Epoch 176 Batch    4/21   train_loss = 0.055\n",
      "Epoch 176 Batch   14/21   train_loss = 0.056\n",
      "Epoch 177 Batch    3/21   train_loss = 0.051\n",
      "Epoch 177 Batch   13/21   train_loss = 0.053\n",
      "Epoch 178 Batch    2/21   train_loss = 0.050\n",
      "Epoch 178 Batch   12/21   train_loss = 0.055\n",
      "Epoch 179 Batch    1/21   train_loss = 0.063\n",
      "Epoch 179 Batch   11/21   train_loss = 0.050\n",
      "Epoch 180 Batch    0/21   train_loss = 0.055\n",
      "Epoch 180 Batch   10/21   train_loss = 0.058\n",
      "Epoch 180 Batch   20/21   train_loss = 0.054\n",
      "Epoch 181 Batch    9/21   train_loss = 0.052\n",
      "Epoch 181 Batch   19/21   train_loss = 0.047\n",
      "Epoch 182 Batch    8/21   train_loss = 0.052\n",
      "Epoch 182 Batch   18/21   train_loss = 0.049\n",
      "Epoch 183 Batch    7/21   train_loss = 0.046\n",
      "Epoch 183 Batch   17/21   train_loss = 0.048\n",
      "Epoch 184 Batch    6/21   train_loss = 0.048\n",
      "Epoch 184 Batch   16/21   train_loss = 0.058\n",
      "Epoch 185 Batch    5/21   train_loss = 0.049\n",
      "Epoch 185 Batch   15/21   train_loss = 0.060\n",
      "Epoch 186 Batch    4/21   train_loss = 0.053\n",
      "Epoch 186 Batch   14/21   train_loss = 0.055\n",
      "Epoch 187 Batch    3/21   train_loss = 0.049\n",
      "Epoch 187 Batch   13/21   train_loss = 0.051\n",
      "Epoch 188 Batch    2/21   train_loss = 0.048\n",
      "Epoch 188 Batch   12/21   train_loss = 0.053\n",
      "Epoch 189 Batch    1/21   train_loss = 0.061\n",
      "Epoch 189 Batch   11/21   train_loss = 0.049\n",
      "Epoch 190 Batch    0/21   train_loss = 0.053\n",
      "Epoch 190 Batch   10/21   train_loss = 0.056\n",
      "Epoch 190 Batch   20/21   train_loss = 0.053\n",
      "Epoch 191 Batch    9/21   train_loss = 0.050\n",
      "Epoch 191 Batch   19/21   train_loss = 0.045\n",
      "Epoch 192 Batch    8/21   train_loss = 0.051\n",
      "Epoch 192 Batch   18/21   train_loss = 0.048\n",
      "Epoch 193 Batch    7/21   train_loss = 0.045\n",
      "Epoch 193 Batch   17/21   train_loss = 0.047\n",
      "Epoch 194 Batch    6/21   train_loss = 0.046\n",
      "Epoch 194 Batch   16/21   train_loss = 0.057\n",
      "Epoch 195 Batch    5/21   train_loss = 0.048\n",
      "Epoch 195 Batch   15/21   train_loss = 0.059\n",
      "Epoch 196 Batch    4/21   train_loss = 0.052\n",
      "Epoch 196 Batch   14/21   train_loss = 0.054\n",
      "Epoch 197 Batch    3/21   train_loss = 0.048\n",
      "Epoch 197 Batch   13/21   train_loss = 0.050\n",
      "Epoch 198 Batch    2/21   train_loss = 0.047\n",
      "Epoch 198 Batch   12/21   train_loss = 0.052\n",
      "Epoch 199 Batch    1/21   train_loss = 0.060\n",
      "Epoch 199 Batch   11/21   train_loss = 0.048\n",
      "Model Trained and Saved\n"
     ]
    }
   ],
   "source": [
    "\"\"\"\n",
    "DON'T MODIFY ANYTHING IN THIS CELL\n",
    "\"\"\"\n",
    "batches = get_batches(int_text, batch_size, seq_length)\n",
    "print(batches.shape)\n",
    "\n",
    "with tf.Session(graph=train_graph) as sess:\n",
    "    sess.run(tf.global_variables_initializer())\n",
    "\n",
    "    for epoch_i in range(num_epochs):\n",
    "        state = sess.run(initial_state, {input_text: batches[0][0]})\n",
    "\n",
    "        for batch_i, (x, y) in enumerate(batches):\n",
    "            feed = {\n",
    "                input_text: x,\n",
    "                targets: y,\n",
    "                initial_state: state,\n",
    "                lr: learning_rate}\n",
    "            train_loss, state, _ = sess.run([cost, final_state, train_op], feed)\n",
    "\n",
    "            # Show every <show_every_n_batches> batches\n",
    "            if (epoch_i * len(batches) + batch_i) % show_every_n_batches == 0:\n",
    "                print('Epoch {:>3} Batch {:>4}/{}   train_loss = {:.3f}'.format(\n",
    "                    epoch_i,\n",
    "                    batch_i,\n",
    "                    len(batches),\n",
    "                    train_loss))\n",
    "\n",
    "    # Save Model\n",
    "    saver = tf.train.Saver()\n",
    "    saver.save(sess, save_dir)\n",
    "    print('Model Trained and Saved')"
   ]
  },
  {
   "cell_type": "markdown",
   "metadata": {
    "deletable": true,
    "editable": true
   },
   "source": [
    "## Save Parameters\n",
    "Save `seq_length` and `save_dir` for generating a new TV script."
   ]
  },
  {
   "cell_type": "code",
   "execution_count": 19,
   "metadata": {
    "collapsed": false,
    "deletable": true,
    "editable": true
   },
   "outputs": [],
   "source": [
    "\"\"\"\n",
    "DON'T MODIFY ANYTHING IN THIS CELL\n",
    "\"\"\"\n",
    "# Save parameters for checkpoint\n",
    "helper.save_params((seq_length, save_dir))"
   ]
  },
  {
   "cell_type": "markdown",
   "metadata": {
    "deletable": true,
    "editable": true
   },
   "source": [
    "# Checkpoint"
   ]
  },
  {
   "cell_type": "code",
   "execution_count": 20,
   "metadata": {
    "collapsed": false,
    "deletable": true,
    "editable": true
   },
   "outputs": [],
   "source": [
    "\"\"\"\n",
    "DON'T MODIFY ANYTHING IN THIS CELL\n",
    "\"\"\"\n",
    "import tensorflow as tf\n",
    "import numpy as np\n",
    "import helper\n",
    "import problem_unittests as tests\n",
    "\n",
    "_, vocab_to_int, int_to_vocab, token_dict = helper.load_preprocess()\n",
    "seq_length, load_dir = helper.load_params()"
   ]
  },
  {
   "cell_type": "markdown",
   "metadata": {
    "deletable": true,
    "editable": true
   },
   "source": [
    "## Implement Generate Functions\n",
    "### Get Tensors\n",
    "Get tensors from `loaded_graph` using the function [`get_tensor_by_name()`](https://www.tensorflow.org/api_docs/python/tf/Graph#get_tensor_by_name).  Get the tensors using the following names:\n",
    "- \"input:0\"\n",
    "- \"initial_state:0\"\n",
    "- \"final_state:0\"\n",
    "- \"probs:0\"\n",
    "\n",
    "Return the tensors in the following tuple `(InputTensor, InitialStateTensor, FinalStateTensor, ProbsTensor)` "
   ]
  },
  {
   "cell_type": "code",
   "execution_count": 21,
   "metadata": {
    "collapsed": false,
    "deletable": true,
    "editable": true
   },
   "outputs": [
    {
     "name": "stdout",
     "output_type": "stream",
     "text": [
      "Tests Passed\n"
     ]
    }
   ],
   "source": [
    "def get_tensors(loaded_graph):\n",
    "    \"\"\"\n",
    "    Get input, initial state, final state, and probabilities tensor from <loaded_graph>\n",
    "    :param loaded_graph: TensorFlow graph loaded from file\n",
    "    :return: Tuple (InputTensor, InitialStateTensor, FinalStateTensor, ProbsTensor)\n",
    "    \"\"\"\n",
    "    # TODO: Implement Function\n",
    "    inp=loaded_graph.get_tensor_by_name(\"input:0\")\n",
    "    inits=loaded_graph.get_tensor_by_name(\"initial_state:0\")\n",
    "    fs=loaded_graph.get_tensor_by_name(\"final_state:0\")\n",
    "    probs=loaded_graph.get_tensor_by_name(\"probs:0\")\n",
    "    return inp, inits, fs, probs\n",
    "\n",
    "\n",
    "\"\"\"\n",
    "DON'T MODIFY ANYTHING IN THIS CELL THAT IS BELOW THIS LINE\n",
    "\"\"\"\n",
    "tests.test_get_tensors(get_tensors)"
   ]
  },
  {
   "cell_type": "markdown",
   "metadata": {
    "deletable": true,
    "editable": true
   },
   "source": [
    "### Choose Word\n",
    "Implement the `pick_word()` function to select the next word using `probabilities`."
   ]
  },
  {
   "cell_type": "code",
   "execution_count": 22,
   "metadata": {
    "collapsed": false,
    "deletable": true,
    "editable": true
   },
   "outputs": [
    {
     "name": "stdout",
     "output_type": "stream",
     "text": [
      "Tests Passed\n"
     ]
    }
   ],
   "source": [
    "def pick_word(probabilities, int_to_vocab):\n",
    "    \"\"\"\n",
    "    Pick the next word in the generated text\n",
    "    :param probabilities: Probabilites of the next word\n",
    "    :param int_to_vocab: Dictionary of word ids as the keys and words as the values\n",
    "    :return: String of the predicted word\n",
    "    \"\"\"\n",
    "    # TODO: Implement Function\n",
    "    return int_to_vocab[probabilities.argmax(axis=0)]\n",
    "\n",
    "\n",
    "\"\"\"\n",
    "DON'T MODIFY ANYTHING IN THIS CELL THAT IS BELOW THIS LINE\n",
    "\"\"\"\n",
    "tests.test_pick_word(pick_word)"
   ]
  },
  {
   "cell_type": "markdown",
   "metadata": {
    "deletable": true,
    "editable": true
   },
   "source": [
    "## Generate TV Script\n",
    "This will generate the TV script for you.  Set `gen_length` to the length of TV script you want to generate."
   ]
  },
  {
   "cell_type": "code",
   "execution_count": 23,
   "metadata": {
    "collapsed": false,
    "deletable": true,
    "editable": true
   },
   "outputs": [
    {
     "name": "stdout",
     "output_type": "stream",
     "text": [
      "moe_szyslak: oh, the heat's been on since them bush girls were in here.\n",
      "homer_simpson: all right, all right.(dejected) come on, bart.\n",
      "bart_simpson: i'm cold and scared.\n",
      "homer_simpson: that's my little slugger.\n",
      "bart_simpson: c'mon, dad.\n",
      "homer_simpson:(sadly) oh, homer... here's all the biggest open in the door. wanna gotta get him a job.\n",
      "moe_szyslak: yeah, i don't wanna go home for the way, right.\n",
      "moe_szyslak: hey, what are you doin'?\n",
      "homer_simpson: yeah, but what would i need to come the school of the bar, 'cause he won't ever him.\n",
      "moe_szyslak:(snorts)\" tonight... ten of the elephants. i know, though...\n",
      "moe_szyslak:(exasperated noise) who wants to play my life.\n",
      "moe_szyslak:(mumbling) you guys, this. is it to you...\n",
      "homer_simpson:(chuckles) ah, i know, i never had that voice up.\n",
      "lisa_simpson: i don't know..\n"
     ]
    }
   ],
   "source": [
    "gen_length = 200\n",
    "# homer_simpson, moe_szyslak, or Barney_Gumble\n",
    "prime_word = 'moe_szyslak'\n",
    "\n",
    "\"\"\"\n",
    "DON'T MODIFY ANYTHING IN THIS CELL THAT IS BELOW THIS LINE\n",
    "\"\"\"\n",
    "loaded_graph = tf.Graph()\n",
    "with tf.Session(graph=loaded_graph) as sess:\n",
    "    # Load saved model\n",
    "    loader = tf.train.import_meta_graph(load_dir + '.meta')\n",
    "    loader.restore(sess, load_dir)\n",
    "\n",
    "    # Get Tensors from loaded model\n",
    "    input_text, initial_state, final_state, probs = get_tensors(loaded_graph)\n",
    "\n",
    "    # Sentences generation setup\n",
    "    gen_sentences = [prime_word + ':']\n",
    "    prev_state = sess.run(initial_state, {input_text: np.array([[1]])})\n",
    "\n",
    "    # Generate sentences\n",
    "    for n in range(gen_length):\n",
    "        # Dynamic Input\n",
    "        dyn_input = [[vocab_to_int[word] for word in gen_sentences[-seq_length:]]]\n",
    "        dyn_seq_length = len(dyn_input[0])\n",
    "\n",
    "        # Get Prediction\n",
    "        probabilities, prev_state = sess.run(\n",
    "            [probs, final_state],\n",
    "            {input_text: dyn_input, initial_state: prev_state})\n",
    "        \n",
    "        pred_word = pick_word(probabilities[dyn_seq_length-1], int_to_vocab)\n",
    "\n",
    "        gen_sentences.append(pred_word)\n",
    "    \n",
    "    # Remove tokens\n",
    "    tv_script = ' '.join(gen_sentences)\n",
    "    for key, token in token_dict.items():\n",
    "        ending = ' ' if key in ['\\n', '(', '\"'] else ''\n",
    "        tv_script = tv_script.replace(' ' + token.lower(), key)\n",
    "    tv_script = tv_script.replace('\\n ', '\\n')\n",
    "    tv_script = tv_script.replace('( ', '(')\n",
    "        \n",
    "    print(tv_script)"
   ]
  },
  {
   "cell_type": "markdown",
   "metadata": {
    "deletable": true,
    "editable": true
   },
   "source": [
    "# The TV Script is Nonsensical\n",
    "It's ok if the TV script doesn't make any sense.  We trained on less than a megabyte of text.  In order to get good results, you'll have to use a smaller vocabulary or get more data.  Luckly there's more data!  As we mentioned in the begging of this project, this is a subset of [another dataset](https://www.kaggle.com/wcukierski/the-simpsons-by-the-data).  We didn't have you train on all the data, because that would take too long.  However, you are free to train your neural network on all the data.  After you complete the project, of course.\n",
    "# Submitting This Project\n",
    "When submitting this project, make sure to run all the cells before saving the notebook. Save the notebook file as \"dlnd_tv_script_generation.ipynb\" and save it as a HTML file under \"File\" -> \"Download as\". Include the \"helper.py\" and \"problem_unittests.py\" files in your submission."
   ]
  }
 ],
 "metadata": {
  "kernelspec": {
   "display_name": "Python 3",
   "language": "python",
   "name": "python3"
  },
  "language_info": {
   "codemirror_mode": {
    "name": "ipython",
    "version": 3
   },
   "file_extension": ".py",
   "mimetype": "text/x-python",
   "name": "python",
   "nbconvert_exporter": "python",
   "pygments_lexer": "ipython3",
   "version": "3.5.2"
  },
  "widgets": {
   "state": {},
   "version": "1.1.2"
  }
 },
 "nbformat": 4,
 "nbformat_minor": 0
}
