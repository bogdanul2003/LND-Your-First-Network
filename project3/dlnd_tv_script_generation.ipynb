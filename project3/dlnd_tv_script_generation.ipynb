{
 "cells": [
  {
   "cell_type": "markdown",
   "metadata": {
    "deletable": true,
    "editable": true
   },
   "source": [
    "# TV Script Generation\n",
    "In this project, you'll generate your own [Simpsons](https://en.wikipedia.org/wiki/The_Simpsons) TV scripts using RNNs.  You'll be using part of the [Simpsons dataset](https://www.kaggle.com/wcukierski/the-simpsons-by-the-data) of scripts from 27 seasons.  The Neural Network you'll build will generate a new TV script for a scene at [Moe's Tavern](https://simpsonswiki.com/wiki/Moe's_Tavern).\n",
    "## Get the Data\n",
    "The data is already provided for you.  You'll be using a subset of the original dataset.  It consists of only the scenes in Moe's Tavern.  This doesn't include other versions of the tavern, like \"Moe's Cavern\", \"Flaming Moe's\", \"Uncle Moe's Family Feed-Bag\", etc.."
   ]
  },
  {
   "cell_type": "code",
   "execution_count": 1,
   "metadata": {
    "collapsed": false,
    "deletable": true,
    "editable": true
   },
   "outputs": [],
   "source": [
    "\"\"\"\n",
    "DON'T MODIFY ANYTHING IN THIS CELL\n",
    "\"\"\"\n",
    "import helper\n",
    "\n",
    "data_dir = './data/simpsons/moes_tavern_lines.txt'\n",
    "text = helper.load_data(data_dir)\n",
    "# Ignore notice, since we don't use it for analysing the data\n",
    "text = text[81:]"
   ]
  },
  {
   "cell_type": "markdown",
   "metadata": {
    "deletable": true,
    "editable": true
   },
   "source": [
    "## Explore the Data\n",
    "Play around with `view_sentence_range` to view different parts of the data."
   ]
  },
  {
   "cell_type": "code",
   "execution_count": 4,
   "metadata": {
    "collapsed": false,
    "deletable": true,
    "editable": true
   },
   "outputs": [
    {
     "name": "stdout",
     "output_type": "stream",
     "text": [
      "Dataset Stats\n",
      "Roughly the number of unique words: 11492\n",
      "Number of scenes: 262\n",
      "Average number of sentences in each scene: 15.248091603053435\n",
      "Number of lines: 4257\n",
      "Average number of words in each line: 11.50434578341555\n",
      "\n",
      "The sentences 0 to 10:\n",
      "Moe_Szyslak: (INTO PHONE) Moe's Tavern. Where the elite meet to drink.\n",
      "Bart_Simpson: Eh, yeah, hello, is Mike there? Last name, Rotch.\n",
      "Moe_Szyslak: (INTO PHONE) Hold on, I'll check. (TO BARFLIES) Mike Rotch. Mike Rotch. Hey, has anybody seen Mike Rotch, lately?\n",
      "Moe_Szyslak: (INTO PHONE) Listen you little puke. One of these days I'm gonna catch you, and I'm gonna carve my name on your back with an ice pick.\n",
      "Moe_Szyslak: What's the matter Homer? You're not your normal effervescent self.\n",
      "Homer_Simpson: I got my problems, Moe. Give me another one.\n",
      "Moe_Szyslak: Homer, hey, you should not drink to forget your problems.\n",
      "Barney_Gumble: Yeah, you should only drink to enhance your social skills.\n",
      "\n",
      "\n"
     ]
    }
   ],
   "source": [
    "view_sentence_range = (0, 10)\n",
    "\n",
    "\"\"\"\n",
    "DON'T MODIFY ANYTHING IN THIS CELL\n",
    "\"\"\"\n",
    "import numpy as np\n",
    "\n",
    "print('Dataset Stats')\n",
    "print('Roughly the number of unique words: {}'.format(len({word: None for word in text.split()})))\n",
    "scenes = text.split('\\n\\n')\n",
    "print('Number of scenes: {}'.format(len(scenes)))\n",
    "sentence_count_scene = [scene.count('\\n') for scene in scenes]\n",
    "print('Average number of sentences in each scene: {}'.format(np.average(sentence_count_scene)))\n",
    "\n",
    "sentences = [sentence for scene in scenes for sentence in scene.split('\\n')]\n",
    "print('Number of lines: {}'.format(len(sentences)))\n",
    "word_count_sentence = [len(sentence.split()) for sentence in sentences]\n",
    "print('Average number of words in each line: {}'.format(np.average(word_count_sentence)))\n",
    "\n",
    "print()\n",
    "print('The sentences {} to {}:'.format(*view_sentence_range))\n",
    "print('\\n'.join(text.split('\\n')[view_sentence_range[0]:view_sentence_range[1]]))"
   ]
  },
  {
   "cell_type": "markdown",
   "metadata": {
    "deletable": true,
    "editable": true
   },
   "source": [
    "## Implement Preprocessing Functions\n",
    "The first thing to do to any dataset is preprocessing.  Implement the following preprocessing functions below:\n",
    "- Lookup Table\n",
    "- Tokenize Punctuation\n",
    "\n",
    "### Lookup Table\n",
    "To create a word embedding, you first need to transform the words to ids.  In this function, create two dictionaries:\n",
    "- Dictionary to go from the words to an id, we'll call `vocab_to_int`\n",
    "- Dictionary to go from the id to word, we'll call `int_to_vocab`\n",
    "\n",
    "Return these dictionaries in the following tuple `(vocab_to_int, int_to_vocab)`"
   ]
  },
  {
   "cell_type": "code",
   "execution_count": 5,
   "metadata": {
    "collapsed": false,
    "deletable": true,
    "editable": true
   },
   "outputs": [
    {
     "name": "stdout",
     "output_type": "stream",
     "text": [
      "{'whats', 'meet', 'last', 'moe_szyslak', 'listen', 'i', 'with', 'problems', 'moe', 'normal', 'eh', 'lately', 'name', 'little', 'homer', \"you're\", 'skills', 'the', 'to', 'mike', 'these', 'your', \"moe's\", 'on', 'anybody', 'you', 'puke', 'there', 'hold', 'should', 'has', 'check', 'drink', \"i'll\", 'is', 'my', 'barney_gumble', 'only', 'of', 'an', 'hello', 'forget', \"i'm\", 'hey', 'not', 'and', 'me', 'pick', 'yeah', 'one', 'give', 'got', 'homer_simpson', 'back', 'another', 'elite', 'catch', 'effervescent', 'enhance', 'social', 'where', 'tavern', 'gonna', 'days', 'ice', 'self', 'bart_simpson', 'seen', 'carve', 'matter', 'rotch'}\n",
      "Tests Passed\n"
     ]
    }
   ],
   "source": [
    "import numpy as np\n",
    "import problem_unittests as tests\n",
    "\n",
    "def create_lookup_tables(text):\n",
    "    \"\"\"\n",
    "    Create lookup tables for vocabulary\n",
    "    :param text: The text of tv scripts split into words\n",
    "    :return: A tuple of dicts (vocab_to_int, int_to_vocab)\n",
    "    \"\"\"\n",
    "    # TODO: Implement Function\n",
    "    words = set(text)\n",
    "    print(words)\n",
    "    vocab_to_int = {c: i for i, c in enumerate(words)}\n",
    "    int_to_vocab = dict(enumerate(words))\n",
    "    return (vocab_to_int, int_to_vocab)\n",
    "\n",
    "\n",
    "\"\"\"\n",
    "DON'T MODIFY ANYTHING IN THIS CELL THAT IS BELOW THIS LINE\n",
    "\"\"\"\n",
    "tests.test_create_lookup_tables(create_lookup_tables)"
   ]
  },
  {
   "cell_type": "markdown",
   "metadata": {
    "deletable": true,
    "editable": true
   },
   "source": [
    "### Tokenize Punctuation\n",
    "We'll be splitting the script into a word array using spaces as delimiters.  However, punctuations like periods and exclamation marks make it hard for the neural network to distinguish between the word \"bye\" and \"bye!\".\n",
    "\n",
    "Implement the function `token_lookup` to return a dict that will be used to tokenize symbols like \"!\" into \"||Exclamation_Mark||\".  Create a dictionary for the following symbols where the symbol is the key and value is the token:\n",
    "- Period ( . )\n",
    "- Comma ( , )\n",
    "- Quotation Mark ( \" )\n",
    "- Semicolon ( ; )\n",
    "- Exclamation mark ( ! )\n",
    "- Question mark ( ? )\n",
    "- Left Parentheses ( ( )\n",
    "- Right Parentheses ( ) )\n",
    "- Dash ( -- )\n",
    "- Return ( \\n )\n",
    "\n",
    "This dictionary will be used to token the symbols and add the delimiter (space) around it.  This separates the symbols as it's own word, making it easier for the neural network to predict on the next word. Make sure you don't use a token that could be confused as a word. Instead of using the token \"dash\", try using something like \"||dash||\"."
   ]
  },
  {
   "cell_type": "code",
   "execution_count": 6,
   "metadata": {
    "collapsed": false,
    "deletable": true,
    "editable": true
   },
   "outputs": [
    {
     "name": "stdout",
     "output_type": "stream",
     "text": [
      "{'\"': '||qutes||', '\\n': '||newline||', '!': '||exclamationpoint||', ';': '||pointandcoma||', '.': '||dott||', '?': '||questionmark||', ')': '||rparenthese||', '(': '||lparenthese||', '--': '||dash||', ',': '||comma||'}\n",
      "Tests Passed\n"
     ]
    }
   ],
   "source": [
    "def token_lookup():\n",
    "    \"\"\"\n",
    "    Generate a dict to turn punctuation into a token.\n",
    "    :return: Tokenize dictionary where the key is the punctuation and the value is the token\n",
    "    \"\"\"\n",
    "    # TODO: Implement Function\n",
    "    \n",
    "    ret = {}\n",
    "    ret[\".\"] = \"||dott||\"\n",
    "    ret[\",\"] = \"||comma||\"\n",
    "    ret['\"'] = \"||qutes||\"\n",
    "    ret[\";\"] = \"||pointandcoma||\"\n",
    "    ret[\"!\"] = \"||exclamationpoint||\"\n",
    "    ret[\"(\"] = \"||lparenthese||\"\n",
    "    ret[\")\"] = \"||rparenthese||\"\n",
    "    ret[\"--\"] = \"||dash||\"\n",
    "    ret[\"\\n\"] = \"||newline||\"\n",
    "    ret[\"?\"] = \"||questionmark||\"\n",
    "    print(ret)\n",
    "     \n",
    "    return ret\n",
    "\n",
    "\"\"\"\n",
    "DON'T MODIFY ANYTHING IN THIS CELL THAT IS BELOW THIS LINE\n",
    "\"\"\"\n",
    "tests.test_tokenize(token_lookup)"
   ]
  },
  {
   "cell_type": "markdown",
   "metadata": {
    "deletable": true,
    "editable": true
   },
   "source": [
    "## Preprocess all the data and save it\n",
    "Running the code cell below will preprocess all the data and save it to file."
   ]
  },
  {
   "cell_type": "code",
   "execution_count": 7,
   "metadata": {
    "collapsed": false,
    "deletable": true,
    "editable": true
   },
   "outputs": [
    {
     "name": "stdout",
     "output_type": "stream",
     "text": [
      "{'\"': '||qutes||', '\\n': '||newline||', '!': '||exclamationpoint||', ';': '||pointandcoma||', '.': '||dott||', '?': '||questionmark||', ')': '||rparenthese||', '(': '||lparenthese||', '--': '||dash||', ',': '||comma||'}\n",
      "{'passion', 'ho', 'checking', 'mona_simpson:', 'flaking', 'attend', 'wienerschnitzel', 'holding', 'octa-', 'nuked', 'aww', 'barney-type', 'düff', 'fixes', 'presses', 'though', 'beligerent', 'life:', 'pills', 'natural', 'quietly', 'milhouse_van_houten:', 'travel', 'jay_leno:', 'throw', 'red', \"game's\", 'cherry', 'death', 'grade', 'left', 'fifty', 'nasa', 'top', 'shutup', 'noble', 'maintenance', 'canoodling', 'deli', 'charm', 'espn', 'youuu', 'stacey', 'scam', 'collette:', 'usual', 'mini-dumpsters', 'paramedic:', 'sincere', 'had', 'vodka', 'celebrities', 'hottest', 'eighty-seven', 'gave', 'flying', 'different', 'ow', 'kids', 'helllp', 'naturally', 'mean', 'knock', 'investment', 'catty', 'rainier_wolfcastle:', \"y'money's\", 'sandwich', 'xanders', 'art', 'hungry', 'larry:', 'boyfriend', 'water', \"ma's\", 'country', 'sober', 'zoomed', 'doors', 'robot', 'dirt', 'changing', 'savings', 'sacajawea', 'flame', 'beauty', 'bluff', '/', 'visas', 'percent', 'show', 'laid', 'recent', 'flack', 'hunky', 'malfeasance', 'done:', 'laney_fontaine:', 'bridges', 'kitchen', 'lessons', 'liser', 'life', 'jay', 'uglier', 'gasoline', 'dessert', 'whatchamacallit', 'ivanna', 'newsweek', 'pronounce', 'turning', 'trees', 'assume', 'mt', \"y'know\", 'tears', 'wins', 'blank', 'wasted', 'unintelligent', 'then:', 'able', 'mel', 'santeria', 'customers-slash-only', 'pepto-bismol', 'thoughtless', 'sweet', 'life-partner', 'space-time', 'managing', 'anonymous', 'makes', '&', 'bon-bons', 'mayan', 'after', \"'tis\", 'researching', 'as', 'syndicate', 'need', 'message', 'cursed', 'weapon', 'len-ny', 'sheets', 'bread', 'delete', 'fights', 'monday', 'nominated', 'voters', 'flew', 'sighs', 'steal', 'sucks', 'damage', 'beep', 'democracy', 'superhero', 'coyly', 'conditioning', 'quit', 'wash', 'lenny', 'butterball', 'masks', 'finished', 'she', 'eyesore', 'goldarnit', \"don't\", 'insured', 'uninhibited', 'ali', 'rolls', 'frankie', \"listenin'\", 'vehicle', \"livin'\", 'check', 'weary', 'halloween', 'doctor', 'betty:', 'orders', 'fbi_agent:', 'waking-up', 'owner', 'worked', 'order', 'sport', 'proud', 'sharing', 'believe', 'snitch', 'reporter', 'advertising', 'bring', 'exits', 'depending', 'hands', \"blowin'\", 'program', 'outrageous', 'legoland', 'biggest', 'three', 'drop-off', 'little_man:', 'notice', 'difficult', 'knowledge', 'breathalyzer', 'accounta', 'clown-like', 'paper', 'giggle', 'sudoku', 'matter', 'browns', 'depressant', 'shame', 'period', 'additional-seating-capacity', 'grave', \"nick's\", 'drinker', '||qutes||', 'natured', 'small', 'regulations', 'treehouse', 'cell', 'gimmick', 'occasional', 'sassy', 'shut', 'scoffs', 'rotch', 'insults', 'walk', \"murphy's\", 'answered', 'harvard', 'things', 'disdainful', \"we'll\", 'box', 'inserted', 'seven', 'stuck', 'pretending', 'ocean', 'lose', 'now', 'photo', 'penny', 'mix', 'screw', 'anderson', 'crapmore', 'uhhhh', 'cover', 'slobbo', \"'bout\", 'night', 'fevered', 'lame', 'lofty', 'park', 'shard', 'winner', 'mac-who', 'smiling', 'si-lent', 'hopeful', 'anti-lock', 'blood-thirsty', 'wings', 'checks', 'costume', 'eliminate', 'pennies', 'dozen', 'dancing', 'winded', 'oooh', 'failed', 'avalanche', 'ton', 'parasol', 'toys', \"comin'\", 'mrs', 'ahh', 'motel', 'barf', 'jigger', 'investor', 'juice', 'specializes', 'alma', 'itself', 'burnside', 'sadly', 'buzziness', 'ratio', 'job', 'helps', 'perch', 'reserve', 'punkin', 'evils', 'teenage', 'skinheads', 'aw', 'tha', \"moe's_thoughts:\", 'apron', 'charming', 'crimes', 'tragedy', 'confidentially', 'fink', 'smiled', 'clipped', 'snackie', 'wobble', 'crooks', 'johnny_carson:', 'energy', 'th', 'stagey', \"showin'\", 'symphonies', 'shock', 'worried', 'suspicious', 'patterns', 'starters', 'eva', 'richard', 'wolveriskey', 'pugilist', 'boozer', 'penmanship', 'panties', 'amid', 'cookies', 'doppler', 'mirthless', 'upsetting', 'button-pusher', 'gary_chalmers:', \"startin'\", 'macbeth', 'fry', 'beloved', 'camp', 'omigod', 'booger', 'forgot', 'card', 'loafers', 'dan', 'gangrene', 'lodge', 'lady_duff:', 'oak', 'changed', 'edner', 'buying', 'movie', 'leftover', \"sittin'\", 'meteor', 'comedies', 'woe:', 'unjustly', 'locked', 'funeral', 'estranged', 'understood', 'metal', 'begging', 'captain:', 'bullet-proof', 'kill', 'reality', 'lib', 'infor', 'science', 'wowww', 'patty', 'cocks', 'key', 'badmouth', 'pilsner-pusher', 'stored', 'mccall', 'elmer', 'enough', 'wraps', 'pouring', 'dreams', 'investigating', 'guys', 'disco_stu:', 'before', 'dignified', 'voice_on_transmitter:', 'slick', 'might', 'renee', 'colorado', 'trick', 'moments', \"it's\", 'prank', 'however', 'they', 'smithers', 'gentle', 'al', 'tribute', 'guiltily', 'sumatran', 'mull', 'portfolium', 'barney-shaped_form:', 'donuts', 'videotaped', 'god', 'shack', 'hits', 'kent', \"industry's\", 'falsetto', 'twenty-two', 'improv', 'intense', 'brakes', 'barbara', 'lovely', 'deliberate', 'ruined', 'diving', 'pickles', 'open', 'grienke', 'changes', 'confession', 'telephone', 'clock', 'force', 'combines', 'effigy', 'haw', 'castle', \"that'd\", \"wonderin'\", 'julep', \"fans'll\", 'jovial', 'dregs', 'agree', 'awfully', 'copy', 'admiring', 'wistful', 'complaint', 'careful', 'shows', 'asking', 'scary', 'marjorie', 'grains', 'cerebral', 'mmm', 'conference', 'starla:', 'unison', 'couch', 'cartoons', 'mortgage', 'tiny', 'mike', 'feminist', 'serve', 'mike_mills:', 'lanes', \"tellin'\", 'product', 'gum', 'mural', 'built', 'seats', 'coast', 'nothing', 'sec_agent_#1:', 'wade_boggs:', 'ear', 'raggie', 'albeit', 'bumbling', 'during', 'libraries', 'jane', 'urban', 'runaway', 'bell', 'sucked', 'fast-food', 'lewis', 'comment', 'grudgingly', 'bride', 'dingy', \"isn't\", 'chosen', 'high', 'safety', 'patting', 'cheery', 'file', 'occurs', 'shelbyville', 'magnanimous', 'gentles', 'drivers', 'disguised', 'conclude', 'vanities', 'low-blow', 'blackjack', 'shuts', 'scratcher', 'thoughtfully', 'traditions', 'jar', 'nor', 'suds', 'sight', 'considers', 'dials', 'speak', 'could', 'couple', 'slim', 'orifice', 'schmoe', 'neighboreeno', 'self-made', 'declan_desmond:', 'corner', 'earlier', 'dna', 'fumes', 'mansions', 'shreda', 'murdered', 'museum', \"choosin'\", 'rip-off', 'mind', 'runs', 'creepy', 'baby', 'dearest', 'hotel', 'oh', 'reward', 'betcha', 'spamming', 'darn', 'pig', 'voicemail', 'canyoner-oooo', 'cliff', 'clips', 'knife', 'chew', 'samples', 'ivory', 'uneasy', 'ails', 'swill', 'duff_announcer:', 'double', 'goal', 'buyer', 'use', 'wish', 'selection', 'krusty', 'pulled', \"neighbor's\", 'sharps', 'words', 'cheesecake', '_zander:', 'jukebox_record:', 'wealthy', 'ab', 'pickle', 'microwave', 'classy', 'often', 'statues', 'view', 'twenty-nine', 'distract', 'but', 'civilization', 'courage', 'loudly', 'appeals', 'fishing', 'fist', 'boggs', 'meyerhof', 'ugh', 'stairs', 'pointless', 'sleeping', 'cavern', 'desire', 'supplying', 'late', 'soul-crushing', 'vampires', 'capitalists', 'eternity', '14', 'pawed', 'businessman_#1:', 'old-time', 'mediterranean', 'disappointment', 'homer_', \"rasputin's\", \"neat's-foot\", 'eighty-five', 'renew', 'oils', \"countin'\", \"kearney's_dad:\", 'breaks', 'barbed', '_timothy_lovejoy:', 'few', 'heh-heh', 'celebrate', 'hair', 'renovations', 'annoyed', 'press', 'barber', 'guard', 'found', ':', 'side', 'sponsor', 'lots', 'shells', 'gimmicks', 'ignorance', 'film', 'elizabeth', 'cage', 'squadron', 'eating', 'cheated', 'startup', 'dreamy', 'profiling', 'five', 'awake', 'eats', 'tight', \"squeezin'\", 'loneliness', 'offer', 'gore', 'jerking', 'lap', 'smoker', 'craft', 'actor', 'pipe', 'gang', 'tourist', 'menlo', 'sabermetrics', 'ridiculous', 'troll', 'creates', 'belch', 'horror', 'faith', \"tv's\", 'ambrosia', \"where's\", 'gardens', 'ruled', 'difference', 'hide', 'somewhere', \"lenny's\", 'proof', 'grieving', 'africanized', 'flown', 'courts', 'starting', 'vulnerable', 'naval', 'umm', 'pointing', 'grunt', 'associate', 'slender', \"'em\", 'plants', 'only', 'her', 'navy', 'neck', 'zinged', 'boozehound', 'brawled', 'smurfs', 'heroism', 'sitting', 'sees/', 'lighter', 'cowboys', 'slipped', 'attach', 'tenuous', 'beating', 'domed', 'finest', 'legs:', 'hello', 'seat', \"singin'\", 'understand', 'hare-brained', 'incapable', 'municipal', 'that', 'was', 'raining', 'allegiance', 'gags', 'adjust', 'macho', 'rob', 'gonna', 'shark', 'arms', 'naegle', 'contact', 'youse', 'suddenly', 'lookalike', 'grope', 'portuguese', 'deal', 'angry', 'swimmers', 'frat', 'kearney_zzyzwicz:', 'raises', \"dimwit's\", 'thrust', 'attractive', 'damn', 'full-bodied', 'well-wisher', 'occasion', 'roy', 'monkey', 'clenched', 'sexual', 'forced', 'eyes', \"secret's\", 'hundreds', 'fourteen:', 'notices', 'then', 'laney', 'there', 'cecil', 'nursemaid', 'soft', 'geez', 'thawing', 'slight', 'kirk_voice_milhouse:', 'dry', 'temples', 'pizzicato', 'county', 'creeps', 'priceless', 'wanted', 'impressed', 'pope', 'homie', 'i-i', 'adrift', 'clench', 'head-gunk', 'filled', 'reasons', 'enlightened', 'shaking', 'donor', 'appendectomy', \"narratin'\", \"bashir's\", 'amount', 'd', 'starve', 'generously', 'mags', 'team', 'read', 'wants', 'doom', 'skydiving', 'm', 'stan', \"dolph's_dad:\", 'unlocked', 'office', 'clothes', 'roof', 'bums', 'manager', 'executive', 'bear', 'byrne', 'squeezed', 'bellyaching', 'whole', 'health', 'pitch', 'arise', 'tickets', 'repairman', 'babar', 'skeptical', 'city', 'mall', 'be', 'side:', 'jumps', 'lurleen', 'crowd', 'inning', 'making', 'bedbugs', 'sixty-nine', 'operation', 'page', 'banquet', 'zone', \"beggin'\", 'dumpster', 'rather', 'nibble', 'follow', 'rock', 'interesting', 'disco', 'stein-stengel-', 'almost', 'for', 'chub', \"someone's\", 'drag', 'stink', 'thirty-five', 'limited', 'driveability', 'stern', 'unattended', 'person', 'soap', 'eighty-six', 'flatly', 'fresco', 'defeated', 'introduce', 'pile', 'snotty', 'innocence', 'killing', 'bash', 'flashbacks', 'popped', 'appalled', 'spitting', 'pass', 'freaking', 'celebrity', 'far', 'soir', 'spread', 'hi', 'opening', 'don', 'consider', 'mess', 'tall', 'tips', 'massive', 'stick', 'loathe', 'trolls', 'based', 'f-l-a-n-r-d-s', 'happen', 'vomit', 'clearly', 'detective_homer_simpson:', 'barely', 'exciting', 'brewed', 'leave', 'handed', 'tom', 'pats', 'tapestry', 'scent', \"something's\", 'locklear', 'employees', 'wad', 'simpson', 'spending', 'ivy-covered', 'lorre', 'purveyor', 'majesty', 'japanese', 'skunk', 'heaving', 'kahlua', 'baloney', 'womb', 'belches', 'culkin', 'extinguishers', 'ceremony', 'blurbs', 'up-bup-bup', 'sad', 'napkins', 'regretful', 'man', 'alpha-crow', 'insulted', '_burns_heads:', \"school's\", \"won't\", 'sector', 'bathtub', 'schedule', 'yawns', 'stopped', 'canyonero', 'bloodiest', 'numbers', 'unbelievable', 'weirded-out', 'merchants', 'heatherton', 'intention', 'bumped', 'concerned', 'hero-phobia', 'sweetheart', 'door', 'especially', 'together', 'concentrate', 'innocuous', 'refinanced', 'gone', 'stonewall', \"they'll\", 'starving', 'accepting', 'daaaaad', 'charge', 'accident', 'nail', 'rutabaga', 'girlfriend', 'humiliation', 'pretend', 'focus', 'title:', 'chug-a-lug', 'socratic', 'used', 'compared', 'sale', 'chow', 'cleaning', \"costume's\", \"she's\", \"i've\", 'hurting', 'stripe', 'walked', 'robin', 'where', 'diminish', 'miserable', 'non-american', 'bobo', 'lawyer', 'staying', 'woulda', 'fringe', 'drop', 'founded', 'your', 'agency', 'yuh-huh', 'wondering', 'society', 'type', 'have', 'earpiece', \"o'reilly\", 'tv_daughter:', 'intruding', 'enemies', 'surprised', 'beers', 'arabs', 'multiple', 'pool', 'snotball', 'edgy', 'declan', \"tap-pullin'\", 'wacky', 'muhammad', 'anger', 'flayvin', 'stadium', 'milk', 'donated', 'snide', 'intelligent', 'examines', 'shotgun', \"i'm-so-stupid\", 'fat-free', 'tavern', 'beatings', 'unlike', 'white_rabbit:', 'highball', 'plotz', 'appointment', 'tang', 'log', 'director:', 'tow', 'handwriting', 'excitement', 'joint', 'count', 'tasimeter', 'easy-going', 'you-need-man', 'men:', 'amends', 'jimmy', 'mini-beret', 'item', 'apartment', 'hostages', 'broke', 'bachelorhood', 'hospital', 'tabooger', 'jets', 'lowest', 'damned', 'perhaps', 'enhance', 'depression', 'nevada', 'glad', 'young_marge:', 'bite', 'written', 'mayor_joe_quimby:', 'creme', 'born', 'married', 'trainers', '50-60', 'burt', 'five-fifteen', 'doing', 'liable', 'unhappy', 'safer', 'handing', 'hell', 'melodramatic', 'alcohol', 'shutting', 'boring', 'hmmm', 'traitor', 'rosey', 'iranian', 'eurotrash', \"dad's\", 'producers', 'excellent', 'ling', 'sly', 'poor', 'fontaine', 'shall', 'prove', 'therapy', 'sexy', 'memory', 'modestly', 'bubbles', 'brother-in-law', 'position', 'child', 'dungeon', 'played', 'sugar', 'expert', 'it', 'settlement', 'perón', 'dennis_conroy:', 'semi-imported', 'filth', 'rafters', 'continuing', 'tofu', 'grimly', 'maximum', 'swine', 'bookie', 'sen', 'surgery', 'darkness', 'irrelevant', 'cloudy', 'solo', 'issues', 'fridge', 'bridge', 'fica', 'anything', 'actress', 'shriners', 'getup', 'donation', 'nitwit', 'relieved', 'rag', 'punishment', 'fortune', 'pus-bucket', 'are', 'army', 'schorr', 'flush', 'suave', 'lovers', 'determined', 'befriend', 'possessions', 'reynolds', 'gruesome', 'barkeep', 'desperately', 'remembered', \"when's\", 'whale', 'teenage_barney:', 'sisters', 'hangover', 'nonchalantly', 'endorsement', 'sanctuary', 'hilton', 'sorry', 'glee', 'floated', 'britannia', 'european', 'windshield', 'depressing', 'lurleen_lumpkin:', 'paying', 'benjamin', 'terrorizing', 'realize', \"thinkin'\", 'astronauts', 'blew', 'grabbing', 'who', 'nectar', 'peach', 'pantsless', 'faceful', 'latin', 'beaumarchais', 'somebody', 'thankful', \"thing's\", 'impatient', 'carpet', 'sniffs', 'followed', 'philosophic', 'runners', 'savvy', 'trail', 'beyond', '8', \"tony's\", 'glen', 'liven', 'edge', 'stagehand:', 'owe', 'rummy', 'whaaa', 'rug', 'letter', 'ripper', 'winnings', 'enjoy', 'wife-swapping', 'wipe', 'or', 'so', 'miracle', 'such', 'ninety-six', 'ga', 'distaste', 'cutting', 'jeez', 'crumble', 'came', 'hunka', 'allow', 'anyhow', 'nickel', \"'ere\", 'manuel', 'valley', \"rentin'\", 'organ', 'ass', \"bladder's\", 'kidneys', 'bar_rag:', 'tuborg', 'hellhole', 'scruffy_blogger:', \"bartender's\", 'mindless', 'options', 'stamps', 'securities', 'supposed', 'flash', 'steinbrenner', 'crime', 'jailbird', 'intakes', 'invite', 'pep', 'gut', 'combination', 'medieval', 'washer', 'teenage_homer:', 'spent', 'arse', 'round', 'asleep', 'apology', \"i'unno\", 'endorse', 'e-z', 'sharity', 'suffering', 'popping', 'souvenir', 'lennyy', 'street', \"wallet's\", 'veteran', 'piling', 'dennis', 'hammock', 'tail', 'digging', 'pal', 'poetry', 'rebuilt', 'thighs', \"high-falutin'\", 'quotes', 'steak', 'matter-of-fact', 'heart-broken', \"stealin'\", \"nixon's\", \"man's_voice:\", 'artist', 'babies', 'meeting', 'linda_ronstadt:', 'ticks', 'bachelorette', 'scornful', 'we', 'likes', \"tinklin'\", 'workers', 'equivalent', 'james', 'lou', 'saint', 'loss', 'worry', 'wisconsin', 'parenting', 'spews', 'paintings', 'super-nice', 'reopen', 'susie-q', 'massachusetts', 'attention', 'letters', 'pine', 'how', 'spellbinding', 'extended', 'fourth', 'butts', 'catholic', 'met', \"i-i'll\", 'about', 'wall', 'gayer', 'text', 'eight', 'horrors', 'w-a-3-q-i-zed', \"we're\", 'mugs', 'acceptance', 'showed', 'pall', \"duff's\", 'sweat', 'broad', 'juan', 'strolled', 'fritz', 'thumb', 'hall', 'source', 'agnes_skinner:', 'polygon', 'frankly', 'corkscrews', 'pretty', 'inspector', 'car:', 'dishonor', \"'n'\", 'well', 'we-we-we', '2nd_voice_on_transmitter:', 'lover', 'curious', 'hooray', 'kucinich', 'soaked', \"toot's\", 'along', 'bowling', 'homeless', 'louisiana', 'odd', \"what's\", 'rolled', 'friends', 'peter_buck:', 'school', 'stewart', \"now's\", 'fraud', 'musical', 'labels', '10:15', 'rage', 'crowded', 'wreck', 'closer', 'series', 'drunk', 'clapping', 'vermont', 'march', 'turn', 'recorded', 'sperm', 'barter', 'short_man:', 'halvsies', \"writin'\", 'nurse', 'liability', 'hub', 'kept', 'afloat', 'aziz', 'compete', 'hotenhoffer', 'plane', 'pharmaceutical', 'vacuum', 'save', 'loboto-moth', 'upset', 'underbridge', 'jesus', 'outs', 'optimistic', 'sap', 'victorious', 'slightly', 'rebuttal', 'bill', 'ohh', 'brown', 'pity', 'joined', 'table', \"shouldn't\", 'backbone', 'pillows', 'under', 'resolution', \"'til\", 'movement', 'stupid', 'wanna', 'sobs', 'beach', 'andy', 'edna', \"c'mere\", '_kissingher:', 'displeased', 'bagged', 'elect', 'turlet', 'composer', 'pitcher', 'move', 'covers', 'laughs', 'sometime', 'dean', 'appearance-altering', 'sweetie', 'increased', 'rims', 'con', 'anarchy', 'fistiana', 'janette', 'mahatma', 'lady-free', 'worst', 'idiot', 'ford', 'garbage', 'vengeance', 'low', 'wait', 'dead', 'train', 'pour', 'propose', 'doll-baby', 'gal', 'kick-ass', 'watching', 'repeated', 'kay', 'sloe', 'third', 'maxed', 'ingested', 'six-barrel', 'glitterati', 'peanut', 'talk-sings', 'gabriel', 'king', 'patrons', \"ridin'\", 'jacques:', 'fudd', 'pulls', 'urge', 'public', 'i', \"should've\", 'degradation', 'super-genius', 'puke', 'yourse', 'put', 'die-hard', 'tipsy', 'kramer', 'bye', 'irs', 'bright', 'railroad', 'down', 'solved', 'filthy', 'showered', 'rat', 'cock', 'fan', 'over-pronouncing', 'station', 'insecure', 'old_jewish_man:', \"she'll\", 'mary', 'poured', 'all', 'fifteen', 'studio', 'and-and', 'trust', 'wheeeee', 'decent', 'foibles', 'hateful', 'neither', 'partners', 'icy', 'american', 'slot', 'weight', 'both', 'demo', 'aggravazes', 'eighty-one', 'mostly', 'scene', 'stumble', 'hillary', 'deer', 'sadistic_barfly:', 'lindsay_naegle:', 'email', 'smuggled', 'appreciated', 'formico', 'looking', 'ball-sized', 'way:', 'wheels', 'escort', 'treasure', 'vicious', 'blooded', 'pained', 'finger', 'take-back', 'director', 'lookalike:', 'renders', \"mcstagger's\", 'puke-holes', 'color', 'delays', 'fix', \"donatin'\", 'host', 'queer', 'the_edge:', 'supermarket', 'laramie', 'panicky', 'hems', 'sounded', \"year's\", 'ref', 'dramatically', 'gin', \"'topes\", 'forget-me-drinks', 'tidy', 'monorails', 'lighten', 'feast', 'swimming', 'lisa_simpson:', 'lottery', 'hitchhike', 'argue', 'safecracker', 'mid-conversation', 'smitty:', 'dirge-like', 'delightful', 'threw', 'case', 'toy', 'open-casket', \"table's\", 'stayed', 'no', 'restaurants', 'th-th-th-the', 'sigh', 'generosity', 'abusive', 'booze', 'california', 'terrible', \"wife's\", 'movies', 'sixty-five', 'miles', 'promise', 'push', 'seminar', 'yellow', 'index', 'self', 'hangout', 'jackpot-thief', 'whaddya', 'process', 'settled', 'bulked', 'blow', 'smoke', 'flexible', 'absentmindedly', 'fruit', 'afraid', 'formico:', 'police', 'handling', \"renovatin'\", 'scores', 'cigarettes', 'attached', 'playoff', 'cajun', 'savagely', 'principles', 'sugar-free', \"town's\", 'horribilis', 'illegally', 'loved', 'knees', 'thanksgiving', 'instead', 'commanding', 'kickoff', 'days', 'vigilante', 'tradition', 'iran', 'entertainer', \"time's\", 'jernt', 'sideshow_bob:', 'chapstick', 'going', 'haplessly', 'favorite', 'thirteen', \"ma'am\", 'carl:', 'lovelorn', 'butt', 'wikipedia', 'looks', 'man_with_crazy_beard:', 'ehhhhhhhhh', 'flynt', 'whee', 'coming', 'seymour_skinner:', 'mine', 'ominous', 'bottles', 'gargoyles', 'one-hour', 'flowers', 'fever', 'ugliness', 'blobbo', 'planned', 'yell', 'challenge', 'mirror', 'moonnnnnnnn', 'farewell', 'exquisite', 'rule', 'civil', 'utility', 'nope', 'football', \"'now\", 'frankenstein', 'our', 'nash', 'gift:', 'kadlubowski', 'forgotten', 'renee:', 'smiles', 'squirrels', 'mitts', 'crack', 'edison', 'phlegm', 'r', 'exhibit', 'single-mindedness', 'ehhhhhhhh', \"burnin'\", 'problems', \"'cept\", 'normal', 'corporate', 'happily', 'stalin', 'bully', 'horns', 'decide', 'wooden', 'thesaurus', 'congoleum', 'brain', 'celebration', 'cuddling', 'gamble', 'sizes', 'moe-clone', 'picky', 'nightmares', 'hired', 'refiero', 'connection', 'gay', 'punk', 'bears', 'stinger', 'like', 'awareness', 'churchy', 'karaoke_machine:', 'inches', 'fondly', 'stu', 'presided', 'wind', 'booze-bags', 'grin', 'understood:', 'alec_baldwin:', 'settles', 'sound', 'noticing', \"seein'\", 'moon-bounce', 'shirt', 'inspire', 'kinda', 'parents', 'prefer', 'ancient', 'someone', 'amazing', 'kwik-e-mart', 'indigenous', 'pick', 'girl', 'belly', 'beat', 'sketch', \"raggin'\", 'reading', 'maybe', 'without:', 'bleeding', 'glum', 'salvador', 'chug', \"cat's\", 'touches', 'games', \"life's\", 'heartless', 'i/you', 'else', 'toe', 'calculate', 'throwing', 'discriminate', 'spectacular', 'pinball', 'adventure', 'a-a-b-b-a', 'hey', 'ring', 'szyslak', 'killer', 'slice', 'anti-crime', 'ale', 'complaining', 'murmur', 'hooch', 'catch-phrase', 'twelve', 'sacrilicious', 'palm', 'refill', 'wolfe', 'cockroach', 'terminated', 'cutie', 'continued', \"president's\", 'brain-switching', 'website', 'belt', 'disgraceful', 'dig', 'fault', 'singing/pushing', 'owned', 'spot', 'minister', 'guff', \"tootin'\", 'flips', 'us', 'luckily', \"bar's\", 'warranty', 'moustache', 'peaked', 'eye', 'drinks', 'puke-pail', 'fool', 'hangs', 'wrestle', 'wang', 'fellow', 'struggling', 'hemoglobin', 'medicine', 'heard', 'pyramid', 'out', 'clean', 'brains', 'norway', \"'evening\", 'conspiracy', \"'morning\", 'military', 'strongly', 's', 'appealing', 'sugar-me-do', 'bush', \"heat's\", 'hourly', 'disguise', 'realizing', 'closes', 'spreads', 'mis-statement', 'feedbag', 'square', 'typed', 'habit', 'vacation', 'marge_simpson:', 'theater', 'kermit', \"couldn't\", 'seek', 'magic', 'sat', 'prepared', 'ollie', 'insulin', 'proves', 'tip', 'taken', 'darjeeling', 'nature', 'outside', 'hot-rod', 'sweater', 'abe', 'bow', 'marge', 'spotting', 'bar', 'high-definition', \"collector's\", 'dive', 'housework', 'pregnancy', 'really', 'quality', 'achebe', 'liar', 'ask', \"doin'\", 'break', 'harv', 'cuff', 'cleaned', 'near', 'coney', 'fired', 'washouts', 'eight-year-old', 'muttering', 'decadent', 'dress', 'form', 'peter', 'dad', 'sinister', 'drunkening', 'düffenbraus', 'van', 'massage', 'again', 'pepsi', 'lecture', 'time', 'fletcherism', 'sob', 'scrutinizing', \"askin'\", 'ad', 'yelp', 'allowed', \"fine-lookin'\", 'utensils', 'worse', 'ball', 'hootie', 'infiltrate', \"g'night\", 'reunion', 'troy', 'vote', \"gentleman's\", 'road', 'dateline', 'diamond', 'explaining', \"boy's\", 'testing', 'kim_basinger:', 'lear', 'pull', 'sagely', 'clammy', 'meaningfully', 'oblivious', 'justify', 'election', 'ireland', 'ends', 'victory', \"buyin'\", 'necessary', 'value', 'backing', 'st', 'pasta', \"round's\", 'pets', 'indignant', 'super-tough', 'joking', '_eugene_blatz:', 'patty_bouvier:', 'quimby_#2:', 'tree', 'freak', 'chum', 'deeply', 'ghouls', 'stiffening', 'disappointed', \"takin'\", 'noooooooooo', 'feminine', 'commission', 'crappy', 'knuckle-dragging', 'dejected', 'throws', 'sticker', 'chinua', 'spite', 'sending', 'ratted', 'jacks', 'loyal', 'dallas', 'tasty', 'african', 'cozies', 'planning', 'thorn', 'harder', 'weep', 'huggenkiss', 'unearth', 'casting', 'duffman', 'experienced', 'solves', 'using', 'poem', 'drank', 'more', 'do', 'superdad', 'close', 'coin', 'history', 'stalwart', 'moesy', 'drederick', 'dash', 'goblins', 'the_rich_texan:', 'evergreen', 'telemarketing', 'begin', 'slop', 'neanderthal', 'broadway', 'buddha', 'sneaky', 'sued', 'gunter', 'curiosity', 'sheepish', 'william', 'insurance', 'practice', 'driving', \"stabbin'\", 'kang:', 'adult', 'huddle', 'future', 'cheering', 'make', 'till', 'marched', 'spinning', 'amber_dempsey:', '4x4', 'whistles', 'unexplained', 'installed', 'burt_reynolds:', 'speaking', 'brunch', \"clancy's\", 'notably', 'buttocks', 'banquo', 'religious', 'clone', 'pussycat', 'bank', 'cough', 'tin', 'hosting', 'inflated', 'beam', 'find', \"i-i'm\", 'happy', 'slugger', 'getcha', 'ten', 'homeland', 'non-losers', 'clams', 'beer', 'lazy', 'cheerleaders:', 'mortal', 'dizzy', 'wham', 'mexican_duffman:', 'party', 'painted', 'payback', 'sausage', 'professor', 'stretch', 'ahhh', 'brainheaded', 'portentous', 'wipes', \"other's\", 'rumor', 'repeating', 'satisfied', 'fireball', 'mayor', 'belong', 'gunk', 'nelson', 'karaoke', 'mobile', 'turned', 'intrigued', 'witches', 'pre-columbian', 'allowance', 'outta', 'ironed', \"lisa's\", 'heavyset', 'kidnaps', \"tab's\", 'meaningless', 'bashir', 'applesauce', 'ron', 'thousands', 'voted', 'kinds', 'rub-a-dub', 'involving', 'worthless', 'therefore', 'result', 'aerosmith', 'cocking', 'credit', 'oww', 'playing', 'looser', 'chorus:', 'ran', 'sacrifice', 'puzzled', 'publishers', 'yammering', 'prayers', 'sucking', 'drown', 'platinum', \"havin'\", 'ducked', 'winces', 'noises', 'gasp', 'stooges', 'be-stainèd', 'boozy', 'priority', 'learned', 'simp-sonnnn', 'hit', 'fail', 'afterglow', \"let's\", 'help', 'snorts', 'young_moe:', 'tv', 'recommend', 'louie:', 'cattle', 'gluten', 'fantasy', 'blubberino', 'dismissive', 'silence', 'insightful', 'deals', 'finding', 'still', 'mudflap', 'cricket', 'see', 'lift', 'anxious', 'bald', 'ivana', 'shhh', 'telling', 'trivia', 'ringing', 'spit-backs', 'brandy', 'oblongata', \"haven't\", 'score', 'space', 'due', 'sidekick', 'delicate', 'tune', 'these', 'pain', 'lily-pond', 'enforced', 'lighting', 'switched', 'lisa', 'disappear', 'transmission', 'rugged', 'ne', 'seemed', 'guts', 'cocoa', 'half-day', 'jasper_beardly:', 'onion', 'tire', 'occurred', 'through', 'field', 'incredulous', 'whispered', 'intriguing', 'contemporary', 'cheaper', 'wolverines', 'pants', 'legally', \"bein'\", 'chunk', 'businessman_#2:', '21', 'strain', 'remembers', 'milhouse', 'break-up', 'refreshing', 'admirer', \"stinkin'\", 'invited', 'yells', 'baseball', 'worldly', 'hitler', 'cousin', 'pond', 'grammys', 'coined', 'cause', 'alky', 'specials', 'grain', 'takes', 'stolen', 'cries', 'sunglasses', 'blokes', 'vulgar', 'heather', 'rubs', 'larry', 'jelly', 'oughta', 'christmas', 'starts', 'flustered', 'who-o-oa', 'barkeeps', 'issuing', 'hugh:', 'hearing', 'hmf', 'fainted', 'material', 'clothespins:', 'jacksons', 'hispanic_crowd:', 'manchego', 'grind', 'ihop', 'nelson_muntz:', 'window', 'slit', 'script', 'swamp', 'hanging', 'language', 'anybody', 'comic', 'over', 'hope', 'company', 'sales', \"coaster's\", 'whose', 'same', 'blessing', \"edna's\", 'whaaaa', 'passes', 'awful', 'vestigial', 'dang', 'brunswick', 'supervising', 'floating', 'tanking', 'apulina', \"it'd\", 'towed', 'stinky', 'progress', 'taking', 'little', 'carll', 'tonight', 'feisty', 'wars', \"fallin'\", 'haws', 'protesters', \"guy's\", 'howya', 'house', 'named', 'gently', 'cheese', 'montrer', '1895', \"drinkin'\", 'floor', \"homer's_brain:\", 'calvin', 'counterfeit', 'marvelous', \"maggie's\", 'hollowed-out', 'h', 'real', 'kenny', 'unless', 'smart', 'chanting', 'stop', 'gorgeous', 'data', 'squishee', 'wudgy', 'news', 'rounds', 'fills', 'rocks', 'wenceslas', 'faces', 'prizefighters', 'quimbys:', 'wonderful', 'tubman', 'colossal', 'sympathetic', 'warren', 'dory', 'flailing', 'lucius:', 'abandon', 'chunky', 'machine', 'because', 'defensive', 'everywhere', 'acquaintance', 'war', 'factor', 'thought_bubble_homer:', 'aged_moe:', '$42', \"that's\", 'rid', 'rats', 'indeed', 'town', 'simpsons', 'viva', 'grenky', 'alibi', 'quarterback', 'taylor', 'radishes', 'shakes', 'contractors', 'burp', 'gets', 'bartender', 'phase', 'offa', 'never', 'balls', 'everybody', 'broken', 'arm-pittish', 'toward', 'ourselves', 'own', 'newsletter', \"today's\", 'beached', 'beginning', 'everyone', 'jerk-ass', 'roller', 'gimme', 'gotcha', 'lenny_leonard:', 'nightmare', 'padre', 'emotion', 'crab', 'nards', 'flush-town', 'tummies', 'thrilled', 'yet', 'course', 'onto', 'practically', 'president', 'stunned', 'corkscrew', \"tree's\", 'morose', '_hooper:', 'ninth', \"queen's\", 'missed', 'tv-station_announcer:', 'against', 'disturbing', 'error', 'beefs', 'moe-lennium', 'my-y-y-y-y-y', 'muslim', 'ladies', 'enveloped', 'macgregor', \"hobo's\", \"larry's\", 'potato', \"disrobin'\", 'crowd:', 'hate-hugs', 'cheapskates', 'clinton', 'revenge', 'champ', 'treat', 'million', 'moonlight', 'girls', 'safe', 'lifts', 'pictured', \"show's\", 'realized', 'lives', 'graves', 'arrest', 'folks', 'reed', 'human', 'live', 'barstools', 'bucks', 'simon', 'hard', 'says', 'steel', 'romance', 'caught', 'friendly', 'act', 'wiener', 'irish', 'dennis_kucinich:', 'tomahto', 'drive', 'sour', 'blown', 'snout', 'hiring', 'rome', 'peanuts', \"moe's\", 'uniforms', 're:', 'pardon', 'hearse', 'ungrateful', 'cannoli', 'application', 'demand', 'all-all-all', 'sing-song', 'sucker', 'exploiter', 'para', 'professor_jonathan_frink:', 'dumbest', \"lefty's\", 'affection', 'tactful', 'scrubbing', \"lookin'\", 'normals', 'smugglers', 'sister', 'shocked', 'chicken', 'wild', 'western', 'picnic', 'forty-nine', 'quite', 'fox_mulder:', 'reentering', 'east', 'looting', 'o', 'south', 'thirsty', 'frink-y', 'detecting', \"somebody's\", 'freeze', 'waters', 'ohhhh', 'comforting', 'wholeheartedly', 'beards', 'wagering', 'three-man', 'superpower', 'chastity', 'ancestors', 'temper', 'losers', 'prettiest', 'whim', \"yieldin'\", 'basement', \"poisonin'\", 'nascar', 'smelly', '91', 'drove', 'alva', 'venture', 'pointy', 'word', 'site', 'shower', \"we've\", 'sickens', 'vacations', 'ashamed', \"city's\", 'loser', 'heh', 'mouths', 'quick-like', 'other_player:', 'lee', 'kent_brockman:', 'creature', 'eleven', 'rope', 'cowardly', 'busted', 'easy', 'this', 'iddilies', 'aidens', 'technical', 'triumphantly', 'coat', 'fustigation', 'employment', 'half-back', 'honor', 'example', 'scully', 'snake_jailbird:', 'shoulda', 'rent', 'el', 'grammar', 'remodel', 'match', 'brotherhood', 'emporium', '_babcock:', 'wore', 'share', 'ya', 'ribbon', 'mellow', 'totalitarians', 'possibly', 'promotion', 'his', 'oof', 'wiggle-frowns', 'predecessor', \"tv'll\", 'forty-two', 'products', 'officials', 'brave', 'cheat', 'failure', 'girl-bart', 'dark', 'grabs', 'coins', \"cont'd:\", 'rainier', 'interrupting', 'mention', 'good', 'coughs', 'pissed', 'look', 'frescas', 'imported-sounding', 'poking', 'annus', 'flaming', 'augustus', 'tones', 'pocket', 'exited', 'philip', 'borrow', 'being', 'trenchant', 'collapse', 'dashes', 'feels', 'cup', 'manatee', 'bottle', 'stingy', 'wok', 'jacques', 'david', 'ambrose', 'kind', 'shopping', \"idea's\", 'ew', 'freaky', 'this:', 'expense', 'drink', 'approval', 'reporter:', 'connor-politan', 'cash', 'beer:', 'me', 'throats', 'thirty-nine', \"department's\", \"handwriting's\", 'guinea', 'regulars', \"barney's\", 'alternative', 'recipe', 'ladder', 'gel', 'extra', 'attack', 'angel', 'fork', 'discussing', 'tv_wife:', 'full-time', 'take', 'cop', 'grab', 'malabar', 'extract', 'acting', 'drawn', 'game', 'monkeyshines', \"waitin'\", 'dunno', 'shelf', 'horses', 'imaginary', 'smell', 'hammy', 'starla', 'leathery', 'barn', 'sketching', 'releases', 'island', 'blaze', 'playhouse', 'confidence', 'lurks', 'chinese', 'inclination', 'exchange', 'emergency', 'rivalry', 'accent', 'comeback', 'on', 'thought_bubble_lenny:', 'surgeonnn', 'powered', 'monster', 'boxing', 'fire', 'something', 'action', 'kid', 'panicked', 'unavailable', 'inquiries', 'lincoln', \"bettin'\", 'lard', 'har', 'tells', 'laughter', 'singers:', \"usin'\", 'prices', 'amber', 'home', \"messin'\", 'too', \"she'd\", 'bumpy-like', 'grrrreetings', \"monroe's\", 'killarney', 'supply', 'finale', 'guttural', 'ignoring', 'test-lady', 'saying', 'foam', 'bathroom', 'heart', 'diapers', \"can't-believe-how-bald-he-is\", 'himself', 'ruby-studded', 'spilled', '||rparenthese||', 'nuts', 'aggie', 'carb', 'muertos', 'sips', 'streetlights', 'having', 'femininity', 'composite', 'breathless', 'thinking', 'kirk', 'lobster', 'fiction', 'dice', 'ronstadt', 'would', 'choice:', 'prime', 'moonshine', 'so-called', \"i'll\", 'odor', \"talkin'\", 'snapping', 'pit', 'gary:', 'heartily', 'anniversary', 'absorbent', \"challengin'\", 'lemonade', 'suru', 'give', 'cowboy', 'shipment', 'neon', 'fonda', 'closed', \"wait'll\", 'moolah-stealing', 'wishful', 'roomy', 'genius', 'strawberry', 'bull', 'waitress', 'meet', 'alien', 'tow-joes', 'breakdown', 'kako:', 'correct', 'guess', 'light', 'junkyard', 'sits', 'cobra', 'record', 'of', \"one's\", 'smile:', 'know', 'safely', 'prejudice', 'woo-hoo', 'lainie:', 'emphasis', 'foundation', 'until', 'customers', 'hoax', 'de', 'methinks', 'befouled', 'statesmanlike', 'jockey', 'fabulous', 'nooo', 'declare', 'dan_gillick:', 'incriminating', 'peace', 'menace', 'comedy', 'contented', 'crinkly', 'wussy', 'teeth', 'watt', 'fat_tony:', 'earth', 'wa', 'dames', 'screws', 'eco-fraud', 'shares', 'snaps', 'sniper', 'sold', 'country-fried', 'world-class', 'shrugs', 'nigel_bakerbutcher:', 'beer-jerks', 'unsourced', 'thirty-thousand', 'seem', 'disappointing', 'silent', 'lie', \"people's\", 'right', 'flat', 'cans', 'deliberately', 'doooown', 'suits', 'uncreeped-out', 'name:', 'highway', 'latour', 'glowers', 'slip', 'lease', 'burns', 'thanks', 'tearfully', 'ripcord', 'plastic', 'replaced', 'forget', \"getting'\", 'woo', 'vampire', 'southern', 'nahasapeemapetilon', 'self-centered', 'photographer', 'mechanical', 'kazoo', 'brag', 'attitude', 'offensive', 'infatuation', 'crawl', 'p', 'traffic', 'danish', \"number's\", 'ordered', 'brilliant', 'daughter', 'forty-seven', 'alcoholic', 'away', \"aren'tcha\", 'helpless', 'manfred', 'yes', 'não', 'famous', 'happiness', 'thoughts', 'hammer', 'othello', 'cooker', 'grammy', 'placing', 'boyhood', 'citizens', 'blend', 'german', 'cure', 'flashing', 'ninety-seven', 'helen', 'nemo', 'considering:', 'cobbling', 'full-blooded', 'admiration', 'fanciest', 'maitre', 'muscles', 'prolonged', 'believer', 'life-extension', \"beer's\", 'convinced', 'system', 'chic', 'contract', 'furry', 'twenty-four', 'handsome', 'praise', 'bauer', 'outstanding', 'mommy', 'scare', 'ruint', 'disgusted', 'reminds', 'mole', 'either', 'blimp', 'snake-handler', 'freed', 'diet', \"doctor's\", \"bringin'\", 'gunter:', 'another', 'badmouths', 'also', 'poulet', \"jackpot's\", 'brockelstein', 'trusted', 'lloyd', 'son-of-a', 'bleacher', \"c'mon\", 'eaters', 'children', 'raccoons', 'wrong', 'paris', 'pair', 'yourself', 'maya:', 'choked', 'mic', 'a', 'signal', 'awwww', 'junior', 'hear', 'braun:', '7-year-old_brockman:', 'willing', 'planted', 'releasing', 'anthony_kiedis:', 'ground', 'warn', 'waist', 'church', 'guide', 'pajamas', 'manboobs', 'scooter', 'narrator:', 'bits', 'good-looking', 'archaeologist', 'brow', 'dumb-asses', 'full', 'arrange', 'nameless', 'figure', 'annoying', \"you've\", 'voice:', 'doug:', 'sincerely', 'togetherness', 'terror', 'storms', 'benjamin:', 'soup', 'conditioners', 'experiments', 'mind-numbing', 'choke', 'will', \"pullin'\", 'dogs', 'mushy', 'wuss', 'watashi', 'senator', 'forward', 'hounds', 'provide', \"d'\", 'initially', 'dough', 'themselves', 'chief', 'saved', 'jeter', \"'roids\", 'championship', 'luv', 'pleasure', 'coach:', 'forty-five', 'furiously', 'je', 'quadruple-sec', 'feel', 'giving', 'warmly', 'soon', 'entire', 'mock-up', 'tester', 'teddy', 'chained', 'bartholomé:', 'theme', 'hours', 'dignity', 'delighted', 'jobs', 'selfish', 'pointed', 'taps', 'winning', 'monroe', 'winston', 'village', 'seconds', 'fritz:', 'whip', 'nods', 'gosh', 'lindsay', 'grandkids', 'go', 'picked', 'ingrates', 'enjoys', 'b', 'started', 'stealings', 'unattractive', 'car', 'measure', 'reluctant', 'marshmallow', 'come', 'baritone', 'troy:', 'random', 'dating', 'walks', 'cuckoo', 'gentlemen', 'payday', 'ohmygod', 'beneath', 'bide', 'swings', \"kiddin'\", 'denver', 'babe', 'lump', 'hollywood', 'de-scramble', 'repressed', 'embarrassing', 'aggravated', 'courthouse', 'completely', 'anywhere', 'feed', 'less', 'k-zug', 'cold', 'mop', 'hiya', 'crushed', 'number', 'gloop', 'adjourned', 'fatty', 'ehhhhhh', 'derisive', 'trying', 'luxury', 'op', 'lookalikes', 'limber', 'grampa', 'unfamiliar', 'watch', 'straighten', 'label', \"somethin'\", 'stock', 'duel', 'teacup', 'thousand', 'direction', 'room', 'wally:', 'maggie', 'unfresh', 'nudge', 'uh', 'finish', 'rafter', 'short', \"here's\", 'affects', 'compliments', 'agh', 'civic', 'transylvania', 'sheriff', 'rhode', 'model', 'ore', 'male_inspector:', 'einstein', 'sobriety', \"'ceptin'\", 'snatch', 'covering', 'watered-down', 'moe-heads', 'tinkle', 'illegal', 'yelling', \"renee's\", 'brothers', 'bragging', \"changin'\", 'badge', 'two-thirds-empty', 'between', 'showing', 'dressed', \"what'sa\", 'ignorant', 'newspaper', 'suicide', 'swell', 'cozy', 'blamed', 'hat', 'rueful', 'easily', 'woman_bystander:', 'depressed', 'whisper', 'sky', 'politician', 'facebook', 'perverse', 'reserved', 'paints', \"bo's\", 'private', 'jebediah', 'tee', 'assistant', 'glamour', 'bites', 'sieben-gruben', 'arrested:', 'deeper', \"i'm\", 'cockroaches', 'clincher', 'ideas', 'bonding', 'wallet', 'stay', 'bid', 'sponsoring', 'pinchpenny', 'speed', 'friction', 'carve', 'filed', 'sagacity', 'clientele', 'buried', 'easter', 'hubub', 'packets', 'colonel:', 'partly', 'sass', \"mo'\", 'laugh', 'paint', \"money's\", 'sarcastic', 'henry', 'yellow-belly', 'measurements', 'distinct', 'fragile', 'sprawl', 'expensive', 'official', 'tsking', 'bender:', 'murdoch', 'sees', 'sack', '530', 'feelings', 'rude', 'discuss', 'cupid', 'duff', 'hearts', 'sir', 'answers', 'edna_krabappel-flanders:', 'swigmore', \"i'd'a\", 'theatah', 'co-sign', 'recap:', 'swelling', 'husband', 'exhale', 'enterprising', 'change', 'homer_doubles:', 'leprechaun', 'slow', 'oooo', 'ebullient', '3rd_voice:', 'waste', 'texan', 'sell', 'jägermeister', 'ech', 'alarm', 'stinks', 'williams', 'given', 'tommy', 'andalay', 'electronic', 'gotten', 'confident', 'calm', 'to', 'strong', 'terrace', 'lot', 'someday', 'bury', 'support', 'smile', 'kansas', 'bras', 'alls', 'barney_gumble:', 'ruuuule', 'thomas', 'customer', 'singing', 'hibachi', 'kicked', 'musketeers', 'jeff', 'diets', 'disappeared', 'training', 'searching', 'complicated', 'powers', 'elder', 'shaky', 'cappuccino', 'secret', 'huh', 'mcclure', 'liver', 'situation', 'stengel', 'beef', 'dumbbell', 'register', 'leans', 'weekend', 'harvey', 'lucius', 'ho-la', 'england', 'mamma', 'hooked', 'oh-so-sophisticated', 'tap', \"could've\", 'gr-aargh', 'misfire', 'bedridden', 'ice', 'slays', 'unforgettable', \"somethin's\", 'shaker', 'terrified', 'driver', 'goodnight', 'hawking:', 'air', 'sure', 'ah', 'engine', 'doreen:', 'uses', 'grim', 'always', 'snake', 'encouraged', 'sooner', 'rough', 'lifestyle', 'fires', \"floatin'\", 'least', 'soothing', 'bold', 'krusty_the_clown:', 'bathing', 'wear', 'yea', 'squeeze', 'woozy', 'jukebox', 'rhyme', 'moon', 'wiping', 'dynamite', 'duffed', 'granted', 'literary', 'forehead', 'takeaway', 'english', 'tornado', 'breath', 'hidden', 'cletus_spuckler:', 'aid', 'whispers', 'otherwise', 'palmerston', 'layer', 'syrup', 'roll', 'brine', 'louse', 'virility', 'manipulation', 'winch', \"tomorrow's\", 'groin', 'frog', 'excavating', 'dammit', 'specified', 'fans', 'getting', 'recorder', 'greatly', 'porn', \"how'd\", 'enemy', 'jack', 'sam:', 'isle', 'nation', 'threatening', 'eventually', 'presidents', \"grandmother's\", 'alley', 'gees', 'stomach', 'line', 'year', 'quiet', 'mmm-hmm', 'christian', 'pro', 'excuses', 'indecipherable', 'meditative', 'simplest', 'caholic', 'depository', 'wife', 'quebec', 'stole', 'bon', 'dollars', 'last', \"didn't\", 'wrap', 'without', 'tony', 'morning', 'helping', 'elephants', 'hostile', 'wave', 'jogging', 'tonic', 'wing', 'sesame', 'father', 'motor', 'conversations', 'du', 'certificate', \"d'ya\", 'billingsley', 'sweden', 'meanwhile', 'advantage', 'espousing', 'shout', 'preparation', 'wasting', 'lost', 'toledo', 'groveling', 'automobiles', 'eh', 'whoa', 'hurts', 'waylon_smithers:', 'scum', 'wide', 'coms', 'and:', 'fine', 'tied', 'squeal', 'scotch', 'forecast', 'remember', 'subject', 'chapter', 'face-macer', 'make:', 'w', 'overflowing', 'hoagie', 'coal', 'want', 'celeste', 'sinkhole', 'project', \"nothin's\", 'gun', 'sideshow_mel:', 'thnord', 'binoculars', \"smackin'\", 'invulnerable', 'tobacky', 'compels', 'life-threatening', 'polite', 'bars', 'restaurant', 'neighborhood', 'polls', 'religion', 'engraved', 'clearing', 'domestic', 'crotch', 'lips', 'beverage', 'address', \"must've\", 'statistician', 'scout', 'bottom', 'bags', \"there's\", \"o'problem\", 'buy', 'punching', 'weather', 'drollery', 'inherent', 'information', 'resenting', 'store', 'grand', 'chipper', 'mount', 'soot', 'gestated', 'cow', 'chin', 'quarry', 'hm', 'although', 'barney', 'sixty', 'seeing', 'boxer:', 'prohibit', 'buttons', 'kool', 'hunter', 'improved', 'microbrew', 'learn', 'hook', 'commit', 'working', 'eve', 'hustle', 'hideous', 'mexicans', 'truck', 'designer', \"can't\", '_julius_hibbert:', 'dazed', 'reasonable', \"o'\", 'rubbed', 'toms', 'limits', \"dog's\", 'noose', 'pledge', 'obese', 'theory', 'bought', 'giant', 'dracula', 'warned', \"he'll\", 'court', 'mariah', 'roach', 'proper', 'totally', 'dictator', 'washed', 'poisoning', 'crystal', \"sayin'\", 'tough', 'awkwardly', 'chest', 'placed', 'wage', 'waterfront', 'grinch', 'band', 'mouse', 'jewelry', 'exhaust', 'raging', 'selma', 'rainbows', 'screams', 'fantastic', 'motto', 'louder', 'smoothly', 'choices', 'care', 'madonna', 'relative', 'sent', 'sports', 'smooth', 'alive', 'blur', 'kirk_van_houten:', 'chauffeur', \"drexel's\", 'carnival', 'mabel', 'since', 'universe', 'shoes', 'patented', 'cotton', 'column', 'sickened', 'absentminded', 'swe-ee-ee-ee-eet', \"fendin'\", 'ma', 'in-ground', 'patron_#1:', 'enabling', 'youth', 'lush', 'cents', 'rascals', 'shred', 'right-handed', 'idioms', 'philosophical', 'singer', 'psst', 'across', 'connor', 'charges', 'ping-pong', 'assassination', 'waylon', 'disgrace', 'breaking', 'idealistic', 'knock-up', 'personal', 'eyeballs', 'hunting', 'wiggum', 'mountain', 'multi-purpose', 'dyspeptic', 'wedding', 'whining', 'nordiques', 'spare', 'bono', 'saving', 'agent', 'david_byrne:', 'fledgling', 'tired', 'cutest', 'title', 'slaps', 'obvious', \"cuckold's\", 'contemplated', 'affectations', 'kicks', 'feeling', 'rich', 'hand', 'shaved', 'wine', 'thru', 'mines', 'spine', 'health_inspector:', 'prints', 'slyly', 'tender', 'bastard', 'crony', 'cranberry', 'mid-seventies', 'logos', 'presto:', 'mission', 'hang', 'easygoing', 'blues', 'frogs', 'squabbled', 'toxins', '||pointandcoma||', 'fat_in_the_hat:', 'pulitzer', 'delicately', 'woman:', 'mccarthy', 'toilet', 'aer', 'hiding', 'bart_simpson:', 'talk', 'leg', 'century', 'social', '2', 'versus', 'trip', 'criminal', 'hushed', 'caused', 'carey', 'fake', 'valuable', \"rustlin'\", 'holds', 'milhouses', 'represent', 'coincidentally', 'heaven', 'boxer', 'hobo', 'judgments', 'boston', 'jerks', 'pride', 'once', 'naked', 'nerve', \"man'd\", 'behind', 'exception:', 'springfield', 'verticality', 'nantucket', 'missing', 'items', 'hanh', 'fair', 'errrrrrr', 'burg', 'than', 'troubles', \"o'clock\", 'malibu', 'scornfully', 'soul', 'fingers', 'witty', 'beast', 'crowbar', 'desperate', 'small_boy:', 'calmly', 'including', 'gulps', 'buzz', 'birthday', \"readin'\", 'here-here-here', 'golden', 'bones', 'nobel', 'schizophrenia', 'kiss', 'fustigate', 'second', 'whoever', 'christopher', 'reads', 'twenty', 'faded', 'emotional', 'jubilant', 'remaining', 'hotline', 'grumpy', 'ummmmmmmmm', 'subscriptions', 'start', \"you're\", 'long', 'deserve', 'reluctantly', 'considering', 'broncos', 'whether', 'reaction', 'chauffeur:', 'separator', 'atlanta', 'release', 'work', 'dirty', 'nigeria', 'u', 't-shirt', 'squeals', 'swear', 'madman', 'usually', 'story', 'hyahh', 'nah', 'cheers', 'politicians', 'fuzzlepitch', \"jimbo's_dad:\", 'countryman', \"how're\", 'thorough', 'lotsa', 'winks', 'droning', 'passenger', 'applicant', 'presumir', 'intoxicated', 'serious', 'bindle', 'typing', 'doll', 'handle', 'slab', 'sheet', 'lying', 'nap', 'relationship', 'glove', 'campaign', 'ye', 'streetcorner', 'mafia', 'stars', 'barflies', 'trustworthy', 'leak', 'riveting', 'horrified', 'generally', \"marge's\", 'fellas', 'italian', 'chug-monkeys', 'sign', \"ya'\", 'into', 'poplar', 'according', 'jams', 'greystash', 'stevie', 'at', 'first', 'butter', 'names', 'twin', 'brick', 'gordon', 'local', 'bret', 'awkward', 'talked', 'yee-ha', 'lucky', 'mostrar', 'fun', 'yards', 'neat', 'handoff', 'crap', 'destroyed', 'shoe', 'body', 'punch', 'seriously', 'modest', 'delts', 'none', 'marmaduke', 'bill_james:', 'simple', 'hairs', 'tapping', 'kick', 'george', 'them', 'fwooof', 'bannister', 'nos', 'gasps', 'knows', 'fbi', 'modern', 'judges', 'jubilation', 'wiggle', 'gator:', 'falcons', 'gutenberg', 'banned', 'taught', 'righ', 'rancid', 'polishing', 'sickly', 'parrot', 'painting', 'expecting', 'badges', 'gus', \"'cause\", 'all-star', 'intoxicants', 'meaningful', 'ripped', 'fluoroscope', \"wino's\", 'spoken', 'languages', 'pulling', 'multi-national', 'prize', 'menacing', 'nicer', 'list', 'disillusioned', 'hurry', 'longest', \"that'll\", 'expression', 'walking', 'wrote', 'youngsters', 'studied', 'quick', 'special', 'halfway', 'cards', 'fools', 'comes', 'pronto', 'rumaki', 'cheaped', 'counter', 'blade', 'loaded', 'enthusiasm', 'intimacy', 'trapping', 'so-ng', 'bonfire', \"washin'\", 'envy-tations', 'lenford', 'lend', 'yogurt', 'shoo', 'gabriel:', 'entirely', 'fulla', 'beans', 'indicates', 'video', 'outlive', 'thought', 'chipped', 'young_barfly:', 'insist', 'prison', 'internet', 'reached', 'happened', 'bottoms', 'choice', 'remembering', 'fears', 'spit', 'shot', 'suspenders', 'managed', 'committee', 'precious', \"kid's\", \"sippin'\", 'november', 'needed', 'stays', 'pageant', 'feet', 'tick', \"what'd\", \"springfield's\", 'crummy', 'gambler', 'housewife', 'cushion', 'sea', 'ha', 'brother', 'suspiciously', 'attractive_woman_#1:', 'stones', 'goes', 'shape', 'aging', 'decency', 'andrew', 'guy', 'cushions', 'festival', 'sense', 'moe_recording:', 'sensitivity', \"doesn't\", 'benefits', 'grumbling', 'relax', \"they'd\", 'territorial', 'world', 'golf', 'eddie', 'nagurski', 'lovejoy', 'competing', 'decided', 'knocked', 'gals', 'explanation', \"wouldn't\", 'pernt', 'martini', \"hadn't\", 'childless', 'honored', 'bar:', 'keeping', 'grandmother', 'splash', 'effervescent', 'spoon', 'pas', 'crossed', \"everyone's\", 'socialize', \"santa's\", 'chicks', 'fdic', 'riding', 'radioactive', 'muscle', 'eaten', 'brightening', 'stationery', 'option', 'ho-ly', 'dealie', 'buffet', 'great', 'honest', 'helped', 'shorter', 'fireworks', 'ken:', 'hot', 'ecru', 'whatchacallit', 'sub-monkeys', 'united', 'glasses', 'capitol', 'mmmmm', 'law', '70', 'stalking', 'love-matic', 'thing:', 'sang', 'zeal', 'rap', 'mom', 'sooo', 'money', 'pretzels', 'solid', 'except', \"pickin'\", 'draw', 'violin', 'anti-intellectualism', 'embarrassed', 'klown', 'blind', 'stirrers', 'noosey', 'broken:', 'caveman', 'respect', 'john', 'rash', 'royal', 'pay', 'run', 'suburban', 'dateline:', 'touch', 'sampler', 'taste', 'ironic', 'ballclub', \"shootin'\", 'soaps', 'poker', 'became', 'korea', 'female_inspector:', 'correcting', 'frontrunner', 'chip', 'yesterday', 'twelveball', 'landlord', 'lately', 'stretches', \"treatin'\", 'bottomless', 'held', 'immiggants', 'owes', 'compare', 'wonder', 'unfair', 'caricature', 'dejected_barfly:', 'detective', 'perverted', 'higher', 'radiator', 'points', 'part-time', 'somehow', 'occupied', 'wire', 'department', 'saget', 'reaches', 'carmichael', 'flash-fry', 'all-american', 'sixteen', 'ago', 'tongue', 'splattered', 'name', 'bubbles-in-my-nose-y', 'ultimate', 'goodbye', 'harvesting', 'mater', 'griffith', 'tank', 'coma', 'simultaneous', 'wigs', 'snail', 'mailbox', 'boy', 'perfect', 'churchill', 'cigarette', 'fuhgetaboutit', 'plastered', 'apply', 'already', 'amused', \"hasn't\", 'schemes', 'traitors', '1-800-555-hugs', 'species', 'beaumont', 'yours', 'women', 're-al', 'fountain', 'much', 'load', 'skins', \"somethin':\", 'folk', 'luck', 'club', 'holy', 'ram', 'onions', 'wayne', 'many', 'lowering', 'duke', 'pirate', 'boxers', 'thing', 'pages', 'whoops', 'bitter', 'answering', 'neighbor', 'homers', 'kodos:', 'theatrical', 'mistresses', 'craphole', 'row', 'shtick', 'santa', 'chili', 'superior', 'rump', 'pub', 'abolish', 'appreciate', 'waltz', 'cruise', 'finishing', 'michael', 'billboard', 'unbelievably', 'longer', \"mecca's\", \"coffee'll\", 'bus', 'today/', 'song', 'nauseous', 'he', '7g', 'judge_snyder:', 'ees', \"'s\", \"fightin'\", 'cigars', 'sings', 'disaster', 'hah', 'hers', 'aside', 'hoped', 'salt', 'pontiff', 'anyhoo', 'fumigated', 'steamed', 'piano', 'led', 'salad', 'doubt', 'moment', 'go-near-', 'tar-paper', 'dads', 'authorized', 'step', 'temple', 'books', 'captain', 'prettied', 'love', 'choking', 'overhearing', 'imitating', 'dying', \"car's\", 'flea:', 'haikus', 'awesome', 'fierce', 'dilemma', 'ruin', 'poet', 'compromise:', 'scared', 'crew', 'assumed', 'sunday', 'serum', \"drawin'\", 'strains', 'tropical', 'cuz', 'bothered', 'micronesian', 'maya', 'disposal', \"soakin's\", \"smokin'\", \"weren't\", 'chair', 'disgracefully', 'average-looking', 'watched', 'abercrombie', 'memories', 'wise', 'tabs', 'twenty-five', 'michael_stipe:', 'puffy', 'mathis', 'taunting', \"'im\", 'ninety-eight', 'tab', 'carl_carlson:', 'u2:', 'crying', 'delivery_man:', 'cruiser', 'above', 'à', 'kennedy', 'sells', 'miss', 'ugliest', 'sensible', 'strap', 'imagine', 'dipping', 'minors', 'eminence', 'lone', 'encores', \"spaghetti-o's\", 'obama', 'k', 'maiden', 'freshened', 'rain', 'wooooo', 'sitcom', 'front', 'instrument', 'though:', 'tell', 'hampstead-on-cecil-cecil', 'chase', 'champs', 'shifty', 'rip', 'feat', 'sitar', 'mmmm', \"children's\", 'novelty', 'sometimes', 'hunger', 'moe-ron', 'busy', 'dizer', 'hate', 'mckinley', 'advice', 'nailed', 'stood', 'gumbo', 'mother', 'terrific', 'mistakes', 'boo', 'margarita', 'holidays', 'meaning', 'resigned', 'not', 'control', 'heals', \"professor's\", 'shoulders', 'slap', 'plum', 'lobster-based', 'rom', 'diaper', \"leavin'\", 'bart', 'er', 'character', 'corporation', 'morlocks', 'bees', 'bet', 'stamp', 'pink', 'refresh', 'hug', \"chewin'\", 'okay', 'meal', 'mimes', 'back', 'kneeling', 'padres', 'scanning', 'prince', 'premiering', 'illustrates', 'jam', 'tanked-up', 'attempting', 'labor', 'kidney', 'hail', 'lay', 'incredible', 'plywood', 'fl', 'vin', 'toss', 'jobless', 'warm_female_voice:', 'age', 'sodas', 'raise', 'society_matron:', 'summer', 'man:', 'buds', 'off', 'next', 'ease', 'wearing', 'birthplace', 'announcer:', 'crow', 'kings', 'warning', 'and', 'necklace', 'casual', 'hose', 'opportunity', 'toasting', 'novel', 'whistling', 'physical', 'jumping', 'perplexed', 'presentable', 'etc', \"carl's\", 'accelerating', 'triangle', 'cab_driver:', 'unusual', \"games'd\", 'sit', 'sets', 'bed', \"plank's\", 'purse', 'dreary', 'landfill', 'voodoo', 'danny', 'looooooooooooooooooong', 'maher', 'crowds', 'when', 'breathtaking', 'capuchin', 'four', \"soundin'\", 'whatsit', 'bleak', 'any', 'explain', 'leonard', 'mate', 'thanking', 'mozzarella', 'cummerbund', 'chuckles', 'boozebag', 'the', 'invisible', 'white', 'boisterous', 'vengeful', 'an', 'wittgenstein', 'barney-guarding', 'heave-ho', 'sanitary', 'gee', 'arts', \"betsy'll\", \"mopin'\", 'violations', 'generous', 'aquafresh', 'exactly', 'stillwater:', 'sports_announcer:', 'amnesia', 'dollface', 'season', 'buddy', 'bursts', 'should', \"meanin'\", 'whoopi', '1979', 'unfortunately', 'thinks', 'pad', 'malted', 'exact', 'tomorrow', 'blocked', \"gettin'\", 'greedy', 'said', \"valentine's\", 'suspended', 'touchdown', 'spender', 'blissful', 'permanent', 'scum-sucking', 'bronco', '250', 'moxie', 'sudden', 'germs', 'remorseful', 'sneak', 'complete', 'legend', 'manage', 'poster', 'sunny', 'fayed', 'decide:', 'aisle', 'johnny', 'crayon', 'fifth', 'cut', 'knocks', 'young', 'self-esteem', 'bowl', 'friend', 'teen', 'carny:', 'wears', 'new_health_inspector:', 'yard', 'hour', 'pockets', 'son', 'refreshment', \"spyin'\", 'consciousness', 'flanders', \"wearin'\", 'spelling', 'ooh', 'maude', 'phone', 'listen', 'heliotrope', \"england's\", 'expect', 'grants', 'duh', 'legal', 'just', 'young_homer:', 'dr', \"spiffin'\", 'collateral', 'teriyaki', 'stands', 'ralphie', 'fresh', \"liftin'\", 'dressing', 'effect', 'sex', 'chairman', 'mason', 'pfft', 'welcome', 'jazz', 'newly-published', 'sequel', 'beer-dorf', 'medical', 'knives', 'cooler', 'stay-puft', 'starlets', 'patient', 'severe', 'moving', 'richer', 'power', 'gotta', 'passed', 'ura', 'foodie', 'uncomfortable', \"tonight's\", 'joey', 'from', 'dum-dum', 'two', 'tax', 'humanity', 'chilly', 'ugly', 'lotta', 'what', 'fast-paced', 'string', 'anyone', 'design', 'farthest', 'shaken', 'adeleine', 'academy', 'raising', 'neil_gaiman:', 'hans:', 'ape-like', 'weekly', 'attracted', 'sleep', \"eatin'\", 'drains', 'wednesday', 'nasty', \"'round\", 'government', 'donut', 'wh', 'billion', 'underpants', 'angrily', 'unable', 'snort', 'squirrel', 'walther', \"kids'\", 'tying', \"football's\", 'plucked', 'powerful', \"s'cuse\", 'fictional', 'forbidden', 'hats', 'avenue', 'nearly', 'guest', 'foil', 'fleabag', 'motorcycle', 'tease', 'brought', 'if', 'yo', 'turns', 'sobbing', 'spooky', 'stares', \"they're\", 'schnapps', 'perfected', 'plant', 'surprise', 'can', 'tie', \"y'see\", 'ralph_wiggum:', 'pointedly', 'turkey', 'write', 'evil', 'hockey-fight', 'exasperated', '/mr', \"america's\", 'new', 'taxi', 'conclusions', 'declared', 'confidential', 'oopsie', 'cent', 'relaxed', 'elaborate', 'fortensky', 'protesting', 'secrets', 'artie', 'four-drink', 'getaway', 'gregor', 'fish', 'eu', 'publish', 'refreshingness', 'living', 'network', 'b-day', 'correction', 'sponge:', \"makin'\", 'inspiring', 'na', 'polenta', 'characteristic', 'aboard', 'bake', 'tsk', 'scientists', '||lparenthese||', 'sticking', 'shesh', 's-a-u-r-c-e', 'reciting', 'hooters', 'rector', 'agents', 'poison', 'trade', 'nickels', 'replace', 'tapered', 'bloodball', 'ding-a-ding-ding-a-ding-ding', 'tokens', 'juke', 'astonishment', 'bam', 'fortress', 'join', \"fishin'\", 'repay', 'synthesize', 'results', 'dumb', 'disturbance', 'online', 'jewish', 'ride', 'positive', 'magazine', \"'your\", 'dint', 'phrase', 'owns', 'rev', 'cheered', 'pre-recorded', 'boat', 'stagy', 'admit', 'chill', 'dies', 'mad', \"he'd\", 'stupidest', 'mystery', 'contest', 'were', 'gesture', 'noggin', 'rings', 'queen', \"cupid's\", \"workin'\", 'smells', 'bike', 'dislike', 'nobody', 'minus', 'sympathy', 'recruiter', 'sloppy', 'absolut', 'proudly', 'drapes', 'belts', 'each', 'appropriate', 'tree_hoper:', '50%', 'idea', 'literature', 'faced', 'lizard', 'oddest', 'successful', 'shoot', 'combine', 'wakede', 'competitive', 'drawer', 'supermodel', 'doof', 'astronaut', 'unrelated', 'torn', 'hexa-', 'lachrymose', 'apu', 'finally', 'fausto', 'in', 'honey', 'meatpies', 'annie', 'pridesters:', 'interested', 'chuckle', \"homer'll\", 'strokkur', 'bob', 'fold', \"mother's\", 'swig', 'jump', 'accusing', \"enjoyin'\", 'forever', 'bulletin', 'dime', 'lobster-politans', 'older', 'abcs', 'kisses', 'proposing', 'jury', 'radio', 'frenchman', 'hippies', 'hygienically', 'outlook', \"ol'\", 'dictating', 'fill', 'grandé', 'unsanitary', 'cueball', 'man_at_bar:', 'railroads', 'sick', 'leno', 'sturdy', 'recreate', 'sadder', 'harrowing', 'spiritual', 'fly', 'cares', 'grub', 'entrance', 'twelve-step', 'family', 'asses', 'fastest', 'proposition', 'grow', 'justice', 'isotopes', 'apart', 'completing', 'ventriloquism', 'widow', 'let', 'myself', 'exchanged', 'patriotic', 'expired', 'early', 'carlson', 'population', \"crawlin'\", 'stats', \"linin'\", 'conversion', 'it:', 'lise:', 'football_announcer:', \"payin'\", 'chain', 'sat-is-fac-tion', 'pigs', 'bunch', 'tentative', 'senators', 'express', 'lipo', 'scientific', 'hole', \"nothin'\", 'ashtray', 'cronies', 'phony', 'chuckling', 'yap', 'beady', 'exit', 'parked', \"callin'\", 'bitterly', 'glen:', 'joining', 'j', 'bono:', 'fit', 'noise', 'raking', \"playin'\", 'dealt', 'injury', 'um', 'bump', 'hooky', 'helpful', 'bad-mouth', 'dishrag', 'pretends', 'evening', 'predictable', 'aah', 'law-abiding', 'woooooo', 'community', 'mm-hmm', 'whup', 'thank', 'huge', 'steaming', 'lowers', 'marguerite:', \"you'll\", 'flanders:', 'pusillanimous', 'prompting', 'derek', 'mustard', 'herself', 'paparazzo', 'michelin', 'ferry', \"daughter's\", 'squashing', 'lungs', 'french', 'warmth', 'self-satisfied', 'extreme', 'favor', 'bucket', 'x-men', 'choked-up', 'giggles', 'acquitted', 'blowfish', \"puttin'\", 'most:', 'robbers', 'accurate', 'dinks', 'bliss', 'clap', 'tomatoes', 'quarter', 'people', 'kinderhook', 'reach', 'hoping', 'stool', 'endorsed', 'oil', 'eyed', \"phone's\", 'tv_father:', 'gheet', \"speakin'\", 'clears', 'grocery', 'forget-me-shot', 'loves', 'plan', 'upon', 'weak', 'middle', 'impress', 'frightened', 'yoo', 'schabadoo', 'atari', 'calling', 'dangerous', 'boxcar', 'service', 'duty', 'clown', 'nonchalant', \"i'd\", 'cream', 'won', 'alter', 'tries', \"aristotle's\", 'strategizing', 'indeedy', 'twerpy', 'true', 'mumble', 'belly-aching', 'candles', 'began', 'developed', 'adult_bart:', 'punches', 'bolting', 'misconstrue', 'sternly', 'au', 'clear', 'charter', 'charity', 'moe', \"homer's\", \"friend's\", 'quimby', 'mither', 'corn', 'moan', 'slurred', 'busiest', '||dash||', 'forbids', 'manjula', 'tiger', 'gumbel', 'show-off', 'student', 'slogan', 'jerk', 'gil_gunderson:', 'coy', 'win', 'addiction', 'man_with_tree_hat:', 'its', '||exclamationpoint||', 'wangs', 'mock', 'prayer', 'fell', 'pickled', 'banks', '||questionmark||', 'bouquet', 'device', 'linda', 'brockman', 'plug', 'gift', 'sticking-place', '1973', 'rewound', \"yesterday's\", 'in-in-in', 'luckiest', 'airport', 'beanbag', 'nervously', 'fire_inspector:', 'chinese_restaurateur:', 'e', 'forgiven', 'midge', 'pudgy', 'lady', 'putting', 'yello', 'bless', 'trench', 'der', 'book', 'wounds', 'charlie', 'l', 'unlucky', 'p-k', 'hemorrhage-amundo', 'groans', 'funny', 'lager', 'carlotta:', 'ideal', 'lead', 'british', 'overstressed', 'swatch', 'squad', 'poorer', 'guzzles', 'play', 'sister-in-law', 'notch', 'play/', 'computer', 'available', 'mickey', 'listening', 'rice', 'swan', 'botanical', 'fad', 'drunkenly', 'principal', 'afternoon', 'kentucky', 'eww', 'shades', 'burglary', 'moron', 'call', 'thunder', 'kl5-4796', \"b-52's:\", 'consulting', 'admitting', '||newline||', 'bee', 'food', 'image', 'pian-ee', 'carolina', 'retain', 'enthused', 'something:', 'frosty', 'acronyms', 'cheap', 'hafta', 'venom', 'actually', 'gin-slingers', 'teacher', 'excited', 'undermine', 'date', 'mexican', 'influence', 'congratulations', 'button', 'twins', 'souped', 'eddie:', 'upn', 'shrieks', \"'er\", 'reconsidering', 'try', 'drift', 'state', 'tenor:', 'knit', 'hawaii', 'phasing', 'cruel', 'plums', 'hmmmm', 'upgrade', 'general', 'sponge', 'handler', 'sanitation', 'sing', 'jack_larson:', 'poin-dexterous', 'y-you', 'princess', 'peabody', 'delivery_boy:', 'retired', 'gator', \"liberty's\", 'unsafe', 'probably', 'blue', 'become', 'darkest', 'reviews', 'cheryl', 'saturday', 'loud', 'divine', 'taxes', 'shyly', 'clothespins', 'booking', 'musta', \"aren't\", 'restless', 'sissy', 'macaulay', 'brace', \"shan't\", 'crayola', 'onassis', 'glitz', 'fast', 'wieners', 'remain', 'alcoholism', 'inexorable', 'attraction', 'accidents', 'furniture', 'partially', 'gas', 'other', 'said:', 'chocolate', 'those', 'dame', 'woodchucks', 'truck_driver:', 'increasingly', 'mild', 'microphone', 'alfred', 'wake', 'stupidly', 'seymour', 'wobbly', 'smokes', 'besides', 'perking', 'perfume', 'trapped', 'sealed', 'tuna', 'flourish', 'very', 'courteous', \"team's\", 'kisser', 'awww', 'advance', 'sight-unseen', 'ever', 'cheer', 'event', 'took', 'risqué', 'tense', 'conversation', 'betrayed', 'greatest', 'donate', 'newsies', 'reading:', \"tramp's\", 'free', 'teenage_bart:', 'ned', 'jeff_gordon:', 'inserts', 'yourselves', '-ry', 'ones', 'seen', 'orgasmville', 'undated', 'drinking', 'him', 'spied', 'continuum', 'remains', 'goodwill', 'made', 'avec', 'ahhhh', 'corpses', 'needy', 'naively', 'low-life', \"stayin'\", 'chips', 'satisfaction', 'texas', 'shoulder', 'stepped', 'dimly', 'harmony', 'judge', 'stores', 'nick', 'liquor', 'tolerance', 'transfer', 'thoughtful', 'black', 'listened', 'bret:', 'sobo', 'kissed', 'burning', 'housing', 'by', 'ineffective', 'mcbain', 'ginger', 'advertise', 'kegs', 'defected', 'question', 'mail', 'wally', 'sotto', 'incognito', 'kyoto', 'times', 'coherent', 'say', 'roz', 'involved', 'inside', 'birth', 'rationalizing', 'un-sults', 'sorts', 'race', 'ripping', 'environment', 'gifts', 'uh-huh', 'soaking', \"father's\", 'market', 'television', 'occupation', 'midnight', 'examples', 'pure', 'batmobile', 'cab', 'figured', 'intervention', 'day', 'notorious', 'doreen', 'test', 'bumblebee_man:', 'chateau', 'shaggy', 'temporarily', 'gossipy', 'lugs', 'cakes', 'cannot', 'wheel', 'harv:', 'habitrail', 'arrived', 'joy', 'two-drink', 'boys', 'upbeat', 'blinded', 'trouble', 'drives', 'pepper', 'tigers', \"plaster's\", 'reptile', 'tale', 'hates', 'cats', 'pack', 'detail', \"watchin'\", 'star', 'presently', 'inspired', 'strips', \"fryer's\", \"smokin'_joe_frazier:\", \"son's\", \"pressure's\", 'agreement', 'my', 'sidelines', 'minute', 'jerry', 'root', 'frink', 'inanely', 'idiots', 'lenses', \"wasn't\", 'madison', 'smug', 'cable', 'kidding', 'champion', 'hmm', 'eat', 'present', 'fund', 'surprised/thrilled', 'payments', 'sun', 'curds', 'kissingher', 'set', 'absolutely', 'ninety-nine', 'rat-like', 'bugging', 'midge:', 'wells', 'bartending', 'launch', 'lloyd:', 'roz:', \"who'll\", 'germans', 'hated', 'fighter', 'agent_johnson:', 'deny', 'breakfast', 'skirt', 'routine', 'champignons', 'background', 'carl', 'actors', 'firing', 'healthier', \"goin'\", 'paid', 'half-beer', 'tempting', 'pretentious_rat_lover:', 'triple-sec', 'lance', 'suspect', 'north', 'boxing_announcer:', 'volunteer', 'tv_announcer:', 'nuclear', 'exultant', \"cheerin'\", 'keep', 'enter', 'doy', \"ain't\", 'smelling', 'curse', \"depressin'\", 'eyeing', 'bills', 'candidate', 'solely', 'pursue', 'further', 'cheerier', 'bedtime', 'windelle', 'grubby', \"patrick's\", 'nonsense', 'burn', 'puts', 'wazoo', 'potatoes', 'comic_book_guy:', 'appear', \"ladies'\", 'college', 'albert', 'eightball', 'seas', 'even', 'stripes', 'thousand-year', 'growing', 'access', 'reader', 'achem', \"foolin'\", 'must', 'newest', 'went', 'heavens', \"feelin's\", 'build', 'nfl_narrator:', 'astrid', 'bets', 'booth', 'post-suicide', 'aged', 'ways', 'gulliver_dark:', 'dumbass', 'yee-haw', 'remote', 'homunculus', 'france', 'cleaner', 'whatever', 'morning-after', 'puzzle', 'richard:', 'koji', 'cost', 'problemo', 'bushes', 'experience', 'whaddaya', 'eighteen', 'encouraging', 'wishing', 'carney', 'uncle', 'la', \"dyin'\", 'patron_#2:', 'suppose', 'cars', 'ears', 'coaster', 'carefully', 'firmly', 'shag', 'dump', \"this'll\", 'ha-ha', 'ahem', 'saucy', 'burger', 'terrifying', 'quitcher', 'stocking', 'behavior', 'forgive', 'startled', 'painless', 'anguished', 'catching', 'goods', 'wood', 'steam', 'federal', 'confused', 'business', 'grunts', 'jig', 'add', 'unhook', 'trash', \"pope's\", 'lights', 'sail', 'return', 'test-', 'shindig', 'distraught', 'shrugging', 'sneering', 'dear', 'reactions', 'seething', 'activity', 'rules', \"fun's\", 'every', 'following', 'answer', 'ding-a-ding-ding-ding-ding-ding-ding', 'up', 'whoo', 'hop', 'ingredient', 'stage', '_montgomery_burns:', 'slobs', 'pee', 'hundred', 'with', 'glass', 'dana_scully:', 'blob', 'daddy', 'half', 'relaxing', 'warily', 'arguing', 'milks', 'ads', 'sangre', 'greetings', \"how's\", 'gargoyle', 'lifters', 'get', \"hawkin'\", 'meant', 'expose', 'lucinda', 'tons', \"can'tcha\", 'bail', 'and/or', 'brusque', 'various', 'eye-gouger', 'germany', 'truth', 'icelandic', 'pushes', 'weeks', 'offended', 'minimum', 'trashed', 'pen', 'partner', 'sniffing', 'lied', 'bigger', \"hell's\", 'walther_hotenhoffer:', 'got', 'fury', 'elite', 'skoal', 'hilarious', 'egg', \"'kay-zugg'\", 'suck', 'americans', 'begins', 'radiation', 'distributor', 'nine', 'perfunctory', 'nucular', 'dinner', 'camera', 'impending', 'bupkus', 'bathed', 'pantry', 'princesses', 'coward', 'consoling', 'is', 'pleased', 'majority', 'died', 'nigerian', 'rabbits', 'looked', 'knowingly', 'figures', 'empty', 'marvin', 'done', 'end', 'aghast', 'center', 'whatcha', 'watered', 'dawning', 'steely-eyed', 'contemptuous', 'dropping', 'may', 'class', 'charged', 'telegraph', 'faint', 'slaves', 'indifferent', \"duelin'\", 'forgets', 'eager', 'papa', 'stops', 'geyser', 'beings', 'marquee', 'tomato', 'apu_nahasapeemapetilon:', 'computer_voice_2:', 'tyson/secretariat', 'orphan', 'group', 'counting', 'am', 'a-lug', 'woman', 'evasive', 'shill', 'west', 'known', 'blinds', 'blood', \"summer's\", 'victim', 'shop', 'offshoot', \"don'tcha\", 'fall', 'feld', 'sexton', 'is:', 'ralph', \"it'll\", 'invented', 'pint', 'cologne', 'incarcerated', 'closing', 'lis', 'omit', 'convenient', 'pays', 'buddies', 'beard', 'grey', 'ing', 'groan', 'hollye', \"tester's\", 'old', \"we'd\", 'sink', 'anymore', 'skinny', 'cat', 'swishkabobs', 'cooking', 'closet', 'alfalfa', 'overturned', 'cosmetics', \"family's\", 'arm', 'eggshell', 'pre-game', 'dumptruck', 'suit', 'defiantly', 'asks', 'gol-dangit', 'selma_bouvier:', 'rush', 'stickers', 'talkers', 'pleading', 'license', 'ziffcorp', 'forty', 'leaving', 'six', 'compadre', \"buffalo's\", 'marriage', \"who'da\", 'meals', 'darts', 'pushing', 'murmurs', 'trucks', 'frazier', '||dott||', 'per', 'fight', 'stained-glass', 'rotten', 'sustain', 'knuckles', 'average', 'produce', 'journey', 'please', 'she-pu', 'occupancy', 'bubble', 'romantic', 'fixed', \"others'\", 'candy', 'edna-lover-one-seventy-two', 'heck', 'ought', 'rekindle', 'chapel', 'lousy', 'cross-country', 'politics', \"who's\", 'calls', 'branding', 'price', 'underwear', 'sweetly', 'jer', 'pip', 'alphabet', \"stallin'\", 'coffee', \"hole'\", 'willy', 'mug', 'bidet', 'dank', 'night-crawlers', 'cadillac', 'players', 'switch', 'strategy', \"they've\", \"world's\", 'referee', 'senators:', 'hears', 'democrats', 'brief', 'month', 'sedaris', 'chumbawamba', 'urine', 'common', 'writer:', \"he's\", 'photos', 'lists', 'skinner', 'cesss', 'privacy', 'geysir', 'bum:', 'tear', 'rolling', 'when-i-get-a-hold-of-you', 'focused', 'spanish', 'fatso', 'hops', 'jail', 'drummer', 'swooning', 'professional', 'freedom', 'graveyard', 'choose', 'dae', 'kindly', \"'pu\", 'ziff', 'accept', 'militia', 'procedure', 'bachelor', 'enjoyed', 'compliment', 'pin', 'talkative', 'laughing', 'statue', 'sauce', 'stools', \"s'pose\", 'authenticity', 'reaching', 'conspiratorial', 'grease', 'keeps', 'glummy', 'headhunters', 'single', 'updated', 'shush', 'boneheaded', 'aiden', 'arab_man:', 'delicious', 'virtual', 'gentleman:', 'nineteen', 'wha', 'diablo', 'trunk', 'bedroom', 'f', 'sledge-hammer', 'scrutinizes', 'spy', 'wondered', 'reliable', 'bar-boy', 'ooo', 'diddilies', 'popular', 'amiable', 'killjoy', 'moved', 'rods', 'blossoming', 'itchy', 'dexterous', \"you'd\", 'effects', 'drug', 'planet', 'surprising', 'indifference', 'scratching', \"cashin'\", \"sat's\", 'standing', 'kills', 'heads', 'die', 'oh-ho', 'faiths', 'code', '35', 'nose', \"men's\", 'softer', '_powers:', 'shoots', 'fat', 'teach', 'pop', 'means', 'talking', 'funds', 'store-bought', 'yup', 'male_singers:', 'thrown', 'lumpa', 'week', 'stab', 'awe', 'sentimonies', 'familiar', 'fox', 'gag', 'laws', 'klingon', 'handshake', 'pipes', 'peeved', 'minutes', 'debonair', 'ragtime', 'rem', 'jeers', 'pancakes', 'libido', 'four-star', 'rockers', 'priest', 'pleasant', 'lessee', '100', 'cap', 'artie_ziff:', 'aims', 'entering', 'wayne:', 'premise', 'sweeter', 'some', 'twenty-six', 'rusty', 'roses', 'dropped', 'served', 'impeach', 'elves:', 'scrape', 'ahead', 'mice', 'homer', 'charlie:', 'divorced', 'size', 'rasputin', 'certified', 'nbc', \"scammin'\", 'duffman:', 'stuff', 'funniest', 'pretzel', 'haiti', 'shooting', 'edelbrock', 'flames', \"battin'\", 'located', 'stranger:', \"cleanin'\", 'drawing', 'pews', 'cases', \"s'okay\", 'gig', 'wrestling', 'burps', 'cola', 'while', 'industry', 'rapidly', 'broom', 'earrings', 'has', 'hardwood', 'paste', 'chick', 'bit', 'crazy', 'lou:', 'wordloaf', 'worth', 'joey_kramer:', 'lifetime', 'suing', 'ointment', 'distance', 'ballot', 'what-for', 'twentieth', 'felony', 'selling', 'slurps', 'cool', 'furious', 'fancy', 'cake', 'signed', 'months', 'dude', 'saw', 'mulder', 'ate', 'holiday', 'nein', 'daniel', 'protestantism', 'crestfallen', 'lonely', 'mouth', 'rookie', 'scream', 'urinal', 'shove', 'understanding', 'salary', 'published', 'throat', 'voice', 'conditioner', \"hangin'\", 'music', 'original', 'represents', 'faulkner', 'their', 'wantcha', 'wrapped', 'beats', 'cameras', 'alone', 'puff', 'quero', 'exclusive:', 'bad', 'hydrant', 'dispenser', 'joke', 'blows', 'twice', \"lady's\", 'quickly', 'career', 'ron_howard:', 'rented', 'c', 'slapped', 'sunk', 'ze-ro', 'tv_husband:', 'encore', 'place', 'officer', 'temp', 'plain', 'jay:', 'uh-oh', 'fondest', \"elmo's\", 'flophouse', 'rife', 'crank', 'presidential', 'asked', 'chance', 'manjula_nahasapeemapetilon:', 'contemplates', 'plenty', 'finance', 'koholic', 'erasers', 'ditched', 'jackass', \"c'mom\", 'happily:', 'equal', 'friendship', 'guessing', 'chubby', 'dollar', 'cyrano', 'better', 'enthusiastically', 'zack', 'scarf', 'sideshow', 'shortcomings', \"brady's\", 'grandiose', 'cute', 'deep', 'adopted', 'term', 'brings', 'briefly', 'book_club_member:', 'instantly', \"swishifyin'\", 'kemi', 'animals', 'donut-shaped', 'please/', 'dutch', 'vincent', 'homer_simpson:', 'devastated', 'polish', 'certain', \"g'on\", 'around', 'villanova', 'read:', 'maman', 'helicopter', 'reason', 'been', 'skills', 'knowing', 'guilt', 'family-owned', 'julienne', 'gruff', 'plus', 'i-i-i', 'resist', 'easier', 'huhza', 'told', 'weird', 'radical', 'international', 'junebug', \"starla's\", 'one', 'mill', 'salvation', 'dreamily', \"mtv's\", 'fuss', 'super', '_marvin_monroe:', 'most', 'package', 'wolfcastle', 'deadly', 'jackson', 'backward', 'happier', 'irishman', 'delightfully', 'musses', 'plow', 'land', 'vance', 'eggs', 'lock', 'crowned', 'mixed', 'beeps', 'rig', 'grace', 'hibbert', 'restroom', \"ball's\", 'committing', 'stand', 'parking', 'links', 'alright', 'frozen', 'opens', 'head', 'hold', 'hardy', 'seems', 'boxcars', 'fonzie', 'infestation', 'muffled', 'extremely', 'tooth', 'goo', 'krabappel', 'stirring', 'wildest', 'fiiiiile', 'nerd', 'hoo', 'scram', 'sneeze', 'gallon', 'peppers', 'pigtown', 'bible', 'tremendous', 'anyway', 'troy_mcclure:', 'comfortable', 'deacon', 'nervous', 'legs', \"brockman's\", 'knew', 'xx', 'bartenders', 'miss_lois_pennycandy:', 'prep', 'almond', \"knockin'\", 'firm', \"calf's\", 'strangles', 'sweaty', 'designated', 'cell-ee', 'killed', 'tracks', 'limericks', 'tow-talitarian', 'sleigh-horses', 'whoa-ho', 'here', 'standards', 'rickles', 'kemi:', 'bird', 'sec_agent_#2:', 'beautiful', 'compressions', 'arimasen', 'author', 'does', 'bourbon', 'inspection', 'hero', 'despite', 'listens', 'boned', 'big', 'refund', 'heavyweight', 'you', 'specialists', 'survive', 'dentist', 'running', 'gives', 'amazed', 'other_book_club_member:', 'causes', 'total', 'spirit', 'whirlybird', 'honeys', 'runt', 'straight', 'veux', 'dealer', 'past', 'gold', 'windex', 'america', 'unusually', 'peeping', 'x', 'weirder', 'dog', 'fella', 'audience', 'keys', 'shakespeare', 'crunch', 'foot', 'numeral', 'someplace', \"snappin'\", 'pumping', 'straining', 'tablecloth', 'unkempt', 'yew', 'buffalo', 'bowled', 'ehhh', 'moans', 'kissing', 'seamstress', 'vegas', 'hugh', 'sistine', 'wildfever', 'zero', 'flower', 'lingus', 'flag', 'yak', 'moe-clone:', 'marry', 'wrecking', 'nachos', 'glorious', 'tastes', 'smallest', 'cecil_terwilliger:', 'recall', 'fighting', \"wouldn't-a\", 'snow', 'highest', 'media', 'los', 'rupert_murdoch:', \"lovers'\", 'windowshade', 'backwards', 'circus', 'level', \"what'll\", 'koi', 'awed', 'app', 'way', 'certainly', 'stir', 'balloon', 'voyager', 'chuck', 'sniffles', 'treats', 'bowie', 'friday', 'recently', 'dull', 'worldview', '6', 'mistake', 'undies', 'pause', 'writers', 'innocent', 'eyeball', 'passports', \"'\", \"bart's\", 'disapproving', 'playful', 'whiny', 'years', 'badly', 'attractive_woman_#2:', 'wow', 'gear-head', 'africa', 'gums', 'loan', 'tried', 'sue', 'barflies:', 'blame', 'poetics', \"what're\", '||comma||', \"ragin'\", 'homesick', 'delivery', 'frustrated', 'plans', 'cauliflower', 'reminded', 'nice', 'rub', \"poundin'\", 'negative', 'bag', 'snap', 'verdict', \"tryin'\", 'skin', 'sec', 'grampa_simpson:', 'persia', 'hank_williams_jr', 'best', 'lemme', 'amanda', 'mob', \"robbin'\", 'insensitive', 'reckless', 'stories', 'mister', \"bart'd\", 'haircuts', 'bunion', 'timbuk-tee', 'yep', 'peppy', '3', 'lushmore', 'cocktail', 'teams', 'effervescence', 'friend:', 'offense', 'agent_miller:', 'bulldozing', 'spend', 'aerospace', \"where'd\", 'crisis', 'piece', 'hurt', 'brooklyn', 'hyper-credits', 'life-sized', 'splendid', 'annual', 'decision', 'larson', 'shores', 'excuse', 'denser', 'drinking:', 'mr', 'little_hibbert_girl:', 'created', 'think', 'pressure', 'occurrence', 'shareholder', 'today', 'picture', 'obsessive-compulsive', 'clubs', 'works', 'seductive', 'whenever', 'bounced', 'assert', 'pizza', 'neighbors', 'moe_szyslak:', 'aunt', 'falling', 'sounds', 'coupon', \"breakin'\", 'poke', 'ah-ha', 'ayyy', 'point', 'spacey', 'face', 'y', 'regret', 'reflected', 'yeah', 'tatum', 'ticket', 'why', 'glyco-load', 'called', 'sleeps', 'jokes', 'backgammon', 'racially-diverse', 'billiard', 'dreamed', 'dryer', 'a-b-', 'joe', 'needs', 'murderously', 'oughtta', 'ready', 'all:', 'presents', 'regretted', 'heading', 'tolerable', \"g'ahead\", 'swallowed', 'dea-d-d-dead', 'permitting', 'writing', 'strictly', 'brainiac', 'mocking', 'olive', 'felt', 'pathetic', 'assent', 'wishes', \"tatum'll\", 'lord', 'protecting', 'hike', 'promised', 'thirty', 'eighty-three', 'lime', 'las', 'touched', 'mumbling', 'important', 'rest', 'jamaican', 'losing', 'men', 'rainforest', 'fact', 'crippling', 'guns', 'hillbillies', 'hardhat', 'wish-meat', 'freely', 'dramatic', 'channel', 'speech', 'cops', 'selective', \"drivin'\", 'dee-fense', 'ons', 'virile', 'mcstagger', 'wound', 'which', 'fence', 'supports', 'audience:', 'wizard', 'jolly', 'aristotle:', 'therapist', 'patrons:', 'bust', 'calendars', 'jerky', 'devils:', 'catch', 'spouses', 'billy_the_kid:', 'cracked', 'supreme', 'plaintive', 'elocution', 'caper', 'afford', 'tape', 'everyday', 'sympathizer', 'putty', 'did', 'cleveland', \"man's\", 'chief_wiggum:', 'send', 'large', 'bugs', 'sweetest', 'specific', 'steampunk', 'clandestine', 'drunks', 'mm', 'adequate', 'happens', 'ned_flanders:', 'scatter', 'choices:', 'yoink', 'gibson', 'brassiest', 'thirty-three', 'states', 'jaegermeister', 'genuinely', 'moe-near-now', 'later', 'part', 'informant', 'saga', 'mint', 'spits', 'lenny:', 'everything', 'dance', 'horrible', 'al_gore:', 'problem', 'grateful', 'administration', 'harm', 'directions'}\n"
     ]
    }
   ],
   "source": [
    "\"\"\"\n",
    "DON'T MODIFY ANYTHING IN THIS CELL\n",
    "\"\"\"\n",
    "# Preprocess Training, Validation, and Testing Data\n",
    "helper.preprocess_and_save_data(data_dir, token_lookup, create_lookup_tables)"
   ]
  },
  {
   "cell_type": "markdown",
   "metadata": {
    "deletable": true,
    "editable": true
   },
   "source": [
    "# Check Point\n",
    "This is your first checkpoint. If you ever decide to come back to this notebook or have to restart the notebook, you can start from here. The preprocessed data has been saved to disk."
   ]
  },
  {
   "cell_type": "code",
   "execution_count": 2,
   "metadata": {
    "collapsed": false,
    "deletable": true,
    "editable": true
   },
   "outputs": [],
   "source": [
    "\"\"\"\n",
    "DON'T MODIFY ANYTHING IN THIS CELL\n",
    "\"\"\"\n",
    "import helper\n",
    "import numpy as np\n",
    "import problem_unittests as tests\n",
    "\n",
    "int_text, vocab_to_int, int_to_vocab, token_dict = helper.load_preprocess()"
   ]
  },
  {
   "cell_type": "code",
   "execution_count": 3,
   "metadata": {
    "collapsed": false
   },
   "outputs": [
    {
     "data": {
      "text/plain": [
       "6779"
      ]
     },
     "execution_count": 3,
     "metadata": {},
     "output_type": "execute_result"
    }
   ],
   "source": [
    "len(int_to_vocab)"
   ]
  },
  {
   "cell_type": "markdown",
   "metadata": {
    "deletable": true,
    "editable": true
   },
   "source": [
    "## Build the Neural Network\n",
    "You'll build the components necessary to build a RNN by implementing the following functions below:\n",
    "- get_inputs\n",
    "- get_init_cell\n",
    "- get_embed\n",
    "- build_rnn\n",
    "- build_nn\n",
    "- get_batches\n",
    "\n",
    "### Check the Version of TensorFlow and Access to GPU"
   ]
  },
  {
   "cell_type": "code",
   "execution_count": 4,
   "metadata": {
    "collapsed": false
   },
   "outputs": [
    {
     "name": "stdout",
     "output_type": "stream",
     "text": [
      "TensorFlow Version: 1.0.0\n"
     ]
    },
    {
     "name": "stderr",
     "output_type": "stream",
     "text": [
      "/home/biliuta/anaconda3/envs/tensorflow/lib/python3.5/site-packages/ipykernel/__main__.py:14: UserWarning: No GPU found. Please use a GPU to train your neural network.\n"
     ]
    }
   ],
   "source": [
    "\"\"\"\n",
    "DON'T MODIFY ANYTHING IN THIS CELL\n",
    "\"\"\"\n",
    "from distutils.version import LooseVersion\n",
    "import warnings\n",
    "import tensorflow as tf\n",
    "\n",
    "# Check TensorFlow Version\n",
    "assert LooseVersion(tf.__version__) >= LooseVersion('1.0'), 'Please use TensorFlow version 1.0 or newer'\n",
    "print('TensorFlow Version: {}'.format(tf.__version__))\n",
    "\n",
    "# Check for a GPU\n",
    "if not tf.test.gpu_device_name():\n",
    "    warnings.warn('No GPU found. Please use a GPU to train your neural network.')\n",
    "else:\n",
    "    print('Default GPU Device: {}'.format(tf.test.gpu_device_name()))"
   ]
  },
  {
   "cell_type": "markdown",
   "metadata": {},
   "source": [
    "### Input\n",
    "Implement the `get_inputs()` function to create TF Placeholders for the Neural Network.  It should create the following placeholders:\n",
    "- Input text placeholder named \"input\" using the [TF Placeholder](https://www.tensorflow.org/api_docs/python/tf/placeholder) `name` parameter.\n",
    "- Targets placeholder\n",
    "- Learning Rate placeholder\n",
    "\n",
    "Return the placeholders in the following the tuple `(Input, Targets, LearingRate)`"
   ]
  },
  {
   "cell_type": "code",
   "execution_count": 5,
   "metadata": {
    "collapsed": false,
    "deletable": true,
    "editable": true
   },
   "outputs": [
    {
     "name": "stdout",
     "output_type": "stream",
     "text": [
      "Tests Passed\n"
     ]
    }
   ],
   "source": [
    "def get_inputs():\n",
    "    \"\"\"\n",
    "    Create TF Placeholders for input, targets, and learning rate.\n",
    "    :return: Tuple (input, targets, learning rate)\n",
    "    \"\"\"\n",
    "    # TODO: Implement Function\n",
    "    inputs = tf.placeholder(tf.int32, shape=[None, None],name='input')\n",
    "    targets = tf.placeholder(tf.int32, shape=[None, None], name='target')\n",
    "    lrn_rate = tf.placeholder(tf.float32)\n",
    "    return (inputs, targets, lrn_rate)\n",
    "\n",
    "\n",
    "\"\"\"\n",
    "DON'T MODIFY ANYTHING IN THIS CELL THAT IS BELOW THIS LINE\n",
    "\"\"\"\n",
    "tests.test_get_inputs(get_inputs)"
   ]
  },
  {
   "cell_type": "markdown",
   "metadata": {
    "deletable": true,
    "editable": true
   },
   "source": [
    "### Build RNN Cell and Initialize\n",
    "Stack one or more [`BasicLSTMCells`](https://www.tensorflow.org/api_docs/python/tf/contrib/rnn/BasicLSTMCell) in a [`MultiRNNCell`](https://www.tensorflow.org/api_docs/python/tf/contrib/rnn/MultiRNNCell).\n",
    "- The Rnn size should be set using `rnn_size`\n",
    "- Initalize Cell State using the MultiRNNCell's [`zero_state()`](https://www.tensorflow.org/api_docs/python/tf/contrib/rnn/MultiRNNCell#zero_state) function\n",
    "    - Apply the name \"initial_state\" to the initial state using [`tf.identity()`](https://www.tensorflow.org/api_docs/python/tf/identity)\n",
    "\n",
    "Return the cell and initial state in the following tuple `(Cell, InitialState)`"
   ]
  },
  {
   "cell_type": "code",
   "execution_count": 6,
   "metadata": {
    "collapsed": false,
    "deletable": true,
    "editable": true
   },
   "outputs": [
    {
     "name": "stdout",
     "output_type": "stream",
     "text": [
      "Tests Passed\n"
     ]
    }
   ],
   "source": [
    "def get_init_cell(batch_size, rnn_size):\n",
    "    \"\"\"\n",
    "    Create an RNN Cell and initialize it.\n",
    "    :param batch_size: Size of batches\n",
    "    :param rnn_size: Size of RNNs\n",
    "    :return: Tuple (cell, initialize state)\n",
    "    \"\"\"\n",
    "    # TODO: Implement Function\n",
    "    lstm = tf.contrib.rnn.BasicLSTMCell(rnn_size)\n",
    "    #drop = tf.contrib.rnn.DropoutWrapper(lstm, output_keep_prob=keep_prob)\n",
    "    cell = tf.contrib.rnn.MultiRNNCell([lstm] * 2)\n",
    "    initial_state = cell.zero_state(batch_size, tf.float32)\n",
    "    initial_state = tf.identity(initial_state, name=\"initial_state\")\n",
    "    return (cell, initial_state)\n",
    "\n",
    "\n",
    "\"\"\"\n",
    "DON'T MODIFY ANYTHING IN THIS CELL THAT IS BELOW THIS LINE\n",
    "\"\"\"\n",
    "tests.test_get_init_cell(get_init_cell)"
   ]
  },
  {
   "cell_type": "markdown",
   "metadata": {
    "deletable": true,
    "editable": true
   },
   "source": [
    "### Word Embedding\n",
    "Apply embedding to `input_data` using TensorFlow.  Return the embedded sequence."
   ]
  },
  {
   "cell_type": "code",
   "execution_count": 7,
   "metadata": {
    "collapsed": false,
    "deletable": true,
    "editable": true
   },
   "outputs": [
    {
     "name": "stdout",
     "output_type": "stream",
     "text": [
      "Tests Passed\n"
     ]
    }
   ],
   "source": [
    "import math\n",
    "def get_embed(input_data, vocab_size, embed_dim):\n",
    "    \"\"\"\n",
    "    Create embedding for <input_data>.\n",
    "    :param input_data: TF placeholder for text input.\n",
    "    :param vocab_size: Number of words in vocabulary.\n",
    "    :param embed_dim: Number of embedding dimensions\n",
    "    :return: Embedded input.\n",
    "    \"\"\"\n",
    "    # TODO: Implement Function\n",
    "    embeddings = tf.Variable(tf.random_uniform([vocab_size, embed_dim], -1.0, 1.0))\n",
    "    \n",
    "    weights = tf.Variable(tf.truncated_normal([vocab_size, embed_dim],\n",
    "                      stddev=1.0 / math.sqrt(embed_dim)))\n",
    "    \n",
    "    embd = tf.nn.embedding_lookup(weights, input_data)\n",
    "    \n",
    "    return embd\n",
    "\n",
    "\n",
    "\"\"\"\n",
    "DON'T MODIFY ANYTHING IN THIS CELL THAT IS BELOW THIS LINE\n",
    "\"\"\"\n",
    "tests.test_get_embed(get_embed)"
   ]
  },
  {
   "cell_type": "markdown",
   "metadata": {
    "deletable": true,
    "editable": true
   },
   "source": [
    "### Build RNN\n",
    "You created a RNN Cell in the `get_init_cell()` function.  Time to use the cell to create a RNN.\n",
    "- Build the RNN using the [`tf.nn.dynamic_rnn()`](https://www.tensorflow.org/api_docs/python/tf/nn/dynamic_rnn)\n",
    " - Apply the name \"final_state\" to the final state using [`tf.identity()`](https://www.tensorflow.org/api_docs/python/tf/identity)\n",
    "\n",
    "Return the outputs and final_state state in the following tuple `(Outputs, FinalState)` "
   ]
  },
  {
   "cell_type": "code",
   "execution_count": 8,
   "metadata": {
    "collapsed": false,
    "deletable": true,
    "editable": true
   },
   "outputs": [
    {
     "name": "stdout",
     "output_type": "stream",
     "text": [
      "Tests Passed\n"
     ]
    }
   ],
   "source": [
    "def build_rnn(cell, inputs):\n",
    "    \"\"\"\n",
    "    Create a RNN using a RNN Cell\n",
    "    :param cell: RNN Cell\n",
    "    :param inputs: Input text data\n",
    "    :return: Tuple (Outputs, Final State)\n",
    "    \"\"\"\n",
    "    # TODO: Implement Function\n",
    "    \n",
    "    outputs, final_state = tf.nn.dynamic_rnn(cell, inputs,dtype=tf.float32)\n",
    "    final_state = tf.identity(final_state, name=\"final_state\")\n",
    "    \n",
    "    return (outputs, final_state)\n",
    "\n",
    "\n",
    "\"\"\"\n",
    "DON'T MODIFY ANYTHING IN THIS CELL THAT IS BELOW THIS LINE\n",
    "\"\"\"\n",
    "tests.test_build_rnn(build_rnn)"
   ]
  },
  {
   "cell_type": "markdown",
   "metadata": {
    "deletable": true,
    "editable": true
   },
   "source": [
    "### Build the Neural Network\n",
    "Apply the functions you implemented above to:\n",
    "- Apply embedding to `input_data` using your `get_embed(input_data, vocab_size, embed_dim)` function.\n",
    "- Build RNN using `cell` and your `build_rnn(cell, inputs)` function.\n",
    "- Apply a fully connected layer with a linear activation and `vocab_size` as the number of outputs.\n",
    "\n",
    "Return the logits and final state in the following tuple (Logits, FinalState) "
   ]
  },
  {
   "cell_type": "code",
   "execution_count": 9,
   "metadata": {
    "collapsed": false,
    "deletable": true,
    "editable": true
   },
   "outputs": [
    {
     "name": "stdout",
     "output_type": "stream",
     "text": [
      "Tests Passed\n"
     ]
    }
   ],
   "source": [
    "def build_nn(cell, rnn_size, input_data, vocab_size):\n",
    "    \"\"\"\n",
    "    Build part of the neural network\n",
    "    :param cell: RNN cell\n",
    "    :param rnn_size: Size of rnns\n",
    "    :param input_data: Input data\n",
    "    :param vocab_size: Vocabulary size\n",
    "    :return: Tuple (Logits, FinalState)\n",
    "    \"\"\"\n",
    "    # TODO: Implement Function\n",
    "    \n",
    "    emb_input = get_embed(input_data, vocab_size, 200)\n",
    "    outputs, finalst = build_rnn(cell, emb_input)\n",
    "    full_output = tf.contrib.layers.fully_connected(outputs,vocab_size,weights_initializer = tf.truncated_normal_initializer(stddev = 0.01), \n",
    "                                             activation_fn=None)\n",
    "    \n",
    "    return (full_output, finalst)\n",
    "\n",
    "\n",
    "\"\"\"\n",
    "DON'T MODIFY ANYTHING IN THIS CELL THAT IS BELOW THIS LINE\n",
    "\"\"\"\n",
    "tests.test_build_nn(build_nn)"
   ]
  },
  {
   "cell_type": "markdown",
   "metadata": {
    "deletable": true,
    "editable": true
   },
   "source": [
    "### Batches\n",
    "Implement `get_batches` to create batches of input and targets using `int_text`.  The batches should be a Numpy array with the shape `(number of batches, 2, batch size, sequence length)`. Each batch contains two elements:\n",
    "- The first element is a single batch of **input** with the shape `[batch size, sequence length]`\n",
    "- The second element is a single batch of **targets** with the shape `[batch size, sequence length]`\n",
    "\n",
    "If you can't fill the last batch with enough data, drop the last batch.\n",
    "\n",
    "For exmple, `get_batches([1, 2, 3, 4, 5, 6, 7, 8, 9, 10, 11, 12, 13, 14, 15], 2, 3)` would return a Numpy array of the following:\n",
    "```\n",
    "[\n",
    "  # First Batch\n",
    "  [\n",
    "    # Batch of Input\n",
    "    [[ 1  2  3], [ 7  8  9]],\n",
    "    # Batch of targets\n",
    "    [[ 2  3  4], [ 8  9 10]]\n",
    "  ],\n",
    " \n",
    "  # Second Batch\n",
    "  [\n",
    "    # Batch of Input\n",
    "    [[ 4  5  6], [10 11 12]],\n",
    "    # Batch of targets\n",
    "    [[ 5  6  7], [11 12 13]]\n",
    "  ]\n",
    "]\n",
    "```"
   ]
  },
  {
   "cell_type": "code",
   "execution_count": 16,
   "metadata": {
    "collapsed": false,
    "deletable": true,
    "editable": true
   },
   "outputs": [
    {
     "ename": "AttributeError",
     "evalue": "'list' object has no attribute 'shape'",
     "output_type": "error",
     "traceback": [
      "\u001b[0;31m---------------------------------------------------------------------------\u001b[0m",
      "\u001b[0;31mTypeError\u001b[0m                                 Traceback (most recent call last)",
      "\u001b[0;32m/home/biliuta/anaconda3/envs/tensorflow/lib/python3.5/site-packages/numpy/lib/shape_base.py\u001b[0m in \u001b[0;36msplit\u001b[0;34m(ary, indices_or_sections, axis)\u001b[0m\n\u001b[1;32m    501\u001b[0m     \u001b[0;32mtry\u001b[0m\u001b[0;34m:\u001b[0m\u001b[0;34m\u001b[0m\u001b[0m\n\u001b[0;32m--> 502\u001b[0;31m         \u001b[0mlen\u001b[0m\u001b[0;34m(\u001b[0m\u001b[0mindices_or_sections\u001b[0m\u001b[0;34m)\u001b[0m\u001b[0;34m\u001b[0m\u001b[0m\n\u001b[0m\u001b[1;32m    503\u001b[0m     \u001b[0;32mexcept\u001b[0m \u001b[0mTypeError\u001b[0m\u001b[0;34m:\u001b[0m\u001b[0;34m\u001b[0m\u001b[0m\n",
      "\u001b[0;31mTypeError\u001b[0m: object of type 'int' has no len()",
      "\nDuring handling of the above exception, another exception occurred:\n",
      "\u001b[0;31mAttributeError\u001b[0m                            Traceback (most recent call last)",
      "\u001b[0;32m<ipython-input-16-60c4e11af0ef>\u001b[0m in \u001b[0;36m<module>\u001b[0;34m()\u001b[0m\n\u001b[1;32m     25\u001b[0m \u001b[0mDON\u001b[0m\u001b[0;31m'\u001b[0m\u001b[0mT\u001b[0m \u001b[0mMODIFY\u001b[0m \u001b[0mANYTHING\u001b[0m \u001b[0mIN\u001b[0m \u001b[0mTHIS\u001b[0m \u001b[0mCELL\u001b[0m \u001b[0mTHAT\u001b[0m \u001b[0mIS\u001b[0m \u001b[0mBELOW\u001b[0m \u001b[0mTHIS\u001b[0m \u001b[0mLINE\u001b[0m\u001b[0;34m\u001b[0m\u001b[0m\n\u001b[1;32m     26\u001b[0m \"\"\"\n\u001b[0;32m---> 27\u001b[0;31m \u001b[0mtests\u001b[0m\u001b[0;34m.\u001b[0m\u001b[0mtest_get_batches\u001b[0m\u001b[0;34m(\u001b[0m\u001b[0mget_batches\u001b[0m\u001b[0;34m)\u001b[0m\u001b[0;34m\u001b[0m\u001b[0m\n\u001b[0m",
      "\u001b[0;32m/home/biliuta/Downloads/deep/LND-Your-First-Network/project3/problem_unittests.py\u001b[0m in \u001b[0;36mtest_get_batches\u001b[0;34m(get_batches)\u001b[0m\n\u001b[1;32m     77\u001b[0m         \u001b[0mtest_seq_length\u001b[0m \u001b[0;34m=\u001b[0m \u001b[0;36m5\u001b[0m\u001b[0;34m\u001b[0m\u001b[0m\n\u001b[1;32m     78\u001b[0m         \u001b[0mtest_int_text\u001b[0m \u001b[0;34m=\u001b[0m \u001b[0mlist\u001b[0m\u001b[0;34m(\u001b[0m\u001b[0mrange\u001b[0m\u001b[0;34m(\u001b[0m\u001b[0;36m1000\u001b[0m\u001b[0;34m*\u001b[0m\u001b[0mtest_seq_length\u001b[0m\u001b[0;34m)\u001b[0m\u001b[0;34m)\u001b[0m\u001b[0;34m\u001b[0m\u001b[0m\n\u001b[0;32m---> 79\u001b[0;31m         \u001b[0mbatches\u001b[0m \u001b[0;34m=\u001b[0m \u001b[0mget_batches\u001b[0m\u001b[0;34m(\u001b[0m\u001b[0mtest_int_text\u001b[0m\u001b[0;34m,\u001b[0m \u001b[0mtest_batch_size\u001b[0m\u001b[0;34m,\u001b[0m \u001b[0mtest_seq_length\u001b[0m\u001b[0;34m)\u001b[0m\u001b[0;34m\u001b[0m\u001b[0m\n\u001b[0m\u001b[1;32m     80\u001b[0m \u001b[0;34m\u001b[0m\u001b[0m\n\u001b[1;32m     81\u001b[0m         \u001b[0;31m# Check type\u001b[0m\u001b[0;34m\u001b[0m\u001b[0;34m\u001b[0m\u001b[0m\n",
      "\u001b[0;32m<ipython-input-16-60c4e11af0ef>\u001b[0m in \u001b[0;36mget_batches\u001b[0;34m(int_text, batch_size, seq_length)\u001b[0m\n\u001b[1;32m     14\u001b[0m     \u001b[0my\u001b[0m \u001b[0;34m=\u001b[0m \u001b[0mint_text\u001b[0m\u001b[0;34m[\u001b[0m\u001b[0;36m1\u001b[0m\u001b[0;34m:\u001b[0m \u001b[0mnum_batches\u001b[0m\u001b[0;34m*\u001b[0m\u001b[0mbatch_size\u001b[0m\u001b[0;34m*\u001b[0m \u001b[0mseq_length\u001b[0m \u001b[0;34m+\u001b[0m \u001b[0;36m1\u001b[0m\u001b[0;34m]\u001b[0m\u001b[0;34m\u001b[0m\u001b[0m\n\u001b[1;32m     15\u001b[0m \u001b[0;34m\u001b[0m\u001b[0m\n\u001b[0;32m---> 16\u001b[0;31m     \u001b[0mx\u001b[0m \u001b[0;34m=\u001b[0m \u001b[0mnp\u001b[0m\u001b[0;34m.\u001b[0m\u001b[0mstack\u001b[0m\u001b[0;34m(\u001b[0m\u001b[0mnp\u001b[0m\u001b[0;34m.\u001b[0m\u001b[0msplit\u001b[0m\u001b[0;34m(\u001b[0m\u001b[0mx\u001b[0m\u001b[0;34m,\u001b[0m \u001b[0mbatch_size\u001b[0m\u001b[0;34m)\u001b[0m\u001b[0;34m)\u001b[0m\u001b[0;34m\u001b[0m\u001b[0m\n\u001b[0m\u001b[1;32m     17\u001b[0m     \u001b[0my\u001b[0m \u001b[0;34m=\u001b[0m \u001b[0mnp\u001b[0m\u001b[0;34m.\u001b[0m\u001b[0mstack\u001b[0m\u001b[0;34m(\u001b[0m\u001b[0mnp\u001b[0m\u001b[0;34m.\u001b[0m\u001b[0msplit\u001b[0m\u001b[0;34m(\u001b[0m\u001b[0my\u001b[0m\u001b[0;34m,\u001b[0m \u001b[0mbatch_size\u001b[0m\u001b[0;34m)\u001b[0m\u001b[0;34m)\u001b[0m\u001b[0;34m\u001b[0m\u001b[0m\n\u001b[1;32m     18\u001b[0m \u001b[0;34m\u001b[0m\u001b[0m\n",
      "\u001b[0;32m/home/biliuta/anaconda3/envs/tensorflow/lib/python3.5/site-packages/numpy/lib/shape_base.py\u001b[0m in \u001b[0;36msplit\u001b[0;34m(ary, indices_or_sections, axis)\u001b[0m\n\u001b[1;32m    503\u001b[0m     \u001b[0;32mexcept\u001b[0m \u001b[0mTypeError\u001b[0m\u001b[0;34m:\u001b[0m\u001b[0;34m\u001b[0m\u001b[0m\n\u001b[1;32m    504\u001b[0m         \u001b[0msections\u001b[0m \u001b[0;34m=\u001b[0m \u001b[0mindices_or_sections\u001b[0m\u001b[0;34m\u001b[0m\u001b[0m\n\u001b[0;32m--> 505\u001b[0;31m         \u001b[0mN\u001b[0m \u001b[0;34m=\u001b[0m \u001b[0mary\u001b[0m\u001b[0;34m.\u001b[0m\u001b[0mshape\u001b[0m\u001b[0;34m[\u001b[0m\u001b[0maxis\u001b[0m\u001b[0;34m]\u001b[0m\u001b[0;34m\u001b[0m\u001b[0m\n\u001b[0m\u001b[1;32m    506\u001b[0m         \u001b[0;32mif\u001b[0m \u001b[0mN\u001b[0m \u001b[0;34m%\u001b[0m \u001b[0msections\u001b[0m\u001b[0;34m:\u001b[0m\u001b[0;34m\u001b[0m\u001b[0m\n\u001b[1;32m    507\u001b[0m             raise ValueError(\n",
      "\u001b[0;31mAttributeError\u001b[0m: 'list' object has no attribute 'shape'"
     ]
    }
   ],
   "source": [
    "def get_batches(int_text, batch_size, seq_length):\n",
    "    \"\"\"\n",
    "    Return batches of input and target\n",
    "    :param int_text: Text with the words replaced by their ids\n",
    "    :param batch_size: The size of batch\n",
    "    :param seq_length: The length of sequence\n",
    "    :return: Batches as a Numpy array\n",
    "    \"\"\"\n",
    "    # TODO: Implement Function\n",
    "    text_len = len(int_text)\n",
    "    num_batches = int(text_len/(batch_size* seq_length))\n",
    "    #batches = np.zeros(shape=(num_batches,2,batch_size,seq_length))\n",
    "    for i in range(num_batches)\n",
    "    \n",
    "    print(x)\n",
    "    \n",
    "    return None\n",
    "\n",
    "\n",
    "\"\"\"\n",
    "DON'T MODIFY ANYTHING IN THIS CELL THAT IS BELOW THIS LINE\n",
    "\"\"\"\n",
    "tests.test_get_batches(get_batches)"
   ]
  },
  {
   "cell_type": "markdown",
   "metadata": {
    "deletable": true,
    "editable": true
   },
   "source": [
    "## Neural Network Training\n",
    "### Hyperparameters\n",
    "Tune the following parameters:\n",
    "\n",
    "- Set `num_epochs` to the number of epochs.\n",
    "- Set `batch_size` to the batch size.\n",
    "- Set `rnn_size` to the size of the RNNs.\n",
    "- Set `seq_length` to the length of sequence.\n",
    "- Set `learning_rate` to the learning rate.\n",
    "- Set `show_every_n_batches` to the number of batches the neural network should print progress."
   ]
  },
  {
   "cell_type": "code",
   "execution_count": null,
   "metadata": {
    "collapsed": true,
    "deletable": true,
    "editable": true
   },
   "outputs": [],
   "source": [
    "# Number of Epochs\n",
    "num_epochs = None\n",
    "# Batch Size\n",
    "batch_size = None\n",
    "# RNN Size\n",
    "rnn_size = None\n",
    "# Sequence Length\n",
    "seq_length = None\n",
    "# Learning Rate\n",
    "learning_rate = None\n",
    "# Show stats for every n number of batches\n",
    "show_every_n_batches = None\n",
    "\n",
    "\"\"\"\n",
    "DON'T MODIFY ANYTHING IN THIS CELL THAT IS BELOW THIS LINE\n",
    "\"\"\"\n",
    "save_dir = './save'"
   ]
  },
  {
   "cell_type": "markdown",
   "metadata": {
    "deletable": true,
    "editable": true
   },
   "source": [
    "### Build the Graph\n",
    "Build the graph using the neural network you implemented."
   ]
  },
  {
   "cell_type": "code",
   "execution_count": null,
   "metadata": {
    "collapsed": false,
    "deletable": true,
    "editable": true
   },
   "outputs": [],
   "source": [
    "\"\"\"\n",
    "DON'T MODIFY ANYTHING IN THIS CELL\n",
    "\"\"\"\n",
    "from tensorflow.contrib import seq2seq\n",
    "\n",
    "train_graph = tf.Graph()\n",
    "with train_graph.as_default():\n",
    "    vocab_size = len(int_to_vocab)\n",
    "    input_text, targets, lr = get_inputs()\n",
    "    input_data_shape = tf.shape(input_text)\n",
    "    cell, initial_state = get_init_cell(input_data_shape[0], rnn_size)\n",
    "    logits, final_state = build_nn(cell, rnn_size, input_text, vocab_size)\n",
    "\n",
    "    # Probabilities for generating words\n",
    "    probs = tf.nn.softmax(logits, name='probs')\n",
    "\n",
    "    # Loss function\n",
    "    cost = seq2seq.sequence_loss(\n",
    "        logits,\n",
    "        targets,\n",
    "        tf.ones([input_data_shape[0], input_data_shape[1]]))\n",
    "\n",
    "    # Optimizer\n",
    "    optimizer = tf.train.AdamOptimizer(lr)\n",
    "\n",
    "    # Gradient Clipping\n",
    "    gradients = optimizer.compute_gradients(cost)\n",
    "    capped_gradients = [(tf.clip_by_value(grad, -1., 1.), var) for grad, var in gradients]\n",
    "    train_op = optimizer.apply_gradients(capped_gradients)"
   ]
  },
  {
   "cell_type": "markdown",
   "metadata": {
    "deletable": true,
    "editable": true
   },
   "source": [
    "## Train\n",
    "Train the neural network on the preprocessed data.  If you have a hard time getting a good loss, check the [forms](https://discussions.udacity.com/) to see if anyone is having the same problem."
   ]
  },
  {
   "cell_type": "code",
   "execution_count": null,
   "metadata": {
    "collapsed": false,
    "deletable": true,
    "editable": true
   },
   "outputs": [],
   "source": [
    "\"\"\"\n",
    "DON'T MODIFY ANYTHING IN THIS CELL\n",
    "\"\"\"\n",
    "batches = get_batches(int_text, batch_size, seq_length)\n",
    "\n",
    "with tf.Session(graph=train_graph) as sess:\n",
    "    sess.run(tf.global_variables_initializer())\n",
    "\n",
    "    for epoch_i in range(num_epochs):\n",
    "        state = sess.run(initial_state, {input_text: batches[0][0]})\n",
    "\n",
    "        for batch_i, (x, y) in enumerate(batches):\n",
    "            feed = {\n",
    "                input_text: x,\n",
    "                targets: y,\n",
    "                initial_state: state,\n",
    "                lr: learning_rate}\n",
    "            train_loss, state, _ = sess.run([cost, final_state, train_op], feed)\n",
    "\n",
    "            # Show every <show_every_n_batches> batches\n",
    "            if (epoch_i * len(batches) + batch_i) % show_every_n_batches == 0:\n",
    "                print('Epoch {:>3} Batch {:>4}/{}   train_loss = {:.3f}'.format(\n",
    "                    epoch_i,\n",
    "                    batch_i,\n",
    "                    len(batches),\n",
    "                    train_loss))\n",
    "\n",
    "    # Save Model\n",
    "    saver = tf.train.Saver()\n",
    "    saver.save(sess, save_dir)\n",
    "    print('Model Trained and Saved')"
   ]
  },
  {
   "cell_type": "markdown",
   "metadata": {
    "deletable": true,
    "editable": true
   },
   "source": [
    "## Save Parameters\n",
    "Save `seq_length` and `save_dir` for generating a new TV script."
   ]
  },
  {
   "cell_type": "code",
   "execution_count": null,
   "metadata": {
    "collapsed": false,
    "deletable": true,
    "editable": true
   },
   "outputs": [],
   "source": [
    "\"\"\"\n",
    "DON'T MODIFY ANYTHING IN THIS CELL\n",
    "\"\"\"\n",
    "# Save parameters for checkpoint\n",
    "helper.save_params((seq_length, save_dir))"
   ]
  },
  {
   "cell_type": "markdown",
   "metadata": {
    "deletable": true,
    "editable": true
   },
   "source": [
    "# Checkpoint"
   ]
  },
  {
   "cell_type": "code",
   "execution_count": null,
   "metadata": {
    "collapsed": false,
    "deletable": true,
    "editable": true
   },
   "outputs": [],
   "source": [
    "\"\"\"\n",
    "DON'T MODIFY ANYTHING IN THIS CELL\n",
    "\"\"\"\n",
    "import tensorflow as tf\n",
    "import numpy as np\n",
    "import helper\n",
    "import problem_unittests as tests\n",
    "\n",
    "_, vocab_to_int, int_to_vocab, token_dict = helper.load_preprocess()\n",
    "seq_length, load_dir = helper.load_params()"
   ]
  },
  {
   "cell_type": "markdown",
   "metadata": {
    "deletable": true,
    "editable": true
   },
   "source": [
    "## Implement Generate Functions\n",
    "### Get Tensors\n",
    "Get tensors from `loaded_graph` using the function [`get_tensor_by_name()`](https://www.tensorflow.org/api_docs/python/tf/Graph#get_tensor_by_name).  Get the tensors using the following names:\n",
    "- \"input:0\"\n",
    "- \"initial_state:0\"\n",
    "- \"final_state:0\"\n",
    "- \"probs:0\"\n",
    "\n",
    "Return the tensors in the following tuple `(InputTensor, InitialStateTensor, FinalStateTensor, ProbsTensor)` "
   ]
  },
  {
   "cell_type": "code",
   "execution_count": null,
   "metadata": {
    "collapsed": false,
    "deletable": true,
    "editable": true
   },
   "outputs": [],
   "source": [
    "def get_tensors(loaded_graph):\n",
    "    \"\"\"\n",
    "    Get input, initial state, final state, and probabilities tensor from <loaded_graph>\n",
    "    :param loaded_graph: TensorFlow graph loaded from file\n",
    "    :return: Tuple (InputTensor, InitialStateTensor, FinalStateTensor, ProbsTensor)\n",
    "    \"\"\"\n",
    "    # TODO: Implement Function\n",
    "    return None, None, None, None\n",
    "\n",
    "\n",
    "\"\"\"\n",
    "DON'T MODIFY ANYTHING IN THIS CELL THAT IS BELOW THIS LINE\n",
    "\"\"\"\n",
    "tests.test_get_tensors(get_tensors)"
   ]
  },
  {
   "cell_type": "markdown",
   "metadata": {
    "deletable": true,
    "editable": true
   },
   "source": [
    "### Choose Word\n",
    "Implement the `pick_word()` function to select the next word using `probabilities`."
   ]
  },
  {
   "cell_type": "code",
   "execution_count": null,
   "metadata": {
    "collapsed": false,
    "deletable": true,
    "editable": true
   },
   "outputs": [],
   "source": [
    "def pick_word(probabilities, int_to_vocab):\n",
    "    \"\"\"\n",
    "    Pick the next word in the generated text\n",
    "    :param probabilities: Probabilites of the next word\n",
    "    :param int_to_vocab: Dictionary of word ids as the keys and words as the values\n",
    "    :return: String of the predicted word\n",
    "    \"\"\"\n",
    "    # TODO: Implement Function\n",
    "    return None\n",
    "\n",
    "\n",
    "\"\"\"\n",
    "DON'T MODIFY ANYTHING IN THIS CELL THAT IS BELOW THIS LINE\n",
    "\"\"\"\n",
    "tests.test_pick_word(pick_word)"
   ]
  },
  {
   "cell_type": "markdown",
   "metadata": {
    "deletable": true,
    "editable": true
   },
   "source": [
    "## Generate TV Script\n",
    "This will generate the TV script for you.  Set `gen_length` to the length of TV script you want to generate."
   ]
  },
  {
   "cell_type": "code",
   "execution_count": null,
   "metadata": {
    "collapsed": false,
    "deletable": true,
    "editable": true
   },
   "outputs": [],
   "source": [
    "gen_length = 200\n",
    "# homer_simpson, moe_szyslak, or Barney_Gumble\n",
    "prime_word = 'moe_szyslak'\n",
    "\n",
    "\"\"\"\n",
    "DON'T MODIFY ANYTHING IN THIS CELL THAT IS BELOW THIS LINE\n",
    "\"\"\"\n",
    "loaded_graph = tf.Graph()\n",
    "with tf.Session(graph=loaded_graph) as sess:\n",
    "    # Load saved model\n",
    "    loader = tf.train.import_meta_graph(load_dir + '.meta')\n",
    "    loader.restore(sess, load_dir)\n",
    "\n",
    "    # Get Tensors from loaded model\n",
    "    input_text, initial_state, final_state, probs = get_tensors(loaded_graph)\n",
    "\n",
    "    # Sentences generation setup\n",
    "    gen_sentences = [prime_word + ':']\n",
    "    prev_state = sess.run(initial_state, {input_text: np.array([[1]])})\n",
    "\n",
    "    # Generate sentences\n",
    "    for n in range(gen_length):\n",
    "        # Dynamic Input\n",
    "        dyn_input = [[vocab_to_int[word] for word in gen_sentences[-seq_length:]]]\n",
    "        dyn_seq_length = len(dyn_input[0])\n",
    "\n",
    "        # Get Prediction\n",
    "        probabilities, prev_state = sess.run(\n",
    "            [probs, final_state],\n",
    "            {input_text: dyn_input, initial_state: prev_state})\n",
    "        \n",
    "        pred_word = pick_word(probabilities[dyn_seq_length-1], int_to_vocab)\n",
    "\n",
    "        gen_sentences.append(pred_word)\n",
    "    \n",
    "    # Remove tokens\n",
    "    tv_script = ' '.join(gen_sentences)\n",
    "    for key, token in token_dict.items():\n",
    "        ending = ' ' if key in ['\\n', '(', '\"'] else ''\n",
    "        tv_script = tv_script.replace(' ' + token.lower(), key)\n",
    "    tv_script = tv_script.replace('\\n ', '\\n')\n",
    "    tv_script = tv_script.replace('( ', '(')\n",
    "        \n",
    "    print(tv_script)"
   ]
  },
  {
   "cell_type": "markdown",
   "metadata": {
    "deletable": true,
    "editable": true
   },
   "source": [
    "# The TV Script is Nonsensical\n",
    "It's ok if the TV script doesn't make any sense.  We trained on less than a megabyte of text.  In order to get good results, you'll have to use a smaller vocabulary or get more data.  Luckly there's more data!  As we mentioned in the begging of this project, this is a subset of [another dataset](https://www.kaggle.com/wcukierski/the-simpsons-by-the-data).  We didn't have you train on all the data, because that would take too long.  However, you are free to train your neural network on all the data.  After you complete the project, of course.\n",
    "# Submitting This Project\n",
    "When submitting this project, make sure to run all the cells before saving the notebook. Save the notebook file as \"dlnd_tv_script_generation.ipynb\" and save it as a HTML file under \"File\" -> \"Download as\". Include the \"helper.py\" and \"problem_unittests.py\" files in your submission."
   ]
  }
 ],
 "metadata": {
  "kernelspec": {
   "display_name": "Python 3",
   "language": "python",
   "name": "python3"
  },
  "language_info": {
   "codemirror_mode": {
    "name": "ipython",
    "version": 3
   },
   "file_extension": ".py",
   "mimetype": "text/x-python",
   "name": "python",
   "nbconvert_exporter": "python",
   "pygments_lexer": "ipython3",
   "version": "3.5.2"
  }
 },
 "nbformat": 4,
 "nbformat_minor": 0
}
