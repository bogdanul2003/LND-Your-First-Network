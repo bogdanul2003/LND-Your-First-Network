{
 "cells": [
  {
   "cell_type": "markdown",
   "metadata": {
    "deletable": true,
    "editable": true
   },
   "source": [
    "# TV Script Generation\n",
    "In this project, you'll generate your own [Simpsons](https://en.wikipedia.org/wiki/The_Simpsons) TV scripts using RNNs.  You'll be using part of the [Simpsons dataset](https://www.kaggle.com/wcukierski/the-simpsons-by-the-data) of scripts from 27 seasons.  The Neural Network you'll build will generate a new TV script for a scene at [Moe's Tavern](https://simpsonswiki.com/wiki/Moe's_Tavern).\n",
    "## Get the Data\n",
    "The data is already provided for you.  You'll be using a subset of the original dataset.  It consists of only the scenes in Moe's Tavern.  This doesn't include other versions of the tavern, like \"Moe's Cavern\", \"Flaming Moe's\", \"Uncle Moe's Family Feed-Bag\", etc.."
   ]
  },
  {
   "cell_type": "code",
   "execution_count": 1,
   "metadata": {
    "collapsed": false,
    "deletable": true,
    "editable": true
   },
   "outputs": [],
   "source": [
    "\"\"\"\n",
    "DON'T MODIFY ANYTHING IN THIS CELL\n",
    "\"\"\"\n",
    "import helper\n",
    "\n",
    "data_dir = './data/simpsons/moes_tavern_lines.txt'\n",
    "text = helper.load_data(data_dir)\n",
    "# Ignore notice, since we don't use it for analysing the data\n",
    "text = text[81:]"
   ]
  },
  {
   "cell_type": "markdown",
   "metadata": {
    "deletable": true,
    "editable": true
   },
   "source": [
    "## Explore the Data\n",
    "Play around with `view_sentence_range` to view different parts of the data."
   ]
  },
  {
   "cell_type": "code",
   "execution_count": 3,
   "metadata": {
    "collapsed": false,
    "deletable": true,
    "editable": true
   },
   "outputs": [
    {
     "name": "stdout",
     "output_type": "stream",
     "text": [
      "Dataset Stats\n",
      "Roughly the number of unique words: 11492\n",
      "Number of scenes: 262\n",
      "Average number of sentences in each scene: 15.248091603053435\n",
      "Number of lines: 4257\n",
      "Average number of words in each line: 11.50434578341555\n",
      "\n",
      "The sentences 0 to 10:\n",
      "Moe_Szyslak: (INTO PHONE) Moe's Tavern. Where the elite meet to drink.\n",
      "Bart_Simpson: Eh, yeah, hello, is Mike there? Last name, Rotch.\n",
      "Moe_Szyslak: (INTO PHONE) Hold on, I'll check. (TO BARFLIES) Mike Rotch. Mike Rotch. Hey, has anybody seen Mike Rotch, lately?\n",
      "Moe_Szyslak: (INTO PHONE) Listen you little puke. One of these days I'm gonna catch you, and I'm gonna carve my name on your back with an ice pick.\n",
      "Moe_Szyslak: What's the matter Homer? You're not your normal effervescent self.\n",
      "Homer_Simpson: I got my problems, Moe. Give me another one.\n",
      "Moe_Szyslak: Homer, hey, you should not drink to forget your problems.\n",
      "Barney_Gumble: Yeah, you should only drink to enhance your social skills.\n",
      "\n",
      "\n"
     ]
    }
   ],
   "source": [
    "view_sentence_range = (0, 10)\n",
    "\n",
    "\"\"\"\n",
    "DON'T MODIFY ANYTHING IN THIS CELL\n",
    "\"\"\"\n",
    "import numpy as np\n",
    "\n",
    "print('Dataset Stats')\n",
    "print('Roughly the number of unique words: {}'.format(len({word: None for word in text.split()})))\n",
    "scenes = text.split('\\n\\n')\n",
    "print('Number of scenes: {}'.format(len(scenes)))\n",
    "sentence_count_scene = [scene.count('\\n') for scene in scenes]\n",
    "print('Average number of sentences in each scene: {}'.format(np.average(sentence_count_scene)))\n",
    "\n",
    "sentences = [sentence for scene in scenes for sentence in scene.split('\\n')]\n",
    "print('Number of lines: {}'.format(len(sentences)))\n",
    "word_count_sentence = [len(sentence.split()) for sentence in sentences]\n",
    "print('Average number of words in each line: {}'.format(np.average(word_count_sentence)))\n",
    "\n",
    "print()\n",
    "print('The sentences {} to {}:'.format(*view_sentence_range))\n",
    "print('\\n'.join(text.split('\\n')[view_sentence_range[0]:view_sentence_range[1]]))"
   ]
  },
  {
   "cell_type": "markdown",
   "metadata": {
    "deletable": true,
    "editable": true
   },
   "source": [
    "## Implement Preprocessing Functions\n",
    "The first thing to do to any dataset is preprocessing.  Implement the following preprocessing functions below:\n",
    "- Lookup Table\n",
    "- Tokenize Punctuation\n",
    "\n",
    "### Lookup Table\n",
    "To create a word embedding, you first need to transform the words to ids.  In this function, create two dictionaries:\n",
    "- Dictionary to go from the words to an id, we'll call `vocab_to_int`\n",
    "- Dictionary to go from the id to word, we'll call `int_to_vocab`\n",
    "\n",
    "Return these dictionaries in the following tuple `(vocab_to_int, int_to_vocab)`"
   ]
  },
  {
   "cell_type": "code",
   "execution_count": 6,
   "metadata": {
    "collapsed": false,
    "deletable": true,
    "editable": true
   },
   "outputs": [
    {
     "name": "stdout",
     "output_type": "stream",
     "text": [
      "{'drink', 'seen', 'catch', 'give', 'anybody', \"i'll\", \"moe's\", 'got', 'ice', 'my', 'back', 'is', 'there', \"you're\", 'homer_simpson', 'moe', 'matter', 'not', 'another', 'eh', 'mike', 'should', 'an', 'i', 'hey', 'check', 'name', 'lately', 'hold', 'gonna', 'me', 'only', 'bart_simpson', 'on', 'with', 'social', 'whats', 'to', 'carve', 'pick', 'hello', 'the', 'one', 'and', 'elite', 'days', 'effervescent', 'rotch', 'has', 'your', 'listen', 'normal', 'you', 'problems', 'puke', 'self', 'skills', 'tavern', 'yeah', \"i'm\", 'meet', 'of', 'little', 'barney_gumble', 'where', 'last', 'these', 'homer', 'forget', 'enhance', 'moe_szyslak'}\n",
      "Tests Passed\n"
     ]
    }
   ],
   "source": [
    "import numpy as np\n",
    "import problem_unittests as tests\n",
    "\n",
    "def create_lookup_tables(text):\n",
    "    \"\"\"\n",
    "    Create lookup tables for vocabulary\n",
    "    :param text: The text of tv scripts split into words\n",
    "    :return: A tuple of dicts (vocab_to_int, int_to_vocab)\n",
    "    \"\"\"\n",
    "    # TODO: Implement Function\n",
    "    words = set(text)\n",
    "    print(words)\n",
    "    vocab_to_int = {c: i for i, c in enumerate(words)}\n",
    "    int_to_vocab = dict(enumerate(words))\n",
    "    return (vocab_to_int, int_to_vocab)\n",
    "\n",
    "\n",
    "\"\"\"\n",
    "DON'T MODIFY ANYTHING IN THIS CELL THAT IS BELOW THIS LINE\n",
    "\"\"\"\n",
    "tests.test_create_lookup_tables(create_lookup_tables)"
   ]
  },
  {
   "cell_type": "markdown",
   "metadata": {
    "deletable": true,
    "editable": true
   },
   "source": [
    "### Tokenize Punctuation\n",
    "We'll be splitting the script into a word array using spaces as delimiters.  However, punctuations like periods and exclamation marks make it hard for the neural network to distinguish between the word \"bye\" and \"bye!\".\n",
    "\n",
    "Implement the function `token_lookup` to return a dict that will be used to tokenize symbols like \"!\" into \"||Exclamation_Mark||\".  Create a dictionary for the following symbols where the symbol is the key and value is the token:\n",
    "- Period ( . )\n",
    "- Comma ( , )\n",
    "- Quotation Mark ( \" )\n",
    "- Semicolon ( ; )\n",
    "- Exclamation mark ( ! )\n",
    "- Question mark ( ? )\n",
    "- Left Parentheses ( ( )\n",
    "- Right Parentheses ( ) )\n",
    "- Dash ( -- )\n",
    "- Return ( \\n )\n",
    "\n",
    "This dictionary will be used to token the symbols and add the delimiter (space) around it.  This separates the symbols as it's own word, making it easier for the neural network to predict on the next word. Make sure you don't use a token that could be confused as a word. Instead of using the token \"dash\", try using something like \"||dash||\"."
   ]
  },
  {
   "cell_type": "code",
   "execution_count": 15,
   "metadata": {
    "collapsed": false,
    "deletable": true,
    "editable": true
   },
   "outputs": [
    {
     "name": "stdout",
     "output_type": "stream",
     "text": [
      "{'--': '||dash||', '?': '||questionmark||', ')': '||rparenthese||', '\"': '||qutes||', '.': '||dott||', '!': '||exclamationpoint||', ';': '||pointandcoma||', '(': '||lparenthese||', '\\n': '||newline||', ',': '||comma||'}\n",
      "Tests Passed\n"
     ]
    }
   ],
   "source": [
    "def token_lookup():\n",
    "    \"\"\"\n",
    "    Generate a dict to turn punctuation into a token.\n",
    "    :return: Tokenize dictionary where the key is the punctuation and the value is the token\n",
    "    \"\"\"\n",
    "    # TODO: Implement Function\n",
    "    \n",
    "    ret = {}\n",
    "    ret[\".\"] = \"||dott||\"\n",
    "    ret[\",\"] = \"||comma||\"\n",
    "    ret['\"'] = \"||qutes||\"\n",
    "    ret[\";\"] = \"||pointandcoma||\"\n",
    "    ret[\"!\"] = \"||exclamationpoint||\"\n",
    "    ret[\"(\"] = \"||lparenthese||\"\n",
    "    ret[\")\"] = \"||rparenthese||\"\n",
    "    ret[\"--\"] = \"||dash||\"\n",
    "    ret[\"\\n\"] = \"||newline||\"\n",
    "    ret[\"?\"] = \"||questionmark||\"\n",
    "    print(ret)\n",
    "     \n",
    "    return ret\n",
    "\n",
    "\"\"\"\n",
    "DON'T MODIFY ANYTHING IN THIS CELL THAT IS BELOW THIS LINE\n",
    "\"\"\"\n",
    "tests.test_tokenize(token_lookup)"
   ]
  },
  {
   "cell_type": "markdown",
   "metadata": {
    "deletable": true,
    "editable": true
   },
   "source": [
    "## Preprocess all the data and save it\n",
    "Running the code cell below will preprocess all the data and save it to file."
   ]
  },
  {
   "cell_type": "code",
   "execution_count": 17,
   "metadata": {
    "collapsed": false,
    "deletable": true,
    "editable": true
   },
   "outputs": [
    {
     "name": "stdout",
     "output_type": "stream",
     "text": [
      "{'--': '||dash||', '?': '||questionmark||', ')': '||rparenthese||', '\"': '||qutes||', '.': '||dott||', '!': '||exclamationpoint||', ';': '||pointandcoma||', '(': '||lparenthese||', '\\n': '||newline||', ',': '||comma||'}\n",
      "{'ew', 'knees', 'survive', 'sky', 'happier', 'dime', 'bachelor', 'gator:', 'baloney', 'wise', 'happily:', 'groin', 'possibly', 'issues', 'carl_carlson:', \"starla's\", 'sue', 'school', 'specific', 'corkscrews', 'court', 'straight', \"'n'\", 'non-american', 'close', 'composite', 'assent', 'mayan', 'hope', 'confidence', 'shows', 'ass', 'deep', 'grrrreetings', 'glamour', 'shareholder', 'espn', 'perplexed', 'whatcha', 'santa', 'worth', 'bets', 'airport', 'ditched', 'eyeball', 'well', 'truth', 'ripcord', 'kings', 'mall', 'winch', 'founded', 'hey', 'spilled', 'r', 'symphonies', 'enterprising', \"nixon's\", 'miserable', 'cushions', 'courthouse', 'clench', 'richer', 'candidate', 'shape', '14', '_powers:', 'health', 'banquet', \"dimwit's\", 'tonight', 'cheery', 'column', 'astronaut', 'aims', 'numbers', 'knit', \"tv'll\", 'fresco', \"ya'\", 'touched', 'poisoning', 'pouring', 'mccall', \"car's\", 'lemme', 'yelp', 'brainiac', 'zoomed', 'win', 'rolls', 'blue', 'nein', 'celebration', 'ineffective', 'americans', 'handshake', 'menlo', 'held', 'everybody', \"startin'\", 'chicks', 'octa-', 'prejudice', 'sugar-free', 'dame', 'balls', 'leaving', 'jump', 'sunday', 'highest', 'quotes', 'aged', 'side', 'gonna', 'argue', 'aziz', 'supports', 'theater', 'and', 'outstanding', 'hearing', 'problems', 'improved', 'dismissive', '10:15', 'woo-hoo', 'whose', 'fudd', 'consider', 'quimby_#2:', \"phone's\", 'remodel', 'leprechaun', 'served', '_kissingher:', \"doctor's\", 'barflies:', 'roll', 'ventriloquism', 'entrance', 'beef', 'teddy', 'camp', 'shoulda', 'pall', \"kiddin'\", 'new_health_inspector:', 'yourself', 'eco-fraud', 'spoken', 'club', 'clapping', 'music', 'startled', 'sesame', 'no', 'bart', 'jigger', 'hank_williams_jr', 'depressant', 'lucius:', 'benjamin:', 'excellent', 'stealings', 'hellhole', 'bleacher', 'wears', 'maxed', 'turkey', 'key', 'assert', 'helped', 'pajamas', \"cashin'\", 'estranged', 'anyone', 'mariah', '_hooper:', \"callin'\", 'stinger', 'cupid', 'yogurt', 'cruise', 'hitchhike', 'fortensky', 'coyly', 'senator', 'east', 'u', 'lend', 'w', 'attack', 'drunkenly', 'owes', 'limits', 'repeated', 'prints', 'shaking', 'jerk', 'orifice', 'writing', 'seconds', \"liberty's\", 'four', 'vehicle', 'radical', 'ordered', 'glum', 'researching', 'limber', 'photos', 'slobbo', 'ehhhhhh', 'amid', 'tear', 'grain', 'shocked', 'products', 'way:', 'ape-like', 'freshened', \"rentin'\", 'closer', 'hero-phobia', 'lee', 'restaurants', 'burning', 'hollywood', 'spinning', 'bon-bons', 'dressing', 'botanical', 'pained', 'supplying', 'jailbird', 'advice', \"what'll\", 'trusted', 'improv', 'vigilante', 'extreme', 'syndicate', 'illegally', 'center', 'competing', 'hunger', 'medicine', 'body', 'hemorrhage-amundo', 'predictable', 'pantsless', 'pawed', 'waitress', 'reluctantly', 'saucy', 'snort', 'without:', 'combination', 'peter_buck:', 'number', 'hunky', 'magnanimous', 'burns', 'elaborate', 'wikipedia', 'cameras', 'noises', 'arse', 'valuable', 'smallest', \"d'\", 'lushmore', 'all', 'vacations', 'drove', 'afford', 'laugh', 'fainted', 'raising', 'represents', 'across', 'latour', 'meditative', 'intoxicated', 'bags', 'ralph', 'menace', 'c', 'business', 'pockets', 'lights', 'telemarketing', 'headhunters', 'milhouse', \"costume's\", 'courteous', 'disturbing', 'moe-near-now', 'complicated', 'believe', 'ihop', 'rope', \"coffee'll\", 'wrestle', 'various', 'thoughtfully', 'supreme', 'kissing', 'safe', 'fortress', 'unlucky', 'third', 'salt', 'alright', 'therapy', 'newsies', 'depression', \"workin'\", 'susie-q', 'miracle', 'tied', 'charter', 'watashi', 'sees/', 'older', 'environment', 'seymour_skinner:', 'stars', 'general', 'weight', 'gotta', 'chill', 'pint', 'tee', 'monkeyshines', 'wallet', 'then:', 'is', 'doll', 'fork', 'usually', 'disillusioned', 'drinking', 'wally:', 'kisses', 'bart_simpson:', 'nuts', 'challenge', 'cats', 'ate', \"santa's\", 'knuckle-dragging', 'deer', 'mill', 'unavailable', 'frankly', 'panicked', 'bottoms', 'son-of-a', 'hobo', 'so', \"tap-pullin'\", 'effigy', 'swimming', 'yes', 'tips', 'predecessor', 'militia', 'grinch', \"'er\", 'paramedic:', \"what'sa\", 'manboobs', 'punches', 'project', 'ya', 'michelin', \"tatum'll\", 'pity', 'under', 'chauffeur', 'jewelry', 'pitch', 'ah-ha', 'safety', 'mistresses', 'railroad', 'sacrifice', \"smokin'_joe_frazier:\", 'tyson/secretariat', 'closing', 'malibu', 'birth', 'der', 'about', 'full-time', 'anti-lock', \"y'money's\", 'ninety-six', 'meteor', 'certainly', 'opens', \"doin'\", 'vin', 'w-a-3-q-i-zed', 'rush', 'diving', 'connection', 'return', 'all-star', 'comedy', 'reality', 'play', 'author', 'weekly', 's-a-u-r-c-e', 'dictator', 'absentmindedly', 'fired', 'waylon', 'squirrel', 'shame', 'supermodel', 'soaked', 'recorder', 'make:', 'kick', 'starla:', 'games', 'try', 'doing', 'puts', 'castle', 'cursed', 'foodie', 'resigned', 'grand', 'nuked', 'st', 'clinton', 'ahead', 'taxes', 'gus', 'unable', 'year', 'selling', 'chateau', 'tornado', 'near', 'train', 'ugliness', 'joy', \"nothin'\", 'schabadoo', 'liability', 'shower', 'lawyer', 'virility', 'support', 'message', 'tha', 'eggshell', 'common', 'lloyd:', 'sideshow_bob:', \"'now\", 'can', 'swishkabobs', 'spender', 'victory', 'bail', 'exit', 'statistician', 'recreate', 'u2:', 'thirsty', 'hiring', 'ron_howard:', 'transfer', 'quadruple-sec', 'meaning', 'gags', 'rented', 'sneeze', 'use', 'fulla', 'blinds', 'los', 'th-th-th-the', 'steal', 'hawaii', 'super-genius', 'skin', 'eighteen', 'half', 'warily', 'declared', 'whisper', 'handsome', 'bible', 'victim', 'isotopes', 'neighboreeno', 'population', 'forget-me-shot', 'with', 'stewart', 'wishes', 'crony', 'kl5-4796', 'trapped', 'mushy', 'karaoke_machine:', 'milhouses', 'funeral', 'reynolds', 'killed', 'unsafe', 'eggs', 'irish', 'white', 'texan', 'ping-pong', 'surprise', 'depressing', \"they'd\", 'ugliest', 'underpants', 'skunk', 'temples', 'lipo', 'infestation', 'lord', 'powerful', 'sadder', 'spreads', 'squeeze', 'rat-like', 'helpful', 'wash', 'supposed', 'affects', 'innocuous', 'purse', 'it:', 'heaven', 'human', 'great', 'bonding', 'housing', \"homer's_brain:\", 'healthier', 'bluff', 'speaking', 'intakes', 'jams', 'beer', 'closes', 'hub', '$42', 'share', 'gordon', 'binoculars', 'divine', 'president', \"high-falutin'\", \"brockman's\", 'rupert_murdoch:', 'radio', \"doesn't\", 'course', 'ollie', 'loathe', 'vermont', 'screams', 'reasons', 'ticket', 'pepper', 'hanging', 'heavens', 'storms', 'ugly', 'dozen', 'marge', 'ads', 'faded', 'protestantism', 'genius', 'heh', 'ohmygod', 'craphole', 'bold', \"how's\", 'hanh', 'windshield', 'blood-thirsty', 'muertos', 'sexual', 'spent', 'most', 'bubble', 'caricature', \"cont'd:\", 'finished', 'urinal', 'salvador', 'sampler', 'peppers', 'relaxed', 'title:', 'thinking', \"number's\", 'facebook', 'life-threatening', 'perch', \"haven't\", 'mocking', \"he'll\", \"'bout\", 'remembers', 'kucinich', 'mint', 'child', 'cough', 'princesses', 'free', 'along', 'marriage', 'sight-unseen', 'island', \"let's\", 'chin', 'oopsie', 'mt', 'lisa', 'insensitive', 'adopted', 'telegraph', 'phone', 'spend', \"o'clock\", 'grey', 'flying', 'favor', 'backing', 'much', 'introduce', 'boo', 'throws', 'might', 'rainforest', 'flexible', \"bo's\", 'transylvania', 'smiles', 'chastity', 'short_man:', 'bless', \"somethin':\", 'points', 'eh', 'who', 'store', 'feelings', 'abolish', 'neck', 'cheaper', 'fontaine', 'kegs', \"cuckold's\", 'crimes', 'meant', 'broom', '||dash||', 'settlement', 'faulkner', 'furiously', 'goldarnit', 'ground', 'grave', 'frog', 'labels', 'yup', 'glass', 'growing', 'platinum', 'satisfaction', 'starlets', 'naturally', 'solely', 'replace', 'naegle', 'america', \"school's\", 'burt_reynolds:', 'appointment', 'juan', 'barstools', 'sneaky', 'from', 'nope', 'o', 'scully', 'restless', 'book_club_member:', 'saget', 'except', 'yee-haw', 'afraid', 'jackpot-thief', 'idioms', 'family', 'grunt', 'horrors', 'western', 'sports', 'pause', 'high-definition', 'prank', 'wipe', 'drop-off', 'and:', 'chip', 'studio', 'dollar', 'pickle', 'mistake', 'dea-d-d-dead', 'arrived', 'maya:', 'product', 'thought_bubble_lenny:', 'nicer', 'send', 'cuz', 'champion', 'brother-in-law', 'huge', 'sun', 'twin', \"clancy's\", 'pub', 'waltz', 'white_rabbit:', 'mother', 'laughing', 'combines', 'atari', 'grumbling', 'us', 'first', 'shut', 'helping', 'touch', 'ways', 'gayer', 'pus-bucket', '/mr', 'carl:', 'site', 'classy', \"isn't\", 'pipes', 'dramatic', 'pantry', 'clap', 'rash', 'krusty', 'football', 'tomatoes', 'organ', 'neat', 'businessman_#2:', 'fletcherism', 'foibles', 'nos', 'extremely', 'butts', 'accounta', 'swamp', 'amount', 'politician', 'jubilation', 'las', 'murderously', 'frosty', 'kick-ass', 'homeland', 'executive', 'force', 'jay:', 'sets', 'paint', 'lowest', 'strips', 'country', 'see', 'carb', 'considering:', 'heals', 'daaaaad', 'refund', 'eyeballs', 'knuckles', 'roach', 'terminated', 'streetlights', 'begin', \"man's\", 'empty', 'plaintive', 'blank', 'attractive_woman_#2:', 'balloon', 'excuses', \"lenny's\", \"lookin'\", \"'tis\", 'furry', 'videotaped', 'bears', 'awake', 'madman', 'principles', 'irrelevant', 'pledge', 'twenty-six', \"goin'\", 'however', 'violations', 'speech', 'them', 'enhance', 'reaches', 'ominous', 'pickled', 'world-class', 'gruff', \"enjoyin'\", 'wolveriskey', 'discriminate', 'tremendous', 'bring', 'brain', 'aboard', 'ignorant', 'squadron', 'sagely', 'beloved', 'sabermetrics', \"mtv's\", 'shark', 'expecting', 'behind', 'handling', 'throat', 'resolution', \"who'll\", 'janette', 'stagehand:', 'incapable', 'become', 'moment', 'whoops', 'officer', \"readin'\", 'grade', 'expect', \"guy's\", 'referee', \"moe's_thoughts:\", 'sponsoring', 'broncos', 'spread', 'better', 'installed', 'coast', 'beers', \"department's\", '||dott||', 'dreary', 'kept', 'guest', 'wholeheartedly', 'alfalfa', 'jubilant', 'ron', 'four-star', \"you're\", 'anthony_kiedis:', 'shock', 'thirty-nine', 'married', 'pressure', 'boozehound', 'spitting', \"sippin'\", 'poison', \"they're\", 'listening', 'orders', 'shaker', 'danny', 'patterns', 'aquafresh', 'slick', 'blocked', 'pen', 'manage', 'muttering', 'goblins', 'hired', 'notorious', 'ask', 'exchange', 'together', 'tanking', 'kindly', 'reaching', 'coffee', 'thoughtful', 'badly', 'dumbbell', 'fat_tony:', 'sign', 'maman', 'french', \"hangin'\", 'grabs', 'muscles', 'build', 'coach:', 'mozzarella', 'teenage_barney:', 'grocery', \"father's\", 'excuse', 'by', 'swallowed', 'jerry', 'painless', 'cure', 'na', 'nemo', 'filled', 'thirteen', 'adventure', 'desperate', 'hippies', \"pressure's\", 'privacy', 'yew', 'loved', 'sleeping', 'brave', 'strain', 'tapping', 'goodbye', 'peeved', 'wizard', 'fault', 'mary', 'sea', 'brightening', 'rats', 'church', 'shares', 'springfield', 'joey_kramer:', 'boggs', 'jobless', 'trip', 'achebe', 'longer', 'chuck', 'montrer', 'professor', 'watered-down', 'fair', 'wha', 'black', 'remembering', 'bagged', \"cupid's\", 'yuh-huh', 'boxers', 'quimbys:', 'catty', 'works', 'prolonged', 'text', 'material', 'goes', 'public', 'stops', 'isle', 'guessing', 'tradition', \"bladder's\", 'lousy', 'keeps', 'soft', 'somebody', \"town's\", \"sayin'\", '1895', 'manjula', 'brings', 'rockers', 'winnings', 'why', 'brotherhood', 'packets', 'lame', 'itchy', 'zone', 'protesters', 'homer_doubles:', 'smug', 'mmm', 'latin', \"'\", 'agents', 'ing', 'thirty', 'expert', 'fierce', 'talk', 'wreck', 'stamp', 'insulin', 'grammy', 'write', 'back', 'fix', 'hmm', 'startup', 'decided', 'patrons', 'annie', 'blow', 'wake', 'stalking', 'nachos', 'right-handed', 'trustworthy', 'meals', 'ne', 'uh', 'hmmmm', 'perfunctory', 'bono', \"hasn't\", 'faith', 'aid', \"i'unno\", 'suffering', 'runners', \"renovatin'\", 'test', 'whenever', 'what', 'equivalent', 'smells', 'disguise', 'edgy', 'swings', \"soundin'\", 'plan', 'fbi_agent:', 'flanders', 'he', 'gabriel:', 'bauer', 'be', 'alone', 'ballclub', 'onion', 'voice', 'horrible', 'felt', 'fatso', 'store-bought', 'laney_fontaine:', 'cocktail', 'drag', 'pleased', 'ducked', 'short', 'european', 'beginning', 'gesture', 'len-ny', 'remains', \"one's\", 'ashtray', 'stadium', 'motorcycle', 'earth', 'rock', 'tomahto', \"barney's\", 'marjorie', 'notice', 'smithers', 'sing-song', 'diaper', 'folk', 'belt', 'kent', 'congratulations', 'inquiries', 'charm', 'diets', 'massachusetts', 'mcclure', 'mckinley', 'nail', 'cigars', 'forget-me-drinks', 'tow-talitarian', 'stuff', 'hilarious', 'ken:', 'griffith', 'femininity', 'polite', 'kenny', 'racially-diverse', 'poking', 'beam', 'swooning', 'hammock', 'how', 'sheets', 'singing', 'lurks', 'smokes', 'depository', 'cooker', 'care', 'hotel', 'i-i', 'newsweek', 'to', 'harder', 'fox', 'county', 'chinese_restaurateur:', 'cocking', 'simpsons', 'rueful', 'jay_leno:', 'forbidden', 'reasonable', 'soul-crushing', 'ziff', 'pardon', \"smackin'\", 'coney', 'tentative', \"i-i'm\", 'investigating', 'cletus_spuckler:', 'handwriting', 'jokes', 'gestated', 'sweetie', '91', 'anniversary', 'tickets', 'banks', 'police', \"fightin'\", 'bathing', 'confidential', 'sings', 'moving', 'horror', 'corner', 'formico', 'hideous', 'daniel', 'frustrated', 'including', 'stayed', 'ees', 'accident', 'midge', 'owner', 'watt', 'mafia', 'extra', 'odor', 'drive', 'concentrate', 'published', 'inspection', 'scrubbing', 'intruding', 'children', 'attention', 'nuclear', 'eighty-one', 'shopping', 'literature', \"didn't\", 'recall', 'shush', 'troll', 'chest', \"jackpot's\", 'till', 'gol-dangit', 'wings', \"livin'\", 'tooth', 'fragile', 'winces', 'same', 'thing:', 'stands', 'crossed', 'bridge', 'delightful', 'nervous', 'ziffcorp', '||newline||', 'unhappy', 'term', 'uncreeped-out', 'rainier', 'borrow', 'access', 'passes', 'detecting', 'cesss', 'owns', 'button', 'blackjack', 'tavern', 'goods', 'shooting', 'profiling', 'steam', 'alma', 'producers', 'depressed', 'wenceslas', 'sadly', 'act', 'pusillanimous', \"mo'\", 'scared', \"mcstagger's\", 'dearest', \"renee's\", 'creature', 'losers', 'maher', 'directions', 'occupancy', 'hall', 'coms', 'conclusions', 'duff_announcer:', 'looser', 'billiard', 'hooked', 'seen', 'rolling', 'nigeria', 'dateline', 'jackass', 'gr-aargh', 'sudden', 'control', 'trade', 'corn', \"spiffin'\", 'cell-ee', 'charlie', 'connor-politan', 'official', 'beyond', 'lizard', 'wakede', \"waitin'\", 'road', 'pointless', 'putting', \"'ceptin'\", 'lied', 'type', 'forward', 'miles', 'admiration', \"now's\", 'good', 'harv', 'gallon', 'lately', 'comes', 'tries', \"should've\", 'hardhat', \"askin'\", '_julius_hibbert:', 'ned', 'fool', 'attitude', 'someday', 'through', 'venom', 'overturned', 'remaining', 'precious', 'darkest', 'stool', 'moolah-stealing', 'nine', 'portentous', 'grampa_simpson:', 'chilly', 'small', 'wedding', 'golf', 'decency', 'out', \"bein'\", 'energy', 'skins', 'loyal', 'remembered', 'mm', \"wouldn't-a\", 'smoothly', 'beings', 'cute', 'tang', 'bidet', 'end', 'five', 'whup', \"buffalo's\", 'knocks', 'dipping', 'kemi:', 'seem', 'bathtub', 'ocean', 'gun', 'glitz', 'skeptical', 'hardwood', 'boxing', \"fryer's\", 'engine', '/', \"stabbin'\", 'parenting', 'wheeeee', 'winning', 'fingers', 'ribbon', 'nelson_muntz:', 'odd', 'fly', 'sniffing', 'mike', 'lurleen_lumpkin:', 'fact', 'impeach', 'dna', 'nascar', 'fad', 'slurps', 'traditions', 'casual', 'jer', 'period', 'sister-in-law', 'decadent', 'dancing', 'simpson', 'fonzie', 'opportunity', 'pills', 'sheepish', 'brunswick', 'laughs', 'specials', 'lady', 'everywhere', 'rasputin', 'computer_voice_2:', 'grieving', 'hell', 'railroads', 'serum', 'eyesore', 'thrilled', 'helpless', 'associate', 'interrupting', 'harvard', 'hurts', 'insured', 'sternly', 'grim', 'sideshow', 'thanks', 'amnesia', 'negative', 'chorus:', 'deliberately', 'nightmare', 'did', 'used', 'male_singers:', 'male_inspector:', 'sudoku', 'provide', 'sour', 'owned', 'call', \"son's\", 'wolfe', 'hangout', 'sickly', 'fifteen', 'versus', 'stretch', 'ha', 'avenue', 'ninth', 'slurred', 'things', 'answers', 'continuing', 'stopped', 'criminal', 'sharps', 'b-day', 'sketching', 'backwards', 'booze-bags', 'hans:', 'film', \"hawkin'\", 'super-tough', 'misconstrue', 'shrieks', 'hopeful', 'part-time', 'desperately', 'military', 'elmer', 'anyhoo', 'fruit', 'telephone', 'were', 'poem', 'bugs', 'sturdy', 'daddy', 'moe-clone:', 'taken', 'according', 'flack', 'badmouth', \"friend's\", 'belong', 'view', 'wish-meat', 'wild', 'pipe', \"rustlin'\", 'thighs', 'perking', 'cockroaches', 'ding-a-ding-ding-a-ding-ding', 'dank', 'pope', 'doof', 'unjustly', 'called', 'operation', 'onto', 'pour', 'turning', \"g'on\", 'listened', 'tigers', 'tight', 'prepared', 'aww', 'sodas', 'wad', 'wound', 'hilton', 'irs', 'socratic', 'expensive', 'wussy', 'annus', 'homer_simpson:', 'cards', 'mona_simpson:', 'around', 'fwooof', 'salvation', 'dash', \"other's\", 'sir', 'bad', 'hoagie', 'invulnerable', 'ball-sized', 'whatever', \"they've\", 'obsessive-compulsive', 'sweeter', \"what'd\", 'dyspeptic', 'poet', 'typing', 'dollars', 'slaves', 'fistiana', 'boyhood', 'flanders:', 'wow', 'flea:', 'magic', 'dump', 'fritz:', 'disappeared', 'maiden', 'lear', 'choice', 'coming', 'noose', 'revenge', 'heliotrope', \"usin'\", 'grandiose', 'judge_snyder:', 'professional', 'often', 'abe', 'chipped', 'bowl', 'flailing', 'bucket', 'average', 'distinct', 'especially', 'sex', 'cow', 'lennyy', 'pharmaceutical', 'date', 'tsk', 'my-y-y-y-y-y', 'built', 'fuss', 'arm-pittish', 'burp', 'supply', 'aggie', 'tastes', 'layer', 'fears', 'ears', 'worry', 'bottles', 'bathroom', 'swear', 'flashing', 'cricket', 'religious', 'appealing', 'service', 'genuinely', 'hispanic_crowd:', 'payday', \"beer's\", 'barney_gumble:', 'it', 'spied', 'wrecking', 'experienced', 'video', 'fry', \"s'pose\", 'junkyard', 'kickoff', 'sledge-hammer', 'young_barfly:', 'fbi', 'fellas', 'visas', 'touches', 'presses', 'amazing', 'bake', 'murmur', 'honored', 'mortal', 'scene', 'gives', 'gil_gunderson:', 'preparation', 'cop', 'endorsed', 'buzziness', 'minimum', 'e-z', 'mob', 'emotional', 'frontrunner', 'cable', 'bully', 'combine', 'hardy', 'ragtime', 'karaoke', 'boneheaded', 'twerpy', 'pages', 'booger', 'partly', 'barney-type', \"round's\", 'greatly', 'lachrymose', 'against', 'snackie', 'read', 'good-looking', 'amiable', 'choose', 'fica', 'diamond', 'sticking-place', 'really', 'average-looking', 'young', \"soakin's\", 'pasta', 'lindsay', 'sobriety', 'incognito', 'lucius', 'followed', 'man_with_tree_hat:', 'signal', '||questionmark||', 'pointed', 'standards', 'pirate', 'yawns', 'affectations', 'abcs', 'corpses', \"speakin'\", 'feel', 'matter-of-fact', 'alcoholic', 'gum', 'cans', 'ah', 'renovations', 'class', 'al_gore:', 'donor', 'superhero', 'smoker', 'utensils', 'kadlubowski', 'brain-switching', 'wantcha', 'consoling', 'disco_stu:', 'statues', 'another', 'kramer', 'alarm', 'shill', 'greetings', 'elephants', 'widow', 'hi', 'glorious', 'cent', \"kearney's_dad:\", 'sit', 'post-suicide', 'homer', 'links', 'strategy', 'wooooo', 'ruint', 'shesh', 'excited', 'plain', 'thorn', 'poetics', 'pig', 'forgets', 'newest', 'düff', 'successful', 'modestly', 'she', 'forced', 'pitcher', \"he'd\", 'hillary', 'cummerbund', 'sponge:', 'bulked', 'cerebral', 'mayor', 'mice', 'turlet', 'email', 'planted', 'fit', 'moon', 'trench', \"ma's\", 'one-hour', 'halfway', 'state', 'summer', 'single-mindedness', 'microphone', 'pumping', 'formico:', 'ons', 'page', 'devils:', 'fritz', 'crisis', 'inflated', 'ratio', 'breathalyzer', 'inclination', 'lot', 'gotcha', 'roses', 'dramatically', 'furniture', 'tomato', 'shaved', 'pointedly', 'gunk', 'photographer', 'ralphie', \"duelin'\", 'spine', 'cause', 'henry', 'microwave', 'patty', 'justice', 'champignons', 'neighbor', 'spectacular', 'ready', 'answered', 'faceful', 'eventually', \"disrobin'\", 'tell', \"raggin'\", 'shreda', 'record', 'scooter', 'its', 'flips', 'whim', 'crying', 'chips', 'swill', 'stolen', 'kirk_voice_milhouse:', 'crawl', 'quero', 'fine', 'easygoing', 'snake', 'bleak', 'enough', 'thanksgiving', 'cap', 'die-hard', 'met', 'wins', 'jay', 'shoot', 'macaulay', 'vanities', 'serious', 'movies', 'vestigial', 'benefits', 'hare-brained', 'anybody', 'finding', 'measure', 'dough', 'amber_dempsey:', 'academy', 'loaded', 'hiya', 'shirt', 'tokens', 'ladies', 'minutes', 'broken:', \"game's\", 'god', 'steaming', 'contemptuous', 'nods', 'barber', 'agnes_skinner:', 'take', 'sound', 'mock', 'years', 'please', 'director', 'teach', 'patron_#2:', 'captain', 'lemonade', 'tribute', 'boozy', 'busted', 'yelling', 'hangs', 'tv_wife:', 'solved', 'though', 'crowded', 'mystery', 'mindless', 'merchants', 'dungeon', 'bono:', 'releasing', 'stocking', 'aidens', 'appreciated', 'mines', 'expose', 'name:', 'africanized', 'duff', 'optimistic', 'recipe', 'fixed', 'iddilies', 'ideal', 'cheryl', 'dessert', 'whoa', 'occupied', 'appeals', 'bliss', 'brine', 'hibbert', 'nailed', 'figures', 'stats', 'whaaaa', 'dint', 'boxing_announcer:', 'understood:', 'administration', 'mumbling', 'done', \"fallin'\", 'hexa-', 'aisle', 'smiled', 'protecting', 'lottery', 'ancestors', 'broadway', 'guiltily', 'hearse', 'female_inspector:', 'satisfied', 'dispenser', \"narratin'\", 'snorts', 'fiiiiile', 'age', 'gay', 'drawn', 'cattle', 'tom', 'matter', 'bar:', 'problemo', 'snap', 'played', 'cadillac', 'hello', 'reward', 'whole', 'gentleman:', 'tons', 'mate', 'cyrano', 'nick', 'mamma', 'upgrade', \"fun's\", 'mid-conversation', 'gloop', 'world', 'difference', \"drivin'\", 'waking-up', 'smitty:', 'terror', 'neanderthal', 'mumble', 'pursue', 'd', 'indignant', 'switched', 'passports', 'situation', 'second', 'selma', 'gimmick', 'helen', 'worse', 'mater', 'acting', \"foolin'\", 'mid-seventies', 'tearfully', 'groan', 'beep', 'play/', 'nervously', 'braun:', 'sobs', 'luck', 'off', \"homer'll\", 'proof', 'throwing', 'drummer', 'beauty', 'sticking', 'i', 'shades', 'wealthy', 'offense', 'became', 'risqué', 'halloween', 'sweetest', 'darjeeling', 'x', 'friend:', 'show', 'texas', 'self-centered', 'hyahh', 'praise', 'eminence', 'way', 'apulina', 'next', 'life-partner', 'all-all-all', 'doppler', 'triangle', 'andy', \"it's\", 'lists', 'leno', 'diet', 'reach', 'face-macer', 'chew', 'being', 'jets', 'tv_husband:', 'fail', 'trust', 'gentles', 'archaeologist', 'cousin', 'hero', 'arabs', 'dexterous', 'steely-eyed', 'wear', 'willy', 'shoots', 'walther', 'cloudy', 'tin', 'wrapped', 'safecracker', 'heartless', 'fence', 'home', 'pushes', 'coins', 'offended', 'bowling', 'neither', 'spy', 'recap:', 'dingy', 'defected', 'dumpster', 'chief_wiggum:', 'up-bup-bup', \"donatin'\", 'customer', 'attracted', 'morning-after', 'jazz', 'methinks', 'cab_driver:', 'slight', 'help', 'butterball', \"squeezin'\", 'buying', 'faint', 'newspaper', 'buffet', \"tootin'\", 'break-up', 'kyoto', 'happens', 'vote', 'splendid', 'graveyard', 'disapproving', 'sec_agent_#2:', 'carefully', 'homesick', 'er', 'laws', 'wacky', 'fondly', 'schedule', 'looking', 'nerve', 'supermarket', 'so-called', 'in-ground', 'jury', 'prove', 'presidential', 'glen:', \"tryin'\", 'bookie', 'closet', 'scam', '4x4', 'renew', 'princess', 'mailbox', 'robin', 'own', 'plants', 'trenchant', 'stamps', 'protesting', 'thunder', 'damage', 'dirge-like', 'twenty', 'knowing', 'tar-paper', 'handoff', 'doors', 'geyser', 'reliable', 'friday', 'caholic', 'gang', 'option', 'and-and', 'week', \"where's\", 'bike', 'landfill', 'buttons', 'friction', 'warranty', 'bumblebee_man:', 'specialists', 'quimby', 'getcha', 'ummmmmmmmm', 'butter', 'pass', 'paper', 'sister', \"feelin's\", 'caveman', 'discuss', \"city's\", \"fishin'\", 'omigod', 'subscriptions', 'attach', 'gag', \"daughter's\", 'oddest', 'safer', 'any', 'november', \"writin'\", 'shot', 'catching', 'actually', 'cleveland', 'war', 'shyly', 'moe_szyslak:', 'eyes', 'told', \"grandmother's\", 'mock-up', 'usual', 'north', 'launch', 'utility', 'toss', 'ironed', 'steamed', 'nordiques', 'howya', 'head', 'cheap', 'slice', 'or', \"aren't\", 'sniper', 'placing', 'whale', 'rebuttal', 'anger', 'edner', 'apology', 'terrified', \"i'd\", 'beanbag', 'paparazzo', 'manipulation', 'sprawl', 'wing', 'greatest', 'mister', \"nothin's\", 'hidden', 'birthday', 'buddies', 'apu_nahasapeemapetilon:', 'john', 'prison', 'informant', 'point', \"they'll\", 'reunion', 'hiding', 'lanes', 'sharing', 'captain:', 'grind', 'yak', 'far', 'occasion', 'freaking', \"stinkin'\", 'capuchin', 'skinner', 'awwww', 'saw', 'queer', 'hotline', 'hushed', 'partner', 'himself', 'creates', 'droning', 'hateful', \"today's\", 'anymore', 'wiggle', 'skinny', 'kinderhook', 'je', 'website', 'strongly', 'sale', 'bees', 'eighty-three', 'christian', 'mommy', \"here's\", 'blooded', '_burns_heads:', 'passion', 'three', 'tofu', 'parking', 'butt', 'drown', 'let', 'sweetly', 'agent_miller:', 'had', 'distributor', 'examples', 'continuum', 'nightmares', 'swigmore', 'two', 'enemies', \"year's\", 'start', 'dejected_barfly:', 'hop', '3rd_voice:', 'nagurski', 'self-esteem', 'crab', \"gettin'\", \"aristotle's\", 'belches', 'refreshingness', 'thankful', 'unforgettable', 'wiener', 'frankenstein', 'strangles', 'aristotle:', 'crowned', 'break', 'refresh', 'blubberino', 'lumpa', 'teenage_bart:', 'pathetic', 'universe', 'frankie', 'done:', 'approval', 'libido', 'overstressed', \"showin'\", 'not', 'taps', 'occupation', 'thru', 'blame', 'eighty-seven', \"'topes\", 'duty', 'mr', 'unkempt', 'laramie', 'bindle', 'prizefighters', 'catholic', 'stillwater:', 'takeaway', 'loves', 'touchdown', 'eats', 're-al', \"c'mere\", 'lou', 'barflies', 'chief', 'blissful', 'hundreds', 'napkins', 'men', 'wheel', 'premiering', 'dr', 'graves', 'novelty', 'uses', 'tourist', 'pre-columbian', \"'morning\", 'gardens', 'getaway', 'journey', \"wait'll\", 'burt', 'little_hibbert_girl:', 'fanciest', 'brown', 'ripped', 'elizabeth', 'eating', 'delicate', \"lady's\", \"liftin'\", 'pre-recorded', 'politicians', 'ultimate', 'dejected', 'hillbillies', 'spews', 'skinheads', 'encore', 'speak', \"that's\", 'shotgun', 'choice:', 'vincent', 'h', 'mural', 'bupkus', 'sitar', 'leftover', 'species', 'forgotten', 'romance', 're:', 'gee', 'cruel', 'row', 'newly-published', 'mistakes', 'cowardly', 'tv_father:', 'dropping', \"lefty's\", 'glummy', 'reactions', 'beach', 'ballot', 'tommy', 'mild', 'whispers', 'delete', \"we'll\", 'op', 'lock', 'hollowed-out', 'rough', 'chic', 'playoff', 'without', 'knife', 'lookalike:', 'flag', 'intelligent', 'mess', 'macgregor', 'iran', 'suspenders', 'comeback', 'presentable', 'krusty_the_clown:', \"leavin'\", 'people', 'indeed', 'compressions', 'picture', 'familiar', 'literary', '||lparenthese||', 'hang', 'asking', 'intriguing', 'progress', 'playing', 'oh-so-sophisticated', 'happiness', 'piano', 'ton', 'bedroom', 'drunk', 'breaks', 'yet', 'minute', 'open', 'chinese', 'teriyaki', 'chuckling', 'bill_james:', 'ehhhhhhhhh', 'ninety-nine', 'cooler', 'sober', 'ivory', 'singer', 'yards', 'snapping', 'automobiles', 'la', 'payback', \"singin'\", 'whee', 'count', 'peabody', 'notably', 'mcstagger', 'elder', 'both', 'snatch', 'deeply', 'prohibit', 'fold', 'yap', 'village', 'stomach', 'because', 'stick', 'handed', 'joe', 'foot', 'hurting', 'notch', 'inherent', 'brooklyn', 'hands', 'bothered', 'girl-bart', 'fast', 'smurfs', 'cheese', 'toms', 'ali', 'moonlight', \"watchin'\", 'agh', 'sorts', 'planning', 'pay', 'cheerleaders:', 'keeping', 'relationship', 'now', 'result', 'turn', 'quarterback', 'beeps', 'conversations', 'mechanical', 'life', 'woozy', 'debonair', 'absolut', 'whistling', 'cat', 'wondered', \"idea's\", 'batmobile', 'television', \"seein'\", 'bragging', 'panties', 'fridge', 'prince', 'ireland', \"drawin'\", 'label', 'jar', 'few', 'blokes', 'allowed', 'hers', 'image', 'booze', 'judgments', 'smile', 'wolfcastle', 'shelf', 'ignorance', 'basement', 'plus', 'guinea', 'car', 'grants', 'mexican_duffman:', 'torn', \"dyin'\", 'statue', 'smugglers', 'process', 'generous', 'propose', 'eyeing', 'greedy', 'un-sults', 'using', 'flaking', 'resist', 'hear', 'miss', 'tease', 'tones', 'mellow', \"edna's\", 'neighborhood', \"challengin'\", 'lily-pond', 'most:', 'peeping', 'rods', 'firmly', 'romantic', 'per', 'space', 'granted', 'dennis_kucinich:', 'gasps', 'düffenbraus', \"c'mon\", 'floor', 'creme', 'flynt', 'rather', 'what-for', 'cuckoo', 'whoever', 'meatpies', 'instrument', 'wang', 'cheer', 'kennedy', 'yours', 'arms', 'businessman_#1:', 'raccoons', 'morose', 'dreamy', 'whistles', 'comedies', \"countin'\", 'putty', 'giving', 'need', 'aggravated', 'sucked', 'also', 'danish', 'warmly', 'guzzles', 'when', \"can't\", 'settled', 'typed', 'won', \"'round\", \"sat's\", 'looting', 'twelveball', 'prep', 'thousand-year', 'crank', 'alcoholism', 'korea', \"c'mom\", 'hmmm', 'avec', 'committee', 'looks', 'feet', 'dull', 'reporter', 'blind', 'maybe', 'afternoon', 'sideshow_mel:', 'woman', 'prayers', 'presently', 'less', 'dizzy', 'promised', 'house', 'poor', \"rasputin's\", \"he's\", 'f-l-a-n-r-d-s', 'candles', 'betrayed', 'goodnight', \"marge's\", 'polls', 'tactful', 'foil', 'haplessly', 'gentle', 'front', 'weather', 'players', 'trees', 'overhearing', 'nucular', 'slightly', 'patty_bouvier:', 'chubby', 'rewound', 'incarcerated', 'half-back', 'needy', 'eve', 'ride', 'glasses', 'eurotrash', 'polygon', 'broad', 'stacey', 'calling', 'therefore', 'sugar-me-do', 'gruesome', 'hydrant', 'malfeasance', 'language', 'dangerous', 'pink', 'bust', 'majority', 'alter', 'promotion', 'snow', 'selfish', \"o'problem\", 'kills', \"something's\", 'beefs', 'past', 'chug-monkeys', 'crap', 'heartily', 'round', 'payments', 'naval', 'playhouse', 'jeter', 'woo', 'ram', 'gas', 'tolerable', 'brag', 'edelbrock', 'medieval', 'emotion', 'puzzle', 'squashing', 'must', 'indifferent', 'lighter', 'billy_the_kid:', 'conspiracy', 'alva', 'pure', 'lover', 'drivers', 'bigger', 'quarry', 'muffled', 'canyoner-oooo', 'mini-beret', 'relax', 'verdict', 'scratcher', 'perfume', 'bee', 'ivy-covered', 'counterfeit', 'exquisite', 'workers', 'solves', 'macho', 'your', 'whether', '1973', 'unless', 'shipment', 'although', 'take-back', 'premise', 'inexorable', 'quit', 'disappointing', \"couldn't\", 'kemi', 'occurrence', 'winston', 'jail', 'test-', \"knockin'\", 'domestic', 'suds', 'p', 'campaign', 'afterglow', 'tempting', 'tax', 'unfair', 'suspiciously', 'network', 'illegal', 'characteristic', 'seas', 'land', 'forget', 'murmurs', 'different', 'learn', 'specified', 'tank', 'they', 'cheaped', 'rhode', 'pregnancy', 'set', 'sees', 'hemoglobin', 'bonfire', 'motto', 'weep', 'partners', 'ehhh', 'spanish', 'bronco', 'unlike', 'endorsement', 'mudflap', 'crestfallen', \"tonight's\", 'a-b-', 'late', 'lighting', 'musical', 'mmmm', 'complaining', 'spirit', 'got', 'confidentially', 'germany', 'cell', 'girlfriend', 'program', 'junior', 'mexican', 'blobbo', 'read:', 'photo', 'politics', 'drunks', 'bills', ':', 'chub', 'mags', 'though:', 'guard', 'ho-ly', 'reptile', 'congoleum', 'woodchucks', 'problem', 'loboto-moth', 'cage', 'arrested:', 'hygienically', 'recommend', 'wisconsin', \"dog's\", \"'em\", \"aren'tcha\", 'california', 'means', 'weirded-out', 'mike_mills:', 'tatum', 'competitive', 'puke-pail', 'over', \"stayin'\", 'compliments', 'talking', 'more', 'realize', 'joke', 'information', 'gifts', 'dang', 'vampires', 'nature', 'regretful', \"d'ya\", 'effects', 'humiliation', 'ourselves', 'knocked', 'semi-imported', 'pizza', 'lotsa', 'grenky', 'tenuous', 'urban', 'lump', 'floated', 'happy', 'loss', 'lips', 'singing/pushing', 'lifetime', 'sugar', 'befriend', 'little_man:', 'happily', 'army', 'cleaning', 'dentist', 'magazine', 'brandy', 'original', 'absolutely', 'know', 'scout', 'ura', 'effervescent', 'cauliflower', 'bloodball', 'exception:', 'yammering', 'stab', 'mac-who', 'calendars', 'loan', 'shakespeare', 'billboard', 'weak', 'stan', 'breath', 'sisters', 'cold', 'anonymous', 'stole', 'choked-up', 'choices:', 'proves', 'wife', 'filthy', 'takes', 'drains', 'gumbel', 'enter', 'paintings', 'bread', 'lie', 'peanuts', 'champ', 'branding', 'dennis_conroy:', 'crime', 'hops', 'bridges', 'cops', 'y-you', 'mexicans', \"this'll\", 'sweaty', 'honeys', 'sense', 'up', 'don', 'pick', 'consciousness', 'appreciate', 'depending', 'action', 'righ', 'dunno', 'feedbag', 'where', 'diablo', 'swe-ee-ee-ee-eet', 'undies', 'proposing', 'ends', 'novel', 'weary', 'surprised/thrilled', 'flatly', 'linda', 'suave', 'stories', 'stones', \"team's\", 'agreement', 'arise', 'bits', 'load', 'frat', 'crayola', 'designer', 'admiring', 'clothespins:', 'conversation', 'gheet', 'presidents', 'phony', 'hitler', 'chocolate', 'all:', 'senators', 'jovial', 'noggin', 'papa', 'real', 'gear-head', 'enjoyed', 'reciting', 'perón', 'error', 'secret', 'cuff', 'choices', 'sob', 'anti-intellectualism', 'darts', 'her', 'exasperated', 'rekindle', 'always', 'starving', 'pleasure', 'seriously', 'cannot', 'circus', 'knock-up', 'sure', 'student', 'open-casket', 'jig', 'twice', 'impress', 'superpower', 'lessee', 'voyager', 'shuts', '1979', 'commit', 'corkscrew', 'light', 'dead', 'cosmetics', 'triumphantly', 'whirlybird', 'developed', 'burg', 'fireworks', 'doll-baby', 'refinanced', \"patrick's\", 'gulps', 'plums', 'nbc', 'hunka', 'gasoline', 'look', 'slapped', 'sickened', 'illustrates', 'mull', 'noticing', 'attractive_woman_#1:', 'f', 'zero', 'bras', 'faces', 'stools', 'unattended', 'barkeep', 'dynamite', 'dan', 'song', 'co-sign', 'eye', 'low-blow', 'alec_baldwin:', 'heading', 'museum', 'scum', 'cents', 'curiosity', 'civil', 'watched', 'dumbass', 'laughter', 'quebec', 'duh', 'admitting', 'um', 'flash-fry', 'pleasant', 'seething', 'rafter', 'backward', 'lingus', 'barf', 'disgracefully', 'bartholomé:', 'boxer', 'upon', 'making', 'alls', 'a', 'kind', 'exclusive:', 'twentieth', 'radiation', 'acceptance', 'sighs', 'later', 'ideas', 'othello', 'dennis', 'scoffs', 'boxcars', 'grandkids', 'bumped', 'squeal', 'bedtime', \"you've\", 'ran', 'killarney', 'david_byrne:', 'aggravazes', 'diminish', 'options', 'eddie', 'memories', 'alcohol', 'dory', 'fumes', 'helps', 'applicant', 'ratted', 'tinkle', 'louder', 'oils', \"depressin'\", 'clandestine', 'lise:', 'wally', 'gabriel', 'flat', 'polish', 'kid', 'frightened', 'bought', \"queen's\", 'that', 'twenty-four', 'kids', 'wildest', 'bride', 'electronic', 'mrs', 'andrew', 'sometimes', 'hat', 'remember', 'enlightened', 'missed', 'knew', \"carl's\", 'bartenders', 'enthused', 'forgot', 'bellyaching', \"boy's\", 'shhh', 'klingon', 'salary', 'moe', 'beverage', 'stares', 'hm', 'denver', 'move', 'fire_inspector:', 'lovers', 'online', 'clown', 'safely', 'eternity', 'mini-dumpsters', 'lard', 'whaddya', 'homeless', 'bill', 'pine', 'seductive', 'perhaps', 'relieved', 'culkin', 'cleaner', 'avalanche', 'ohh', 'invented', 'hit', 'gin-slingers', 'given', 'pool', 'certificate', 'yo', 'intention', 'lay', 'positive', 'lazy', 'exited', 'hairs', 'covers', 'gunter', 'buried', 'evening', 'spite', 'rounds', 'tie', 'augustus', 'grease', 'team', 'dazed', 'crayon', 'getting', 'shard', 'al', 'dishrag', 'poster', 'country-fried', 'dimly', \"getting'\", 'staying', 'sinkhole', 'delays', 'raise', 'tongue', 'super', 'lowers', 'cannoli', 'sexton', 'disturbance', 'mccarthy', 'tester', 'punch', 'price', 'boxer:', 'suicide', 'causes', 'pictured', 'chunk', 'barter', 'firm', 'bulldozing', 'citizens', 'express', 'penmanship', 'abandon', 'collateral', 'languages', 'crow', 'immiggants', 'dan_gillick:', 'potato', 'gargoyle', 'serve', 'lying', 'stupidly', 'senators:', 'coined', 'industry', 'jägermeister', 'bell', 'brief', 'heads', 'updated', 'xanders', 'guts', 'perverted', 'day', 'larry', 'pretend', 'friend', 'quarter', 'event', \"gentleman's\", 'disgraceful', 'stay', 'sedaris', 'sunglasses', 'sweetheart', 'game', 'other_book_club_member:', 'cares', 'william', 'harrowing', 'specializes', 'entire', 'reconsidering', 'thnord', 'severe', 'data', 'eightball', 'unusual', 'dark', 'brewed', 'frink-y', 'vengeance', 'vicious', 'bouquet', 'customers', 'indifference', 'si-lent', 'riding', '_eugene_blatz:', 'superdad', 'chick', 'strains', 'wraps', 'apart', 'stuck', \"plaster's\", 'accurate', 'reopen', 'determined', 'our', 'coherent', 'working', 'honey', 'barkeeps', 'ails', 'scornful', 'old_jewish_man:', 'inserts', 'who-o-oa', 'mostrar', 'hostages', 'cheered', 'law', 'talkers', 'based', 'puzzled', 'think', 'wrong', 'sneering', 'feisty', 'yeah', 'thanking', 'gal', 'heather', \"that'd\", 'coward', 'maya', \"america's\", 'duffed', 'shutting', 'liser', 'gorgeous', 'dials', 'justify', 'keys', 'oh-ho', 'gutenberg', \"cat's\", 'linda_ronstadt:', 'nursemaid', 'vulgar', 'hour', 'focused', 'smoke', 'behavior', 'bum:', 'person', 'bursts', 'absorbent', 'kent_brockman:', 'kirk', 'reentering', 'tow-joes', 'adjourned', 'sass', 'someplace', 'plow', 'civilization', 'hollye', 'judge', 'feeling', 'strictly', 'worked', 'priest', 'item', 'capitol', 'charlie:', 'shop', 'apply', \"wearin'\", 'presents', 'rosey', 'down', 'throw', 'wire', 'nectar', \"snappin'\", 'straighten', 'before', 'plane', 'fdic', 'disco', 'churchill', 'saved', 'brockelstein', 'discussing', 'none', 'ceremony', 'groveling', 'adrift', 'shall', 'animals', 'fox_mulder:', 'degradation', 'pepto-bismol', 'refreshment', 'skoal', 'initially', '_marvin_monroe:', 'bannister', 'highway', 'abusive', 'scrutinizing', 'icy', 'teams', 'mel', 'sweden', 'peace', 'wars', 'minus', 'jockey', 'thoughts', 'ehhhhhhhh', 'klown', 'territorial', 'came', 'sacajawea', 'foam', 'sickens', 'hugh', 'poke', 'urge', 'compare', 'rubbed', 'scarf', 'easy-going', \"hobo's\", 'murdoch', 'string', 'sentimonies', 'agent', 'thousand', 'men:', 'realized', 'fourth', 'flush', 'tapestry', 'spiritual', 'are', 'pushing', 'emphasis', 'masks', 'awareness', 'marmaduke', 'hits', 'get', 'coin', 'moonshine', 'vodka', 'gunter:', 'lobster', 'blur', 'excavating', '7-year-old_brockman:', 'sniffles', 'available', 'asleep', \"kids'\", 'dinner', 'grope', 'anyway', 'wanted', 'ayyy', 'higher', 'cooking', \"duff's\", 'pigtown', 'delighted', 'fighter', 'we-we-we', 'carl', 'contemplates', 'shoo', 'funniest', \"breakin'\", '50%', \"we'd\", 'actors', 'fast-food', 'regulations', 'four-drink', 'trapping', 'sat-is-fac-tion', 'ugh', 'kodos:', 'kang:', 'burps', 'creepy', 'thirty-thousand', 'certified', 'ruby-studded', 'fausto', 'marry', 'anti-crime', 'tasimeter', 'rutabaga', 'pigs', 'neon', 'rotten', 'arimasen', 'hockey-fight', 'sagacity', 'crinkly', 'baseball', 'patriotic', 'tip', 'memory', 'half-day', 'i/you', 'inspired', 'therapist', 'living', 'wiggum', 'crotch', 'meal', 'clipped', 'traffic', 'sued', 'hurry', 'fans', 'tow', 'jerks', 'cheers', 'contest', 'handle', 'willing', 'portfolium', 'achem', 'chumbawamba', 'sinister', 'match', 'tablecloth', \"kid's\", 'recent', 'wrestling', \"that'll\", 'shifty', 'anarchy', 'choked', 'blaze', 'device', 'sympathy', 'stagey', '6', \"man'd\", 'lloyd', 'pats', \"ridin'\", 'holy', 'carny:', 'bag', 'saint', 'affection', 'wobble', 'rip-off', 'designated', \"wasn't\", 'firing', 'extinguishers', 'reserve', \"bartender's\", 'defensive', 'japanese', 'honest', 'design', 'window', 'woman:', 'gulliver_dark:', 'surprised', 'list', 'rat', 'peaked', 'legal', 'race', 'grampa', \"monroe's\", 'appearance-altering', 'lenny', \"changin'\", 'kneeling', 'appalled', 'silence', 'disappointment', 'flophouse', 'rage', 'charming', 'again', 'jasper_beardly:', 'kentucky', 'punishment', 'grienke', 'seamstress', 'bourbon', 'rome', 'yea', 'busiest', 'feat', 'face', 'southern', 'easier', 'fat_in_the_hat:', 'wearing', 'drollery', 'slaps', 'parked', 'awfully', 'kwik-e-mart', 'expense', 'marshmallow', 'experience', 'freedom', 'mansions', 'hats', 'mind-numbing', 'whoa-ho', 'movie', 'deliberate', 'gargoyles', 'voice_on_transmitter:', 'above', 'fresh', 'figure', 'brothers', 'frazier', 'luv', 'while', 'tv-station_announcer:', 'intervention', 'mic', 'troy_mcclure:', 'appendectomy', 'julienne', 'bid', 'wrap', 'proper', 'jeff', 'app', 'arts', 'mabel', 'kidneys', 'washer', 'beat', 'understood', 'ignoring', 'sing', 'blinded', 'angry', 'rug', 'sport', \"lovers'\", 'edna-lover-one-seventy-two', \"moe's\", 'badges', 'bird', 'mickey', 'sniffs', 'porn', 'lucky', 'brakes', 'iranian', 'awkwardly', 'bunion', 'breakdown', 'dawning', 'robot', 'exhale', 'angrily', 'cutie', 'crystal', 'banquo', 'represent', 'checks', 'sunny', 'bit', 'insulted', 'step', 'focus', 'insurance', 'leave', 'pretzel', 'rugged', 'kool', 'suspect', 'tiny', 'oww', 'musta', 'lovejoy', 'aged_moe:', 'scratching', 'chauffeur:', 'sloe', 'stumble', 'giant', 'stranger:', 'cockroach', 'company', 'screws', 'box', 'aside', 'understanding', 'okay', 'dad', 'nobody', 'test-lady', 'fustigate', 'fayed', 'beached', 'lindsay_naegle:', 'fury', \"fans'll\", 'continued', 'night', 'moe-ron', 'bottomless', 'y', 'limited', 'excitement', 'flew', \"must've\", 'somewhere', 'ought', 'clone', 'dutch', 'fevered', 'background', 'dignified', 'decide:', 'only', 'applesauce', 'lots', 'lookalike', 'snail', 'knowingly', '250', 'girl', 'melodramatic', 'imagine', 'mention', 'unearth', 'knows', 'trashed', 'gasp', \"murphy's\", 'mop', 'larson', 'manfred', 'occasional', 'eaters', 'department', 'all-american', 'theme', 'adeleine', 'invisible', 'bus', 'rancid', 'aah', 'unbelievably', 'voters', 'gary:', 'para', 'script', 'james', 'woooooo', 'die', 'asks', 'bottom', 'holds', 'crummy', 'radioactive', 'toledo', 'numeral', 'caused', 'possessions', 'drawer', 'defiantly', 'poetry', 'ointment', 'love-matic', 'municipal', 'shores', 'investment', 'padre', 'wave', 'stevie', 'countryman', 'dealt', 'has', 'courts', 'pronto', 'wieners', 'seats', 'uh-oh', 'gift', 'channel', 'starts', 'england', 'noble', 'thinks', 'fleabag', 'cost', \"washin'\", 'terrific', 'football_announcer:', 'lap', 'in-in-in', 'stickers', 'drapes', \"g'ahead\", 'apu', 'housework', 'bartender', 'planned', 'compete', 'flayvin', 'during', 'invited', 'coat', 'filed', 'aerosmith', \"professor's\", 'richard:', 'fink', 'jernt', 'pretentious_rat_lover:', 'stretches', 'tonic', 'walks', 'wishful', 'thought_bubble_homer:', \"buyin'\", 'jackson', 'chapstick', 'nah', 'marvelous', 'juke', 'tipsy', 'adjust', \"ma'am\", 'dilemma', 'meaningful', 'missing', 'wittgenstein', 'errrrrrr', 'fights', 'tapered', 'demand', 'heard', 'indigenous', 'mouse', 'manatee', 'multiple', 'chunky', 'ha-ha', 'nurse', 'fiction', 'appear', 'fellow', 'instead', 'jukebox', 'kicked', 'his', 'employment', 'edna', 'jesus', 'square', 'silent', 'despite', 'rich', 'aiden', 'evergreen', 'declare', 'cash', 'gums', 'lowering', 'jumps', \"football's\", 'alphabet', 'stein-stengel-', 'taught', 'oughtta', 'upn', 'involving', 'puff', 'perverse', 'cheesecake', 'alibi', 'treasure', 'prettied', 'announcer:', 'file', 'remote', 'brother', 'group', 'rapidly', 'going', 'ecru', 'complete', 'compromise:', 'loafers', 'composer', 'reading:', 'sieben-gruben', 'interested', 'hundred', 'ones', 'germans', 'upbeat', 'spotting', 'ow', \"scammin'\", 'gore', 'casting', 'paints', 'whoopi', 'convinced', 'plastic', 'complaint', 'deacon', 'sight', 'suburban', 'occurred', 't-shirt', 'unlocked', 'legs', 'rubs', 'micronesian', 'anything', 'have', 'impending', 'accelerating', 'broke', 'yell', 'steel', 'huhza', 'cronies', 'palmerston', 'alive', 'troubles', 'sequel', 'at', 'finishing', 'true', 'modern', 'fun', 'items', 'wowww', 'suit', 'obvious', 'distance', 'sanctuary', 'red', 'started', 'forgive', \"havin'\", 'half-beer', \"shootin'\", 'broken', 'dames', 'handing', 'rid', 'sausage', 'rumor', 'bachelorette', 'anxious', 'stage', 'haws', 'wobbly', 'selection', \"bart's\", 'rob', 'owe', 'itself', 'celebrate', 'bide', 'loudly', 'sail', 'booking', 'alien', 'shutup', 'flash', 'push', 'deli', 'plans', 'tire', 'biggest', 'luckily', 'dice', 'lime', 'securities', 'slab', 'sometime', \"tinklin'\", 'nasa', \"bar's\", 'blurbs', 'thomas', 'customers-slash-only', 'endorse', 'full-blooded', 'stalwart', 'exhibit', \"someone's\", 'tv_announcer:', 'quite', 'besides', 'checking', 'moe_recording:', 'corporation', 'field', 'aer', 'audience', \"bettin'\", 'inspire', 'dae', 'hawking:', 'blend', 'van', 'sack', 'arab_man:', 'him', 'weirder', \"who'da\", 'managing', 'witty', 'moe-heads', 'many', 'nerd', 'radishes', 'chairman', 'warmth', 'amends', 'hair', 'helicopter', 'barney-guarding', 'gold', 'dealer', \"'pu\", 'sanitation', 'lance', 'puffy', 'source', 'doctor', 'shoulders', \"she's\", 'rascals', 'hoo', 'volunteer', 'times', 'stored', 'slays', 'wazoo', \"tester's\", 'blimp', 'villanova', 'pal', 'local', 'one', 'cigarette', 'cheapskates', 'nantucket', 'little', 'woulda', 'thoughtless', 'splash', 'thirty-three', 'roof', 'splattered', 'lobster-politans', 'equal', 'hoped', 'brains', 'election', 'verticality', 'liven', 'make', 'oblivious', 'metal', 'blood', \"'cause\", 'clientele', 'least', 'pride', 'sixty', 'forehead', 'sympathizer', 'position', 'manager', 'refiero', 'orgasmville', 'hustle', 'hated', 'warned', 'fight', 'teeth', 'gals', 'else', 'ahem', 'emergency', 'falcons', \"yieldin'\", 'motel', 'contact', 'glowers', 'lis', 'sustain', \"tv's\", 'self-satisfied', 'easily', 'hosting', \"ol'\", 'jacques:', 'x-men', 'bet', \"it'd\", 'rest', 'detective', 'tragedy', 'hunter', 'calm', 'neil_gaiman:', 'beaumarchais', 'disgrace', 'my', 'pit', 'card', 'cotton', 'liquor', 'cowboys', 'full', 'ashamed', \"coaster's\", 'factor', 'heart', 'nahasapeemapetilon', 'will', 'tall', 'wore', 'espousing', 'conference', 'sassy', 'christopher', 'birthplace', 'bar_rag:', 'pretzels', 'harm', 'sorry', 'losing', 'rap', 'eager', 'deeper', 'monkey', 'contented', 'searching', 'necklace', 'lose', 'bret:', \"president's\", 'annual', \"you'd\", \"men's\", 'save', 'curious', 'aghast', 'theatrical', 'pian-ee', 'popular', 'cuddling', 'old', 'tanked-up', 'ling', 'envy-tations', 'bushes', 'alternative', 'english', 'spacey', 'rector', 'gamble', 'inspiring', 'duel', 'she-pu', 'vulnerable', 'homer_', 'pop', 'bottle', \"thing's\", 'single', 'cheering', 'necessary', 'eight-year-old', 'dollface', 'treat', \"'roids\", 'belly', 'skirt', \"s'cuse\", 'jack', 'polishing', \"takin'\", 'fustigation', 'boozer', 'gave', 'low-life', 'comfortable', 'i-i-i', 'legally', 'power', 'darn', \"family's\", 'explaining', 'baby', 'awe', 'host', 'blown', 'having', 'damn', 'indecipherable', 'doug:', 'tidy', 'slugger', 'stooges', 'place', 'rub-a-dub', 'so-ng', 'wipes', 'needed', 'beatings', 'sec', 'ford', 'finger', 'riveting', 'spelling', 'something:', 'six-barrel', 'quietly', \"comin'\", 'fledgling', 'sending', 'badge', 'two-drink', 'worthless', \"you'll\", 'incriminating', 'atlanta', 'otherwise', 'girls', 'enveloped', 'nickel', 'draw', 'almost', 'waterfront', 'rem', 'windelle', 'underbridge', 'treats', 'glad', 'wine', 'lucinda', 'rocks', 'heh-heh', 'fever', 'sounds', \"'your\", 'clean', 'meaningfully', \"bart'd\", 'chow', 'name', 'fire', 'you-need-man', 'character', 'hammy', 'tired', 'influence', 'contemporary', 'philosophical', '-ry', 'yesterday', 'tender', 'college', 'the_edge:', 'enthusiasm', 'voicemail', 'officials', 'gator', 'three-man', 'mis-statement', 'smelling', 'seek', 'scare', 'contract', 'big', 'ivanna', 'doubt', 'astonishment', 'sauce', 'artie', 'bumbling', 'andalay', 'weird', 'k', 'movement', 'guns', 'bon', 'phase', 'wayne:', 'deny', 'bloodiest', 'painted', 'johnny_carson:', 'clearing', 'clock', 'outlook', 'brockman', 'bitter', 'doreen', 'idea', 'rolled', 'international', 'audience:', 'geysir', 'admirer', 'deadly', 'regretted', 'superior', 'smile:', 'mither', \"y'know\", 'accent', 'à', 'opening', 'sangre', 'stingy', 'computer', 'herself', 'gone', 'motor', 'trouble', 'earlier', 'naked', 'ding-a-ding-ding-ding-ding-ding-ding', 'dislike', \"somebody's\", 'station', 'shrugging', 'maude', 'walked', 'cranberry', 'dating', 'jobs', 'practically', 'dressed', 'shindig', 'friendly', 'hubub', 'enemy', 'lovelorn', 'long', 'hug', 'moustache', 'pants', 'boy', 'retired', 'chase', 'nasty', '50-60', 'chapter', 'seeing', 'publish', 'phrase', \"treatin'\", 'rain', 'wienerschnitzel', 'idiots', 'pulling', 'hyper-credits', 'forty-two', \"cleanin'\", 'bob', 'lift', 'other', 'soup', 'shrugs', 'fantasy', 'government', 'stir', 'named', 'finish', 'thirty-five', 'starting', \"playin'\", 'ungrateful', 'inches', 'hole', 'stairs', 'rice', 'dirt', 'noooooooooo', 'evasive', 'placed', 'vampire', 'crappy', 'fast-paced', 'sidelines', 'cries', 'into', 'nudge', 'rules', 'tuborg', 'detective_homer_simpson:', 'scatter', 'soir', 'weapon', 'felony', 'cigarettes', 'gel', 'nards', 'freely', 'super-nice', 'signed', 'sympathetic', \"world's\", 'copy', 'application', 'delts', 'catch-phrase', 'eight', 'south', 'new', 'pretending', 'unbelievable', 'ohhhh', 'aging', 'barbed', 'punching', 'rev', 'month', 'soon', 'nonchalantly', 'embarrassing', 'changing', 'clincher', 'suck', 'moon-bounce', 'cartoons', 'italian', 'presumir', '2', 'advantage', 'spoon', 'driveability', 'exploiter', 'spit-backs', 'weeks', 'hourly', 'pull', 'powered', 'form', 'fighting', 'lurleen', 'sunk', 'unsourced', \"'cept\", 'deals', 'tabs', 'holidays', 'amazed', 'actor', 'blues', 'assassination', 'falsetto', 'de-scramble', 'habitrail', 'ivana', 'side:', 'l', 'ga', 'dum-dum', 'pets', 'doooown', 'sleigh-horses', 'warn', 'made', \"sittin'\", 'themselves', \"thinkin'\", 'carey', 'alpha-crow', 'celebrities', 'johnny', 'eliminate', 'navy', 'naively', 'suppose', 'kicks', 'each', 'quitcher', \"i-i'll\", 'chug-a-lug', 'monday', 'rebuilt', 'mix', 'cologne', 'musses', 'whaddaya', 'conversion', 'noosey', 'barn', 'coma', 'this:', 'albert', 'elect', 'probably', 'ticks', 'drinking:', 'stinks', 'grubby', 'coy', 'ale', 'cecil_terwilliger:', 'leg', 'early', 'grabbing', 'life-extension', 'tense', 'drinker', 'door', 'trash', 'turns', 'impressed', 'shove', 'delivery', 'waste', 'if', 'mmmmm', 'amused', 'rent', 'hounds', 'african', 'albeit', 'do', 'morning', 'flashbacks', 'barbara', 'grammys', 'grunts', 'bite', \"we've\", 'cutest', 'hooray', 'best', 'glee', 'shriners', 'crushed', 'nfl_narrator:', 'swine', 'george', 'busy', 'time', 'chance', 'lush', 'ahh', 'snitch', 'taste', 'case', \"crawlin'\", \"ball's\", 'clips', 'air', 'cozies', \"stealin'\", 'when-i-get-a-hold-of-you', 'united', 'dry', 'pretends', 'rabbits', 'cajun', 'money', 'conditioner', 'until', 'destroyed', 'bam', 'reason', 'wood', 'market', 'poured', 'waist', 'heavyset', 'hooch', 'prize', 'lifestyle', 'pilsner-pusher', 'egg', 'homunculus', 'jimmy', 'carve', 'snotty', 'mcbain', 'misfire', 'imitating', 'bites', 'but', 'those', 'evil', 'samples', 'last', 'cueball', 'oof', \"tomorrow's\", 'drift', 'unfortunately', 'cherry', 'spot', 'kill', 'dreams', 'pinchpenny', \"table's\", 'which', 'chinua', 'sixty-nine', 'uneasy', 'stupid', 'fist', 'reckless', 'dive', 'ahhh', 'size', 'young_marge:', 'não', 'room', 'begins', 'considering', 'collapse', 'lungs', 'nose', 'comic_book_guy:', 'forbids', 'jane', 'peppy', 'awful', 'hose', 'accepting', 'drinks', 'jewish', 'babar', 'sat', 'skydiving', 'lisa_simpson:', '3', 'manjula_nahasapeemapetilon:', 'psst', 'thank', 'grab', 'change', 'cliff', 'uncomfortable', \"choosin'\", 'jam', 'tabooger', 'dateline:', 'incredulous', 'malabar', 'is:', 'driving', 'homers', 'imported-sounding', 'here-here-here', 'maggie', 'pip', 'extended', 'sketch', 'sitcom', 'ruuuule', 'logos', 'glitterati', 'hail', '_montgomery_burns:', 'normals', 'law-abiding', 'wade_boggs:', 'grimly', 'valley', 'bar-boy', 'wigs', 'belch', 'forecast', 'awww', 'scores', 'threw', 'life:', 'line', \"pope's\", 'christmas', 'troy', 'hotenhoffer', 'cobra', 'alfred', \"robbin'\", 'stupidest', 'monroe', 'vengeful', 'conclude', 'yello', 'contemplated', 'towed', 'german', 'plug', 'parasol', 'killing', 'procedure', 'season', 'tape', 'el', 'said:', 'contractors', 'guff', 'ironic', 'death', 'famous', 'kansas', 'malted', \"i'm-so-stupid\", 'giggle', 'marge_simpson:', 'advertise', 'correcting', 'convenient', 'donut-shaped', \"'s\", 'crumble', 'everyday', 'flaming', 'kiss', 'tasty', 'grammar', 'live', \"don'tcha\", 'swatch', 'twins', 'intense', 'edge', 'voodoo', 'poplar', 'picky', 'finest', 'camera', \"neat's-foot\", 'buddha', 'offa', 'disappear', 'priority', \"i'll\", 'comforting', 'championship', 'microbrew', 'celebrity', 'slender', 'awed', 'transmission', 'kirk_van_houten:', 'irishman', 'dizer', 'would', 'buttocks', 'myself', 'innocent', 'streetcorner', 'fl', 'letters', 'dracula', 'shakes', \"i'm\", 'attached', \"games'd\", 'testing', 'frenchman', \"who's\", \"floatin'\", 'arrest', 'soap', '_timothy_lovejoy:', 'ten', 'tv', 'jebediah', 'gift:', 'roz:', 'restaurant', 'civic', 'unsanitary', 'encouraging', 'does', 'hungry', 'winded', 'learned', 'woman_bystander:', 'sotto', 'beans', 'credit', 'turned', 'peanut', 'kidding', \"'evening\", 'lease', 'canoodling', 'omit', 'sweater', 'awesome', 'norway', 'disappointed', 'grow', 'trick', 'suddenly', 'too', 'plum', 'address', 'pulitzer', 'spare', 'vomit', 'crowbar', 'almond', 'mostly', 'strap', 'and/or', 'suspicious', 'champs', '7g', 'donation', 'brow', 'anguished', 'careful', 'williams', 'certain', 'finance', 'washouts', 'bums', 'decide', 'snide', 'moonnnnnnnn', 'ebullient', 'hmf', 'travel', 'double', 'says', 'delivery_man:', 'say', 'rule', 'cream', 'salad', \"blowin'\", 'windex', 'this', 'hibachi', 'wounds', 'said', 'sobbing', 'longest', 'due', 'haiti', 'philip', 'joking', 'jeez', 'society', 'dealie', 'private', 'drank', 'shtick', 'desire', 'moron', 'should', 'sub-monkeys', 'mug', \"somethin's\", 'poorer', 'celeste', 'clubs', 'legoland', 'nigerian', 'drederick', 'billingsley', 'attraction', 'pews', 'fatty', 'colossal', 'padres', 'freaky', 'sips', 'sidekick', 'failure', 'hide', 'soaps', 'majesty', 'hot', 'imaginary', 'generously', 'forever', 'clown-like', 'calculate', 'dean', 'over-pronouncing', 'spit', 'kidnaps', \"drinkin'\", 'ronstadt', 'teen', 'small_boy:', 'seems', 'colorado', 'slit', 'dying', 'watching', 'buzz', 'answering', 'commission', 'saying', \"people's\", 'system', 'entertainer', \"s'okay\", 'bastard', \"springfield's\", 'swan', 'david', 'trying', 'fuzzlepitch', 'strawberry', 'example', 'heaving', 'adult_bart:', 'heroism', 'unfamiliar', 'mayor_joe_quimby:', 'erasers', 'louse', 'forty-seven', 'courage', 'finale', 'work', 'began', 'portuguese', 'thesaurus', 'cocks', \"how'd\", 'someone', 'suits', 'lost', 'struggling', 'part', 'stirrers', '_babcock:', 'killer', 'bank', 'lead', 'bow', 'mirthless', 'rings', 'grandé', 'hoping', 'monster', 'rife', 'ruined', 'shells', 'please/', 'maitre', 'writers', 'boozebag', 'produce', 'tough', 'ear', \"elmo's\", 'maintenance', 'ruled', 'agree', \"life's\", 'dictating', 'pointy', 'a-a-b-b-a', 'partially', 'stu', 'bull', 'scanning', \"heat's\", 'relative', 'wordloaf', 'standing', 'earrings', 'outs', 'the_rich_texan:', 'reached', 'legs:', 'believer', 'regulars', 'beaumont', 'expression', 'ginger', 'giggles', 'lifters', 'still', 'barely', 'disguised', 'arguing', 'women', 'leonard', 'boys', 'west', 'level', 'swig', 'tv_daughter:', 'chipper', \"battin'\", 'routine', 'derisive', 'makes', 'society_matron:', 'urine', 'tying', 'hampstead-on-cecil-cecil', 'upsetting', 'gregor', 'gimmicks', 'gently', 'repairman', 'quick-like', 'chanting', 'dregs', 'these', 'soaking', 'mirror', 'ice', 'intoxicants', 'shortcomings', 'follow', \"tellin'\", 'talkative', 'coal', 'traitor', 'blew', 'falling', 'nobel', 'remain', 'pro', 'midge:', 'goodwill', 'gig', 'proud', 'manchego', 'oh', 'donuts', 'of', 'hate-hugs', 'internet', 'youuu', 'wife-swapping', 'bounced', 'holiday', 'wham', 'singers:', 'forty-five', 'raises', 'pre-game', 'fondest', 'waters', 'buds', 'recruiter', 'intrigued', 'release', 'zack', 'yard', 'flush-town', 'rainier_wolfcastle:', 'sly', 'looked', 'package', 'kearney_zzyzwicz:', 'declan', 'donated', 'wide', 'bunch', 'talk-sings', 'sports_announcer:', 'patting', 'lofty', 'lou:', 'grace', 'louisiana', 'renders', 'beautiful', 'floating', 'xx', \"can'tcha\", 'saturday', 'bashir', 'following', 'run', 'madison', 'explain', 'direction', 'dumptruck', 'mobile', 'boisterous', 'wells', \"children's\", 'drunkening', 'quick', 'dignity', 'duffman', 'crunch', 'chain', 'two-thirds-empty', 'funny', 'windowshade', 'perfected', 'ze-ro', 'obama', 'carlotta:', 'crapmore', 'exciting', 'snout', 'ringing', 'geez', 'sincerely', 'sam:', 'rickles', \"messin'\", 'sooo', 'steak', 'wind', 'feels', 'schnapps', 'come', 'totalitarians', 'want', 'cozy', 'couch', 'permitting', \"england's\", 'fluoroscope', 'clear', 'mulder', 'king', \"betsy'll\", 'in', 'recorded', \"won't\", \"makin'\", 'dana_scully:', 'brainheaded', 'glove', \"beggin'\", 'there', 'stalin', 'nap', 'tree_hoper:', 'outside', 'ho-la', 'throats', 'never', 'mean', 'luxury', 'lady-free', \"everyone's\", 'chuckles', 'carlson', '||qutes||', 'pepsi', \"dad's\", 'nash', 'fires', 'fools', 'aerospace', 'star', 'winner', 'wooden', '||rparenthese||', \"listenin'\", 'horrified', 'snake_jailbird:', 'finally', 'lewis', 'jogging', 'reflected', 'poin-dexterous', 'died', 'thrust', 'sad', 'rip', 'wage', 'charges', 'ooo', 'cover', 'infatuation', 'liable', 'haikus', 'wangs', 'showered', 'bedridden', 'buffalo', 'give', 'sheet', 'other_player:', 'written', \"ragin'\", 'soothing', 'lodge', 'medical', 'keep', 'popping', 'whatsit', 'bret', 'for', 'toward', 'stonewall', 'b', 'attempting', 'terrorizing', 'hike', 'gees', \"hell's\", 'gumbo', 'failed', 'promise', 'boned', 'punkin', 'pas', 'worst', 'macbeth', 'guide', 'shoes', 'eva', 'uninhibited', 'lotta', 'social', 'reader', 'taking', 'tab', 'heart-broken', 'guess', 'left', 'phasing', 'yep', 'somehow', 'code', \"o'reilly\", 'compliment', 'bitterly', 'gambler', 'brace', 'moans', \"somethin'\", 'parrot', 'harv:', 'fill', 'puke-holes', 'dashes', 'lager', 'crooks', \"bashir's\", 'eu', 'harvesting', 'pretty', 'ago', 'smart', 'oil', 'darkness', 'con', 'donate', 'africa', 'nearly', 'mugs', 'indicates', '21', 'nameless', 'apron', 'bye', 'knowledge', 'crazy', 'squirrels', 'collette:', 'corporate', 'fabulous', \"poundin'\", 'resenting', 'wish', 'entering', 'lincoln', 'faced', 'refreshing', 'bleeding', 'heavyweight', \"linin'\", 'caper', 'cases', 'uh-huh', 'tail', 'toasting', 'pleading', \"yesterday's\", 'stagy', 'vacuum', 'snake-handler', 'activity', 'denser', 'knock', 'twenty-five', 'burnside', 'son', 'patrons:', 'ridiculous', 'churchy', 'sucks', 'loser', 'jerking', 'declan_desmond:', 'kissed', 'five-fifteen', 'agency', 'restroom', 'worldview', 'cruiser', 'figured', 'laid', 'outlive', 'dig', 'joined', 'michael', \"what's\", 'total', 'muslim', 'temporarily', 'roz', 'cocoa', 'swimmers', 'fourteen:', 'be-stainèd', 'forty-nine', 'sweat', 'chuckle', 'deserve', 'pain', 'pays', 'counter', 'coughs', 'palm', 'musketeers', 'saga', '530', 'increased', 'veux', 'hours', 'sticker', 'a-lug', 'wasting', 'fictional', 'mixed', 'sneak', 'assume', 'lainie:', 'eat', 'ripping', 'fish', 'hate', 'fall', 'compels', 'the', 'rhyme', 'dumb', 'meyerhof', 'feminine', 'shoe', 'boat', 'tomorrow', 'everything', 'inning', 'american', 'glyco-load', 'boring', 'unhook', 'yellow', 'billion', 'mole', 'sadistic_barfly:', 'grumpy', 'greystash', 'uhhhh', 'stood', 'me', 'couple', 'embarrassed', 'muscle', 'pronounce', 'showing', 'beer-dorf', 'city', 'chair', 'authenticity', 'm', 'smiling', 'attend', 'repay', 'took', 'santeria', 'wanna', 'slyly', 'cracked', 'sold', 'rom', 'mouth', 'democracy', \"meanin'\", 'au', 'duke', 'cup', 'compared', 'sector', 'then', 'buy', 'ingrates', 'murdered', 'dress', 'than', 'arm', 'fastest', \"brady's\", 'life-sized', 'goo', 'bumpy-like', 'oooh', \"we're\", 'sacrilicious', 'appropriate', 'abercrombie', 'olive', 'bugging', 'cheat', 'squeezed', 'shorter', 'beast', 'cheated', \"shan't\", 'robbers', 'was', 'clammy', 'straining', 'accusing', 'tolerance', 'artist', 'delivery_boy:', 'clams', 'lovely', \"chewin'\", 'today', 'bobo', 'dreamed', 'beer:', 'easter', 'party', 'edison', \"i've\", \"maggie's\", 'pickles', 'plenty', 'emporium', 'as', 'been', 'displeased', 'stationery', \"ladies'\", 'tiger', 'ripper', 'looooooooooooooooooong', 'warning', 'considers', 'pack', 'etc', 'onions', 'exultant', 'newsletter', 'sleep', 'strong', 'toilet', 'books', 'sweet', 'ooh', 'replaced', 'rotch', 'bush', 'yoo', 'joint', 'eleven', 'tobacky', 'teacup', 'deal', 'junebug', 'lessons', 'selective', 'further', 'nevada', 'liar', 'changed', 'brought', 'zeal', 'drawing', 'tracks', 'jeff_gordon:', 'investor', 'synthesize', 'soul', 'an', 'easy', 'machine', 'feast', \"i'd'a\", 'halvsies', 'cookies', 'doom', 'secrets', 'lifts', 'accidents', 'fifty', 'hoax', 'befouled', 'examines', 'correct', 'labor', 'aunt', 'employees', 'young_homer:', 'onassis', 'britannia', 'seat', 'farewell', 'burglary', 'clothes', 'diddilies', 'ye', '&', \"don't\", 'peach', 'high', 'ech', 'kako:', 'elite', 'mount', 'scum-sucking', 'sissy', 'stinky', 'craft', 'pageant', 'louie:', \"swishifyin'\", 'dirty', \"g'night\", 'tried', 'enforced', 'thing', 'garbage', 'modest', 'solid', 'wuss', 'flourish', 'delicately', 'grandmother', 'pep', 'sucker', 'created', \"tony's\", 'reluctant', 'diapers', 'richard', 'roomy', 'uncle', 'paying', 'ref', 'changes', 'generosity', 'ralph_wiggum:', 'swelling', 'glen', 'relaxing', 'book', 'capitalists', 'tsking', 'encouraged', 'tropical', 'flown', 'forgiven', 'wagering', 'grains', 'roy', 'table', 'favorite', 'soot', 'haw', 'experiments', 'full-bodied', 'realizing', 'happened', 'fonda', 'viva', 'spits', 'telling', 'dog', \"man's_voice:\", 'youth', 'car:', 'syrup', 'screw', 'oooo', 'walking', 'grudgingly', 'impatient', 'mmm-hmm', 'savvy', 'surgeonnn', 'taylor', 'bulletin', 'covering', 'director:', 'pizzicato', 'intimacy', \"'ere\", \"mopin'\", 'dreamily', 'sang', 'edna_krabappel-flanders:', \"'im\", 'snaps', \"dolph's_dad:\", 'manuel', \"collector's\", 'lonely', 'ring', 'drink', 'jerky', 'k-zug', 'pile', 'annoyed', 'lady_duff:', 'juice', 'mustard', 'slim', \"mother's\", 'additional-seating-capacity', 'check', 'sensible', 'alley', 'middle', 'tap', 'twenty-two', 'pad', 'everyone', 'peter', 'prefer', 'charged', 'bartending', 'unexplained', 'babe', 'rims', 'brilliant', 'calmly', 'trivia', \"poisonin'\", 'pointing', 'prayer', \"pullin'\", 'fella', 'crowd:', \"talkin'\", 'warm_female_voice:', 'like', 'dallas', 'squabbled', 'exits', \"shouldn't\", 'suspended', \"larry's\", 'exact', 'coupon', 'confession', 'such', 'thorough', 'michael_stipe:', 'winks', 'mission', '1-800-555-hugs', 'nauseous', 'muhammad', 'miss_lois_pennycandy:', 'led', 'stirring', 'town', \"nick's\", 'pontiff', 'dies', 'carll', 'innocence', 'bald', 'instantly', 'whatchacallit', 'sixteen', 'sec_agent_#1:', 'starters', 'expired', 'six', 'nigel_bakerbutcher:', 'conditioning', 'grub', '||exclamationpoint||', 'ruin', 'ancient', 'sleeps', 'ghouls', \"it'll\", 'allegiance', 'suing', 'demo', 'teacher', 'annoying', \"b-52's:\", 'press', 'already', 'theory', 'bar', 'shaken', 'log', 'narrator:', 'totally', 'sanitary', \"ain't\", 'generally', 'rivalry', 'inserted', 'physical', 'kitchen', 'whatchamacallit', 'getup', 'trolls', \"spyin'\", 'clears', 'separator', 'locked', 'guys', 'ease', 'mathis', 'troy:', 'night-crawlers', 'man:', 'committing', 'office', 'fancy', 'curse', 'raggie', 'hammer', 'bullet-proof', 'found', 'strategizing', 'ambrose', 'shaggy', 'monorails', 'worried', 'absentminded', 'potatoes', 'hostile', 'eaten', 'ball', 'knives', 'kisser', 'picked', 'leathery', 'surprising', 'kazoo', 'scientific', 'jelly', 'umm', 'szyslak', 'briefly', 'donut', 'mountain', 'commanding', 'belly-aching', 'wants', 'sexy', 'sealed', 'band', 'bright', 'doreen:', 'stunned', 'index', 'stop', 'dance', 'insightful', \"handwriting's\", 'dads', 'gimme', 'hates', 'humanity', 'asked', 'food', 'exchanged', 'invite', 'betcha', 'sperm', 'idiot', 'twelve-step', 'strokkur', 'smell', 'warren', 'disdainful', 'gotten', 'acronyms', 'consulting', 'honor', 'mind', 'raining', 'rummy', 'fantastic', 'exhaust', 'random', 'fat-free', 'mitts', 'kinds', 'walk', 'guttural', 'frink', 'welcome', 'injury', \"neighbor's\", 'victorious', 'decent', 'eyed', 'jolly', 'tuna', 'benjamin', 'effervescence', 'carpet', 'sigh', 'cobbling', 'drop', 'scrape', 'feed', 'coaster', 'hootie', 'sponge', 'model', 'pillows', 'suru', 'coincidentally', 'shred', 'midnight', 'persia', 'squad', 'whispered', 'cut', 'mine', 'quickly', 'simplest', 'buyer', 'legend', 'presided', 'friends', 'barney-shaped_form:', 'bars', 'divorced', 'terrace', 'admit', 'gluten', 'scent', 'folks', 'bury', 'fraud', 'sheriff', 'yourselves', 'self', 'ore', 'bones', 'harvey', 'gangrene', 'teenage_homer:', 'decision', 'root', 'nickels', 'dumb-asses', 'running', 'bad-mouth', 'horribilis', 'sounded', \"jimbo's_dad:\", 'simple', 'digging', 'moxie', 'artie_ziff:', 'e', 'gin', 'temple', 'head-gunk', 'huggenkiss', 'effect', 'chum', 'slow', 'mimes', 'health_inspector:', 'brassiest', 'fifth', 'very', 'stripe', 'allowance', 'calvin', 'plastered', \"bringin'\", 'slipped', 'insults', \"eatin'\", 'fireball', 'drives', 'trunk', 'candy', 'evils', 'word', 'ma', 'showed', 'question', 'explanation', 'man', 'nonsense', 'whoo', 'religion', 'crew', 'worldly', 'spamming', 'milks', 'marched', 'ambrosia', 'compadre', 'liver', 'noise', 'smooth', 'subject', 'temp', 'choke', 'plant', 'byrne', 'frozen', 'souped', 'conditioners', 'infiltrate', 'inside', 'scotch', 'idealistic', 'unattractive', 'writer:', 'inspector', 'veteran', 'violin', 'ab', 'cab', 'yellow-belly', 'cheerier', 'piece', 'toy', 'caught', \"wonderin'\", 'undated', 'moments', 'babies', 'toe', 'marquee', 'water', 'either', 'hooters', 'rig', '8', 'filth', 'fuhgetaboutit', 'career', 'remorseful', 'bender:', 'counting', 'radiator', 'reminded', 'wa', \"fine-lookin'\", 'planet', 'managed', 'bachelorhood', 'prices', 'cross-country', 'sincere', 'washed', 's', 'surgery', 'chained', 'savings', \"cheerin'\", 'martini', 'wayne', 'important', \"burnin'\", 'gut', 'helllp', 'afloat', 'whip', 'chicken', 'earpiece', 'frescas', 'some', \"wino's\", 'talked', 'engraved', 'brunch', 'snotball', 'menacing', 'mom', \"there's\", 'once', 'jack_larson:', 'hand', 'twenty-nine', 'yourse', 'pin', 'man_at_bar:', 'saving', 'angel', 'apartment', 'hooky', 'youngsters', 'steampunk', 'wall', 'reserved', 'slogan', 'quiet', 'nominated', 'am', 'agent_johnson:', 'spellbinding', 'infor', 'put', 'dear', 'speed', 'clothespins', 'difficult', 'wheels', '35', 'purveyor', 'truck_driver:', 'kahlua', 'hafta', 'sucking', 'leans', 'carnival', 'present', 'roller', 'stripes', 'shoulder', 'banned', 'perfect', 'releases', 'habit', 'trail', 'training', 'wolverines', \"wallet's\", 'refill', 'adult', \"time's\", 'housewife', 'piling', 'sells', 'frogs', 'thousands', 'renee', 'stiffening', 'astronauts', 'notices', 'gossipy', 'slobs', 'bubbles-in-my-nose-y', 'tree', 'plywood', 'royal', 'schorr', 'killjoy', 'plucked', 'wudgy', 'charity', 'thumb', 'wistful', 'shack', '_zander:', 'sloppy', 'pulled', 'burn', 'scornfully', 'maximum', 'reed', 'milk', 'fan', 'playful', 'upset', 'krabappel', 'nineteen', 'street', 'fake', 'cushion', 'sistine', 'story', 'hugh:', 'chapel', 'self-made', 'fishing', 'eddie:', 'job', 'nothing', 'offshoot', 'mad', 'schemes', 'adequate', 'mahatma', 'awkward', 'here', 'beligerent', 'nice', 'p-k', 'sarcastic', 'presto:', \"stallin'\", 'fountain', 'crack', 'yee-ha', 'incredible', 'settles', 'beating', 'future', 'fills', 'carney', 'hangover', 'show-off', 'principal', 'kermit', 'venture', 'theatah', 'voice:', 'series', \"wife's\", 'doy', 'kinda', 'breathless', 'fell', 'watered', 'personal', 'bear', \"summer's\", 'connor', 'seven', 'bedbugs', 'months', 'stink', 'costume', 'tune', 'simp-sonnnn', 'kidney', 'born', 'ninety-seven', 'booth', 'rusty', 'cecil', 'addiction', 'eighty-six', 'stays', 'anyhow', 'results', 'sharity', 'ad', 'scram', 'brusque', 'ever', 'cappuccino', 'located', 'backgammon', 'distaste', 'raking', 'simon', 'breaking', 'carolina', \"toot's\", 'measurements', 'hospital', 'massage', 'locklear', 'damned', 'skills', '2nd_voice_on_transmitter:', 'reviews', 'timbuk-tee', 'witches', 'jamaican', 'blessing', \"she'd\", 'tale', \"drexel's\", 'beats', 'park', 'shelbyville', 'moesy', 'toys', 'dee-fense', \"o'\", 'likes', 'brick', 'confident', 'voted', 'overflowing', 'phlegm', 'drug', 'spouses', 'offer', 'wondering', 'seymour', 'alky', 'lighten', 'rationalizing', 'haircuts', 'nelson', 'sen', 'driver', 'crowd', 'tells', 'domed', 'freed', 'solo', 'einstein', 'beady', 'patented', 'dinks', 'crowds', 'gosh', 'smuggled', 'priceless', \"money's\", 'top', 'asses', 'neighbors', 'lorre', 'find', 'paste', 'faiths', 'meanwhile', 'meet', 'quality', 'increasingly', 'sick', 'passenger', 'lenny_leonard:', 'dude', 'plotz', 'wiggle-frowns', 'something', 'repressed', 'reaction', 'betty:', '100', 'choking', \"tree's\", 'color', 'space-time', 'stern', 'prettiest', 'sooner', 'stock', 'groans', 'thrown', 'sits', 'softer', 'harmony', 'occurs', 'sponsor', \"pickin'\", 'pernt', \"weren't\", 'festival', 'rump', 'heatherton', 'pee', 'virtual', 'rag', 'media', 'since', 'button-pusher', 'sandwich', 'wildfever', 'answer', \"wouldn't\", 'minister', 'jacques', 'youse', \"how're\", 'judges', 'completely', 'assumed', 'flower', 'closed', 'reads', \"could've\", 'rainbows', 'proposition', 'catch', 'gibson', 'ho', 'leak', 'ingredient', 'cavern', 'wishing', 'pugilist', 'chosen', '||pointandcoma||', 'ned_flanders:', 'lugs', 'unusually', 'teenage', 'libraries', 'every', \"hole'\", 'community', 'hottest', 'feminist', 'oblongata', 'scary', 'luckiest', 'treehouse', 'recently', 'oughta', 'badmouths', 'bed', 'barney', 'jeers', 'tubman', 'unrelated', \"where'd\", 'underwear', 'old-time', 'rude', 'non-losers', 'escort', 'oak', 'yoink', 'register', 'nooo', 'colonel:', 'meaningless', 'nitwit', 'hard', 'sell', 'rafters', 'scientists', 'issuing', 'aw', 'insist', 'proudly', 'blows', 'stores', 'indeedy', 'beer-jerks', 'jumping', 'sixty-five', 'reminds', 'shout', 'lobster-based', 'wok', 'undermine', \"homer's\", 'walther_hotenhoffer:', 'pancakes', 'thawing', 'art', 'goal', 'holding', 'blowfish', 'philosophic', 'rub', 'defeated', 'jaegermeister', 'pond', 'offensive', 'father', 'mason', 'go', 'pridesters:', 'listens', 'hah', 'large', 'pulls', 'fat', \"tab's\", 'canyonero', 'encores', 'sizes', 'outrageous', 'on', 'thought', 'history', 'huddle', 'words', 'advertising', 'hot-rod', 'disposal', 'chili', 'states', 'involved', \"what're\", \"'kay-zugg'\", 'arrange', 'extract', 'moan', 'lenny:', 'morlocks', 'brawled', 'togetherness', 'boxcar', 'flustered', 'dropped', 'low', 'heck', 'icelandic', 'wonder', 'cake', \"payin'\", 'add', 'news', 'truck', 'waylon_smithers:', 'massive', 'tenor:', 'wonderful', 'hook', 'rumaki', 'dogs', 'handler', 'julep', 'whining', 'poulet', 'beneath', 'permanent', 'grateful', 'order', 'dishonor', 'forty', 'ferry', 'lenford', 'browns', 'between', 'orphan', 'inanely', 'nonchalant', 'jerk-ass', 'wiping', 'score', 'delicious', 'pinball', 'koi', 'triple-sec', 'jacksons', 'moe-clone', 'completing', 'guilt', 'vacation', 'statesmanlike', 'blossoming', 'mail', 'runs', 'fixes', \"fendin'\", 'ingested', 'marguerite:', 'actress', \"industry's\", 'enthusiastically', 'entirely', 'savagely', 'pair', 'laney', 'bowled', 'bucks', 'socialize', \"show's\", 'advance', 'young_moe:', 'watch', 'natural', 'whiny', 'popped', \"tramp's\", 'pussycat', 'fumigated', 'slip', 'allow', 'detail', 'letter', 'percent', 'slop', 'acquaintance', 'family-owned', 'reporter:', 'sales', 'elves:', 'boston', 'went', \"puttin'\", \"lisa's\", 'highball', 'needs', 'amanda', 'baritone', 'tony', 'pennies', 'today/', 'prompting', 'multi-national', 'joey', 'their', 'seminar', 'sobo', 'lives', 'attractive', 'democrats', 'simultaneous', 'blamed', 'twelve', 'cola', 'wednesday', 'multi-purpose', 'uniforms', 'anderson', \"y'see\", 'homie', 'comment', 'understand', 'jukebox_record:', 'whaaa', 'disgusted', 'nibble', 'stengel', 'you', 'chug', 'may', '||comma||', 'gets', 'hunting', 'sap', 'lookalikes', 'cakes', 'clenched', 'away', 'schizophrenia', 'cars', 'unfresh', 'friendship', 'beard', 'practice', 'title', 'smelly', 'foundation', 'carmichael', 'th', 'shag', 'pyramid', 'known', 'childless', 'mm-hmm', 'tick', 'zinged', 'regret', 'du', 'duffman:', 'studied', 'march', 'furious', 'har', 'value', 'squishee', 'schmoe', 'loud', 'slot', 'creeps', 'bathed', 'burger', 'patient', 'bowie', 'just', 'meeting', 'koholic', 'vance', 'loneliness', 'dumbest', 'hems', 'swell', 'madonna', 'names', 'margarita', 'eww', 'strolled', 'steinbrenner', 'cock', 'devastated', 'puke', \"mecca's\", 'hears', 'france', 'lone', 'federal', 'wrote', 'huh', 'dammit', 'grin', 'daughter', 'unison', 'cutting', 'respect', 'milhouse_van_houten:', 'confused', 'buddy', 'tears', 'stay-puft', 'lenses', 'professor_jonathan_frink:', 'toxins', 'yells', 'delightfully', 'funds', 'wh', 'scream', 'germs', 'listen', 'clearly', 'weekend', 'disaster', 'bolting', 'freak', 'nor', 'wait', 'even', 'lecture', 'terrible', \"spaghetti-o's\", 'publishers', 'anywhere', 'parents', 'gentlemen', 'patron_#1:', 'obese', 'breakfast', 'ladder', 'begging', 'mediterranean', 'concerned', 'unintelligent', 'curds', 'horns', 'elocution', 'stained-glass', 'natured', 'hold', 'spooky', 'limericks', 'squeals', 'runt', 'wasted', 'slap', 'enabling', 'eye-gouger', 'retain', 'able', 'feld', 'repeating', 'golden', \"valentine's\", 'reading', 'charge', 'authorized', 'joining', 'heave-ho', 'farthest', 'correction', 'cowboy', 'comic', 'days', 'insecure', 'j', 'license', 'fortune', 'acquitted', 'husband', 'could', 'love', 'womb', 'threatening', 'blob', 'cleaned', 'mouths', 'beards', 'science', 'flames', 'sink', 'dryer', 'paris', 'moved', 'polenta', 'stand', 'pudgy', 'kay', 'century', 'tummies', 'assistant', 'landlord', 'normal', 'cool', \"can't-believe-how-bald-he-is\", 'distract', 'breathtaking', 'pissed', 'boyfriend', 'sent', \"she'll\", 'interesting', 'amber', 'well-wisher', 'flowers', 'technical', 'panicky', 'queen', 'starla', 'spending', \"smokin'\", 'vegas', 'starve', 'poker', 'bump', 'picnic', 'taxi', 'selma_bouvier:', 'woe:', 'accept', 'taunting', 'sensitivity', 'exactly', 'astrid', 'ninety-eight', 'punk', \"secret's\", \"'til\", 'scrutinizes', 'jacks', 'traitors', 'crippling', 'marvin', 'fringe', 'moe-lennium', 'belts', 'bubbles', 'enjoys', 'calls', 'uglier', 'pocket', 'join', 'painting', 'minors', \"calf's\", 'larry:', 'terrifying', 'happen', 'sitting', 'bash', 'stepped', 'man_with_crazy_beard:', 'shaky', 'paid', 'rookie', 'trainers', 'passed', 'freeze', 'trucks', 'hearts', 'we', 'enjoy', 'penny', 'scruffy_blogger:', 'virile', 'blade', 'guy', \"others'\", 'conspiratorial', 'british', 'pfft', 'horses', 'switch', 'flame', 'de', 'nation', 'outta', 'derek', 'after', 'distraught', 'right', 'sumatran', \"hadn't\", 'runaway', 'mortgage', 'temper', 'gary_chalmers:', 'supervising', 'kim_basinger:', 'lib', 'seemed', 'fund', 'prime', 'ahhhh', 'powers', 'backbone', 'hurt', 'go-near-', 'special', 'renee:', 'million', 'kissingher', 'souvenir', 'koji', \"plank's\", 'eighty-five', '70', \"when's\", 'raging'}\n"
     ]
    }
   ],
   "source": [
    "\"\"\"\n",
    "DON'T MODIFY ANYTHING IN THIS CELL\n",
    "\"\"\"\n",
    "# Preprocess Training, Validation, and Testing Data\n",
    "helper.preprocess_and_save_data(data_dir, token_lookup, create_lookup_tables)"
   ]
  },
  {
   "cell_type": "markdown",
   "metadata": {
    "deletable": true,
    "editable": true
   },
   "source": [
    "# Check Point\n",
    "This is your first checkpoint. If you ever decide to come back to this notebook or have to restart the notebook, you can start from here. The preprocessed data has been saved to disk."
   ]
  },
  {
   "cell_type": "code",
   "execution_count": 18,
   "metadata": {
    "collapsed": false,
    "deletable": true,
    "editable": true
   },
   "outputs": [],
   "source": [
    "\"\"\"\n",
    "DON'T MODIFY ANYTHING IN THIS CELL\n",
    "\"\"\"\n",
    "import helper\n",
    "import numpy as np\n",
    "import problem_unittests as tests\n",
    "\n",
    "int_text, vocab_to_int, int_to_vocab, token_dict = helper.load_preprocess()"
   ]
  },
  {
   "cell_type": "code",
   "execution_count": 21,
   "metadata": {
    "collapsed": false
   },
   "outputs": [
    {
     "data": {
      "text/plain": [
       "6779"
      ]
     },
     "execution_count": 21,
     "metadata": {},
     "output_type": "execute_result"
    }
   ],
   "source": [
    "len(int_to_vocab)"
   ]
  },
  {
   "cell_type": "markdown",
   "metadata": {
    "deletable": true,
    "editable": true
   },
   "source": [
    "## Build the Neural Network\n",
    "You'll build the components necessary to build a RNN by implementing the following functions below:\n",
    "- get_inputs\n",
    "- get_init_cell\n",
    "- get_embed\n",
    "- build_rnn\n",
    "- build_nn\n",
    "- get_batches\n",
    "\n",
    "### Check the Version of TensorFlow and Access to GPU"
   ]
  },
  {
   "cell_type": "code",
   "execution_count": 22,
   "metadata": {
    "collapsed": false
   },
   "outputs": [
    {
     "name": "stdout",
     "output_type": "stream",
     "text": [
      "TensorFlow Version: 1.0.0\n"
     ]
    },
    {
     "name": "stderr",
     "output_type": "stream",
     "text": [
      "/home/biliuta/miniconda3/envs/test/lib/python3.5/site-packages/ipykernel/__main__.py:14: UserWarning: No GPU found. Please use a GPU to train your neural network.\n"
     ]
    }
   ],
   "source": [
    "\"\"\"\n",
    "DON'T MODIFY ANYTHING IN THIS CELL\n",
    "\"\"\"\n",
    "from distutils.version import LooseVersion\n",
    "import warnings\n",
    "import tensorflow as tf\n",
    "\n",
    "# Check TensorFlow Version\n",
    "assert LooseVersion(tf.__version__) >= LooseVersion('1.0'), 'Please use TensorFlow version 1.0 or newer'\n",
    "print('TensorFlow Version: {}'.format(tf.__version__))\n",
    "\n",
    "# Check for a GPU\n",
    "if not tf.test.gpu_device_name():\n",
    "    warnings.warn('No GPU found. Please use a GPU to train your neural network.')\n",
    "else:\n",
    "    print('Default GPU Device: {}'.format(tf.test.gpu_device_name()))"
   ]
  },
  {
   "cell_type": "markdown",
   "metadata": {},
   "source": [
    "### Input\n",
    "Implement the `get_inputs()` function to create TF Placeholders for the Neural Network.  It should create the following placeholders:\n",
    "- Input text placeholder named \"input\" using the [TF Placeholder](https://www.tensorflow.org/api_docs/python/tf/placeholder) `name` parameter.\n",
    "- Targets placeholder\n",
    "- Learning Rate placeholder\n",
    "\n",
    "Return the placeholders in the following the tuple `(Input, Targets, LearingRate)`"
   ]
  },
  {
   "cell_type": "code",
   "execution_count": 25,
   "metadata": {
    "collapsed": false,
    "deletable": true,
    "editable": true
   },
   "outputs": [
    {
     "name": "stdout",
     "output_type": "stream",
     "text": [
      "Tests Passed\n"
     ]
    }
   ],
   "source": [
    "def get_inputs():\n",
    "    \"\"\"\n",
    "    Create TF Placeholders for input, targets, and learning rate.\n",
    "    :return: Tuple (input, targets, learning rate)\n",
    "    \"\"\"\n",
    "    # TODO: Implement Function\n",
    "    inputs = tf.placeholder(tf.int32, shape=[None, None],name='input')\n",
    "    targets = tf.placeholder(tf.int32, shape=[None, None], name='target')\n",
    "    lrn_rate = tf.placeholder(tf.float32)\n",
    "    return (inputs, targets, lrn_rate)\n",
    "\n",
    "\n",
    "\"\"\"\n",
    "DON'T MODIFY ANYTHING IN THIS CELL THAT IS BELOW THIS LINE\n",
    "\"\"\"\n",
    "tests.test_get_inputs(get_inputs)"
   ]
  },
  {
   "cell_type": "markdown",
   "metadata": {
    "deletable": true,
    "editable": true
   },
   "source": [
    "### Build RNN Cell and Initialize\n",
    "Stack one or more [`BasicLSTMCells`](https://www.tensorflow.org/api_docs/python/tf/contrib/rnn/BasicLSTMCell) in a [`MultiRNNCell`](https://www.tensorflow.org/api_docs/python/tf/contrib/rnn/MultiRNNCell).\n",
    "- The Rnn size should be set using `rnn_size`\n",
    "- Initalize Cell State using the MultiRNNCell's [`zero_state()`](https://www.tensorflow.org/api_docs/python/tf/contrib/rnn/MultiRNNCell#zero_state) function\n",
    "    - Apply the name \"initial_state\" to the initial state using [`tf.identity()`](https://www.tensorflow.org/api_docs/python/tf/identity)\n",
    "\n",
    "Return the cell and initial state in the following tuple `(Cell, InitialState)`"
   ]
  },
  {
   "cell_type": "code",
   "execution_count": 29,
   "metadata": {
    "collapsed": false,
    "deletable": true,
    "editable": true
   },
   "outputs": [
    {
     "name": "stdout",
     "output_type": "stream",
     "text": [
      "Tests Passed\n"
     ]
    }
   ],
   "source": [
    "def get_init_cell(batch_size, rnn_size):\n",
    "    \"\"\"\n",
    "    Create an RNN Cell and initialize it.\n",
    "    :param batch_size: Size of batches\n",
    "    :param rnn_size: Size of RNNs\n",
    "    :return: Tuple (cell, initialize state)\n",
    "    \"\"\"\n",
    "    # TODO: Implement Function\n",
    "    lstm = tf.contrib.rnn.BasicLSTMCell(rnn_size)\n",
    "    cell = tf.contrib.rnn.MultiRNNCell([lstm] * 2)\n",
    "    initial_state = cell.zero_state(batch_size, tf.float32)\n",
    "    initial_state = tf.identity(initial_state, name=\"initial_state\")\n",
    "    return (cell, initial_state)\n",
    "\n",
    "\n",
    "\"\"\"\n",
    "DON'T MODIFY ANYTHING IN THIS CELL THAT IS BELOW THIS LINE\n",
    "\"\"\"\n",
    "tests.test_get_init_cell(get_init_cell)"
   ]
  },
  {
   "cell_type": "markdown",
   "metadata": {
    "deletable": true,
    "editable": true
   },
   "source": [
    "### Word Embedding\n",
    "Apply embedding to `input_data` using TensorFlow.  Return the embedded sequence."
   ]
  },
  {
   "cell_type": "code",
   "execution_count": 32,
   "metadata": {
    "collapsed": false,
    "deletable": true,
    "editable": true
   },
   "outputs": [
    {
     "name": "stdout",
     "output_type": "stream",
     "text": [
      "Tests Passed\n"
     ]
    }
   ],
   "source": [
    "import math\n",
    "def get_embed(input_data, vocab_size, embed_dim):\n",
    "    \"\"\"\n",
    "    Create embedding for <input_data>.\n",
    "    :param input_data: TF placeholder for text input.\n",
    "    :param vocab_size: Number of words in vocabulary.\n",
    "    :param embed_dim: Number of embedding dimensions\n",
    "    :return: Embedded input.\n",
    "    \"\"\"\n",
    "    # TODO: Implement Function\n",
    "    embeddings = tf.Variable(tf.random_uniform([vocab_size, embed_dim], -1.0, 1.0))\n",
    "    \n",
    "    weights = tf.Variable(tf.truncated_normal([vocab_size, embed_dim],\n",
    "                      stddev=1.0 / math.sqrt(embed_dim)))\n",
    "    \n",
    "    embd = tf.nn.embedding_lookup(weights, input_data)\n",
    "    \n",
    "    return embd\n",
    "\n",
    "\n",
    "\"\"\"\n",
    "DON'T MODIFY ANYTHING IN THIS CELL THAT IS BELOW THIS LINE\n",
    "\"\"\"\n",
    "tests.test_get_embed(get_embed)"
   ]
  },
  {
   "cell_type": "markdown",
   "metadata": {
    "deletable": true,
    "editable": true
   },
   "source": [
    "### Build RNN\n",
    "You created a RNN Cell in the `get_init_cell()` function.  Time to use the cell to create a RNN.\n",
    "- Build the RNN using the [`tf.nn.dynamic_rnn()`](https://www.tensorflow.org/api_docs/python/tf/nn/dynamic_rnn)\n",
    " - Apply the name \"final_state\" to the final state using [`tf.identity()`](https://www.tensorflow.org/api_docs/python/tf/identity)\n",
    "\n",
    "Return the outputs and final_state state in the following tuple `(Outputs, FinalState)` "
   ]
  },
  {
   "cell_type": "code",
   "execution_count": null,
   "metadata": {
    "collapsed": false,
    "deletable": true,
    "editable": true
   },
   "outputs": [],
   "source": [
    "def build_rnn(cell, inputs):\n",
    "    \"\"\"\n",
    "    Create a RNN using a RNN Cell\n",
    "    :param cell: RNN Cell\n",
    "    :param inputs: Input text data\n",
    "    :return: Tuple (Outputs, Final State)\n",
    "    \"\"\"\n",
    "    # TODO: Implement Function\n",
    "    return None, None\n",
    "\n",
    "\n",
    "\"\"\"\n",
    "DON'T MODIFY ANYTHING IN THIS CELL THAT IS BELOW THIS LINE\n",
    "\"\"\"\n",
    "tests.test_build_rnn(build_rnn)"
   ]
  },
  {
   "cell_type": "markdown",
   "metadata": {
    "deletable": true,
    "editable": true
   },
   "source": [
    "### Build the Neural Network\n",
    "Apply the functions you implemented above to:\n",
    "- Apply embedding to `input_data` using your `get_embed(input_data, vocab_size, embed_dim)` function.\n",
    "- Build RNN using `cell` and your `build_rnn(cell, inputs)` function.\n",
    "- Apply a fully connected layer with a linear activation and `vocab_size` as the number of outputs.\n",
    "\n",
    "Return the logits and final state in the following tuple (Logits, FinalState) "
   ]
  },
  {
   "cell_type": "code",
   "execution_count": null,
   "metadata": {
    "collapsed": false,
    "deletable": true,
    "editable": true
   },
   "outputs": [],
   "source": [
    "def build_nn(cell, rnn_size, input_data, vocab_size):\n",
    "    \"\"\"\n",
    "    Build part of the neural network\n",
    "    :param cell: RNN cell\n",
    "    :param rnn_size: Size of rnns\n",
    "    :param input_data: Input data\n",
    "    :param vocab_size: Vocabulary size\n",
    "    :return: Tuple (Logits, FinalState)\n",
    "    \"\"\"\n",
    "    # TODO: Implement Function\n",
    "    return None, None\n",
    "\n",
    "\n",
    "\"\"\"\n",
    "DON'T MODIFY ANYTHING IN THIS CELL THAT IS BELOW THIS LINE\n",
    "\"\"\"\n",
    "tests.test_build_nn(build_nn)"
   ]
  },
  {
   "cell_type": "markdown",
   "metadata": {
    "deletable": true,
    "editable": true
   },
   "source": [
    "### Batches\n",
    "Implement `get_batches` to create batches of input and targets using `int_text`.  The batches should be a Numpy array with the shape `(number of batches, 2, batch size, sequence length)`. Each batch contains two elements:\n",
    "- The first element is a single batch of **input** with the shape `[batch size, sequence length]`\n",
    "- The second element is a single batch of **targets** with the shape `[batch size, sequence length]`\n",
    "\n",
    "If you can't fill the last batch with enough data, drop the last batch.\n",
    "\n",
    "For exmple, `get_batches([1, 2, 3, 4, 5, 6, 7, 8, 9, 10, 11, 12, 13, 14, 15], 2, 3)` would return a Numpy array of the following:\n",
    "```\n",
    "[\n",
    "  # First Batch\n",
    "  [\n",
    "    # Batch of Input\n",
    "    [[ 1  2  3], [ 7  8  9]],\n",
    "    # Batch of targets\n",
    "    [[ 2  3  4], [ 8  9 10]]\n",
    "  ],\n",
    " \n",
    "  # Second Batch\n",
    "  [\n",
    "    # Batch of Input\n",
    "    [[ 4  5  6], [10 11 12]],\n",
    "    # Batch of targets\n",
    "    [[ 5  6  7], [11 12 13]]\n",
    "  ]\n",
    "]\n",
    "```"
   ]
  },
  {
   "cell_type": "code",
   "execution_count": null,
   "metadata": {
    "collapsed": false,
    "deletable": true,
    "editable": true
   },
   "outputs": [],
   "source": [
    "def get_batches(int_text, batch_size, seq_length):\n",
    "    \"\"\"\n",
    "    Return batches of input and target\n",
    "    :param int_text: Text with the words replaced by their ids\n",
    "    :param batch_size: The size of batch\n",
    "    :param seq_length: The length of sequence\n",
    "    :return: Batches as a Numpy array\n",
    "    \"\"\"\n",
    "    # TODO: Implement Function\n",
    "    return None\n",
    "\n",
    "\n",
    "\"\"\"\n",
    "DON'T MODIFY ANYTHING IN THIS CELL THAT IS BELOW THIS LINE\n",
    "\"\"\"\n",
    "tests.test_get_batches(get_batches)"
   ]
  },
  {
   "cell_type": "markdown",
   "metadata": {
    "deletable": true,
    "editable": true
   },
   "source": [
    "## Neural Network Training\n",
    "### Hyperparameters\n",
    "Tune the following parameters:\n",
    "\n",
    "- Set `num_epochs` to the number of epochs.\n",
    "- Set `batch_size` to the batch size.\n",
    "- Set `rnn_size` to the size of the RNNs.\n",
    "- Set `seq_length` to the length of sequence.\n",
    "- Set `learning_rate` to the learning rate.\n",
    "- Set `show_every_n_batches` to the number of batches the neural network should print progress."
   ]
  },
  {
   "cell_type": "code",
   "execution_count": null,
   "metadata": {
    "collapsed": true,
    "deletable": true,
    "editable": true
   },
   "outputs": [],
   "source": [
    "# Number of Epochs\n",
    "num_epochs = None\n",
    "# Batch Size\n",
    "batch_size = None\n",
    "# RNN Size\n",
    "rnn_size = None\n",
    "# Sequence Length\n",
    "seq_length = None\n",
    "# Learning Rate\n",
    "learning_rate = None\n",
    "# Show stats for every n number of batches\n",
    "show_every_n_batches = None\n",
    "\n",
    "\"\"\"\n",
    "DON'T MODIFY ANYTHING IN THIS CELL THAT IS BELOW THIS LINE\n",
    "\"\"\"\n",
    "save_dir = './save'"
   ]
  },
  {
   "cell_type": "markdown",
   "metadata": {
    "deletable": true,
    "editable": true
   },
   "source": [
    "### Build the Graph\n",
    "Build the graph using the neural network you implemented."
   ]
  },
  {
   "cell_type": "code",
   "execution_count": null,
   "metadata": {
    "collapsed": false,
    "deletable": true,
    "editable": true
   },
   "outputs": [],
   "source": [
    "\"\"\"\n",
    "DON'T MODIFY ANYTHING IN THIS CELL\n",
    "\"\"\"\n",
    "from tensorflow.contrib import seq2seq\n",
    "\n",
    "train_graph = tf.Graph()\n",
    "with train_graph.as_default():\n",
    "    vocab_size = len(int_to_vocab)\n",
    "    input_text, targets, lr = get_inputs()\n",
    "    input_data_shape = tf.shape(input_text)\n",
    "    cell, initial_state = get_init_cell(input_data_shape[0], rnn_size)\n",
    "    logits, final_state = build_nn(cell, rnn_size, input_text, vocab_size)\n",
    "\n",
    "    # Probabilities for generating words\n",
    "    probs = tf.nn.softmax(logits, name='probs')\n",
    "\n",
    "    # Loss function\n",
    "    cost = seq2seq.sequence_loss(\n",
    "        logits,\n",
    "        targets,\n",
    "        tf.ones([input_data_shape[0], input_data_shape[1]]))\n",
    "\n",
    "    # Optimizer\n",
    "    optimizer = tf.train.AdamOptimizer(lr)\n",
    "\n",
    "    # Gradient Clipping\n",
    "    gradients = optimizer.compute_gradients(cost)\n",
    "    capped_gradients = [(tf.clip_by_value(grad, -1., 1.), var) for grad, var in gradients]\n",
    "    train_op = optimizer.apply_gradients(capped_gradients)"
   ]
  },
  {
   "cell_type": "markdown",
   "metadata": {
    "deletable": true,
    "editable": true
   },
   "source": [
    "## Train\n",
    "Train the neural network on the preprocessed data.  If you have a hard time getting a good loss, check the [forms](https://discussions.udacity.com/) to see if anyone is having the same problem."
   ]
  },
  {
   "cell_type": "code",
   "execution_count": null,
   "metadata": {
    "collapsed": false,
    "deletable": true,
    "editable": true
   },
   "outputs": [],
   "source": [
    "\"\"\"\n",
    "DON'T MODIFY ANYTHING IN THIS CELL\n",
    "\"\"\"\n",
    "batches = get_batches(int_text, batch_size, seq_length)\n",
    "\n",
    "with tf.Session(graph=train_graph) as sess:\n",
    "    sess.run(tf.global_variables_initializer())\n",
    "\n",
    "    for epoch_i in range(num_epochs):\n",
    "        state = sess.run(initial_state, {input_text: batches[0][0]})\n",
    "\n",
    "        for batch_i, (x, y) in enumerate(batches):\n",
    "            feed = {\n",
    "                input_text: x,\n",
    "                targets: y,\n",
    "                initial_state: state,\n",
    "                lr: learning_rate}\n",
    "            train_loss, state, _ = sess.run([cost, final_state, train_op], feed)\n",
    "\n",
    "            # Show every <show_every_n_batches> batches\n",
    "            if (epoch_i * len(batches) + batch_i) % show_every_n_batches == 0:\n",
    "                print('Epoch {:>3} Batch {:>4}/{}   train_loss = {:.3f}'.format(\n",
    "                    epoch_i,\n",
    "                    batch_i,\n",
    "                    len(batches),\n",
    "                    train_loss))\n",
    "\n",
    "    # Save Model\n",
    "    saver = tf.train.Saver()\n",
    "    saver.save(sess, save_dir)\n",
    "    print('Model Trained and Saved')"
   ]
  },
  {
   "cell_type": "markdown",
   "metadata": {
    "deletable": true,
    "editable": true
   },
   "source": [
    "## Save Parameters\n",
    "Save `seq_length` and `save_dir` for generating a new TV script."
   ]
  },
  {
   "cell_type": "code",
   "execution_count": null,
   "metadata": {
    "collapsed": false,
    "deletable": true,
    "editable": true
   },
   "outputs": [],
   "source": [
    "\"\"\"\n",
    "DON'T MODIFY ANYTHING IN THIS CELL\n",
    "\"\"\"\n",
    "# Save parameters for checkpoint\n",
    "helper.save_params((seq_length, save_dir))"
   ]
  },
  {
   "cell_type": "markdown",
   "metadata": {
    "deletable": true,
    "editable": true
   },
   "source": [
    "# Checkpoint"
   ]
  },
  {
   "cell_type": "code",
   "execution_count": null,
   "metadata": {
    "collapsed": false,
    "deletable": true,
    "editable": true
   },
   "outputs": [],
   "source": [
    "\"\"\"\n",
    "DON'T MODIFY ANYTHING IN THIS CELL\n",
    "\"\"\"\n",
    "import tensorflow as tf\n",
    "import numpy as np\n",
    "import helper\n",
    "import problem_unittests as tests\n",
    "\n",
    "_, vocab_to_int, int_to_vocab, token_dict = helper.load_preprocess()\n",
    "seq_length, load_dir = helper.load_params()"
   ]
  },
  {
   "cell_type": "markdown",
   "metadata": {
    "deletable": true,
    "editable": true
   },
   "source": [
    "## Implement Generate Functions\n",
    "### Get Tensors\n",
    "Get tensors from `loaded_graph` using the function [`get_tensor_by_name()`](https://www.tensorflow.org/api_docs/python/tf/Graph#get_tensor_by_name).  Get the tensors using the following names:\n",
    "- \"input:0\"\n",
    "- \"initial_state:0\"\n",
    "- \"final_state:0\"\n",
    "- \"probs:0\"\n",
    "\n",
    "Return the tensors in the following tuple `(InputTensor, InitialStateTensor, FinalStateTensor, ProbsTensor)` "
   ]
  },
  {
   "cell_type": "code",
   "execution_count": null,
   "metadata": {
    "collapsed": false,
    "deletable": true,
    "editable": true
   },
   "outputs": [],
   "source": [
    "def get_tensors(loaded_graph):\n",
    "    \"\"\"\n",
    "    Get input, initial state, final state, and probabilities tensor from <loaded_graph>\n",
    "    :param loaded_graph: TensorFlow graph loaded from file\n",
    "    :return: Tuple (InputTensor, InitialStateTensor, FinalStateTensor, ProbsTensor)\n",
    "    \"\"\"\n",
    "    # TODO: Implement Function\n",
    "    return None, None, None, None\n",
    "\n",
    "\n",
    "\"\"\"\n",
    "DON'T MODIFY ANYTHING IN THIS CELL THAT IS BELOW THIS LINE\n",
    "\"\"\"\n",
    "tests.test_get_tensors(get_tensors)"
   ]
  },
  {
   "cell_type": "markdown",
   "metadata": {
    "deletable": true,
    "editable": true
   },
   "source": [
    "### Choose Word\n",
    "Implement the `pick_word()` function to select the next word using `probabilities`."
   ]
  },
  {
   "cell_type": "code",
   "execution_count": null,
   "metadata": {
    "collapsed": false,
    "deletable": true,
    "editable": true
   },
   "outputs": [],
   "source": [
    "def pick_word(probabilities, int_to_vocab):\n",
    "    \"\"\"\n",
    "    Pick the next word in the generated text\n",
    "    :param probabilities: Probabilites of the next word\n",
    "    :param int_to_vocab: Dictionary of word ids as the keys and words as the values\n",
    "    :return: String of the predicted word\n",
    "    \"\"\"\n",
    "    # TODO: Implement Function\n",
    "    return None\n",
    "\n",
    "\n",
    "\"\"\"\n",
    "DON'T MODIFY ANYTHING IN THIS CELL THAT IS BELOW THIS LINE\n",
    "\"\"\"\n",
    "tests.test_pick_word(pick_word)"
   ]
  },
  {
   "cell_type": "markdown",
   "metadata": {
    "deletable": true,
    "editable": true
   },
   "source": [
    "## Generate TV Script\n",
    "This will generate the TV script for you.  Set `gen_length` to the length of TV script you want to generate."
   ]
  },
  {
   "cell_type": "code",
   "execution_count": null,
   "metadata": {
    "collapsed": false,
    "deletable": true,
    "editable": true
   },
   "outputs": [],
   "source": [
    "gen_length = 200\n",
    "# homer_simpson, moe_szyslak, or Barney_Gumble\n",
    "prime_word = 'moe_szyslak'\n",
    "\n",
    "\"\"\"\n",
    "DON'T MODIFY ANYTHING IN THIS CELL THAT IS BELOW THIS LINE\n",
    "\"\"\"\n",
    "loaded_graph = tf.Graph()\n",
    "with tf.Session(graph=loaded_graph) as sess:\n",
    "    # Load saved model\n",
    "    loader = tf.train.import_meta_graph(load_dir + '.meta')\n",
    "    loader.restore(sess, load_dir)\n",
    "\n",
    "    # Get Tensors from loaded model\n",
    "    input_text, initial_state, final_state, probs = get_tensors(loaded_graph)\n",
    "\n",
    "    # Sentences generation setup\n",
    "    gen_sentences = [prime_word + ':']\n",
    "    prev_state = sess.run(initial_state, {input_text: np.array([[1]])})\n",
    "\n",
    "    # Generate sentences\n",
    "    for n in range(gen_length):\n",
    "        # Dynamic Input\n",
    "        dyn_input = [[vocab_to_int[word] for word in gen_sentences[-seq_length:]]]\n",
    "        dyn_seq_length = len(dyn_input[0])\n",
    "\n",
    "        # Get Prediction\n",
    "        probabilities, prev_state = sess.run(\n",
    "            [probs, final_state],\n",
    "            {input_text: dyn_input, initial_state: prev_state})\n",
    "        \n",
    "        pred_word = pick_word(probabilities[dyn_seq_length-1], int_to_vocab)\n",
    "\n",
    "        gen_sentences.append(pred_word)\n",
    "    \n",
    "    # Remove tokens\n",
    "    tv_script = ' '.join(gen_sentences)\n",
    "    for key, token in token_dict.items():\n",
    "        ending = ' ' if key in ['\\n', '(', '\"'] else ''\n",
    "        tv_script = tv_script.replace(' ' + token.lower(), key)\n",
    "    tv_script = tv_script.replace('\\n ', '\\n')\n",
    "    tv_script = tv_script.replace('( ', '(')\n",
    "        \n",
    "    print(tv_script)"
   ]
  },
  {
   "cell_type": "markdown",
   "metadata": {
    "deletable": true,
    "editable": true
   },
   "source": [
    "# The TV Script is Nonsensical\n",
    "It's ok if the TV script doesn't make any sense.  We trained on less than a megabyte of text.  In order to get good results, you'll have to use a smaller vocabulary or get more data.  Luckly there's more data!  As we mentioned in the begging of this project, this is a subset of [another dataset](https://www.kaggle.com/wcukierski/the-simpsons-by-the-data).  We didn't have you train on all the data, because that would take too long.  However, you are free to train your neural network on all the data.  After you complete the project, of course.\n",
    "# Submitting This Project\n",
    "When submitting this project, make sure to run all the cells before saving the notebook. Save the notebook file as \"dlnd_tv_script_generation.ipynb\" and save it as a HTML file under \"File\" -> \"Download as\". Include the \"helper.py\" and \"problem_unittests.py\" files in your submission."
   ]
  }
 ],
 "metadata": {
  "kernelspec": {
   "display_name": "Python 3",
   "language": "python",
   "name": "python3"
  },
  "language_info": {
   "codemirror_mode": {
    "name": "ipython",
    "version": 3
   },
   "file_extension": ".py",
   "mimetype": "text/x-python",
   "name": "python",
   "nbconvert_exporter": "python",
   "pygments_lexer": "ipython3",
   "version": "3.5.2"
  }
 },
 "nbformat": 4,
 "nbformat_minor": 0
}
